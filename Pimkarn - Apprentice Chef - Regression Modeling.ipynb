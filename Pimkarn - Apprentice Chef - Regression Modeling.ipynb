{
 "cells": [
  {
   "cell_type": "markdown",
   "metadata": {},
   "source": [
    "<hr style=\"height:.9px;border:none;color:#333;background-color:#333;\" />\n",
    "<hr style=\"height:.9px;border:none;color:#333;background-color:#333;\" />\n",
    "\n",
    "<br><h2>Apprentice Chef | Regression Modeling</h2>\n",
    "<br>Pimkarn Mekpruksawong<br>\n",
    "Hult International Business School\n",
    "<br><br><br>\n",
    "\n",
    "<hr style=\"height:.9px;border:none;color:#333;background-color:#333;\" />\n",
    "<hr style=\"height:.9px;border:none;color:#333;background-color:#333;\" />\n"
   ]
  },
  {
   "cell_type": "markdown",
   "metadata": {},
   "source": [
    "<h2>Part I: Dataset Exploration</h2><br>\n",
    "Import the neccessary packages and load the Apprentice Chef dataset"
   ]
  },
  {
   "cell_type": "code",
   "execution_count": 1,
   "metadata": {
    "code_folding": []
   },
   "outputs": [],
   "source": [
    "# importing libraries\n",
    "import pandas as pd             # data science essentials\n",
    "import matplotlib.pyplot as plt # essential graphical output\n",
    "import seaborn as sns           # enhanced graphical output\n",
    "import statsmodels.formula.api as smf                # predictive modeling with nice outputs\n",
    "from sklearn.model_selection import train_test_split # train/test split\n",
    "import sklearn.linear_model                          # linear models\n",
    "from sklearn.linear_model import LinearRegression\n",
    "from sklearn.neighbors import KNeighborsRegressor    # KNN for Regression\n",
    "from sklearn.preprocessing import StandardScaler     # standard scaler\n",
    "import numpy as np\n",
    "\n",
    "\n",
    "# setting pandas print options\n",
    "pd.set_option('display.max_rows', 500)\n",
    "pd.set_option('display.max_columns', 500)\n",
    "pd.set_option('display.width', 1000)\n",
    "\n",
    "\n",
    "# specifying file name\n",
    "file = './Apprentice_Chef_Dataset.xlsx'\n",
    "\n",
    "\n",
    "# reading the file into Python\n",
    "chef = pd.read_excel(file)"
   ]
  },
  {
   "cell_type": "markdown",
   "metadata": {},
   "source": [
    "<hr style=\"height:.9px;border:none;color:#333;background-color:#333;\" /><br>\n",
    "\n",
    "<h4>a) Overview of the dataset </h4><br>"
   ]
  },
  {
   "cell_type": "code",
   "execution_count": 2,
   "metadata": {},
   "outputs": [
    {
     "name": "stdout",
     "output_type": "stream",
     "text": [
      "\n",
      "Size of Original Dataset\n",
      "------------------------\n",
      "Observations: 1946\n",
      "Features:     28\n",
      "\n"
     ]
    }
   ],
   "source": [
    "# using .shape to print the dimensions of the dataset\n",
    "print(f\"\"\"\n",
    "Size of Original Dataset\n",
    "------------------------\n",
    "Observations: {chef.shape[0]}\n",
    "Features:     {chef.shape[1]}\n",
    "\"\"\")"
   ]
  },
  {
   "cell_type": "markdown",
   "metadata": {},
   "source": [
    "There are 1946 observations and 28 features are present in the dataset."
   ]
  },
  {
   "cell_type": "markdown",
   "metadata": {},
   "source": [
    "<hr style=\"height:.9px;border:none;color:#333;background-color:#333;\" /><br>\n",
    "\n",
    "<h4>b) Display the first 5 rows of each feature to get a feel for the data.</h4><br>"
   ]
  },
  {
   "cell_type": "code",
   "execution_count": 3,
   "metadata": {
    "cell_style": "center"
   },
   "outputs": [
    {
     "data": {
      "text/html": [
       "<div>\n",
       "<style scoped>\n",
       "    .dataframe tbody tr th:only-of-type {\n",
       "        vertical-align: middle;\n",
       "    }\n",
       "\n",
       "    .dataframe tbody tr th {\n",
       "        vertical-align: top;\n",
       "    }\n",
       "\n",
       "    .dataframe thead th {\n",
       "        text-align: right;\n",
       "    }\n",
       "</style>\n",
       "<table border=\"1\" class=\"dataframe\">\n",
       "  <thead>\n",
       "    <tr style=\"text-align: right;\">\n",
       "      <th></th>\n",
       "      <th>REVENUE</th>\n",
       "      <th>CROSS_SELL_SUCCESS</th>\n",
       "      <th>NAME</th>\n",
       "      <th>EMAIL</th>\n",
       "      <th>FIRST_NAME</th>\n",
       "      <th>FAMILY_NAME</th>\n",
       "      <th>TOTAL_MEALS_ORDERED</th>\n",
       "      <th>UNIQUE_MEALS_PURCH</th>\n",
       "      <th>CONTACTS_W_CUSTOMER_SERVICE</th>\n",
       "      <th>PRODUCT_CATEGORIES_VIEWED</th>\n",
       "      <th>AVG_TIME_PER_SITE_VISIT</th>\n",
       "      <th>MOBILE_NUMBER</th>\n",
       "      <th>CANCELLATIONS_BEFORE_NOON</th>\n",
       "      <th>CANCELLATIONS_AFTER_NOON</th>\n",
       "      <th>TASTES_AND_PREFERENCES</th>\n",
       "      <th>PC_LOGINS</th>\n",
       "      <th>MOBILE_LOGINS</th>\n",
       "      <th>WEEKLY_PLAN</th>\n",
       "      <th>EARLY_DELIVERIES</th>\n",
       "      <th>LATE_DELIVERIES</th>\n",
       "      <th>PACKAGE_LOCKER</th>\n",
       "      <th>REFRIGERATED_LOCKER</th>\n",
       "      <th>AVG_PREP_VID_TIME</th>\n",
       "      <th>LARGEST_ORDER_SIZE</th>\n",
       "      <th>MASTER_CLASSES_ATTENDED</th>\n",
       "      <th>MEDIAN_MEAL_RATING</th>\n",
       "      <th>AVG_CLICKS_PER_VISIT</th>\n",
       "      <th>TOTAL_PHOTOS_VIEWED</th>\n",
       "    </tr>\n",
       "  </thead>\n",
       "  <tbody>\n",
       "    <tr>\n",
       "      <th>0</th>\n",
       "      <td>393.0</td>\n",
       "      <td>1</td>\n",
       "      <td>Saathos</td>\n",
       "      <td>saathos@unitedhealth.com</td>\n",
       "      <td>Saathos</td>\n",
       "      <td>Saathos</td>\n",
       "      <td>14</td>\n",
       "      <td>6</td>\n",
       "      <td>12</td>\n",
       "      <td>10</td>\n",
       "      <td>48.00</td>\n",
       "      <td>1</td>\n",
       "      <td>3</td>\n",
       "      <td>1</td>\n",
       "      <td>1</td>\n",
       "      <td>5</td>\n",
       "      <td>2</td>\n",
       "      <td>0</td>\n",
       "      <td>0</td>\n",
       "      <td>2</td>\n",
       "      <td>0</td>\n",
       "      <td>0</td>\n",
       "      <td>33.4</td>\n",
       "      <td>1</td>\n",
       "      <td>0</td>\n",
       "      <td>1</td>\n",
       "      <td>17</td>\n",
       "      <td>0</td>\n",
       "    </tr>\n",
       "    <tr>\n",
       "      <th>1</th>\n",
       "      <td>1365.0</td>\n",
       "      <td>1</td>\n",
       "      <td>Alysanne Osgrey</td>\n",
       "      <td>alysanne.osgrey@ge.org</td>\n",
       "      <td>Alysanne</td>\n",
       "      <td>Osgrey</td>\n",
       "      <td>87</td>\n",
       "      <td>3</td>\n",
       "      <td>8</td>\n",
       "      <td>8</td>\n",
       "      <td>40.35</td>\n",
       "      <td>1</td>\n",
       "      <td>0</td>\n",
       "      <td>0</td>\n",
       "      <td>1</td>\n",
       "      <td>5</td>\n",
       "      <td>1</td>\n",
       "      <td>12</td>\n",
       "      <td>0</td>\n",
       "      <td>2</td>\n",
       "      <td>0</td>\n",
       "      <td>0</td>\n",
       "      <td>84.8</td>\n",
       "      <td>1</td>\n",
       "      <td>0</td>\n",
       "      <td>3</td>\n",
       "      <td>13</td>\n",
       "      <td>170</td>\n",
       "    </tr>\n",
       "    <tr>\n",
       "      <th>2</th>\n",
       "      <td>800.0</td>\n",
       "      <td>1</td>\n",
       "      <td>Edwyd Fossoway</td>\n",
       "      <td>edwyd.fossoway@jnj.com</td>\n",
       "      <td>Edwyd</td>\n",
       "      <td>Fossoway</td>\n",
       "      <td>15</td>\n",
       "      <td>7</td>\n",
       "      <td>11</td>\n",
       "      <td>5</td>\n",
       "      <td>19.77</td>\n",
       "      <td>1</td>\n",
       "      <td>3</td>\n",
       "      <td>0</td>\n",
       "      <td>1</td>\n",
       "      <td>6</td>\n",
       "      <td>1</td>\n",
       "      <td>1</td>\n",
       "      <td>0</td>\n",
       "      <td>1</td>\n",
       "      <td>0</td>\n",
       "      <td>0</td>\n",
       "      <td>63.0</td>\n",
       "      <td>1</td>\n",
       "      <td>0</td>\n",
       "      <td>2</td>\n",
       "      <td>16</td>\n",
       "      <td>0</td>\n",
       "    </tr>\n",
       "    <tr>\n",
       "      <th>3</th>\n",
       "      <td>600.0</td>\n",
       "      <td>1</td>\n",
       "      <td>Eleyna Westerling</td>\n",
       "      <td>eleyna.westerling@ge.org</td>\n",
       "      <td>Eleyna</td>\n",
       "      <td>Westerling</td>\n",
       "      <td>13</td>\n",
       "      <td>6</td>\n",
       "      <td>11</td>\n",
       "      <td>5</td>\n",
       "      <td>90.00</td>\n",
       "      <td>1</td>\n",
       "      <td>2</td>\n",
       "      <td>0</td>\n",
       "      <td>1</td>\n",
       "      <td>6</td>\n",
       "      <td>1</td>\n",
       "      <td>14</td>\n",
       "      <td>0</td>\n",
       "      <td>3</td>\n",
       "      <td>0</td>\n",
       "      <td>0</td>\n",
       "      <td>43.8</td>\n",
       "      <td>1</td>\n",
       "      <td>0</td>\n",
       "      <td>2</td>\n",
       "      <td>14</td>\n",
       "      <td>0</td>\n",
       "    </tr>\n",
       "    <tr>\n",
       "      <th>4</th>\n",
       "      <td>1490.0</td>\n",
       "      <td>1</td>\n",
       "      <td>Elyn Norridge</td>\n",
       "      <td>elyn.norridge@jnj.com</td>\n",
       "      <td>Elyn</td>\n",
       "      <td>Norridge</td>\n",
       "      <td>47</td>\n",
       "      <td>8</td>\n",
       "      <td>6</td>\n",
       "      <td>10</td>\n",
       "      <td>40.38</td>\n",
       "      <td>1</td>\n",
       "      <td>0</td>\n",
       "      <td>0</td>\n",
       "      <td>0</td>\n",
       "      <td>5</td>\n",
       "      <td>1</td>\n",
       "      <td>5</td>\n",
       "      <td>0</td>\n",
       "      <td>8</td>\n",
       "      <td>0</td>\n",
       "      <td>0</td>\n",
       "      <td>84.8</td>\n",
       "      <td>1</td>\n",
       "      <td>1</td>\n",
       "      <td>3</td>\n",
       "      <td>12</td>\n",
       "      <td>205</td>\n",
       "    </tr>\n",
       "  </tbody>\n",
       "</table>\n",
       "</div>"
      ],
      "text/plain": [
       "   REVENUE  CROSS_SELL_SUCCESS               NAME                     EMAIL FIRST_NAME FAMILY_NAME  TOTAL_MEALS_ORDERED  UNIQUE_MEALS_PURCH  CONTACTS_W_CUSTOMER_SERVICE  PRODUCT_CATEGORIES_VIEWED  AVG_TIME_PER_SITE_VISIT  MOBILE_NUMBER  CANCELLATIONS_BEFORE_NOON  CANCELLATIONS_AFTER_NOON  TASTES_AND_PREFERENCES  PC_LOGINS  MOBILE_LOGINS  WEEKLY_PLAN  EARLY_DELIVERIES  LATE_DELIVERIES  PACKAGE_LOCKER  REFRIGERATED_LOCKER  AVG_PREP_VID_TIME  LARGEST_ORDER_SIZE  MASTER_CLASSES_ATTENDED  MEDIAN_MEAL_RATING  AVG_CLICKS_PER_VISIT  TOTAL_PHOTOS_VIEWED\n",
       "0    393.0                   1            Saathos  saathos@unitedhealth.com    Saathos     Saathos                   14                   6                           12                         10                    48.00              1                          3                         1                       1          5              2            0                 0                2               0                    0               33.4                   1                        0                   1                    17                    0\n",
       "1   1365.0                   1    Alysanne Osgrey    alysanne.osgrey@ge.org   Alysanne      Osgrey                   87                   3                            8                          8                    40.35              1                          0                         0                       1          5              1           12                 0                2               0                    0               84.8                   1                        0                   3                    13                  170\n",
       "2    800.0                   1     Edwyd Fossoway    edwyd.fossoway@jnj.com      Edwyd    Fossoway                   15                   7                           11                          5                    19.77              1                          3                         0                       1          6              1            1                 0                1               0                    0               63.0                   1                        0                   2                    16                    0\n",
       "3    600.0                   1  Eleyna Westerling  eleyna.westerling@ge.org     Eleyna  Westerling                   13                   6                           11                          5                    90.00              1                          2                         0                       1          6              1           14                 0                3               0                    0               43.8                   1                        0                   2                    14                    0\n",
       "4   1490.0                   1      Elyn Norridge     elyn.norridge@jnj.com       Elyn    Norridge                   47                   8                            6                         10                    40.38              1                          0                         0                       0          5              1            5                 0                8               0                    0               84.8                   1                        1                   3                    12                  205"
      ]
     },
     "execution_count": 3,
     "metadata": {},
     "output_type": "execute_result"
    }
   ],
   "source": [
    "# displaying the first 5 rows of the DataFrame\n",
    "chef.head(n = 5)"
   ]
  },
  {
   "cell_type": "markdown",
   "metadata": {},
   "source": [
    "<hr style=\"height:.9px;border:none;color:#333;background-color:#333;\" /><br>\n",
    "\n",
    "<h4>c) Display general information about each variable, including types and the number of non-missing values.</h4>"
   ]
  },
  {
   "cell_type": "code",
   "execution_count": 4,
   "metadata": {},
   "outputs": [
    {
     "name": "stdout",
     "output_type": "stream",
     "text": [
      "<class 'pandas.core.frame.DataFrame'>\n",
      "RangeIndex: 1946 entries, 0 to 1945\n",
      "Data columns (total 28 columns):\n",
      " #   Column                       Non-Null Count  Dtype  \n",
      "---  ------                       --------------  -----  \n",
      " 0   REVENUE                      1946 non-null   float64\n",
      " 1   CROSS_SELL_SUCCESS           1946 non-null   int64  \n",
      " 2   NAME                         1946 non-null   object \n",
      " 3   EMAIL                        1946 non-null   object \n",
      " 4   FIRST_NAME                   1946 non-null   object \n",
      " 5   FAMILY_NAME                  1899 non-null   object \n",
      " 6   TOTAL_MEALS_ORDERED          1946 non-null   int64  \n",
      " 7   UNIQUE_MEALS_PURCH           1946 non-null   int64  \n",
      " 8   CONTACTS_W_CUSTOMER_SERVICE  1946 non-null   int64  \n",
      " 9   PRODUCT_CATEGORIES_VIEWED    1946 non-null   int64  \n",
      " 10  AVG_TIME_PER_SITE_VISIT      1946 non-null   float64\n",
      " 11  MOBILE_NUMBER                1946 non-null   int64  \n",
      " 12  CANCELLATIONS_BEFORE_NOON    1946 non-null   int64  \n",
      " 13  CANCELLATIONS_AFTER_NOON     1946 non-null   int64  \n",
      " 14  TASTES_AND_PREFERENCES       1946 non-null   int64  \n",
      " 15  PC_LOGINS                    1946 non-null   int64  \n",
      " 16  MOBILE_LOGINS                1946 non-null   int64  \n",
      " 17  WEEKLY_PLAN                  1946 non-null   int64  \n",
      " 18  EARLY_DELIVERIES             1946 non-null   int64  \n",
      " 19  LATE_DELIVERIES              1946 non-null   int64  \n",
      " 20  PACKAGE_LOCKER               1946 non-null   int64  \n",
      " 21  REFRIGERATED_LOCKER          1946 non-null   int64  \n",
      " 22  AVG_PREP_VID_TIME            1946 non-null   float64\n",
      " 23  LARGEST_ORDER_SIZE           1946 non-null   int64  \n",
      " 24  MASTER_CLASSES_ATTENDED      1946 non-null   int64  \n",
      " 25  MEDIAN_MEAL_RATING           1946 non-null   int64  \n",
      " 26  AVG_CLICKS_PER_VISIT         1946 non-null   int64  \n",
      " 27  TOTAL_PHOTOS_VIEWED          1946 non-null   int64  \n",
      "dtypes: float64(3), int64(21), object(4)\n",
      "memory usage: 425.8+ KB\n"
     ]
    }
   ],
   "source": [
    "# Information about each variable\n",
    "chef.info()"
   ]
  },
  {
   "cell_type": "markdown",
   "metadata": {},
   "source": [
    "It appears that the dataset contains a mix of data types; 3 variables of float, 21 variables of integer, and 4 variables of string. Also, the only one variable that contain missing values is Family Name."
   ]
  },
  {
   "cell_type": "markdown",
   "metadata": {},
   "source": [
    "<hr style=\"height:.9px;border:none;color:#333;background-color:#333;\" /><br>\n",
    "\n",
    "<h4>d) DESCRIBE each quantitative column using descriptive statistics to identifythe data type of each original variable in the dataset.</h4><br>"
   ]
  },
  {
   "cell_type": "code",
   "execution_count": 5,
   "metadata": {},
   "outputs": [
    {
     "data": {
      "text/html": [
       "<div>\n",
       "<style scoped>\n",
       "    .dataframe tbody tr th:only-of-type {\n",
       "        vertical-align: middle;\n",
       "    }\n",
       "\n",
       "    .dataframe tbody tr th {\n",
       "        vertical-align: top;\n",
       "    }\n",
       "\n",
       "    .dataframe thead th {\n",
       "        text-align: right;\n",
       "    }\n",
       "</style>\n",
       "<table border=\"1\" class=\"dataframe\">\n",
       "  <thead>\n",
       "    <tr style=\"text-align: right;\">\n",
       "      <th></th>\n",
       "      <th>REVENUE</th>\n",
       "      <th>CROSS_SELL_SUCCESS</th>\n",
       "      <th>TOTAL_MEALS_ORDERED</th>\n",
       "      <th>UNIQUE_MEALS_PURCH</th>\n",
       "      <th>CONTACTS_W_CUSTOMER_SERVICE</th>\n",
       "      <th>PRODUCT_CATEGORIES_VIEWED</th>\n",
       "      <th>AVG_TIME_PER_SITE_VISIT</th>\n",
       "      <th>MOBILE_NUMBER</th>\n",
       "      <th>CANCELLATIONS_BEFORE_NOON</th>\n",
       "      <th>CANCELLATIONS_AFTER_NOON</th>\n",
       "      <th>TASTES_AND_PREFERENCES</th>\n",
       "      <th>PC_LOGINS</th>\n",
       "      <th>MOBILE_LOGINS</th>\n",
       "      <th>WEEKLY_PLAN</th>\n",
       "      <th>EARLY_DELIVERIES</th>\n",
       "      <th>LATE_DELIVERIES</th>\n",
       "      <th>PACKAGE_LOCKER</th>\n",
       "      <th>REFRIGERATED_LOCKER</th>\n",
       "      <th>AVG_PREP_VID_TIME</th>\n",
       "      <th>LARGEST_ORDER_SIZE</th>\n",
       "      <th>MASTER_CLASSES_ATTENDED</th>\n",
       "      <th>MEDIAN_MEAL_RATING</th>\n",
       "      <th>AVG_CLICKS_PER_VISIT</th>\n",
       "      <th>TOTAL_PHOTOS_VIEWED</th>\n",
       "    </tr>\n",
       "  </thead>\n",
       "  <tbody>\n",
       "    <tr>\n",
       "      <th>count</th>\n",
       "      <td>1946.00</td>\n",
       "      <td>1946.00</td>\n",
       "      <td>1946.00</td>\n",
       "      <td>1946.0</td>\n",
       "      <td>1946.00</td>\n",
       "      <td>1946.00</td>\n",
       "      <td>1946.00</td>\n",
       "      <td>1946.00</td>\n",
       "      <td>1946.00</td>\n",
       "      <td>1946.00</td>\n",
       "      <td>1946.00</td>\n",
       "      <td>1946.00</td>\n",
       "      <td>1946.00</td>\n",
       "      <td>1946.00</td>\n",
       "      <td>1946.00</td>\n",
       "      <td>1946.00</td>\n",
       "      <td>1946.00</td>\n",
       "      <td>1946.00</td>\n",
       "      <td>1946.00</td>\n",
       "      <td>1946.00</td>\n",
       "      <td>1946.00</td>\n",
       "      <td>1946.00</td>\n",
       "      <td>1946.00</td>\n",
       "      <td>1946.00</td>\n",
       "    </tr>\n",
       "    <tr>\n",
       "      <th>mean</th>\n",
       "      <td>2107.29</td>\n",
       "      <td>0.68</td>\n",
       "      <td>74.63</td>\n",
       "      <td>4.9</td>\n",
       "      <td>6.98</td>\n",
       "      <td>5.38</td>\n",
       "      <td>99.60</td>\n",
       "      <td>0.88</td>\n",
       "      <td>1.40</td>\n",
       "      <td>0.17</td>\n",
       "      <td>0.71</td>\n",
       "      <td>5.52</td>\n",
       "      <td>1.48</td>\n",
       "      <td>11.33</td>\n",
       "      <td>1.49</td>\n",
       "      <td>2.97</td>\n",
       "      <td>0.36</td>\n",
       "      <td>0.11</td>\n",
       "      <td>150.56</td>\n",
       "      <td>4.44</td>\n",
       "      <td>0.60</td>\n",
       "      <td>2.79</td>\n",
       "      <td>13.51</td>\n",
       "      <td>106.43</td>\n",
       "    </tr>\n",
       "    <tr>\n",
       "      <th>std</th>\n",
       "      <td>1138.29</td>\n",
       "      <td>0.47</td>\n",
       "      <td>55.31</td>\n",
       "      <td>2.5</td>\n",
       "      <td>2.28</td>\n",
       "      <td>3.04</td>\n",
       "      <td>62.34</td>\n",
       "      <td>0.33</td>\n",
       "      <td>1.55</td>\n",
       "      <td>0.43</td>\n",
       "      <td>0.45</td>\n",
       "      <td>0.58</td>\n",
       "      <td>0.53</td>\n",
       "      <td>13.57</td>\n",
       "      <td>2.32</td>\n",
       "      <td>2.74</td>\n",
       "      <td>0.48</td>\n",
       "      <td>0.32</td>\n",
       "      <td>49.45</td>\n",
       "      <td>1.55</td>\n",
       "      <td>0.64</td>\n",
       "      <td>0.76</td>\n",
       "      <td>2.33</td>\n",
       "      <td>181.01</td>\n",
       "    </tr>\n",
       "    <tr>\n",
       "      <th>min</th>\n",
       "      <td>131.00</td>\n",
       "      <td>0.00</td>\n",
       "      <td>11.00</td>\n",
       "      <td>1.0</td>\n",
       "      <td>1.00</td>\n",
       "      <td>1.00</td>\n",
       "      <td>10.33</td>\n",
       "      <td>0.00</td>\n",
       "      <td>0.00</td>\n",
       "      <td>0.00</td>\n",
       "      <td>0.00</td>\n",
       "      <td>4.00</td>\n",
       "      <td>0.00</td>\n",
       "      <td>0.00</td>\n",
       "      <td>0.00</td>\n",
       "      <td>0.00</td>\n",
       "      <td>0.00</td>\n",
       "      <td>0.00</td>\n",
       "      <td>33.40</td>\n",
       "      <td>1.00</td>\n",
       "      <td>0.00</td>\n",
       "      <td>1.00</td>\n",
       "      <td>5.00</td>\n",
       "      <td>0.00</td>\n",
       "    </tr>\n",
       "    <tr>\n",
       "      <th>25%</th>\n",
       "      <td>1350.00</td>\n",
       "      <td>0.00</td>\n",
       "      <td>39.00</td>\n",
       "      <td>3.0</td>\n",
       "      <td>5.00</td>\n",
       "      <td>3.00</td>\n",
       "      <td>72.00</td>\n",
       "      <td>1.00</td>\n",
       "      <td>0.00</td>\n",
       "      <td>0.00</td>\n",
       "      <td>0.00</td>\n",
       "      <td>5.00</td>\n",
       "      <td>1.00</td>\n",
       "      <td>1.00</td>\n",
       "      <td>0.00</td>\n",
       "      <td>1.00</td>\n",
       "      <td>0.00</td>\n",
       "      <td>0.00</td>\n",
       "      <td>114.40</td>\n",
       "      <td>3.00</td>\n",
       "      <td>0.00</td>\n",
       "      <td>2.00</td>\n",
       "      <td>12.00</td>\n",
       "      <td>0.00</td>\n",
       "    </tr>\n",
       "    <tr>\n",
       "      <th>50%</th>\n",
       "      <td>1740.00</td>\n",
       "      <td>1.00</td>\n",
       "      <td>60.00</td>\n",
       "      <td>5.0</td>\n",
       "      <td>7.00</td>\n",
       "      <td>5.00</td>\n",
       "      <td>94.16</td>\n",
       "      <td>1.00</td>\n",
       "      <td>1.00</td>\n",
       "      <td>0.00</td>\n",
       "      <td>1.00</td>\n",
       "      <td>6.00</td>\n",
       "      <td>1.00</td>\n",
       "      <td>7.00</td>\n",
       "      <td>0.00</td>\n",
       "      <td>2.00</td>\n",
       "      <td>0.00</td>\n",
       "      <td>0.00</td>\n",
       "      <td>145.60</td>\n",
       "      <td>4.00</td>\n",
       "      <td>1.00</td>\n",
       "      <td>3.00</td>\n",
       "      <td>13.00</td>\n",
       "      <td>0.00</td>\n",
       "    </tr>\n",
       "    <tr>\n",
       "      <th>75%</th>\n",
       "      <td>2670.00</td>\n",
       "      <td>1.00</td>\n",
       "      <td>95.00</td>\n",
       "      <td>7.0</td>\n",
       "      <td>8.00</td>\n",
       "      <td>8.00</td>\n",
       "      <td>117.29</td>\n",
       "      <td>1.00</td>\n",
       "      <td>2.00</td>\n",
       "      <td>0.00</td>\n",
       "      <td>1.00</td>\n",
       "      <td>6.00</td>\n",
       "      <td>2.00</td>\n",
       "      <td>13.00</td>\n",
       "      <td>3.00</td>\n",
       "      <td>4.00</td>\n",
       "      <td>1.00</td>\n",
       "      <td>0.00</td>\n",
       "      <td>173.78</td>\n",
       "      <td>5.00</td>\n",
       "      <td>1.00</td>\n",
       "      <td>3.00</td>\n",
       "      <td>15.00</td>\n",
       "      <td>174.00</td>\n",
       "    </tr>\n",
       "    <tr>\n",
       "      <th>max</th>\n",
       "      <td>8793.75</td>\n",
       "      <td>1.00</td>\n",
       "      <td>493.00</td>\n",
       "      <td>19.0</td>\n",
       "      <td>18.00</td>\n",
       "      <td>10.00</td>\n",
       "      <td>1645.60</td>\n",
       "      <td>1.00</td>\n",
       "      <td>13.00</td>\n",
       "      <td>3.00</td>\n",
       "      <td>1.00</td>\n",
       "      <td>7.00</td>\n",
       "      <td>3.00</td>\n",
       "      <td>52.00</td>\n",
       "      <td>9.00</td>\n",
       "      <td>19.00</td>\n",
       "      <td>1.00</td>\n",
       "      <td>1.00</td>\n",
       "      <td>564.20</td>\n",
       "      <td>11.00</td>\n",
       "      <td>3.00</td>\n",
       "      <td>5.00</td>\n",
       "      <td>19.00</td>\n",
       "      <td>1600.00</td>\n",
       "    </tr>\n",
       "  </tbody>\n",
       "</table>\n",
       "</div>"
      ],
      "text/plain": [
       "       REVENUE  CROSS_SELL_SUCCESS  TOTAL_MEALS_ORDERED  UNIQUE_MEALS_PURCH  CONTACTS_W_CUSTOMER_SERVICE  PRODUCT_CATEGORIES_VIEWED  AVG_TIME_PER_SITE_VISIT  MOBILE_NUMBER  CANCELLATIONS_BEFORE_NOON  CANCELLATIONS_AFTER_NOON  TASTES_AND_PREFERENCES  PC_LOGINS  MOBILE_LOGINS  WEEKLY_PLAN  EARLY_DELIVERIES  LATE_DELIVERIES  PACKAGE_LOCKER  REFRIGERATED_LOCKER  AVG_PREP_VID_TIME  LARGEST_ORDER_SIZE  MASTER_CLASSES_ATTENDED  MEDIAN_MEAL_RATING  AVG_CLICKS_PER_VISIT  TOTAL_PHOTOS_VIEWED\n",
       "count  1946.00             1946.00              1946.00              1946.0                      1946.00                    1946.00                  1946.00        1946.00                    1946.00                   1946.00                 1946.00    1946.00        1946.00      1946.00           1946.00          1946.00         1946.00              1946.00            1946.00             1946.00                  1946.00             1946.00               1946.00              1946.00\n",
       "mean   2107.29                0.68                74.63                 4.9                         6.98                       5.38                    99.60           0.88                       1.40                      0.17                    0.71       5.52           1.48        11.33              1.49             2.97            0.36                 0.11             150.56                4.44                     0.60                2.79                 13.51               106.43\n",
       "std    1138.29                0.47                55.31                 2.5                         2.28                       3.04                    62.34           0.33                       1.55                      0.43                    0.45       0.58           0.53        13.57              2.32             2.74            0.48                 0.32              49.45                1.55                     0.64                0.76                  2.33               181.01\n",
       "min     131.00                0.00                11.00                 1.0                         1.00                       1.00                    10.33           0.00                       0.00                      0.00                    0.00       4.00           0.00         0.00              0.00             0.00            0.00                 0.00              33.40                1.00                     0.00                1.00                  5.00                 0.00\n",
       "25%    1350.00                0.00                39.00                 3.0                         5.00                       3.00                    72.00           1.00                       0.00                      0.00                    0.00       5.00           1.00         1.00              0.00             1.00            0.00                 0.00             114.40                3.00                     0.00                2.00                 12.00                 0.00\n",
       "50%    1740.00                1.00                60.00                 5.0                         7.00                       5.00                    94.16           1.00                       1.00                      0.00                    1.00       6.00           1.00         7.00              0.00             2.00            0.00                 0.00             145.60                4.00                     1.00                3.00                 13.00                 0.00\n",
       "75%    2670.00                1.00                95.00                 7.0                         8.00                       8.00                   117.29           1.00                       2.00                      0.00                    1.00       6.00           2.00        13.00              3.00             4.00            1.00                 0.00             173.78                5.00                     1.00                3.00                 15.00               174.00\n",
       "max    8793.75                1.00               493.00                19.0                        18.00                      10.00                  1645.60           1.00                      13.00                      3.00                    1.00       7.00           3.00        52.00              9.00            19.00            1.00                 1.00             564.20               11.00                     3.00                5.00                 19.00              1600.00"
      ]
     },
     "execution_count": 5,
     "metadata": {},
     "output_type": "execute_result"
    }
   ],
   "source": [
    "# descriptive statistics for numeric data\n",
    "chef.describe(include = 'number').round(2)\n"
   ]
  },
  {
   "cell_type": "markdown",
   "metadata": {},
   "source": [
    "<h4>e) Identify data type of each original variable in the dataset.</h4><br>\n"
   ]
  },
  {
   "cell_type": "raw",
   "metadata": {},
   "source": [
    "CONTINUOUS\n",
    "----------\n",
    "REVENUE (Y-variable)\n",
    "AVG_TIME_PER_SITE_VISIT\n",
    "AVG_PREP_VID_TIME\n",
    "\n",
    "\n",
    "INTERVAL/COUNT\n",
    "--------------\n",
    "TOTAL_MEALS_ORDERED\n",
    "UNIQUE_MEALS_PURCH\n",
    "CONTACTS_W_CUSTOMER_SERVICE\n",
    "PRODUCT_CATEGORIES_VIEWED\n",
    "CANCELLATIONS_BEFORE_NOON\n",
    "CANCELLATIONS_AFTER_NOON\n",
    "PC_LOGINS\n",
    "MOBILE_LOGINS\n",
    "WEEKLY_PLAN\n",
    "EARLY_DELIVERIES\n",
    "LATE_DELIVERIES\n",
    "LARGEST_ORDER_SIZE\n",
    "MASTER_CLASSES_ATTENDED\n",
    "MEDIAN_MEAL_RATING (Range between 1-5)\n",
    "AVG_CLICKS_PER_VISIT\n",
    "TOTAL_PHOTOS_VIEWED\n",
    "\n",
    "\n",
    "BINARY (0 and 1)\n",
    "--------------\n",
    "CROSS_SELL_SUCCESS\n",
    "MOBILE_NUMBER\n",
    "TASTES_AND_PREFERENCES\n",
    "PACKAGE_LOCKER\n",
    "REFRIGERATED_LOCKER\n",
    "\n",
    "\n",
    "CATEGORICAL\n",
    "-----------\n",
    "\n",
    "NAME\n",
    "EMAIL\n",
    "FIRST_NAME\n",
    "FAMILY_NAME\n",
    "\n"
   ]
  },
  {
   "cell_type": "markdown",
   "metadata": {},
   "source": [
    "<h2>Part II: Review of Missing Value Analysis and Imputation</h2><br>\n",
    "<h4>a) Print number of missing values in the dataset.</h4>"
   ]
  },
  {
   "cell_type": "code",
   "execution_count": 6,
   "metadata": {
    "scrolled": false
   },
   "outputs": [
    {
     "data": {
      "text/plain": [
       "REVENUE                         0\n",
       "CROSS_SELL_SUCCESS              0\n",
       "NAME                            0\n",
       "EMAIL                           0\n",
       "FIRST_NAME                      0\n",
       "FAMILY_NAME                    47\n",
       "TOTAL_MEALS_ORDERED             0\n",
       "UNIQUE_MEALS_PURCH              0\n",
       "CONTACTS_W_CUSTOMER_SERVICE     0\n",
       "PRODUCT_CATEGORIES_VIEWED       0\n",
       "AVG_TIME_PER_SITE_VISIT         0\n",
       "MOBILE_NUMBER                   0\n",
       "CANCELLATIONS_BEFORE_NOON       0\n",
       "CANCELLATIONS_AFTER_NOON        0\n",
       "TASTES_AND_PREFERENCES          0\n",
       "PC_LOGINS                       0\n",
       "MOBILE_LOGINS                   0\n",
       "WEEKLY_PLAN                     0\n",
       "EARLY_DELIVERIES                0\n",
       "LATE_DELIVERIES                 0\n",
       "PACKAGE_LOCKER                  0\n",
       "REFRIGERATED_LOCKER             0\n",
       "AVG_PREP_VID_TIME               0\n",
       "LARGEST_ORDER_SIZE              0\n",
       "MASTER_CLASSES_ATTENDED         0\n",
       "MEDIAN_MEAL_RATING              0\n",
       "AVG_CLICKS_PER_VISIT            0\n",
       "TOTAL_PHOTOS_VIEWED             0\n",
       "dtype: int64"
      ]
     },
     "execution_count": 6,
     "metadata": {},
     "output_type": "execute_result"
    }
   ],
   "source": [
    "# use method chaining to print sum missing values of each variable\n",
    "chef.isnull().sum(axis = 0)\n"
   ]
  },
  {
   "cell_type": "markdown",
   "metadata": {},
   "source": [
    "As shown in the output, only FAMILY_NAME variable has missing values."
   ]
  },
  {
   "cell_type": "markdown",
   "metadata": {},
   "source": [
    "<hr style=\"height:.9px;border:none;color:#333;background-color:#333;\" /><br>\n",
    "<h4>b) Flag missing values</h4>"
   ]
  },
  {
   "cell_type": "code",
   "execution_count": 7,
   "metadata": {},
   "outputs": [
    {
     "data": {
      "text/plain": [
       "m_FAMILY_NAME    47\n",
       "dtype: int64"
      ]
     },
     "execution_count": 7,
     "metadata": {},
     "output_type": "execute_result"
    }
   ],
   "source": [
    "# looping to detect features with missing values\n",
    "for col in chef:\n",
    "\n",
    "    # creating columns with 1s if missing and 0 if not\n",
    "    if chef[col].isnull().astype(int).sum() > 0:\n",
    "        chef['m_' + col] =chef[col].isnull().astype(int)\n",
    "\n",
    "# summing the missing value flags to check the results of the loop above\n",
    "chef[['m_FAMILY_NAME']].sum(axis = 0)\n"
   ]
  },
  {
   "cell_type": "markdown",
   "metadata": {},
   "source": [
    "<hr style=\"height:.9px;border:none;color:#333;background-color:#333;\" /><br>\n",
    "\n",
    "<h4>c) Impute the missing values for FAMILY_NAME with 'Unknown'.</h4><br>\n",
    "This is simply because family name is unique and my goal is to prevent any error caused by missing values."
   ]
  },
  {
   "cell_type": "code",
   "execution_count": 8,
   "metadata": {},
   "outputs": [
    {
     "data": {
      "text/plain": [
       "False"
      ]
     },
     "execution_count": 8,
     "metadata": {},
     "output_type": "execute_result"
    }
   ],
   "source": [
    "# instantiating an imputation value\n",
    "fill = 'Unknown'\n",
    "\n",
    "\n",
    "# imputing 'FAMILY_NAME'\n",
    "chef['FAMILY_NAME'] = chef['FAMILY_NAME'].fillna(fill)\n",
    "\n",
    "# making sure missing values have been taken care of\n",
    "chef.isnull().any(axis = 0).any(axis = 0)"
   ]
  },
  {
   "cell_type": "markdown",
   "metadata": {},
   "source": [
    "<hr style=\"height:.9px;border:none;color:#333;background-color:#333;\" /><br>\n",
    "<h2>Part III: Working with continuous variables</h2>\n",
    "\n",
    "<h4>a) Develop a histogram to analyze the distribution of the Y-variable.</h4><br>"
   ]
  },
  {
   "cell_type": "code",
   "execution_count": 9,
   "metadata": {
    "cell_style": "split",
    "code_folding": []
   },
   "outputs": [
    {
     "data": {
      "image/png": "[encoded data removed]",
      "text/plain": [
       "<Figure size 720x360 with 1 Axes>"
      ]
     },
     "metadata": {
      "needs_background": "light"
     },
     "output_type": "display_data"
    }
   ],
   "source": [
    "# developing a histogram using DISPLOT\n",
    "sns.displot(data   = chef,\n",
    "            x      = 'REVENUE',\n",
    "            height = 5,\n",
    "            aspect = 2)\n",
    "\n",
    "\n",
    "\n",
    "\n",
    "\n",
    "# displaying the histogram\n",
    "plt.show()"
   ]
  },
  {
   "cell_type": "code",
   "execution_count": 10,
   "metadata": {
    "cell_style": "split",
    "code_folding": []
   },
   "outputs": [
    {
     "data": {
      "image/png": "[encoded data removed]",
      "text/plain": [
       "<Figure size 720x360 with 1 Axes>"
      ]
     },
     "metadata": {
      "needs_background": "light"
     },
     "output_type": "display_data"
    }
   ],
   "source": [
    "# log transforming REVENUE and saving it to the dataset\n",
    "chef['log_REVENUE'] = np.log10(chef['REVENUE'])\n",
    "\n",
    "# developing a histogram using DISPLOT for REVENUE after log transformation\n",
    "sns.displot(data   = chef,\n",
    "            x      = 'log_REVENUE',\n",
    "            height = 5,\n",
    "            aspect = 2)\n",
    "\n",
    "\n",
    "# displaying the histogram\n",
    "plt.show()"
   ]
  },
  {
   "cell_type": "markdown",
   "metadata": {
    "cell_style": "split"
   },
   "source": [
    "As can be observed from the distribution above, revenue is skewed positive.\n",
    "<br><br>"
   ]
  },
  {
   "cell_type": "markdown",
   "metadata": {
    "cell_style": "split"
   },
   "source": [
    "After applying log transformation, revenue variable tends to become more normally distributed compared with the original data."
   ]
  },
  {
   "cell_type": "markdown",
   "metadata": {},
   "source": [
    "<h4>b) Develop a histogram to analyze the distribution of the X-variables.</h4><br>"
   ]
  },
  {
   "cell_type": "code",
   "execution_count": 11,
   "metadata": {
    "cell_style": "split"
   },
   "outputs": [
    {
     "data": {
      "image/png": "[encoded data removed]",
      "text/plain": [
       "<Figure size 720x360 with 1 Axes>"
      ]
     },
     "metadata": {
      "needs_background": "light"
     },
     "output_type": "display_data"
    }
   ],
   "source": [
    "# developing a histogram using DISPLOT\n",
    "# AVG_TIME_PER_SITE_VISIT\n",
    "sns.displot(data   = chef,\n",
    "            x      = 'AVG_TIME_PER_SITE_VISIT',\n",
    "            height = 5,\n",
    "            aspect = 2)\n",
    "\n",
    "\n",
    "# displaying the histogram\n",
    "plt.show()"
   ]
  },
  {
   "cell_type": "code",
   "execution_count": 12,
   "metadata": {
    "cell_style": "split",
    "scrolled": true
   },
   "outputs": [
    {
     "data": {
      "image/png": "[encoded data removed]",
      "text/plain": [
       "<Figure size 720x360 with 1 Axes>"
      ]
     },
     "metadata": {
      "needs_background": "light"
     },
     "output_type": "display_data"
    }
   ],
   "source": [
    "# developing a histogram using DISPLOT\n",
    "# AVG_PREP_VID_TIME\n",
    "sns.displot(data   = chef,\n",
    "            x      = 'AVG_PREP_VID_TIME',\n",
    "            height = 5,\n",
    "            aspect = 2)\n",
    "\n",
    "\n",
    "# displaying the histogram\n",
    "plt.show()"
   ]
  },
  {
   "cell_type": "markdown",
   "metadata": {
    "cell_style": "split"
   },
   "source": [
    "As can be observed from the distribution above, AVG_TIME_PER_SITE_VISIT is skewed positive with outliers on the right side."
   ]
  },
  {
   "cell_type": "markdown",
   "metadata": {
    "cell_style": "split"
   },
   "source": [
    "As can be observed from the distribution above, AVG_PREP_VID_TIME is skewed positive.<br><br>"
   ]
  },
  {
   "cell_type": "code",
   "execution_count": 13,
   "metadata": {
    "cell_style": "split"
   },
   "outputs": [
    {
     "data": {
      "image/png": "[encoded data removed]",
      "text/plain": [
       "<Figure size 720x360 with 1 Axes>"
      ]
     },
     "metadata": {
      "needs_background": "light"
     },
     "output_type": "display_data"
    }
   ],
   "source": [
    "# log transforming and saving it to the dataset\n",
    "chef['log_AVG_TIME_PER_SITE_VISIT'] = np.log10(chef['AVG_TIME_PER_SITE_VISIT'])\n",
    "\n",
    "# developing a histogram using DISPLOT\n",
    "sns.displot(data   = chef,\n",
    "            x      = 'log_AVG_TIME_PER_SITE_VISIT',\n",
    "            height = 5,\n",
    "            aspect = 2)\n",
    "\n",
    "\n",
    "# displaying the histogram\n",
    "plt.show()"
   ]
  },
  {
   "cell_type": "code",
   "execution_count": 14,
   "metadata": {
    "cell_style": "split"
   },
   "outputs": [
    {
     "data": {
      "image/png": "[encoded data removed]",
      "text/plain": [
       "<Figure size 720x360 with 1 Axes>"
      ]
     },
     "metadata": {
      "needs_background": "light"
     },
     "output_type": "display_data"
    }
   ],
   "source": [
    "# log transforming and saving it to the dataset\n",
    "chef['log_AVG_PREP_VID_TIME'] = np.log10(chef['AVG_PREP_VID_TIME'])\n",
    "\n",
    "# developing a histogram using DISPLOT\n",
    "sns.displot(data   = chef,\n",
    "            x      = 'log_AVG_PREP_VID_TIME',\n",
    "            height = 5,\n",
    "            aspect = 2)\n",
    "\n",
    "\n",
    "# displaying the histogram\n",
    "plt.show()"
   ]
  },
  {
   "cell_type": "markdown",
   "metadata": {},
   "source": [
    "After applying log transformation, both AVG_TIME_PER_SITE_VISIT and AVG_PREP_VID_TIME variable tend to become more normally distributed compared with the original data."
   ]
  },
  {
   "cell_type": "markdown",
   "metadata": {},
   "source": [
    "<hr style=\"height:.9px;border:none;color:#333;background-color:#333;\" /><br>\n",
    "\n",
    "<h4>c) Analyze how the continuous variables in the dataset correlate to <em>REVENUE</em>.</h4>"
   ]
  },
  {
   "cell_type": "code",
   "execution_count": 15,
   "metadata": {},
   "outputs": [
    {
     "data": {
      "text/plain": [
       "REVENUE                    1.00\n",
       "AVG_PREP_VID_TIME          0.64\n",
       "AVG_TIME_PER_SITE_VISIT    0.14\n",
       "Name: REVENUE, dtype: float64"
      ]
     },
     "execution_count": 15,
     "metadata": {},
     "output_type": "execute_result"
    }
   ],
   "source": [
    "# creating a list of continuous features\n",
    "continuous_data = ['REVENUE', 'AVG_TIME_PER_SITE_VISIT', 'AVG_PREP_VID_TIME']\n",
    "\n",
    "\n",
    "# developing a correlation matrix based on continuous features\n",
    "cont_chef_corr = chef[continuous_data].corr(method = 'pearson')\n",
    "\n",
    "\n",
    "# filtering the results to only show correlations with revenue\n",
    "cont_chef_corr.loc[ : , 'REVENUE'].round(decimals = 2).sort_values(ascending = False)\n"
   ]
  },
  {
   "cell_type": "markdown",
   "metadata": {},
   "source": [
    "It appears that AVG_PREP_VID_TIME has the strongest correlation with REVENUE."
   ]
  },
  {
   "cell_type": "markdown",
   "metadata": {},
   "source": [
    "<hr style=\"height:.9px;border:none;color:#333;background-color:#333;\" /><br>\n",
    "\n",
    "<h4>d) Create scatter plots between continuous X-variables and REVENUE to inspect Trend-Based Features</h4><br>"
   ]
  },
  {
   "cell_type": "code",
   "execution_count": 16,
   "metadata": {},
   "outputs": [
    {
     "data": {
      "image/png": "[encoded data removed]",
      "text/plain": [
       "<Figure size 720x576 with 2 Axes>"
      ]
     },
     "metadata": {
      "needs_background": "light"
     },
     "output_type": "display_data"
    }
   ],
   "source": [
    "################################\n",
    "# Visual EDA (Scatterplots)\n",
    "################################\n",
    "\n",
    "# setting figure size\n",
    "fig, ax = plt.subplots(figsize = (10, 8))\n",
    "\n",
    "\n",
    "# developing a scatterplot\n",
    "plt.subplot(3, 2, 3)\n",
    "sns.scatterplot(x = chef['AVG_TIME_PER_SITE_VISIT'],\n",
    "                y = chef['REVENUE'],\n",
    "                color = 'g')\n",
    "\n",
    "\n",
    "# adding labels but not adding title\n",
    "plt.xlabel(xlabel = 'Average time spent per site visit')\n",
    "plt.ylabel(ylabel = 'Revenue')\n",
    "\n",
    "\n",
    "########################\n",
    "\n",
    "\n",
    "# developing a scatterplot\n",
    "plt.subplot(3, 2, 4)\n",
    "sns.scatterplot(x = chef['AVG_PREP_VID_TIME'],\n",
    "                y = chef['REVENUE'],\n",
    "                color = 'g')\n",
    "\n",
    "# adding labels but not adding title\n",
    "plt.xlabel(xlabel = 'Average prep video time')\n",
    "plt.ylabel(ylabel = 'Revenue')\n",
    "\n",
    "\n",
    "# cleaning up the layout and displaying the results\n",
    "plt.tight_layout()\n",
    "plt.show()\n",
    "\n"
   ]
  },
  {
   "cell_type": "markdown",
   "metadata": {},
   "source": [
    "As shown in the scatter plots, there are no zero values but outliers on the right side of those two variables. Therefore, no flag-based feature engineering needed<br>\n",
    "\n",
    "<hr style=\"height:.9px;border:none;color:#333;background-color:#333;\" /><br>"
   ]
  },
  {
   "cell_type": "markdown",
   "metadata": {},
   "source": [
    "<h2>Part V: Working with Interval and Count variables</h2><br>\n",
    "<h4>a) Creating boxplots to visualize relationships between x and y variables and performing log transformation.</h4><br>"
   ]
  },
  {
   "cell_type": "code",
   "execution_count": 17,
   "metadata": {
    "cell_style": "center",
    "scrolled": false
   },
   "outputs": [
    {
     "data": {
      "image/png": "[encoded data removed]",
      "text/plain": [
       "<Figure size 432x288 with 1 Axes>"
      ]
     },
     "metadata": {
      "needs_background": "light"
     },
     "output_type": "display_data"
    },
    {
     "data": {
      "image/png": "[encoded data removed]",
      "text/plain": [
       "<Figure size 432x288 with 1 Axes>"
      ]
     },
     "metadata": {
      "needs_background": "light"
     },
     "output_type": "display_data"
    },
    {
     "data": {
      "image/png": "[encoded data removed]",
      "text/plain": [
       "<Figure size 432x288 with 1 Axes>"
      ]
     },
     "metadata": {
      "needs_background": "light"
     },
     "output_type": "display_data"
    },
    {
     "data": {
      "image/png": "[encoded data removed]",
      "text/plain": [
       "<Figure size 432x288 with 1 Axes>"
      ]
     },
     "metadata": {
      "needs_background": "light"
     },
     "output_type": "display_data"
    },
    {
     "data": {
      "image/png": "[encoded data removed]",
      "text/plain": [
       "<Figure size 432x288 with 1 Axes>"
      ]
     },
     "metadata": {
      "needs_background": "light"
     },
     "output_type": "display_data"
    },
    {
     "data": {
      "image/png": "[encoded data removed]",
      "text/plain": [
       "<Figure size 432x288 with 1 Axes>"
      ]
     },
     "metadata": {
      "needs_background": "light"
     },
     "output_type": "display_data"
    },
    {
     "data": {
      "image/png": "[encoded data removed]",
      "text/plain": [
       "<Figure size 432x288 with 1 Axes>"
      ]
     },
     "metadata": {
      "needs_background": "light"
     },
     "output_type": "display_data"
    },
    {
     "data": {
      "image/png": "[encoded data removed]",
      "text/plain": [
       "<Figure size 432x288 with 1 Axes>"
      ]
     },
     "metadata": {
      "needs_background": "light"
     },
     "output_type": "display_data"
    },
    {
     "data": {
      "image/png": "[encoded data removed]",
      "text/plain": [
       "<Figure size 432x288 with 1 Axes>"
      ]
     },
     "metadata": {
      "needs_background": "light"
     },
     "output_type": "display_data"
    },
    {
     "data": {
      "image/png": "[encoded data removed]",
      "text/plain": [
       "<Figure size 432x288 with 1 Axes>"
      ]
     },
     "metadata": {
      "needs_background": "light"
     },
     "output_type": "display_data"
    },
    {
     "data": {
      "image/png": "[encoded data removed]",
      "text/plain": [
       "<Figure size 432x288 with 1 Axes>"
      ]
     },
     "metadata": {
      "needs_background": "light"
     },
     "output_type": "display_data"
    },
    {
     "data": {
      "image/png": "[encoded data removed]",
      "text/plain": [
       "<Figure size 432x288 with 1 Axes>"
      ]
     },
     "metadata": {
      "needs_background": "light"
     },
     "output_type": "display_data"
    },
    {
     "data": {
      "image/png": "[encoded data removed]",
      "text/plain": [
       "<Figure size 432x288 with 1 Axes>"
      ]
     },
     "metadata": {
      "needs_background": "light"
     },
     "output_type": "display_data"
    },
    {
     "data": {
      "image/png": "[encoded data removed]",
      "text/plain": [
       "<Figure size 432x288 with 1 Axes>"
      ]
     },
     "metadata": {
      "needs_background": "light"
     },
     "output_type": "display_data"
    },
    {
     "data": {
      "image/png": "[encoded data removed]",
      "text/plain": [
       "<Figure size 432x288 with 1 Axes>"
      ]
     },
     "metadata": {
      "needs_background": "light"
     },
     "output_type": "display_data"
    },
    {
     "data": {
      "image/png": "[encoded data removed]",
      "text/plain": [
       "<Figure size 432x288 with 1 Axes>"
      ]
     },
     "metadata": {
      "needs_background": "light"
     },
     "output_type": "display_data"
    }
   ],
   "source": [
    "# creating a list of interval/count features\n",
    "interval_data = ['TOTAL_MEALS_ORDERED', 'UNIQUE_MEALS_PURCH', 'CONTACTS_W_CUSTOMER_SERVICE',\n",
    "              'PRODUCT_CATEGORIES_VIEWED', 'CANCELLATIONS_BEFORE_NOON', 'CANCELLATIONS_AFTER_NOON',\n",
    "              'PC_LOGINS', 'MOBILE_LOGINS', 'WEEKLY_PLAN', 'EARLY_DELIVERIES', 'LATE_DELIVERIES',\n",
    "              'LARGEST_ORDER_SIZE', 'MASTER_CLASSES_ATTENDED', 'MEDIAN_MEAL_RATING',\n",
    "              'AVG_CLICKS_PER_VISIT', 'TOTAL_PHOTOS_VIEWED']\n",
    "\n",
    "\n",
    "# for loop for creating multiple boxplots\n",
    "i = 0\n",
    "for val in interval_data:\n",
    "    plt.figure(i)\n",
    "    i = i + 1\n",
    "    \n",
    "    # developing a boxplot\n",
    "    sns.boxplot(x    = val,\n",
    "                y    = 'REVENUE',\n",
    "                data = chef)\n",
    "\n",
    "    # displaying the plot\n",
    "    plt.show()\n"
   ]
  },
  {
   "cell_type": "code",
   "execution_count": 18,
   "metadata": {
    "cell_style": "center",
    "scrolled": false
   },
   "outputs": [],
   "source": [
    "# looping to apply log transformation for all interval/count features\n",
    "for log_val in interval_data:\n",
    "    # creating columns with log transformed\n",
    "    chef['log_' + log_val] = np.log10(chef[log_val] + 1) # plus 1 to deal with zero value\n",
    "    "
   ]
  },
  {
   "cell_type": "markdown",
   "metadata": {},
   "source": [
    "<hr style=\"height:.9px;border:none;color:#333;background-color:#333;\" /><br>\n",
    "<h4>b) Check correlation between x and y variables.</h4>"
   ]
  },
  {
   "cell_type": "code",
   "execution_count": 19,
   "metadata": {
    "code_folding": []
   },
   "outputs": [
    {
     "data": {
      "text/html": [
       "<div>\n",
       "<style scoped>\n",
       "    .dataframe tbody tr th:only-of-type {\n",
       "        vertical-align: middle;\n",
       "    }\n",
       "\n",
       "    .dataframe tbody tr th {\n",
       "        vertical-align: top;\n",
       "    }\n",
       "\n",
       "    .dataframe thead th {\n",
       "        text-align: right;\n",
       "    }\n",
       "</style>\n",
       "<table border=\"1\" class=\"dataframe\">\n",
       "  <thead>\n",
       "    <tr style=\"text-align: right;\">\n",
       "      <th></th>\n",
       "      <th>REVENUE</th>\n",
       "      <th>log_REVENUE</th>\n",
       "    </tr>\n",
       "  </thead>\n",
       "  <tbody>\n",
       "    <tr>\n",
       "      <th>log_REVENUE</th>\n",
       "      <td>0.95</td>\n",
       "      <td>1.00</td>\n",
       "    </tr>\n",
       "    <tr>\n",
       "      <th>REVENUE</th>\n",
       "      <td>1.00</td>\n",
       "      <td>0.95</td>\n",
       "    </tr>\n",
       "    <tr>\n",
       "      <th>log_TOTAL_MEALS_ORDERED</th>\n",
       "      <td>0.61</td>\n",
       "      <td>0.69</td>\n",
       "    </tr>\n",
       "    <tr>\n",
       "      <th>MEDIAN_MEAL_RATING</th>\n",
       "      <td>0.61</td>\n",
       "      <td>0.65</td>\n",
       "    </tr>\n",
       "    <tr>\n",
       "      <th>log_MEDIAN_MEAL_RATING</th>\n",
       "      <td>0.57</td>\n",
       "      <td>0.63</td>\n",
       "    </tr>\n",
       "    <tr>\n",
       "      <th>TOTAL_MEALS_ORDERED</th>\n",
       "      <td>0.60</td>\n",
       "      <td>0.61</td>\n",
       "    </tr>\n",
       "    <tr>\n",
       "      <th>log_MASTER_CLASSES_ATTENDED</th>\n",
       "      <td>0.46</td>\n",
       "      <td>0.49</td>\n",
       "    </tr>\n",
       "    <tr>\n",
       "      <th>MASTER_CLASSES_ATTENDED</th>\n",
       "      <td>0.45</td>\n",
       "      <td>0.47</td>\n",
       "    </tr>\n",
       "    <tr>\n",
       "      <th>LARGEST_ORDER_SIZE</th>\n",
       "      <td>0.44</td>\n",
       "      <td>0.45</td>\n",
       "    </tr>\n",
       "    <tr>\n",
       "      <th>log_LARGEST_ORDER_SIZE</th>\n",
       "      <td>0.42</td>\n",
       "      <td>0.45</td>\n",
       "    </tr>\n",
       "    <tr>\n",
       "      <th>TOTAL_PHOTOS_VIEWED</th>\n",
       "      <td>0.47</td>\n",
       "      <td>0.43</td>\n",
       "    </tr>\n",
       "    <tr>\n",
       "      <th>log_TOTAL_PHOTOS_VIEWED</th>\n",
       "      <td>0.42</td>\n",
       "      <td>0.43</td>\n",
       "    </tr>\n",
       "    <tr>\n",
       "      <th>PRODUCT_CATEGORIES_VIEWED</th>\n",
       "      <td>0.03</td>\n",
       "      <td>0.04</td>\n",
       "    </tr>\n",
       "    <tr>\n",
       "      <th>log_CONTACTS_W_CUSTOMER_SERVICE</th>\n",
       "      <td>0.16</td>\n",
       "      <td>0.04</td>\n",
       "    </tr>\n",
       "    <tr>\n",
       "      <th>CANCELLATIONS_BEFORE_NOON</th>\n",
       "      <td>0.01</td>\n",
       "      <td>0.01</td>\n",
       "    </tr>\n",
       "    <tr>\n",
       "      <th>log_PC_LOGINS</th>\n",
       "      <td>0.01</td>\n",
       "      <td>0.01</td>\n",
       "    </tr>\n",
       "    <tr>\n",
       "      <th>log_PRODUCT_CATEGORIES_VIEWED</th>\n",
       "      <td>0.01</td>\n",
       "      <td>0.01</td>\n",
       "    </tr>\n",
       "    <tr>\n",
       "      <th>log_CANCELLATIONS_BEFORE_NOON</th>\n",
       "      <td>0.02</td>\n",
       "      <td>0.01</td>\n",
       "    </tr>\n",
       "    <tr>\n",
       "      <th>PC_LOGINS</th>\n",
       "      <td>0.02</td>\n",
       "      <td>0.01</td>\n",
       "    </tr>\n",
       "    <tr>\n",
       "      <th>WEEKLY_PLAN</th>\n",
       "      <td>0.01</td>\n",
       "      <td>0.01</td>\n",
       "    </tr>\n",
       "    <tr>\n",
       "      <th>MOBILE_LOGINS</th>\n",
       "      <td>-0.02</td>\n",
       "      <td>-0.01</td>\n",
       "    </tr>\n",
       "    <tr>\n",
       "      <th>log_MOBILE_LOGINS</th>\n",
       "      <td>-0.02</td>\n",
       "      <td>-0.01</td>\n",
       "    </tr>\n",
       "    <tr>\n",
       "      <th>log_WEEKLY_PLAN</th>\n",
       "      <td>-0.01</td>\n",
       "      <td>-0.01</td>\n",
       "    </tr>\n",
       "    <tr>\n",
       "      <th>log_EARLY_DELIVERIES</th>\n",
       "      <td>0.00</td>\n",
       "      <td>-0.01</td>\n",
       "    </tr>\n",
       "    <tr>\n",
       "      <th>EARLY_DELIVERIES</th>\n",
       "      <td>-0.00</td>\n",
       "      <td>-0.01</td>\n",
       "    </tr>\n",
       "    <tr>\n",
       "      <th>LATE_DELIVERIES</th>\n",
       "      <td>-0.01</td>\n",
       "      <td>-0.02</td>\n",
       "    </tr>\n",
       "    <tr>\n",
       "      <th>log_LATE_DELIVERIES</th>\n",
       "      <td>-0.00</td>\n",
       "      <td>-0.02</td>\n",
       "    </tr>\n",
       "    <tr>\n",
       "      <th>CANCELLATIONS_AFTER_NOON</th>\n",
       "      <td>-0.04</td>\n",
       "      <td>-0.04</td>\n",
       "    </tr>\n",
       "    <tr>\n",
       "      <th>log_CANCELLATIONS_AFTER_NOON</th>\n",
       "      <td>-0.04</td>\n",
       "      <td>-0.04</td>\n",
       "    </tr>\n",
       "    <tr>\n",
       "      <th>CONTACTS_W_CUSTOMER_SERVICE</th>\n",
       "      <td>0.10</td>\n",
       "      <td>-0.04</td>\n",
       "    </tr>\n",
       "    <tr>\n",
       "      <th>UNIQUE_MEALS_PURCH</th>\n",
       "      <td>-0.06</td>\n",
       "      <td>-0.08</td>\n",
       "    </tr>\n",
       "    <tr>\n",
       "      <th>log_UNIQUE_MEALS_PURCH</th>\n",
       "      <td>-0.11</td>\n",
       "      <td>-0.12</td>\n",
       "    </tr>\n",
       "    <tr>\n",
       "      <th>AVG_CLICKS_PER_VISIT</th>\n",
       "      <td>-0.55</td>\n",
       "      <td>-0.58</td>\n",
       "    </tr>\n",
       "    <tr>\n",
       "      <th>log_AVG_CLICKS_PER_VISIT</th>\n",
       "      <td>-0.56</td>\n",
       "      <td>-0.58</td>\n",
       "    </tr>\n",
       "  </tbody>\n",
       "</table>\n",
       "</div>"
      ],
      "text/plain": [
       "                                 REVENUE  log_REVENUE\n",
       "log_REVENUE                         0.95         1.00\n",
       "REVENUE                             1.00         0.95\n",
       "log_TOTAL_MEALS_ORDERED             0.61         0.69\n",
       "MEDIAN_MEAL_RATING                  0.61         0.65\n",
       "log_MEDIAN_MEAL_RATING              0.57         0.63\n",
       "TOTAL_MEALS_ORDERED                 0.60         0.61\n",
       "log_MASTER_CLASSES_ATTENDED         0.46         0.49\n",
       "MASTER_CLASSES_ATTENDED             0.45         0.47\n",
       "LARGEST_ORDER_SIZE                  0.44         0.45\n",
       "log_LARGEST_ORDER_SIZE              0.42         0.45\n",
       "TOTAL_PHOTOS_VIEWED                 0.47         0.43\n",
       "log_TOTAL_PHOTOS_VIEWED             0.42         0.43\n",
       "PRODUCT_CATEGORIES_VIEWED           0.03         0.04\n",
       "log_CONTACTS_W_CUSTOMER_SERVICE     0.16         0.04\n",
       "CANCELLATIONS_BEFORE_NOON           0.01         0.01\n",
       "log_PC_LOGINS                       0.01         0.01\n",
       "log_PRODUCT_CATEGORIES_VIEWED       0.01         0.01\n",
       "log_CANCELLATIONS_BEFORE_NOON       0.02         0.01\n",
       "PC_LOGINS                           0.02         0.01\n",
       "WEEKLY_PLAN                         0.01         0.01\n",
       "MOBILE_LOGINS                      -0.02        -0.01\n",
       "log_MOBILE_LOGINS                  -0.02        -0.01\n",
       "log_WEEKLY_PLAN                    -0.01        -0.01\n",
       "log_EARLY_DELIVERIES                0.00        -0.01\n",
       "EARLY_DELIVERIES                   -0.00        -0.01\n",
       "LATE_DELIVERIES                    -0.01        -0.02\n",
       "log_LATE_DELIVERIES                -0.00        -0.02\n",
       "CANCELLATIONS_AFTER_NOON           -0.04        -0.04\n",
       "log_CANCELLATIONS_AFTER_NOON       -0.04        -0.04\n",
       "CONTACTS_W_CUSTOMER_SERVICE         0.10        -0.04\n",
       "UNIQUE_MEALS_PURCH                 -0.06        -0.08\n",
       "log_UNIQUE_MEALS_PURCH             -0.11        -0.12\n",
       "AVG_CLICKS_PER_VISIT               -0.55        -0.58\n",
       "log_AVG_CLICKS_PER_VISIT           -0.56        -0.58"
      ]
     },
     "execution_count": 19,
     "metadata": {},
     "output_type": "execute_result"
    }
   ],
   "source": [
    "# check correlation between x and y variables, before and after log transformation\n",
    "log_corr = chef.loc[ : , ['REVENUE',\n",
    "                          'log_REVENUE',\n",
    "                          'TOTAL_MEALS_ORDERED', 'UNIQUE_MEALS_PURCH', 'CONTACTS_W_CUSTOMER_SERVICE',\n",
    "                          'PRODUCT_CATEGORIES_VIEWED', 'CANCELLATIONS_BEFORE_NOON', 'CANCELLATIONS_AFTER_NOON',\n",
    "                          'PC_LOGINS', 'MOBILE_LOGINS', 'WEEKLY_PLAN', 'EARLY_DELIVERIES', 'LATE_DELIVERIES',\n",
    "                          'LARGEST_ORDER_SIZE', 'MASTER_CLASSES_ATTENDED', 'MEDIAN_MEAL_RATING',\n",
    "                          'AVG_CLICKS_PER_VISIT', 'TOTAL_PHOTOS_VIEWED',\n",
    "                          'log_TOTAL_MEALS_ORDERED', 'log_UNIQUE_MEALS_PURCH', 'log_CONTACTS_W_CUSTOMER_SERVICE',\n",
    "                          'log_PRODUCT_CATEGORIES_VIEWED', 'log_CANCELLATIONS_BEFORE_NOON', 'log_CANCELLATIONS_AFTER_NOON',\n",
    "                          'log_PC_LOGINS', 'log_MOBILE_LOGINS', 'log_WEEKLY_PLAN', 'log_EARLY_DELIVERIES', 'log_LATE_DELIVERIES',\n",
    "                          'log_LARGEST_ORDER_SIZE', 'log_MASTER_CLASSES_ATTENDED', 'log_MEDIAN_MEAL_RATING',\n",
    "                          'log_AVG_CLICKS_PER_VISIT', 'log_TOTAL_PHOTOS_VIEWED']  ].corr(method = 'pearson')\\\n",
    "                                                                                   .round(decimals = 2)\n",
    "\n",
    "log_corr.loc[ : , ['REVENUE', 'log_REVENUE']   ].sort_values(by = 'log_REVENUE', ascending = False)"
   ]
  },
  {
   "cell_type": "markdown",
   "metadata": {},
   "source": [
    "Based on the correlation above, there are strong correlation variables as follows:\n",
    "* TOTAL_MEALS_ORDERED\n",
    "* LARGEST_ORDER_SIZE\n",
    "* MASTER_CLASSES_ATTENDED\n",
    "* MEDIAN_MEAL_RATING\n",
    "* AVG_CLICKS_PER_VISIT\n",
    "* TOTAL_PHOTOS_VIEWED"
   ]
  },
  {
   "cell_type": "markdown",
   "metadata": {},
   "source": [
    "<hr style=\"height:.9px;border:none;color:#333;background-color:#333;\" /><br>\n",
    "<h3>Feature Engineering with Interval and Count variables</h3>"
   ]
  },
  {
   "cell_type": "markdown",
   "metadata": {},
   "source": [
    "<h4>Cancellations variables</h4>\n",
    "<h4>a) Printing value counts for Cancellation variables.</h4>"
   ]
  },
  {
   "cell_type": "code",
   "execution_count": 20,
   "metadata": {},
   "outputs": [
    {
     "name": "stdout",
     "output_type": "stream",
     "text": [
      "\n",
      "Count of Cancellation\n",
      "==================\n",
      "\n",
      "----------\n",
      "Before Noon\n",
      "----------\n",
      "0     667\n",
      "1     567\n",
      "2     331\n",
      "3     189\n",
      "4     105\n",
      "5      43\n",
      "6      23\n",
      "7      11\n",
      "8       7\n",
      "9       1\n",
      "10      1\n",
      "13      1\n",
      "Name: CANCELLATIONS_BEFORE_NOON, dtype: int64\n",
      "\n",
      "\n",
      "----------\n",
      "After Noon\n",
      "----------\n",
      "0    1667\n",
      "1     238\n",
      "2      38\n",
      "3       3\n",
      "Name: CANCELLATIONS_AFTER_NOON, dtype: int64\n",
      "\n",
      "\n",
      "\n"
     ]
    }
   ],
   "source": [
    "print(f\"\"\"\n",
    "Count of Cancellation\n",
    "==================\n",
    "\n",
    "----------\n",
    "Before Noon\n",
    "----------\n",
    "{chef['CANCELLATIONS_BEFORE_NOON'].value_counts(normalize = False).sort_index()}\n",
    "\n",
    "\n",
    "----------\n",
    "After Noon\n",
    "----------\n",
    "{chef['CANCELLATIONS_AFTER_NOON'].value_counts(normalize = False).sort_index()}\n",
    "\n",
    "\n",
    "\"\"\")"
   ]
  },
  {
   "cell_type": "markdown",
   "metadata": {},
   "source": [
    "<hr style=\"height:.9px;border:none;color:#333;background-color:#333;\" /><br>\n",
    "\n",
    "<strong>Combining Features</strong><br>\n",
    "<h4>b) Engineer a feature that represents total number of cancellations using the following calculation:</h4>\n",
    "<br>\n",
    "\n",
    "Total_Cancel = CANCELLATIONS_BEFORE_NOON + CANCELLATIONS_AFTER_NOON\n",
    "\n",
    "<br>"
   ]
  },
  {
   "cell_type": "code",
   "execution_count": 21,
   "metadata": {},
   "outputs": [
    {
     "data": {
      "image/png": "[encoded data removed]",
      "text/plain": [
       "<Figure size 1080x720 with 1 Axes>"
      ]
     },
     "metadata": {
      "needs_background": "light"
     },
     "output_type": "display_data"
    },
    {
     "name": "stdout",
     "output_type": "stream",
     "text": [
      "\n",
      "CANCELLATIONS\n",
      "=========\n",
      "\n",
      "-----------\n",
      "Total number of cancellations\n",
      "-----------\n",
      "0     572\n",
      "1     583\n",
      "2     336\n",
      "3     224\n",
      "4     121\n",
      "5      58\n",
      "6      28\n",
      "7      12\n",
      "8       9\n",
      "9       1\n",
      "10      1\n",
      "13      1\n",
      "Name: Total_Cancel, dtype: int64\n",
      "\n",
      "\n",
      "---------------------\n",
      "Cancellations Correlations\n",
      "---------------------\n",
      "CANCELLATIONS_BEFORE_NOON    0.01\n",
      "CANCELLATIONS_AFTER_NOON    -0.04\n",
      "Total_Cancel                 0.00\n",
      "REVENUE                      1.00\n",
      "Name: REVENUE, dtype: float64\n",
      "\n",
      "\n"
     ]
    }
   ],
   "source": [
    "# total number of cancellations\n",
    "chef['Total_Cancel'] = chef['CANCELLATIONS_BEFORE_NOON'] + chef['CANCELLATIONS_AFTER_NOON']\n",
    "\n",
    "\n",
    "# setting figure size\n",
    "fig, ax = plt.subplots(figsize = (15, 10))\n",
    "\n",
    "\n",
    "# developing a boxplot\n",
    "sns.boxplot(x    = 'Total_Cancel',\n",
    "            y    = 'REVENUE',\n",
    "            data = chef)\n",
    "\n",
    "\n",
    "\n",
    "# titles and labels\n",
    "plt.title(label   = 'Relationship between Total number of cancellations and Revenue')\n",
    "plt.xlabel(xlabel = 'Total number of cancellations')\n",
    "plt.ylabel(ylabel = 'Revenue')\n",
    "\n",
    "\n",
    "# displaying the plot\n",
    "plt.tight_layout\n",
    "plt.show()\n",
    "\n",
    "\n",
    "## the following code has been written for you ##\n",
    "\n",
    "# developing a correlation matrix\n",
    "cancel_corr = chef.loc[ : , ['CANCELLATIONS_BEFORE_NOON',\n",
    "                             'CANCELLATIONS_AFTER_NOON',\n",
    "                             'Total_Cancel',\n",
    "                             'REVENUE']  ].corr(method = 'pearson')\\\n",
    "                                              .round(decimals = 2)\n",
    "\n",
    "\n",
    "# printing value counts and correlations\n",
    "print(f\"\"\"\n",
    "CANCELLATIONS\n",
    "=========\n",
    "\n",
    "-----------\n",
    "Total number of cancellations\n",
    "-----------\n",
    "{chef['Total_Cancel'].value_counts(normalize = False).sort_index()}\n",
    "\n",
    "\n",
    "---------------------\n",
    "Cancellations Correlations\n",
    "---------------------\n",
    "{cancel_corr['REVENUE']}\n",
    "\n",
    "\"\"\")"
   ]
  },
  {
   "cell_type": "markdown",
   "metadata": {},
   "source": [
    "Correlation of new feature is relatively low. Therefore, I performed another engineering method as follows."
   ]
  },
  {
   "cell_type": "markdown",
   "metadata": {},
   "source": [
    "<hr style=\"height:.9px;border:none;color:#333;background-color:#333;\" /><br>\n",
    "\n",
    "<h4>c) Engineer a feature that represents customers who had cancel the orders at least once and who never cancel the orders.</h4>"
   ]
  },
  {
   "cell_type": "code",
   "execution_count": 22,
   "metadata": {},
   "outputs": [
    {
     "data": {
      "text/html": [
       "<div>\n",
       "<style scoped>\n",
       "    .dataframe tbody tr th:only-of-type {\n",
       "        vertical-align: middle;\n",
       "    }\n",
       "\n",
       "    .dataframe tbody tr th {\n",
       "        vertical-align: top;\n",
       "    }\n",
       "\n",
       "    .dataframe thead th {\n",
       "        text-align: right;\n",
       "    }\n",
       "</style>\n",
       "<table border=\"1\" class=\"dataframe\">\n",
       "  <thead>\n",
       "    <tr style=\"text-align: right;\">\n",
       "      <th></th>\n",
       "      <th>has_Cancel</th>\n",
       "    </tr>\n",
       "  </thead>\n",
       "  <tbody>\n",
       "    <tr>\n",
       "      <th>0</th>\n",
       "      <td>1</td>\n",
       "    </tr>\n",
       "    <tr>\n",
       "      <th>1</th>\n",
       "      <td>0</td>\n",
       "    </tr>\n",
       "    <tr>\n",
       "      <th>2</th>\n",
       "      <td>1</td>\n",
       "    </tr>\n",
       "    <tr>\n",
       "      <th>3</th>\n",
       "      <td>1</td>\n",
       "    </tr>\n",
       "    <tr>\n",
       "      <th>4</th>\n",
       "      <td>0</td>\n",
       "    </tr>\n",
       "  </tbody>\n",
       "</table>\n",
       "</div>"
      ],
      "text/plain": [
       "   has_Cancel\n",
       "0           1\n",
       "1           0\n",
       "2           1\n",
       "3           1\n",
       "4           0"
      ]
     },
     "execution_count": 22,
     "metadata": {},
     "output_type": "execute_result"
    }
   ],
   "source": [
    "# create dummy variable \n",
    "chef['has_Cancel']   = 0\n",
    "\n",
    "\n",
    "# iterating over each value \n",
    "for index, value in chef.iterrows():\n",
    "    \n",
    "    if chef.loc[index, 'Total_Cancel'] > 0:\n",
    "        chef.loc[index, 'has_Cancel'] = 1\n",
    "        \n",
    "# checking results\n",
    "chef[['has_Cancel']].head(5)\n"
   ]
  },
  {
   "cell_type": "markdown",
   "metadata": {},
   "source": [
    "<hr style=\"height:.9px;border:none;color:#333;background-color:#333;\" /><br>\n",
    "\n",
    "Check the correlations of this new feature with revenue."
   ]
  },
  {
   "cell_type": "code",
   "execution_count": 23,
   "metadata": {},
   "outputs": [
    {
     "data": {
      "text/plain": [
       "has_Cancel    0.01\n",
       "Name: REVENUE, dtype: float64"
      ]
     },
     "execution_count": 23,
     "metadata": {},
     "output_type": "execute_result"
    }
   ],
   "source": [
    "# developing a small correlation matrix\n",
    "has_cancel_corr = chef.corr().round(decimals = 2)\n",
    "\n",
    "\n",
    "# checking the correlations of the newly-created variables with Sale_Price\n",
    "has_cancel_corr.loc['REVENUE',                                   # Y-variable\n",
    "                   ['has_Cancel']] \\\n",
    "                    .sort_values(ascending = False)"
   ]
  },
  {
   "cell_type": "markdown",
   "metadata": {},
   "source": [
    "Correlation of this new feature is still relatively low."
   ]
  },
  {
   "cell_type": "markdown",
   "metadata": {},
   "source": [
    "<hr style=\"height:.9px;border:none;color:#333;background-color:#333;\" /><br>\n",
    "<h4>CONTACTS_W_CUSTOMER_SERVICE variables</h4>\n",
    "<h4>a) Creating boxplots to visualize relationships between x and y variables and analyze whether feature engineering is needed.</h4>"
   ]
  },
  {
   "cell_type": "code",
   "execution_count": 24,
   "metadata": {},
   "outputs": [
    {
     "data": {
      "image/png": "[encoded data removed]",
      "text/plain": [
       "<Figure size 1080x720 with 4 Axes>"
      ]
     },
     "metadata": {
      "needs_background": "light"
     },
     "output_type": "display_data"
    }
   ],
   "source": [
    "## comparing log transformation results ##\n",
    "\n",
    "# setting figure size\n",
    "fig, ax = plt.subplots(figsize = (15, 10))\n",
    "\n",
    "\n",
    "## Plot 1: Original X, Original Y ##\n",
    "plt.subplot(2, 2, 1)\n",
    "\n",
    "sns.boxplot(x     = 'CONTACTS_W_CUSTOMER_SERVICE',\n",
    "            y     = 'REVENUE',\n",
    "            data  = chef)\n",
    "\n",
    "\n",
    "# titles and labels\n",
    "plt.title(label   = 'Original X, Original Y')\n",
    "plt.xlabel(xlabel = 'CONTACTS_W_CUSTOMER_SERVICE')\n",
    "plt.ylabel(ylabel = 'REVENUE')\n",
    "\n",
    "\n",
    "\n",
    "## Plot 2: Log X, Original Y ##\n",
    "plt.subplot(2, 2, 2)\n",
    "sns.boxplot(x     = 'log_CONTACTS_W_CUSTOMER_SERVICE',\n",
    "            y     = 'REVENUE',\n",
    "            data  = chef)\n",
    "\n",
    "\n",
    "# titles and labels\n",
    "plt.title(label   = 'Log X, Original Y')\n",
    "plt.xlabel(xlabel = 'CONTACTS_W_CUSTOMER_SERVICE')\n",
    "plt.ylabel(ylabel = 'REVENUE')\n",
    "\n",
    "\n",
    "## Plot 3: Original X, Log Y ##\n",
    "plt.subplot(2, 2, 3)\n",
    "sns.boxplot(x     = 'CONTACTS_W_CUSTOMER_SERVICE',\n",
    "            y     = 'log_REVENUE',\n",
    "            data  = chef)\n",
    "\n",
    "\n",
    "# titles and labels\n",
    "plt.title(label   = 'Original X, Log Y')\n",
    "plt.xlabel(xlabel = 'CONTACTS_W_CUSTOMER_SERVICE')\n",
    "plt.ylabel(ylabel = 'REVENUE')\n",
    "\n",
    "\n",
    "## Plot 1: Log X, Log Y ##\n",
    "plt.subplot(2, 2, 4)\n",
    "sns.boxplot(x     = np.log10(chef['CONTACTS_W_CUSTOMER_SERVICE']),\n",
    "            y     = np.log10(chef['REVENUE']),\n",
    "            data  = chef)\n",
    "\n",
    "\n",
    "# titles and labels\n",
    "plt.title(label   = 'Log X, Log Y')\n",
    "plt.xlabel(xlabel = 'CONTACTS_W_CUSTOMER_SERVICE')\n",
    "plt.ylabel(ylabel = 'REVENUE')\n",
    "\n",
    "\n",
    "## displaying the visuals ##\n",
    "plt.tight_layout()\n",
    "plt.show()\n",
    "\n"
   ]
  },
  {
   "cell_type": "markdown",
   "metadata": {},
   "source": [
    "As shown in boxplots, no feature engineering needed and log transformed of both x and y variables seem to work well with this relationship."
   ]
  },
  {
   "cell_type": "markdown",
   "metadata": {},
   "source": [
    "<hr style=\"height:.9px;border:none;color:#333;background-color:#333;\" /><br>\n",
    "\n",
    "<h4>Count variables with Zeros value</h4>\n",
    "<h4>a) Use subsetting to check the value counts for all variables that appear to have zero values.  </h4>"
   ]
  },
  {
   "cell_type": "code",
   "execution_count": 25,
   "metadata": {},
   "outputs": [
    {
     "name": "stdout",
     "output_type": "stream",
     "text": [
      "\n",
      "                            No\t\tYes\n",
      "                       ---------------------\n",
      "Moblie logins         | 16\t\t1930\n",
      "Weekly plan           | 468\t\t1478\n",
      "Early deliveries      | 1167\t\t779\n",
      "Late deliveries       | 319\t\t1627\n",
      "Master class attened  | 932\t\t1014\n",
      "Total photos viewed   | 1140\t\t806\n",
      "\n",
      "\n"
     ]
    }
   ],
   "source": [
    "# counting the number \n",
    "MOBILE_LOGINS_zeros             = len(chef['MOBILE_LOGINS'][chef['MOBILE_LOGINS'] == 0])\n",
    "WEEKLY_PLAN_zeros               = len(chef['WEEKLY_PLAN'][chef['WEEKLY_PLAN'] == 0])\n",
    "EARLY_DELIVERIES_zeros          = len(chef['EARLY_DELIVERIES'][chef['EARLY_DELIVERIES'] == 0])\n",
    "LATE_DELIVERIES_zeros           = len(chef['LATE_DELIVERIES'][chef['LATE_DELIVERIES'] == 0])\n",
    "MASTER_CLASSES_ATTENDED_zeros   = len(chef['MASTER_CLASSES_ATTENDED'][chef['MASTER_CLASSES_ATTENDED'] == 0])\n",
    "TOTAL_PHOTOS_VIEWED_zeros       = len(chef['TOTAL_PHOTOS_VIEWED'][chef['TOTAL_PHOTOS_VIEWED'] == 0])\n",
    "\n",
    "\n",
    "# printing a table of the results\n",
    "print(f\"\"\"\n",
    "                            No\\t\\tYes\n",
    "                       ---------------------\n",
    "Moblie logins         | {MOBILE_LOGINS_zeros }\\t\\t{len(chef) - MOBILE_LOGINS_zeros }\n",
    "Weekly plan           | {WEEKLY_PLAN_zeros }\\t\\t{len(chef) - WEEKLY_PLAN_zeros }\n",
    "Early deliveries      | {EARLY_DELIVERIES_zeros}\\t\\t{len(chef) - EARLY_DELIVERIES_zeros }\n",
    "Late deliveries       | {LATE_DELIVERIES_zeros }\\t\\t{len(chef) - LATE_DELIVERIES_zeros }\n",
    "Master class attened  | {MASTER_CLASSES_ATTENDED_zeros }\\t\\t{len(chef) - MASTER_CLASSES_ATTENDED_zeros }\n",
    "Total photos viewed   | {TOTAL_PHOTOS_VIEWED_zeros }\\t\\t{len(chef) - TOTAL_PHOTOS_VIEWED_zeros }\n",
    "\n",
    "\"\"\")"
   ]
  },
  {
   "cell_type": "markdown",
   "metadata": {},
   "source": [
    "<hr style=\"height:.9px;border:none;color:#333;background-color:#333;\" /><br>\n",
    "\n",
    "<h4>b) Engineer flag features for all variables that have at least 100 observations in both the 'yes' and 'no' columns.  </h4>"
   ]
  },
  {
   "cell_type": "code",
   "execution_count": 26,
   "metadata": {},
   "outputs": [],
   "source": [
    "# create dummy variable \n",
    "chef['REG_WEEKLY_PLAN']        = 0\n",
    "chef['YES_EARLY_DELIVERIES']   = 0\n",
    "chef['YES_LATE_DELIVERIES']    = 0\n",
    "chef['ATTEND_MASTER_CLASSES']  = 0\n",
    "chef['YES_PHOTOS_VIEWED']      = 0\n",
    "\n",
    "# iterating over each original column to change values in the new feature columns\n",
    "for index, value in chef.iterrows():\n",
    "    \n",
    "    if chef.loc[index, 'WEEKLY_PLAN'] > 0:\n",
    "        chef.loc[index, 'REG_WEEKLY_PLAN'] = 1\n",
    "        \n",
    "    if chef.loc[index, 'EARLY_DELIVERIES'] > 0:\n",
    "        chef.loc[index, 'YES_EARLY_DELIVERIES'] = 1\n",
    "        \n",
    "    if chef.loc[index, 'LATE_DELIVERIES'] > 0:\n",
    "        chef.loc[index, 'YES_LATE_DELIVERIES'] = 1        \n",
    "\n",
    "    if chef.loc[index, 'MASTER_CLASSES_ATTENDED'] > 0:\n",
    "        chef.loc[index, 'ATTEND_MASTER_CLASSES'] = 1\n",
    "        \n",
    "    if chef.loc[index, 'TOTAL_PHOTOS_VIEWED'] > 0:\n",
    "        chef.loc[index, 'YES_PHOTOS_VIEWED'] = 1\n",
    "        "
   ]
  },
  {
   "cell_type": "code",
   "execution_count": 27,
   "metadata": {},
   "outputs": [
    {
     "data": {
      "text/plain": [
       "ATTEND_MASTER_CLASSES    0.453\n",
       "YES_PHOTOS_VIEWED        0.372\n",
       "YES_EARLY_DELIVERIES     0.013\n",
       "YES_LATE_DELIVERIES     -0.018\n",
       "REG_WEEKLY_PLAN         -0.032\n",
       "Name: REVENUE, dtype: float64"
      ]
     },
     "execution_count": 27,
     "metadata": {},
     "output_type": "execute_result"
    }
   ],
   "source": [
    "# developing a small correlation matrix\n",
    "zeroes_corr = chef.corr().round(decimals = 3)\n",
    "\n",
    "\n",
    "# checking the correlations of the newly-created variables with revenue\n",
    "zeroes_corr.loc['REVENUE',                                   # Y-variable\n",
    "               ['REG_WEEKLY_PLAN', \n",
    "                'YES_EARLY_DELIVERIES',\n",
    "                'YES_LATE_DELIVERIES',\n",
    "                'ATTEND_MASTER_CLASSES',\n",
    "                'YES_PHOTOS_VIEWED']] \\\n",
    "                .sort_values(ascending = False)"
   ]
  },
  {
   "cell_type": "markdown",
   "metadata": {},
   "source": [
    "<hr style=\"height:.9px;border:none;color:#333;background-color:#333;\" /><br>\n",
    "\n",
    "<h2>Part VI: Working with Categorical and Binary variables</h2>\n",
    "<h3>EMAIL variable</h3>\n",
    "<h4>a) Splitting email domain from email addresses</h4>"
   ]
  },
  {
   "cell_type": "code",
   "execution_count": 28,
   "metadata": {
    "scrolled": false
   },
   "outputs": [
    {
     "data": {
      "text/html": [
       "<div>\n",
       "<style scoped>\n",
       "    .dataframe tbody tr th:only-of-type {\n",
       "        vertical-align: middle;\n",
       "    }\n",
       "\n",
       "    .dataframe tbody tr th {\n",
       "        vertical-align: top;\n",
       "    }\n",
       "\n",
       "    .dataframe thead th {\n",
       "        text-align: right;\n",
       "    }\n",
       "</style>\n",
       "<table border=\"1\" class=\"dataframe\">\n",
       "  <thead>\n",
       "    <tr style=\"text-align: right;\">\n",
       "      <th></th>\n",
       "      <th>0</th>\n",
       "      <th>1</th>\n",
       "    </tr>\n",
       "  </thead>\n",
       "  <tbody>\n",
       "    <tr>\n",
       "      <th>0</th>\n",
       "      <td>saathos</td>\n",
       "      <td>unitedhealth.com</td>\n",
       "    </tr>\n",
       "    <tr>\n",
       "      <th>1</th>\n",
       "      <td>alysanne.osgrey</td>\n",
       "      <td>ge.org</td>\n",
       "    </tr>\n",
       "    <tr>\n",
       "      <th>2</th>\n",
       "      <td>edwyd.fossoway</td>\n",
       "      <td>jnj.com</td>\n",
       "    </tr>\n",
       "    <tr>\n",
       "      <th>3</th>\n",
       "      <td>eleyna.westerling</td>\n",
       "      <td>ge.org</td>\n",
       "    </tr>\n",
       "    <tr>\n",
       "      <th>4</th>\n",
       "      <td>elyn.norridge</td>\n",
       "      <td>jnj.com</td>\n",
       "    </tr>\n",
       "    <tr>\n",
       "      <th>...</th>\n",
       "      <td>...</td>\n",
       "      <td>...</td>\n",
       "    </tr>\n",
       "    <tr>\n",
       "      <th>1941</th>\n",
       "      <td>obara.sand</td>\n",
       "      <td>yahoo.com</td>\n",
       "    </tr>\n",
       "    <tr>\n",
       "      <th>1942</th>\n",
       "      <td>quentyn.blackwood</td>\n",
       "      <td>yahoo.com</td>\n",
       "    </tr>\n",
       "    <tr>\n",
       "      <th>1943</th>\n",
       "      <td>rhonda.rowan</td>\n",
       "      <td>gmail.com</td>\n",
       "    </tr>\n",
       "    <tr>\n",
       "      <th>1944</th>\n",
       "      <td>turnip</td>\n",
       "      <td>yahoo.com</td>\n",
       "    </tr>\n",
       "    <tr>\n",
       "      <th>1945</th>\n",
       "      <td>tommard.heddle</td>\n",
       "      <td>merck.com</td>\n",
       "    </tr>\n",
       "  </tbody>\n",
       "</table>\n",
       "<p>1946 rows × 2 columns</p>\n",
       "</div>"
      ],
      "text/plain": [
       "                      0                 1\n",
       "0               saathos  unitedhealth.com\n",
       "1       alysanne.osgrey            ge.org\n",
       "2        edwyd.fossoway           jnj.com\n",
       "3     eleyna.westerling            ge.org\n",
       "4         elyn.norridge           jnj.com\n",
       "...                 ...               ...\n",
       "1941         obara.sand         yahoo.com\n",
       "1942  quentyn.blackwood         yahoo.com\n",
       "1943       rhonda.rowan         gmail.com\n",
       "1944             turnip         yahoo.com\n",
       "1945     tommard.heddle         merck.com\n",
       "\n",
       "[1946 rows x 2 columns]"
      ]
     },
     "execution_count": 28,
     "metadata": {},
     "output_type": "execute_result"
    }
   ],
   "source": [
    "# placeholder list\n",
    "placeholder_lst = []\n",
    "\n",
    "# looping over each email address\n",
    "for index, col in chef.iterrows():\n",
    "    \n",
    "    # splitting email domain at '@'\n",
    "    split_email = chef.loc[index, 'EMAIL'].split(sep = '@')\n",
    "    \n",
    "    # appending placeholder_lst with the results\n",
    "    placeholder_lst.append(split_email)\n",
    "    \n",
    "\n",
    "# converting placeholder_lst into a DataFrame \n",
    "email_df = pd.DataFrame(placeholder_lst)\n",
    "\n",
    "\n",
    "# displaying the results\n",
    "email_df"
   ]
  },
  {
   "cell_type": "markdown",
   "metadata": {},
   "source": [
    "<hr style=\"height:.9px;border:none;color:#333;background-color:#333;\" /><br>\n",
    "\n",
    "<h4>b) Concatenate the email domains as a new column in the dataset.</h4>"
   ]
  },
  {
   "cell_type": "code",
   "execution_count": 29,
   "metadata": {},
   "outputs": [
    {
     "data": {
      "text/plain": [
       "gmail.com           303\n",
       "protonmail.com      284\n",
       "yahoo.com           274\n",
       "msn.com              72\n",
       "aol.com              69\n",
       "passport.com         64\n",
       "hotmail.com          63\n",
       "live.com             62\n",
       "me.com               59\n",
       "amex.com             30\n",
       "cocacola.com         28\n",
       "jnj.com              28\n",
       "mcdonalds.com        28\n",
       "merck.com            28\n",
       "nike.com             27\n",
       "apple.com            27\n",
       "dupont.com           26\n",
       "ibm.com              26\n",
       "ge.org               26\n",
       "microsoft.com        25\n",
       "chevron.com          25\n",
       "exxon.com            24\n",
       "travelers.com        24\n",
       "unitedhealth.com     24\n",
       "boeing.com           23\n",
       "pg.com               22\n",
       "verizon.com          22\n",
       "mmm.com              22\n",
       "caterpillar.com      22\n",
       "disney.com           21\n",
       "walmart.com          21\n",
       "visa.com             20\n",
       "pfizer.com           20\n",
       "jpmorgan.com         19\n",
       "cisco.com            18\n",
       "goldmansacs.com      18\n",
       "unitedtech.com       18\n",
       "homedepot.com        17\n",
       "intel.com            17\n",
       "Name: email_domain, dtype: int64"
      ]
     },
     "execution_count": 29,
     "metadata": {},
     "output_type": "execute_result"
    }
   ],
   "source": [
    "# renaming column to concatenate\n",
    "email_df.columns = ['0' , 'email_domain']\n",
    "\n",
    "\n",
    "# concatenating email_domain with chef dataset\n",
    "chef = pd.concat([chef, email_df['email_domain']],\n",
    "                     axis = 1)\n",
    "\n",
    "\n",
    "# printing value counts of email_domain\n",
    "chef.loc[: ,'email_domain'].value_counts()\n"
   ]
  },
  {
   "cell_type": "markdown",
   "metadata": {},
   "source": [
    "<hr style=\"height:.9px;border:none;color:#333;background-color:#333;\" /><br>\n",
    "\n",
    "<h4>c) Aggregate the email domains into professional, personal, and junk groups.</h4>"
   ]
  },
  {
   "cell_type": "code",
   "execution_count": 30,
   "metadata": {
    "code_folding": []
   },
   "outputs": [
    {
     "data": {
      "text/plain": [
       "personal        861\n",
       "professional    696\n",
       "junk            389\n",
       "Name: domain_group, dtype: int64"
      ]
     },
     "execution_count": 30,
     "metadata": {},
     "output_type": "execute_result"
    }
   ],
   "source": [
    "# email domain types\n",
    "professional_email_domains = ['@mmm.com',\n",
    "                                '@amex.com',\n",
    "                                '@apple.com',\n",
    "                                '@boeing.com',\n",
    "                                '@caterpillar.com',\n",
    "                                '@chevron.com',\n",
    "                                '@cisco.com',\n",
    "                                '@cocacola.com',\n",
    "                                '@disney.com',\n",
    "                                '@dupont.com',\n",
    "                                '@exxon.com',\n",
    "                                '@ge.org',\n",
    "                                '@goldmansacs.com',\n",
    "                                '@homedepot.com',\n",
    "                                '@ibm.com',\n",
    "                                '@intel.com',\n",
    "                                '@jnj.com',\n",
    "                                '@jpmorgan.com',\n",
    "                                '@mcdonalds.com',\n",
    "                                '@merck.com',\n",
    "                                '@microsoft.com',\n",
    "                                '@nike.com',\n",
    "                                '@pfizer.com',\n",
    "                                '@pg.com',\n",
    "                                '@travelers.com',\n",
    "                                '@unitedtech.com',\n",
    "                                '@unitedhealth.com',\n",
    "                                '@verizon.com',\n",
    "                                '@visa.com',\n",
    "                                '@walmart.com']\n",
    "personal_email_domains = ['@gmail.com',\n",
    "                            '@yahoo.com',\n",
    "                            '@protonmail.com']\n",
    "junk_email_domains  = ['@me.com',\n",
    "                        '@aol.com',\n",
    "                        '@hotmail.com',\n",
    "                        '@live.com',\n",
    "                        '@msn.com',\n",
    "                        '@passport.com']\n",
    "\n",
    "\n",
    "# placeholder list\n",
    "placeholder_lst = []\n",
    "\n",
    "\n",
    "# looping to group observations by domain type\n",
    "for domain in chef['email_domain']:\n",
    "        if '@' + domain in professional_email_domains:\n",
    "            placeholder_lst.append('professional')\n",
    "            \n",
    "        elif '@' + domain in personal_email_domains:\n",
    "            placeholder_lst.append('personal')\n",
    "            \n",
    "        elif '@' + domain in junk_email_domains:\n",
    "            placeholder_lst.append('junk')\n",
    "            \n",
    "        else:\n",
    "            print('Unknown')\n",
    "\n",
    "\n",
    "# concatenating with original DataFrame\n",
    "chef['domain_group'] = pd.Series(placeholder_lst)\n",
    "\n",
    "\n",
    "# checking results\n",
    "chef['domain_group'].value_counts()"
   ]
  },
  {
   "cell_type": "markdown",
   "metadata": {},
   "source": [
    "<hr style=\"height:.9px;border:none;color:#333;background-color:#333;\" /><br>\n",
    "\n",
    "<h3>Other variables</h3>\n",
    "<h4>a) Print the value counts for each variable that was binary.</h4>"
   ]
  },
  {
   "cell_type": "code",
   "execution_count": 31,
   "metadata": {},
   "outputs": [
    {
     "name": "stdout",
     "output_type": "stream",
     "text": [
      "\n",
      "Success of the cross-sell promotion\n",
      "----------\n",
      "1    1321\n",
      "0     625\n",
      "Name: CROSS_SELL_SUCCESS, dtype: int64\n",
      "\n",
      "\n",
      "The registered phone number\n",
      "----------\n",
      "1    1708\n",
      "0     238\n",
      "Name: MOBILE_NUMBER, dtype: int64\n",
      "\n",
      "\n",
      "Tastes and preferences\n",
      "----------\n",
      "1    1390\n",
      "0     556\n",
      "Name: TASTES_AND_PREFERENCES, dtype: int64\n",
      "\n",
      "\n",
      "A package locker service \n",
      "----------\n",
      "0    1255\n",
      "1     691\n",
      "Name: PACKAGE_LOCKER, dtype: int64\n",
      "\n",
      "\n",
      "A refrigerated compartments in a package locker\n",
      "----------\n",
      "0    1726\n",
      "1     220\n",
      "Name: REFRIGERATED_LOCKER, dtype: int64\n",
      "\n"
     ]
    }
   ],
   "source": [
    "# printing columns\n",
    "print(f\"\"\"\n",
    "Success of the cross-sell promotion\n",
    "----------\n",
    "{chef['CROSS_SELL_SUCCESS'].value_counts()}\n",
    "\n",
    "\n",
    "The registered phone number\n",
    "----------\n",
    "{chef['MOBILE_NUMBER'].value_counts()}\n",
    "\n",
    "\n",
    "Tastes and preferences\n",
    "----------\n",
    "{chef['TASTES_AND_PREFERENCES'].value_counts()}\n",
    "\n",
    "\n",
    "A package locker service \n",
    "----------\n",
    "{chef['PACKAGE_LOCKER'].value_counts()}\n",
    "\n",
    "\n",
    "A refrigerated compartments in a package locker\n",
    "----------\n",
    "{chef['REFRIGERATED_LOCKER'].value_counts()}\n",
    "\"\"\")\n"
   ]
  },
  {
   "cell_type": "markdown",
   "metadata": {},
   "source": [
    "<hr style=\"height:.9px;border:none;color:#333;background-color:#333;\" /><br>\n",
    "<h4>b) Develop boxplots on categorical and binary features including:</h4>\n",
    "    \n",
    "* CROSS_SELL_SUCCESS\n",
    "* MOBILE_NUMBER\n",
    "* TASTES_AND_PREFERENCES\n",
    "* PACKAGE_LOCKER\n",
    "* REFRIGERATED_LOCKER\n",
    "* domain_group"
   ]
  },
  {
   "cell_type": "code",
   "execution_count": 32,
   "metadata": {},
   "outputs": [],
   "source": [
    "# defining a function for categorical boxplots\n",
    "def categorical_boxplots(cat_var, response, data):\n",
    "    fig, ax = plt.subplots(figsize = (6, 4))     # setting figure size\n",
    "    # developing a scatterplot\n",
    "    sns.boxplot(x    = cat_var,\n",
    "                y    = response,\n",
    "                data = data)\n",
    "    plt.suptitle(\"\")\n",
    "    plt.show()"
   ]
  },
  {
   "cell_type": "code",
   "execution_count": 33,
   "metadata": {
    "scrolled": false
   },
   "outputs": [
    {
     "data": {
      "image/png": "[encoded data removed]",
      "text/plain": [
       "<Figure size 432x288 with 1 Axes>"
      ]
     },
     "metadata": {
      "needs_background": "light"
     },
     "output_type": "display_data"
    },
    {
     "data": {
      "image/png": "[encoded data removed]",
      "text/plain": [
       "<Figure size 432x288 with 1 Axes>"
      ]
     },
     "metadata": {
      "needs_background": "light"
     },
     "output_type": "display_data"
    },
    {
     "data": {
      "image/png": "[encoded data removed]",
      "text/plain": [
       "<Figure size 432x288 with 1 Axes>"
      ]
     },
     "metadata": {
      "needs_background": "light"
     },
     "output_type": "display_data"
    },
    {
     "data": {
      "image/png": "[encoded data removed]",
      "text/plain": [
       "<Figure size 432x288 with 1 Axes>"
      ]
     },
     "metadata": {
      "needs_background": "light"
     },
     "output_type": "display_data"
    },
    {
     "data": {
      "image/png": "[encoded data removed]",
      "text/plain": [
       "<Figure size 432x288 with 1 Axes>"
      ]
     },
     "metadata": {
      "needs_background": "light"
     },
     "output_type": "display_data"
    },
    {
     "data": {
      "image/png": "[encoded data removed]",
      "text/plain": [
       "<Figure size 432x288 with 1 Axes>"
      ]
     },
     "metadata": {
      "needs_background": "light"
     },
     "output_type": "display_data"
    }
   ],
   "source": [
    "# calling the function for each categorical variable\n",
    "\n",
    "# CROSS_SELL_SUCCESS\n",
    "categorical_boxplots(response = 'REVENUE',\n",
    "\t\t\t\t\t cat_var  = 'CROSS_SELL_SUCCESS',\n",
    "\t\t\t\t\t data     = chef)\n",
    "\n",
    "# MOBILE_NUMBER\n",
    "categorical_boxplots(response = 'REVENUE',\n",
    "\t\t\t\t\t cat_var  = 'MOBILE_NUMBER',\n",
    "\t\t\t\t\t data     = chef)\n",
    "\n",
    "# TASTES_AND_PREFERENCES\n",
    "categorical_boxplots(response = 'REVENUE',\n",
    "\t\t\t\t\t cat_var  = 'TASTES_AND_PREFERENCES',\n",
    "\t\t\t\t\t data     = chef)\n",
    "\n",
    "# PACKAGE_LOCKER\n",
    "categorical_boxplots(response = 'REVENUE',\n",
    "\t\t\t\t\t cat_var  = 'PACKAGE_LOCKER',\n",
    "\t\t\t\t\t data     = chef)\n",
    "\n",
    "# REFRIGERATED_LOCKER\n",
    "categorical_boxplots(response = 'REVENUE',\n",
    "\t\t\t\t\t cat_var  = 'REFRIGERATED_LOCKER',\n",
    "\t\t\t\t\t data     = chef)\n",
    "\n",
    "# domain_group\n",
    "categorical_boxplots(response = 'REVENUE',\n",
    "\t\t\t\t\t cat_var  = 'domain_group',\n",
    "\t\t\t\t\t data     = chef)"
   ]
  },
  {
   "cell_type": "markdown",
   "metadata": {},
   "source": [
    "<h4>c) One hot encode domain_group variable using get_dummies.</h4>"
   ]
  },
  {
   "cell_type": "code",
   "execution_count": 34,
   "metadata": {},
   "outputs": [
    {
     "data": {
      "text/plain": [
       "Index(['REVENUE', 'CROSS_SELL_SUCCESS', 'NAME', 'EMAIL', 'FIRST_NAME', 'FAMILY_NAME', 'TOTAL_MEALS_ORDERED', 'UNIQUE_MEALS_PURCH', 'CONTACTS_W_CUSTOMER_SERVICE', 'PRODUCT_CATEGORIES_VIEWED', 'AVG_TIME_PER_SITE_VISIT', 'MOBILE_NUMBER', 'CANCELLATIONS_BEFORE_NOON', 'CANCELLATIONS_AFTER_NOON', 'TASTES_AND_PREFERENCES', 'PC_LOGINS', 'MOBILE_LOGINS', 'WEEKLY_PLAN', 'EARLY_DELIVERIES', 'LATE_DELIVERIES', 'PACKAGE_LOCKER', 'REFRIGERATED_LOCKER', 'AVG_PREP_VID_TIME', 'LARGEST_ORDER_SIZE', 'MASTER_CLASSES_ATTENDED', 'MEDIAN_MEAL_RATING', 'AVG_CLICKS_PER_VISIT', 'TOTAL_PHOTOS_VIEWED', 'm_FAMILY_NAME', 'log_REVENUE', 'log_AVG_TIME_PER_SITE_VISIT', 'log_AVG_PREP_VID_TIME', 'log_TOTAL_MEALS_ORDERED', 'log_UNIQUE_MEALS_PURCH', 'log_CONTACTS_W_CUSTOMER_SERVICE', 'log_PRODUCT_CATEGORIES_VIEWED', 'log_CANCELLATIONS_BEFORE_NOON', 'log_CANCELLATIONS_AFTER_NOON', 'log_PC_LOGINS', 'log_MOBILE_LOGINS', 'log_WEEKLY_PLAN', 'log_EARLY_DELIVERIES', 'log_LATE_DELIVERIES', 'log_LARGEST_ORDER_SIZE',\n",
       "       'log_MASTER_CLASSES_ATTENDED', 'log_MEDIAN_MEAL_RATING', 'log_AVG_CLICKS_PER_VISIT', 'log_TOTAL_PHOTOS_VIEWED', 'Total_Cancel', 'has_Cancel', 'REG_WEEKLY_PLAN', 'YES_EARLY_DELIVERIES', 'YES_LATE_DELIVERIES', 'ATTEND_MASTER_CLASSES', 'YES_PHOTOS_VIEWED', 'email_domain', 'junk', 'personal', 'professional'],\n",
       "      dtype='object')"
      ]
     },
     "execution_count": 34,
     "metadata": {},
     "output_type": "execute_result"
    }
   ],
   "source": [
    "# one hot encoding domain_group variables\n",
    "one_hot_domain_group       = pd.get_dummies(chef['domain_group'])\n",
    "\n",
    "# dropping categorical variables after they've been encoded\n",
    "chef = chef.drop('domain_group', axis = 1)\n",
    "\n",
    "\n",
    "# joining codings together\n",
    "chef = chef.join([one_hot_domain_group])\n",
    "\n",
    "\n",
    "# saving new columns\n",
    "new_columns = chef.columns\n",
    "\n",
    "# check data\n",
    "chef.columns"
   ]
  },
  {
   "cell_type": "markdown",
   "metadata": {},
   "source": [
    "<hr style=\"height:.9px;border:none;color:#333;background-color:#333;\" /><br>\n",
    "\n",
    "\n",
    "<h2>Part VII: Building Predictive Models</h2>\n",
    "<h4>a) Analyze Pearson correlations with the Y-variable.</h4>"
   ]
  },
  {
   "cell_type": "code",
   "execution_count": 35,
   "metadata": {},
   "outputs": [
    {
     "data": {
      "text/html": [
       "<div>\n",
       "<style scoped>\n",
       "    .dataframe tbody tr th:only-of-type {\n",
       "        vertical-align: middle;\n",
       "    }\n",
       "\n",
       "    .dataframe tbody tr th {\n",
       "        vertical-align: top;\n",
       "    }\n",
       "\n",
       "    .dataframe thead th {\n",
       "        text-align: right;\n",
       "    }\n",
       "</style>\n",
       "<table border=\"1\" class=\"dataframe\">\n",
       "  <thead>\n",
       "    <tr style=\"text-align: right;\">\n",
       "      <th></th>\n",
       "      <th>REVENUE</th>\n",
       "      <th>log_REVENUE</th>\n",
       "    </tr>\n",
       "  </thead>\n",
       "  <tbody>\n",
       "    <tr>\n",
       "      <th>log_REVENUE</th>\n",
       "      <td>0.95</td>\n",
       "      <td>1.00</td>\n",
       "    </tr>\n",
       "    <tr>\n",
       "      <th>REVENUE</th>\n",
       "      <td>1.00</td>\n",
       "      <td>0.95</td>\n",
       "    </tr>\n",
       "    <tr>\n",
       "      <th>log_TOTAL_MEALS_ORDERED</th>\n",
       "      <td>0.61</td>\n",
       "      <td>0.69</td>\n",
       "    </tr>\n",
       "    <tr>\n",
       "      <th>log_AVG_PREP_VID_TIME</th>\n",
       "      <td>0.63</td>\n",
       "      <td>0.67</td>\n",
       "    </tr>\n",
       "    <tr>\n",
       "      <th>AVG_PREP_VID_TIME</th>\n",
       "      <td>0.64</td>\n",
       "      <td>0.65</td>\n",
       "    </tr>\n",
       "    <tr>\n",
       "      <th>MEDIAN_MEAL_RATING</th>\n",
       "      <td>0.61</td>\n",
       "      <td>0.65</td>\n",
       "    </tr>\n",
       "    <tr>\n",
       "      <th>log_MEDIAN_MEAL_RATING</th>\n",
       "      <td>0.57</td>\n",
       "      <td>0.63</td>\n",
       "    </tr>\n",
       "    <tr>\n",
       "      <th>TOTAL_MEALS_ORDERED</th>\n",
       "      <td>0.60</td>\n",
       "      <td>0.61</td>\n",
       "    </tr>\n",
       "    <tr>\n",
       "      <th>log_MASTER_CLASSES_ATTENDED</th>\n",
       "      <td>0.46</td>\n",
       "      <td>0.49</td>\n",
       "    </tr>\n",
       "    <tr>\n",
       "      <th>ATTEND_MASTER_CLASSES</th>\n",
       "      <td>0.45</td>\n",
       "      <td>0.48</td>\n",
       "    </tr>\n",
       "    <tr>\n",
       "      <th>MASTER_CLASSES_ATTENDED</th>\n",
       "      <td>0.45</td>\n",
       "      <td>0.47</td>\n",
       "    </tr>\n",
       "    <tr>\n",
       "      <th>log_LARGEST_ORDER_SIZE</th>\n",
       "      <td>0.42</td>\n",
       "      <td>0.45</td>\n",
       "    </tr>\n",
       "    <tr>\n",
       "      <th>LARGEST_ORDER_SIZE</th>\n",
       "      <td>0.44</td>\n",
       "      <td>0.45</td>\n",
       "    </tr>\n",
       "    <tr>\n",
       "      <th>log_TOTAL_PHOTOS_VIEWED</th>\n",
       "      <td>0.42</td>\n",
       "      <td>0.43</td>\n",
       "    </tr>\n",
       "    <tr>\n",
       "      <th>TOTAL_PHOTOS_VIEWED</th>\n",
       "      <td>0.47</td>\n",
       "      <td>0.43</td>\n",
       "    </tr>\n",
       "    <tr>\n",
       "      <th>YES_PHOTOS_VIEWED</th>\n",
       "      <td>0.37</td>\n",
       "      <td>0.39</td>\n",
       "    </tr>\n",
       "    <tr>\n",
       "      <th>log_AVG_TIME_PER_SITE_VISIT</th>\n",
       "      <td>0.15</td>\n",
       "      <td>0.15</td>\n",
       "    </tr>\n",
       "    <tr>\n",
       "      <th>AVG_TIME_PER_SITE_VISIT</th>\n",
       "      <td>0.14</td>\n",
       "      <td>0.14</td>\n",
       "    </tr>\n",
       "    <tr>\n",
       "      <th>MOBILE_NUMBER</th>\n",
       "      <td>0.03</td>\n",
       "      <td>0.04</td>\n",
       "    </tr>\n",
       "    <tr>\n",
       "      <th>PRODUCT_CATEGORIES_VIEWED</th>\n",
       "      <td>0.03</td>\n",
       "      <td>0.04</td>\n",
       "    </tr>\n",
       "    <tr>\n",
       "      <th>log_CONTACTS_W_CUSTOMER_SERVICE</th>\n",
       "      <td>0.16</td>\n",
       "      <td>0.04</td>\n",
       "    </tr>\n",
       "    <tr>\n",
       "      <th>WEEKLY_PLAN</th>\n",
       "      <td>0.01</td>\n",
       "      <td>0.01</td>\n",
       "    </tr>\n",
       "    <tr>\n",
       "      <th>log_CANCELLATIONS_BEFORE_NOON</th>\n",
       "      <td>0.02</td>\n",
       "      <td>0.01</td>\n",
       "    </tr>\n",
       "    <tr>\n",
       "      <th>has_Cancel</th>\n",
       "      <td>0.01</td>\n",
       "      <td>0.01</td>\n",
       "    </tr>\n",
       "    <tr>\n",
       "      <th>PC_LOGINS</th>\n",
       "      <td>0.02</td>\n",
       "      <td>0.01</td>\n",
       "    </tr>\n",
       "    <tr>\n",
       "      <th>TASTES_AND_PREFERENCES</th>\n",
       "      <td>0.01</td>\n",
       "      <td>0.01</td>\n",
       "    </tr>\n",
       "    <tr>\n",
       "      <th>personal</th>\n",
       "      <td>0.01</td>\n",
       "      <td>0.01</td>\n",
       "    </tr>\n",
       "    <tr>\n",
       "      <th>CANCELLATIONS_BEFORE_NOON</th>\n",
       "      <td>0.01</td>\n",
       "      <td>0.01</td>\n",
       "    </tr>\n",
       "    <tr>\n",
       "      <th>log_PC_LOGINS</th>\n",
       "      <td>0.01</td>\n",
       "      <td>0.01</td>\n",
       "    </tr>\n",
       "    <tr>\n",
       "      <th>CROSS_SELL_SUCCESS</th>\n",
       "      <td>0.00</td>\n",
       "      <td>0.01</td>\n",
       "    </tr>\n",
       "    <tr>\n",
       "      <th>log_PRODUCT_CATEGORIES_VIEWED</th>\n",
       "      <td>0.01</td>\n",
       "      <td>0.01</td>\n",
       "    </tr>\n",
       "    <tr>\n",
       "      <th>Total_Cancel</th>\n",
       "      <td>0.00</td>\n",
       "      <td>-0.00</td>\n",
       "    </tr>\n",
       "    <tr>\n",
       "      <th>professional</th>\n",
       "      <td>0.01</td>\n",
       "      <td>0.00</td>\n",
       "    </tr>\n",
       "    <tr>\n",
       "      <th>YES_EARLY_DELIVERIES</th>\n",
       "      <td>0.01</td>\n",
       "      <td>0.00</td>\n",
       "    </tr>\n",
       "    <tr>\n",
       "      <th>m_FAMILY_NAME</th>\n",
       "      <td>-0.01</td>\n",
       "      <td>-0.01</td>\n",
       "    </tr>\n",
       "    <tr>\n",
       "      <th>log_MOBILE_LOGINS</th>\n",
       "      <td>-0.02</td>\n",
       "      <td>-0.01</td>\n",
       "    </tr>\n",
       "    <tr>\n",
       "      <th>log_WEEKLY_PLAN</th>\n",
       "      <td>-0.01</td>\n",
       "      <td>-0.01</td>\n",
       "    </tr>\n",
       "    <tr>\n",
       "      <th>log_EARLY_DELIVERIES</th>\n",
       "      <td>0.00</td>\n",
       "      <td>-0.01</td>\n",
       "    </tr>\n",
       "    <tr>\n",
       "      <th>REFRIGERATED_LOCKER</th>\n",
       "      <td>-0.00</td>\n",
       "      <td>-0.01</td>\n",
       "    </tr>\n",
       "    <tr>\n",
       "      <th>EARLY_DELIVERIES</th>\n",
       "      <td>-0.00</td>\n",
       "      <td>-0.01</td>\n",
       "    </tr>\n",
       "    <tr>\n",
       "      <th>MOBILE_LOGINS</th>\n",
       "      <td>-0.02</td>\n",
       "      <td>-0.01</td>\n",
       "    </tr>\n",
       "    <tr>\n",
       "      <th>log_LATE_DELIVERIES</th>\n",
       "      <td>-0.00</td>\n",
       "      <td>-0.02</td>\n",
       "    </tr>\n",
       "    <tr>\n",
       "      <th>junk</th>\n",
       "      <td>-0.02</td>\n",
       "      <td>-0.02</td>\n",
       "    </tr>\n",
       "    <tr>\n",
       "      <th>PACKAGE_LOCKER</th>\n",
       "      <td>-0.01</td>\n",
       "      <td>-0.02</td>\n",
       "    </tr>\n",
       "    <tr>\n",
       "      <th>YES_LATE_DELIVERIES</th>\n",
       "      <td>-0.02</td>\n",
       "      <td>-0.02</td>\n",
       "    </tr>\n",
       "    <tr>\n",
       "      <th>LATE_DELIVERIES</th>\n",
       "      <td>-0.01</td>\n",
       "      <td>-0.02</td>\n",
       "    </tr>\n",
       "    <tr>\n",
       "      <th>REG_WEEKLY_PLAN</th>\n",
       "      <td>-0.03</td>\n",
       "      <td>-0.03</td>\n",
       "    </tr>\n",
       "    <tr>\n",
       "      <th>CONTACTS_W_CUSTOMER_SERVICE</th>\n",
       "      <td>0.10</td>\n",
       "      <td>-0.04</td>\n",
       "    </tr>\n",
       "    <tr>\n",
       "      <th>log_CANCELLATIONS_AFTER_NOON</th>\n",
       "      <td>-0.04</td>\n",
       "      <td>-0.04</td>\n",
       "    </tr>\n",
       "    <tr>\n",
       "      <th>CANCELLATIONS_AFTER_NOON</th>\n",
       "      <td>-0.04</td>\n",
       "      <td>-0.04</td>\n",
       "    </tr>\n",
       "    <tr>\n",
       "      <th>UNIQUE_MEALS_PURCH</th>\n",
       "      <td>-0.06</td>\n",
       "      <td>-0.08</td>\n",
       "    </tr>\n",
       "    <tr>\n",
       "      <th>log_UNIQUE_MEALS_PURCH</th>\n",
       "      <td>-0.11</td>\n",
       "      <td>-0.12</td>\n",
       "    </tr>\n",
       "    <tr>\n",
       "      <th>log_AVG_CLICKS_PER_VISIT</th>\n",
       "      <td>-0.56</td>\n",
       "      <td>-0.58</td>\n",
       "    </tr>\n",
       "    <tr>\n",
       "      <th>AVG_CLICKS_PER_VISIT</th>\n",
       "      <td>-0.55</td>\n",
       "      <td>-0.58</td>\n",
       "    </tr>\n",
       "  </tbody>\n",
       "</table>\n",
       "</div>"
      ],
      "text/plain": [
       "                                 REVENUE  log_REVENUE\n",
       "log_REVENUE                         0.95         1.00\n",
       "REVENUE                             1.00         0.95\n",
       "log_TOTAL_MEALS_ORDERED             0.61         0.69\n",
       "log_AVG_PREP_VID_TIME               0.63         0.67\n",
       "AVG_PREP_VID_TIME                   0.64         0.65\n",
       "MEDIAN_MEAL_RATING                  0.61         0.65\n",
       "log_MEDIAN_MEAL_RATING              0.57         0.63\n",
       "TOTAL_MEALS_ORDERED                 0.60         0.61\n",
       "log_MASTER_CLASSES_ATTENDED         0.46         0.49\n",
       "ATTEND_MASTER_CLASSES               0.45         0.48\n",
       "MASTER_CLASSES_ATTENDED             0.45         0.47\n",
       "log_LARGEST_ORDER_SIZE              0.42         0.45\n",
       "LARGEST_ORDER_SIZE                  0.44         0.45\n",
       "log_TOTAL_PHOTOS_VIEWED             0.42         0.43\n",
       "TOTAL_PHOTOS_VIEWED                 0.47         0.43\n",
       "YES_PHOTOS_VIEWED                   0.37         0.39\n",
       "log_AVG_TIME_PER_SITE_VISIT         0.15         0.15\n",
       "AVG_TIME_PER_SITE_VISIT             0.14         0.14\n",
       "MOBILE_NUMBER                       0.03         0.04\n",
       "PRODUCT_CATEGORIES_VIEWED           0.03         0.04\n",
       "log_CONTACTS_W_CUSTOMER_SERVICE     0.16         0.04\n",
       "WEEKLY_PLAN                         0.01         0.01\n",
       "log_CANCELLATIONS_BEFORE_NOON       0.02         0.01\n",
       "has_Cancel                          0.01         0.01\n",
       "PC_LOGINS                           0.02         0.01\n",
       "TASTES_AND_PREFERENCES              0.01         0.01\n",
       "personal                            0.01         0.01\n",
       "CANCELLATIONS_BEFORE_NOON           0.01         0.01\n",
       "log_PC_LOGINS                       0.01         0.01\n",
       "CROSS_SELL_SUCCESS                  0.00         0.01\n",
       "log_PRODUCT_CATEGORIES_VIEWED       0.01         0.01\n",
       "Total_Cancel                        0.00        -0.00\n",
       "professional                        0.01         0.00\n",
       "YES_EARLY_DELIVERIES                0.01         0.00\n",
       "m_FAMILY_NAME                      -0.01        -0.01\n",
       "log_MOBILE_LOGINS                  -0.02        -0.01\n",
       "log_WEEKLY_PLAN                    -0.01        -0.01\n",
       "log_EARLY_DELIVERIES                0.00        -0.01\n",
       "REFRIGERATED_LOCKER                -0.00        -0.01\n",
       "EARLY_DELIVERIES                   -0.00        -0.01\n",
       "MOBILE_LOGINS                      -0.02        -0.01\n",
       "log_LATE_DELIVERIES                -0.00        -0.02\n",
       "junk                               -0.02        -0.02\n",
       "PACKAGE_LOCKER                     -0.01        -0.02\n",
       "YES_LATE_DELIVERIES                -0.02        -0.02\n",
       "LATE_DELIVERIES                    -0.01        -0.02\n",
       "REG_WEEKLY_PLAN                    -0.03        -0.03\n",
       "CONTACTS_W_CUSTOMER_SERVICE         0.10        -0.04\n",
       "log_CANCELLATIONS_AFTER_NOON       -0.04        -0.04\n",
       "CANCELLATIONS_AFTER_NOON           -0.04        -0.04\n",
       "UNIQUE_MEALS_PURCH                 -0.06        -0.08\n",
       "log_UNIQUE_MEALS_PURCH             -0.11        -0.12\n",
       "log_AVG_CLICKS_PER_VISIT           -0.56        -0.58\n",
       "AVG_CLICKS_PER_VISIT               -0.55        -0.58"
      ]
     },
     "execution_count": 35,
     "metadata": {},
     "output_type": "execute_result"
    }
   ],
   "source": [
    "# creating a (Pearson) correlation matrix\n",
    "chef_corr = chef.corr().round(2)\n",
    "\n",
    "\n",
    "# printing (Pearson) correlations with REVENUE and log_REVENUE\n",
    "chef_corr.loc[ : , ['REVENUE', 'log_REVENUE']].sort_values(by = 'log_REVENUE', ascending = False)\n"
   ]
  },
  {
   "cell_type": "markdown",
   "metadata": {},
   "source": [
    "<h4>b) Printing each explanatory variable in order to be more efficient when building a full model.</h4>"
   ]
  },
  {
   "cell_type": "code",
   "execution_count": 36,
   "metadata": {},
   "outputs": [
    {
     "name": "stdout",
     "output_type": "stream",
     "text": [
      "CROSS_SELL_SUCCESS +\n",
      "TOTAL_MEALS_ORDERED +\n",
      "UNIQUE_MEALS_PURCH +\n",
      "CONTACTS_W_CUSTOMER_SERVICE +\n",
      "PRODUCT_CATEGORIES_VIEWED +\n",
      "AVG_TIME_PER_SITE_VISIT +\n",
      "MOBILE_NUMBER +\n",
      "CANCELLATIONS_BEFORE_NOON +\n",
      "CANCELLATIONS_AFTER_NOON +\n",
      "TASTES_AND_PREFERENCES +\n",
      "PC_LOGINS +\n",
      "MOBILE_LOGINS +\n",
      "WEEKLY_PLAN +\n",
      "EARLY_DELIVERIES +\n",
      "LATE_DELIVERIES +\n",
      "PACKAGE_LOCKER +\n",
      "REFRIGERATED_LOCKER +\n",
      "AVG_PREP_VID_TIME +\n",
      "LARGEST_ORDER_SIZE +\n",
      "MASTER_CLASSES_ATTENDED +\n",
      "MEDIAN_MEAL_RATING +\n",
      "AVG_CLICKS_PER_VISIT +\n",
      "TOTAL_PHOTOS_VIEWED +\n",
      "log_AVG_TIME_PER_SITE_VISIT +\n",
      "log_AVG_PREP_VID_TIME +\n",
      "log_TOTAL_MEALS_ORDERED +\n",
      "log_UNIQUE_MEALS_PURCH +\n",
      "log_CONTACTS_W_CUSTOMER_SERVICE +\n",
      "log_PRODUCT_CATEGORIES_VIEWED +\n",
      "log_CANCELLATIONS_BEFORE_NOON +\n",
      "log_CANCELLATIONS_AFTER_NOON +\n",
      "log_PC_LOGINS +\n",
      "log_MOBILE_LOGINS +\n",
      "log_WEEKLY_PLAN +\n",
      "log_EARLY_DELIVERIES +\n",
      "log_LATE_DELIVERIES +\n",
      "log_LARGEST_ORDER_SIZE +\n",
      "log_MASTER_CLASSES_ATTENDED +\n",
      "log_MEDIAN_MEAL_RATING +\n",
      "log_AVG_CLICKS_PER_VISIT +\n",
      "log_TOTAL_PHOTOS_VIEWED +\n",
      "Total_Cancel +\n",
      "has_Cancel +\n",
      "REG_WEEKLY_PLAN +\n",
      "YES_EARLY_DELIVERIES +\n",
      "YES_LATE_DELIVERIES +\n",
      "ATTEND_MASTER_CLASSES +\n",
      "YES_PHOTOS_VIEWED +\n",
      "junk +\n",
      "personal +\n",
      "professional +\n"
     ]
    }
   ],
   "source": [
    "# making a copy of housing\n",
    "chef_explanatory = chef.copy()\n",
    "\n",
    "\n",
    "# dropping Y-variables and uncessary features from the explanatory variable set\n",
    "chef_explanatory = chef_explanatory.drop(['REVENUE','log_REVENUE',\n",
    "                                          'NAME','EMAIL','FIRST_NAME',\n",
    "                                          'FAMILY_NAME','email_domain',\n",
    "                                          'm_FAMILY_NAME'], axis = 1)\n",
    "\n",
    "\n",
    "# formatting each explanatory variable for statsmodels\n",
    "for col in chef_explanatory:\n",
    "    print(col, '+') "
   ]
  },
  {
   "cell_type": "markdown",
   "metadata": {},
   "source": [
    "<hr style=\"height:.9px;border:none;color:#333;background-color:#333;\" /><br>\n",
    "\n",
    "<h4>c) Save the dataset that has been enriched with new features.</h4>"
   ]
  },
  {
   "cell_type": "code",
   "execution_count": 37,
   "metadata": {},
   "outputs": [],
   "source": [
    "# saving feature-rich dataset in Excel\n",
    "chef.to_excel('./datasets/chef_feature_rich.xlsx', index = False)"
   ]
  },
  {
   "cell_type": "markdown",
   "metadata": {},
   "source": [
    "<h4>d) Building a full model with log_REVENUE and all x-variables.</h4>"
   ]
  },
  {
   "cell_type": "code",
   "execution_count": 38,
   "metadata": {
    "code_folding": [],
    "scrolled": false
   },
   "outputs": [
    {
     "data": {
      "text/html": [
       "<table class=\"simpletable\">\n",
       "<caption>OLS Regression Results</caption>\n",
       "<tr>\n",
       "  <th>Dep. Variable:</th>       <td>log_REVENUE</td>   <th>  R-squared:         </th> <td>   0.772</td>\n",
       "</tr>\n",
       "<tr>\n",
       "  <th>Model:</th>                   <td>OLS</td>       <th>  Adj. R-squared:    </th> <td>   0.767</td>\n",
       "</tr>\n",
       "<tr>\n",
       "  <th>Method:</th>             <td>Least Squares</td>  <th>  F-statistic:       </th> <td>   131.3</td>\n",
       "</tr>\n",
       "<tr>\n",
       "  <th>Date:</th>             <td>Sun, 13 Jun 2021</td> <th>  Prob (F-statistic):</th>  <td>  0.00</td> \n",
       "</tr>\n",
       "<tr>\n",
       "  <th>Time:</th>                 <td>02:10:55</td>     <th>  Log-Likelihood:    </th> <td>  1699.9</td>\n",
       "</tr>\n",
       "<tr>\n",
       "  <th>No. Observations:</th>      <td>  1946</td>      <th>  AIC:               </th> <td>  -3300.</td>\n",
       "</tr>\n",
       "<tr>\n",
       "  <th>Df Residuals:</th>          <td>  1896</td>      <th>  BIC:               </th> <td>  -3021.</td>\n",
       "</tr>\n",
       "<tr>\n",
       "  <th>Df Model:</th>              <td>    49</td>      <th>                     </th>     <td> </td>   \n",
       "</tr>\n",
       "<tr>\n",
       "  <th>Covariance Type:</th>      <td>nonrobust</td>    <th>                     </th>     <td> </td>   \n",
       "</tr>\n",
       "</table>\n",
       "<table class=\"simpletable\">\n",
       "<tr>\n",
       "                 <td></td>                    <th>coef</th>     <th>std err</th>      <th>t</th>      <th>P>|t|</th>  <th>[0.025</th>    <th>0.975]</th>  \n",
       "</tr>\n",
       "<tr>\n",
       "  <th>Intercept</th>                       <td>    1.8956</td> <td>    0.405</td> <td>    4.675</td> <td> 0.000</td> <td>    1.100</td> <td>    2.691</td>\n",
       "</tr>\n",
       "<tr>\n",
       "  <th>CROSS_SELL_SUCCESS</th>              <td>   -0.0165</td> <td>    0.005</td> <td>   -3.046</td> <td> 0.002</td> <td>   -0.027</td> <td>   -0.006</td>\n",
       "</tr>\n",
       "<tr>\n",
       "  <th>TOTAL_MEALS_ORDERED</th>             <td>   -0.0009</td> <td>    0.000</td> <td>   -7.588</td> <td> 0.000</td> <td>   -0.001</td> <td>   -0.001</td>\n",
       "</tr>\n",
       "<tr>\n",
       "  <th>UNIQUE_MEALS_PURCH</th>              <td>    0.0699</td> <td>    0.004</td> <td>   17.755</td> <td> 0.000</td> <td>    0.062</td> <td>    0.078</td>\n",
       "</tr>\n",
       "<tr>\n",
       "  <th>CONTACTS_W_CUSTOMER_SERVICE</th>     <td>   -0.0037</td> <td>    0.007</td> <td>   -0.522</td> <td> 0.602</td> <td>   -0.017</td> <td>    0.010</td>\n",
       "</tr>\n",
       "<tr>\n",
       "  <th>PRODUCT_CATEGORIES_VIEWED</th>       <td>    0.0132</td> <td>    0.004</td> <td>    3.699</td> <td> 0.000</td> <td>    0.006</td> <td>    0.020</td>\n",
       "</tr>\n",
       "<tr>\n",
       "  <th>AVG_TIME_PER_SITE_VISIT</th>         <td> 2.497e-05</td> <td> 6.39e-05</td> <td>    0.390</td> <td> 0.696</td> <td>   -0.000</td> <td>    0.000</td>\n",
       "</tr>\n",
       "<tr>\n",
       "  <th>MOBILE_NUMBER</th>                   <td>    0.0069</td> <td>    0.007</td> <td>    0.961</td> <td> 0.337</td> <td>   -0.007</td> <td>    0.021</td>\n",
       "</tr>\n",
       "<tr>\n",
       "  <th>CANCELLATIONS_BEFORE_NOON</th>       <td>   -0.0145</td> <td>    0.014</td> <td>   -1.060</td> <td> 0.289</td> <td>   -0.041</td> <td>    0.012</td>\n",
       "</tr>\n",
       "<tr>\n",
       "  <th>CANCELLATIONS_AFTER_NOON</th>        <td>    0.0312</td> <td>    0.027</td> <td>    1.162</td> <td> 0.245</td> <td>   -0.021</td> <td>    0.084</td>\n",
       "</tr>\n",
       "<tr>\n",
       "  <th>TASTES_AND_PREFERENCES</th>          <td>    0.0086</td> <td>    0.005</td> <td>    1.648</td> <td> 0.100</td> <td>   -0.002</td> <td>    0.019</td>\n",
       "</tr>\n",
       "<tr>\n",
       "  <th>PC_LOGINS</th>                       <td>    0.0250</td> <td>    0.073</td> <td>    0.344</td> <td> 0.731</td> <td>   -0.118</td> <td>    0.168</td>\n",
       "</tr>\n",
       "<tr>\n",
       "  <th>MOBILE_LOGINS</th>                   <td>   -0.0568</td> <td>    0.036</td> <td>   -1.570</td> <td> 0.117</td> <td>   -0.128</td> <td>    0.014</td>\n",
       "</tr>\n",
       "<tr>\n",
       "  <th>WEEKLY_PLAN</th>                     <td>-5.599e-05</td> <td>    0.000</td> <td>   -0.118</td> <td> 0.906</td> <td>   -0.001</td> <td>    0.001</td>\n",
       "</tr>\n",
       "<tr>\n",
       "  <th>EARLY_DELIVERIES</th>                <td>    0.0041</td> <td>    0.007</td> <td>    0.622</td> <td> 0.534</td> <td>   -0.009</td> <td>    0.017</td>\n",
       "</tr>\n",
       "<tr>\n",
       "  <th>LATE_DELIVERIES</th>                 <td>   -0.0017</td> <td>    0.003</td> <td>   -0.555</td> <td> 0.579</td> <td>   -0.008</td> <td>    0.004</td>\n",
       "</tr>\n",
       "<tr>\n",
       "  <th>PACKAGE_LOCKER</th>                  <td>   -0.0076</td> <td>    0.006</td> <td>   -1.359</td> <td> 0.174</td> <td>   -0.019</td> <td>    0.003</td>\n",
       "</tr>\n",
       "<tr>\n",
       "  <th>REFRIGERATED_LOCKER</th>             <td>   -0.0078</td> <td>    0.008</td> <td>   -0.915</td> <td> 0.360</td> <td>   -0.024</td> <td>    0.009</td>\n",
       "</tr>\n",
       "<tr>\n",
       "  <th>AVG_PREP_VID_TIME</th>               <td>    0.0008</td> <td>    0.000</td> <td>    3.048</td> <td> 0.002</td> <td>    0.000</td> <td>    0.001</td>\n",
       "</tr>\n",
       "<tr>\n",
       "  <th>LARGEST_ORDER_SIZE</th>              <td>   -0.0281</td> <td>    0.009</td> <td>   -3.142</td> <td> 0.002</td> <td>   -0.046</td> <td>   -0.011</td>\n",
       "</tr>\n",
       "<tr>\n",
       "  <th>MASTER_CLASSES_ATTENDED</th>         <td>   -0.4456</td> <td>    0.156</td> <td>   -2.850</td> <td> 0.004</td> <td>   -0.752</td> <td>   -0.139</td>\n",
       "</tr>\n",
       "<tr>\n",
       "  <th>MEDIAN_MEAL_RATING</th>              <td>    0.1608</td> <td>    0.029</td> <td>    5.628</td> <td> 0.000</td> <td>    0.105</td> <td>    0.217</td>\n",
       "</tr>\n",
       "<tr>\n",
       "  <th>AVG_CLICKS_PER_VISIT</th>            <td>    0.0117</td> <td>    0.010</td> <td>    1.159</td> <td> 0.247</td> <td>   -0.008</td> <td>    0.031</td>\n",
       "</tr>\n",
       "<tr>\n",
       "  <th>TOTAL_PHOTOS_VIEWED</th>             <td>-4.701e-06</td> <td> 3.44e-05</td> <td>   -0.137</td> <td> 0.891</td> <td>-7.21e-05</td> <td> 6.27e-05</td>\n",
       "</tr>\n",
       "<tr>\n",
       "  <th>log_AVG_TIME_PER_SITE_VISIT</th>     <td>    0.0012</td> <td>    0.019</td> <td>    0.064</td> <td> 0.949</td> <td>   -0.037</td> <td>    0.039</td>\n",
       "</tr>\n",
       "<tr>\n",
       "  <th>log_AVG_PREP_VID_TIME</th>           <td>    0.2889</td> <td>    0.094</td> <td>    3.086</td> <td> 0.002</td> <td>    0.105</td> <td>    0.472</td>\n",
       "</tr>\n",
       "<tr>\n",
       "  <th>log_TOTAL_MEALS_ORDERED</th>         <td>    0.4242</td> <td>    0.026</td> <td>   16.271</td> <td> 0.000</td> <td>    0.373</td> <td>    0.475</td>\n",
       "</tr>\n",
       "<tr>\n",
       "  <th>log_UNIQUE_MEALS_PURCH</th>          <td>   -1.0146</td> <td>    0.049</td> <td>  -20.850</td> <td> 0.000</td> <td>   -1.110</td> <td>   -0.919</td>\n",
       "</tr>\n",
       "<tr>\n",
       "  <th>log_CONTACTS_W_CUSTOMER_SERVICE</th> <td>    0.2628</td> <td>    0.120</td> <td>    2.189</td> <td> 0.029</td> <td>    0.027</td> <td>    0.498</td>\n",
       "</tr>\n",
       "<tr>\n",
       "  <th>log_PRODUCT_CATEGORIES_VIEWED</th>   <td>   -0.1607</td> <td>    0.046</td> <td>   -3.480</td> <td> 0.001</td> <td>   -0.251</td> <td>   -0.070</td>\n",
       "</tr>\n",
       "<tr>\n",
       "  <th>log_CANCELLATIONS_BEFORE_NOON</th>   <td>   -0.0177</td> <td>    0.047</td> <td>   -0.381</td> <td> 0.703</td> <td>   -0.109</td> <td>    0.074</td>\n",
       "</tr>\n",
       "<tr>\n",
       "  <th>log_CANCELLATIONS_AFTER_NOON</th>    <td>   -0.2141</td> <td>    0.150</td> <td>   -1.428</td> <td> 0.153</td> <td>   -0.508</td> <td>    0.080</td>\n",
       "</tr>\n",
       "<tr>\n",
       "  <th>log_PC_LOGINS</th>                   <td>   -0.3961</td> <td>    1.082</td> <td>   -0.366</td> <td> 0.714</td> <td>   -2.518</td> <td>    1.726</td>\n",
       "</tr>\n",
       "<tr>\n",
       "  <th>log_MOBILE_LOGINS</th>               <td>    0.2832</td> <td>    0.200</td> <td>    1.419</td> <td> 0.156</td> <td>   -0.108</td> <td>    0.675</td>\n",
       "</tr>\n",
       "<tr>\n",
       "  <th>log_WEEKLY_PLAN</th>                 <td>    0.0072</td> <td>    0.017</td> <td>    0.413</td> <td> 0.680</td> <td>   -0.027</td> <td>    0.041</td>\n",
       "</tr>\n",
       "<tr>\n",
       "  <th>log_EARLY_DELIVERIES</th>            <td>   -0.0618</td> <td>    0.072</td> <td>   -0.860</td> <td> 0.390</td> <td>   -0.203</td> <td>    0.079</td>\n",
       "</tr>\n",
       "<tr>\n",
       "  <th>log_LATE_DELIVERIES</th>             <td>    0.0168</td> <td>    0.037</td> <td>    0.456</td> <td> 0.648</td> <td>   -0.055</td> <td>    0.089</td>\n",
       "</tr>\n",
       "<tr>\n",
       "  <th>log_LARGEST_ORDER_SIZE</th>          <td>    0.1455</td> <td>    0.110</td> <td>    1.322</td> <td> 0.186</td> <td>   -0.070</td> <td>    0.361</td>\n",
       "</tr>\n",
       "<tr>\n",
       "  <th>log_MASTER_CLASSES_ATTENDED</th>     <td>    2.6509</td> <td>    0.905</td> <td>    2.931</td> <td> 0.003</td> <td>    0.877</td> <td>    4.425</td>\n",
       "</tr>\n",
       "<tr>\n",
       "  <th>log_MEDIAN_MEAL_RATING</th>          <td>   -0.8121</td> <td>    0.211</td> <td>   -3.843</td> <td> 0.000</td> <td>   -1.226</td> <td>   -0.398</td>\n",
       "</tr>\n",
       "<tr>\n",
       "  <th>log_AVG_CLICKS_PER_VISIT</th>        <td>   -0.3779</td> <td>    0.328</td> <td>   -1.153</td> <td> 0.249</td> <td>   -1.021</td> <td>    0.265</td>\n",
       "</tr>\n",
       "<tr>\n",
       "  <th>log_TOTAL_PHOTOS_VIEWED</th>         <td>    0.0449</td> <td>    0.018</td> <td>    2.491</td> <td> 0.013</td> <td>    0.010</td> <td>    0.080</td>\n",
       "</tr>\n",
       "<tr>\n",
       "  <th>Total_Cancel</th>                    <td>    0.0166</td> <td>    0.014</td> <td>    1.206</td> <td> 0.228</td> <td>   -0.010</td> <td>    0.044</td>\n",
       "</tr>\n",
       "<tr>\n",
       "  <th>has_Cancel</th>                      <td>    0.0087</td> <td>    0.011</td> <td>    0.774</td> <td> 0.439</td> <td>   -0.013</td> <td>    0.031</td>\n",
       "</tr>\n",
       "<tr>\n",
       "  <th>REG_WEEKLY_PLAN</th>                 <td>   -0.0193</td> <td>    0.013</td> <td>   -1.452</td> <td> 0.147</td> <td>   -0.045</td> <td>    0.007</td>\n",
       "</tr>\n",
       "<tr>\n",
       "  <th>YES_EARLY_DELIVERIES</th>            <td>    0.0208</td> <td>    0.022</td> <td>    0.934</td> <td> 0.350</td> <td>   -0.023</td> <td>    0.065</td>\n",
       "</tr>\n",
       "<tr>\n",
       "  <th>YES_LATE_DELIVERIES</th>             <td>   -0.0044</td> <td>    0.013</td> <td>   -0.328</td> <td> 0.743</td> <td>   -0.031</td> <td>    0.022</td>\n",
       "</tr>\n",
       "<tr>\n",
       "  <th>ATTEND_MASTER_CLASSES</th>           <td>   -0.3215</td> <td>    0.117</td> <td>   -2.747</td> <td> 0.006</td> <td>   -0.551</td> <td>   -0.092</td>\n",
       "</tr>\n",
       "<tr>\n",
       "  <th>YES_PHOTOS_VIEWED</th>               <td>   -0.0662</td> <td>    0.035</td> <td>   -1.919</td> <td> 0.055</td> <td>   -0.134</td> <td>    0.001</td>\n",
       "</tr>\n",
       "<tr>\n",
       "  <th>junk</th>                            <td>    0.6287</td> <td>    0.135</td> <td>    4.646</td> <td> 0.000</td> <td>    0.363</td> <td>    0.894</td>\n",
       "</tr>\n",
       "<tr>\n",
       "  <th>personal</th>                        <td>    0.6349</td> <td>    0.135</td> <td>    4.698</td> <td> 0.000</td> <td>    0.370</td> <td>    0.900</td>\n",
       "</tr>\n",
       "<tr>\n",
       "  <th>professional</th>                    <td>    0.6320</td> <td>    0.135</td> <td>    4.676</td> <td> 0.000</td> <td>    0.367</td> <td>    0.897</td>\n",
       "</tr>\n",
       "</table>\n",
       "<table class=\"simpletable\">\n",
       "<tr>\n",
       "  <th>Omnibus:</th>       <td>355.460</td> <th>  Durbin-Watson:     </th> <td>   2.006</td>\n",
       "</tr>\n",
       "<tr>\n",
       "  <th>Prob(Omnibus):</th> <td> 0.000</td>  <th>  Jarque-Bera (JB):  </th> <td>1840.089</td>\n",
       "</tr>\n",
       "<tr>\n",
       "  <th>Skew:</th>          <td>-0.762</td>  <th>  Prob(JB):          </th> <td>    0.00</td>\n",
       "</tr>\n",
       "<tr>\n",
       "  <th>Kurtosis:</th>      <td> 7.513</td>  <th>  Cond. No.          </th> <td>1.18e+16</td>\n",
       "</tr>\n",
       "</table><br/><br/>Warnings:<br/>[1] Standard Errors assume that the covariance matrix of the errors is correctly specified.<br/>[2] The smallest eigenvalue is 9.71e-25. This might indicate that there are<br/>strong multicollinearity problems or that the design matrix is singular."
      ],
      "text/plain": [
       "<class 'statsmodels.iolib.summary.Summary'>\n",
       "\"\"\"\n",
       "                            OLS Regression Results                            \n",
       "==============================================================================\n",
       "Dep. Variable:            log_REVENUE   R-squared:                       0.772\n",
       "Model:                            OLS   Adj. R-squared:                  0.767\n",
       "Method:                 Least Squares   F-statistic:                     131.3\n",
       "Date:                Sun, 13 Jun 2021   Prob (F-statistic):               0.00\n",
       "Time:                        02:10:55   Log-Likelihood:                 1699.9\n",
       "No. Observations:                1946   AIC:                            -3300.\n",
       "Df Residuals:                    1896   BIC:                            -3021.\n",
       "Df Model:                          49                                         \n",
       "Covariance Type:            nonrobust                                         \n",
       "===================================================================================================\n",
       "                                      coef    std err          t      P>|t|      [0.025      0.975]\n",
       "---------------------------------------------------------------------------------------------------\n",
       "Intercept                           1.8956      0.405      4.675      0.000       1.100       2.691\n",
       "CROSS_SELL_SUCCESS                 -0.0165      0.005     -3.046      0.002      -0.027      -0.006\n",
       "TOTAL_MEALS_ORDERED                -0.0009      0.000     -7.588      0.000      -0.001      -0.001\n",
       "UNIQUE_MEALS_PURCH                  0.0699      0.004     17.755      0.000       0.062       0.078\n",
       "CONTACTS_W_CUSTOMER_SERVICE        -0.0037      0.007     -0.522      0.602      -0.017       0.010\n",
       "PRODUCT_CATEGORIES_VIEWED           0.0132      0.004      3.699      0.000       0.006       0.020\n",
       "AVG_TIME_PER_SITE_VISIT          2.497e-05   6.39e-05      0.390      0.696      -0.000       0.000\n",
       "MOBILE_NUMBER                       0.0069      0.007      0.961      0.337      -0.007       0.021\n",
       "CANCELLATIONS_BEFORE_NOON          -0.0145      0.014     -1.060      0.289      -0.041       0.012\n",
       "CANCELLATIONS_AFTER_NOON            0.0312      0.027      1.162      0.245      -0.021       0.084\n",
       "TASTES_AND_PREFERENCES              0.0086      0.005      1.648      0.100      -0.002       0.019\n",
       "PC_LOGINS                           0.0250      0.073      0.344      0.731      -0.118       0.168\n",
       "MOBILE_LOGINS                      -0.0568      0.036     -1.570      0.117      -0.128       0.014\n",
       "WEEKLY_PLAN                     -5.599e-05      0.000     -0.118      0.906      -0.001       0.001\n",
       "EARLY_DELIVERIES                    0.0041      0.007      0.622      0.534      -0.009       0.017\n",
       "LATE_DELIVERIES                    -0.0017      0.003     -0.555      0.579      -0.008       0.004\n",
       "PACKAGE_LOCKER                     -0.0076      0.006     -1.359      0.174      -0.019       0.003\n",
       "REFRIGERATED_LOCKER                -0.0078      0.008     -0.915      0.360      -0.024       0.009\n",
       "AVG_PREP_VID_TIME                   0.0008      0.000      3.048      0.002       0.000       0.001\n",
       "LARGEST_ORDER_SIZE                 -0.0281      0.009     -3.142      0.002      -0.046      -0.011\n",
       "MASTER_CLASSES_ATTENDED            -0.4456      0.156     -2.850      0.004      -0.752      -0.139\n",
       "MEDIAN_MEAL_RATING                  0.1608      0.029      5.628      0.000       0.105       0.217\n",
       "AVG_CLICKS_PER_VISIT                0.0117      0.010      1.159      0.247      -0.008       0.031\n",
       "TOTAL_PHOTOS_VIEWED             -4.701e-06   3.44e-05     -0.137      0.891   -7.21e-05    6.27e-05\n",
       "log_AVG_TIME_PER_SITE_VISIT         0.0012      0.019      0.064      0.949      -0.037       0.039\n",
       "log_AVG_PREP_VID_TIME               0.2889      0.094      3.086      0.002       0.105       0.472\n",
       "log_TOTAL_MEALS_ORDERED             0.4242      0.026     16.271      0.000       0.373       0.475\n",
       "log_UNIQUE_MEALS_PURCH             -1.0146      0.049    -20.850      0.000      -1.110      -0.919\n",
       "log_CONTACTS_W_CUSTOMER_SERVICE     0.2628      0.120      2.189      0.029       0.027       0.498\n",
       "log_PRODUCT_CATEGORIES_VIEWED      -0.1607      0.046     -3.480      0.001      -0.251      -0.070\n",
       "log_CANCELLATIONS_BEFORE_NOON      -0.0177      0.047     -0.381      0.703      -0.109       0.074\n",
       "log_CANCELLATIONS_AFTER_NOON       -0.2141      0.150     -1.428      0.153      -0.508       0.080\n",
       "log_PC_LOGINS                      -0.3961      1.082     -0.366      0.714      -2.518       1.726\n",
       "log_MOBILE_LOGINS                   0.2832      0.200      1.419      0.156      -0.108       0.675\n",
       "log_WEEKLY_PLAN                     0.0072      0.017      0.413      0.680      -0.027       0.041\n",
       "log_EARLY_DELIVERIES               -0.0618      0.072     -0.860      0.390      -0.203       0.079\n",
       "log_LATE_DELIVERIES                 0.0168      0.037      0.456      0.648      -0.055       0.089\n",
       "log_LARGEST_ORDER_SIZE              0.1455      0.110      1.322      0.186      -0.070       0.361\n",
       "log_MASTER_CLASSES_ATTENDED         2.6509      0.905      2.931      0.003       0.877       4.425\n",
       "log_MEDIAN_MEAL_RATING             -0.8121      0.211     -3.843      0.000      -1.226      -0.398\n",
       "log_AVG_CLICKS_PER_VISIT           -0.3779      0.328     -1.153      0.249      -1.021       0.265\n",
       "log_TOTAL_PHOTOS_VIEWED             0.0449      0.018      2.491      0.013       0.010       0.080\n",
       "Total_Cancel                        0.0166      0.014      1.206      0.228      -0.010       0.044\n",
       "has_Cancel                          0.0087      0.011      0.774      0.439      -0.013       0.031\n",
       "REG_WEEKLY_PLAN                    -0.0193      0.013     -1.452      0.147      -0.045       0.007\n",
       "YES_EARLY_DELIVERIES                0.0208      0.022      0.934      0.350      -0.023       0.065\n",
       "YES_LATE_DELIVERIES                -0.0044      0.013     -0.328      0.743      -0.031       0.022\n",
       "ATTEND_MASTER_CLASSES              -0.3215      0.117     -2.747      0.006      -0.551      -0.092\n",
       "YES_PHOTOS_VIEWED                  -0.0662      0.035     -1.919      0.055      -0.134       0.001\n",
       "junk                                0.6287      0.135      4.646      0.000       0.363       0.894\n",
       "personal                            0.6349      0.135      4.698      0.000       0.370       0.900\n",
       "professional                        0.6320      0.135      4.676      0.000       0.367       0.897\n",
       "==============================================================================\n",
       "Omnibus:                      355.460   Durbin-Watson:                   2.006\n",
       "Prob(Omnibus):                  0.000   Jarque-Bera (JB):             1840.089\n",
       "Skew:                          -0.762   Prob(JB):                         0.00\n",
       "Kurtosis:                       7.513   Cond. No.                     1.18e+16\n",
       "==============================================================================\n",
       "\n",
       "Warnings:\n",
       "[1] Standard Errors assume that the covariance matrix of the errors is correctly specified.\n",
       "[2] The smallest eigenvalue is 9.71e-25. This might indicate that there are\n",
       "strong multicollinearity problems or that the design matrix is singular.\n",
       "\"\"\""
      ]
     },
     "execution_count": 38,
     "metadata": {},
     "output_type": "execute_result"
    }
   ],
   "source": [
    "# blueprinting a model type \n",
    "lm_full = smf.ols(formula = \"\"\"log_REVENUE ~ \n",
    "                            CROSS_SELL_SUCCESS +\n",
    "                            TOTAL_MEALS_ORDERED +\n",
    "                            UNIQUE_MEALS_PURCH +\n",
    "                            CONTACTS_W_CUSTOMER_SERVICE +\n",
    "                            PRODUCT_CATEGORIES_VIEWED +\n",
    "                            AVG_TIME_PER_SITE_VISIT +\n",
    "                            MOBILE_NUMBER +\n",
    "                            CANCELLATIONS_BEFORE_NOON +\n",
    "                            CANCELLATIONS_AFTER_NOON +\n",
    "                            TASTES_AND_PREFERENCES +\n",
    "                            PC_LOGINS +\n",
    "                            MOBILE_LOGINS +\n",
    "                            WEEKLY_PLAN +\n",
    "                            EARLY_DELIVERIES +\n",
    "                            LATE_DELIVERIES +\n",
    "                            PACKAGE_LOCKER +\n",
    "                            REFRIGERATED_LOCKER +\n",
    "                            AVG_PREP_VID_TIME +\n",
    "                            LARGEST_ORDER_SIZE +\n",
    "                            MASTER_CLASSES_ATTENDED +\n",
    "                            MEDIAN_MEAL_RATING +\n",
    "                            AVG_CLICKS_PER_VISIT +\n",
    "                            TOTAL_PHOTOS_VIEWED +\n",
    "                            log_AVG_TIME_PER_SITE_VISIT +\n",
    "                            log_AVG_PREP_VID_TIME +\n",
    "                            log_TOTAL_MEALS_ORDERED +\n",
    "                            log_UNIQUE_MEALS_PURCH +\n",
    "                            log_CONTACTS_W_CUSTOMER_SERVICE +\n",
    "                            log_PRODUCT_CATEGORIES_VIEWED +\n",
    "                            log_CANCELLATIONS_BEFORE_NOON +\n",
    "                            log_CANCELLATIONS_AFTER_NOON +\n",
    "                            log_PC_LOGINS +\n",
    "                            log_MOBILE_LOGINS +\n",
    "                            log_WEEKLY_PLAN +\n",
    "                            log_EARLY_DELIVERIES +\n",
    "                            log_LATE_DELIVERIES +\n",
    "                            log_LARGEST_ORDER_SIZE +\n",
    "                            log_MASTER_CLASSES_ATTENDED +\n",
    "                            log_MEDIAN_MEAL_RATING +\n",
    "                            log_AVG_CLICKS_PER_VISIT +\n",
    "                            log_TOTAL_PHOTOS_VIEWED +\n",
    "                            Total_Cancel +\n",
    "                            has_Cancel +\n",
    "                            REG_WEEKLY_PLAN +\n",
    "                            YES_EARLY_DELIVERIES +\n",
    "                            YES_LATE_DELIVERIES +\n",
    "                            ATTEND_MASTER_CLASSES +\n",
    "                            YES_PHOTOS_VIEWED +\n",
    "                            junk +\n",
    "                            personal +\n",
    "                            professional \"\"\",\n",
    "                            data = chef)\n",
    "\n",
    "# telling Python to run the data through the blueprint\n",
    "results_full = lm_full.fit()\n",
    "\n",
    "\n",
    "# printing the results\n",
    "results_full.summary()"
   ]
  },
  {
   "cell_type": "markdown",
   "metadata": {},
   "source": [
    "<hr style=\"height:.9px;border:none;color:#333;background-color:#333;\" /><br>\n",
    "\n",
    "<h4>e) Create the best model by diminishing the full model so that it only includes variables that are significant based on their p-values.</h4>\n",
    "\n",
    "<strong>Goals</strong>\n",
    "* Maximize adjusted R-square\n",
    "* All p-values in model < 0.05"
   ]
  },
  {
   "cell_type": "code",
   "execution_count": 39,
   "metadata": {
    "scrolled": false
   },
   "outputs": [
    {
     "data": {
      "text/html": [
       "<table class=\"simpletable\">\n",
       "<caption>OLS Regression Results</caption>\n",
       "<tr>\n",
       "  <th>Dep. Variable:</th>       <td>log_REVENUE</td>   <th>  R-squared:         </th> <td>   0.719</td>\n",
       "</tr>\n",
       "<tr>\n",
       "  <th>Model:</th>                   <td>OLS</td>       <th>  Adj. R-squared:    </th> <td>   0.718</td>\n",
       "</tr>\n",
       "<tr>\n",
       "  <th>Method:</th>             <td>Least Squares</td>  <th>  F-statistic:       </th> <td>   412.7</td>\n",
       "</tr>\n",
       "<tr>\n",
       "  <th>Date:</th>             <td>Sun, 13 Jun 2021</td> <th>  Prob (F-statistic):</th>  <td>  0.00</td> \n",
       "</tr>\n",
       "<tr>\n",
       "  <th>Time:</th>                 <td>02:10:55</td>     <th>  Log-Likelihood:    </th> <td>  1495.8</td>\n",
       "</tr>\n",
       "<tr>\n",
       "  <th>No. Observations:</th>      <td>  1946</td>      <th>  AIC:               </th> <td>  -2966.</td>\n",
       "</tr>\n",
       "<tr>\n",
       "  <th>Df Residuals:</th>          <td>  1933</td>      <th>  BIC:               </th> <td>  -2893.</td>\n",
       "</tr>\n",
       "<tr>\n",
       "  <th>Df Model:</th>              <td>    12</td>      <th>                     </th>     <td> </td>   \n",
       "</tr>\n",
       "<tr>\n",
       "  <th>Covariance Type:</th>      <td>nonrobust</td>    <th>                     </th>     <td> </td>   \n",
       "</tr>\n",
       "</table>\n",
       "<table class=\"simpletable\">\n",
       "<tr>\n",
       "                 <td></td>                    <th>coef</th>     <th>std err</th>      <th>t</th>      <th>P>|t|</th>  <th>[0.025</th>    <th>0.975]</th>  \n",
       "</tr>\n",
       "<tr>\n",
       "  <th>Intercept</th>                       <td>    1.1666</td> <td>    0.046</td> <td>   25.616</td> <td> 0.000</td> <td>    1.077</td> <td>    1.256</td>\n",
       "</tr>\n",
       "<tr>\n",
       "  <th>CROSS_SELL_SUCCESS</th>              <td>   -0.0130</td> <td>    0.006</td> <td>   -2.260</td> <td> 0.024</td> <td>   -0.024</td> <td>   -0.002</td>\n",
       "</tr>\n",
       "<tr>\n",
       "  <th>log_AVG_TIME_PER_SITE_VISIT</th>     <td>   -0.0365</td> <td>    0.013</td> <td>   -2.824</td> <td> 0.005</td> <td>   -0.062</td> <td>   -0.011</td>\n",
       "</tr>\n",
       "<tr>\n",
       "  <th>log_AVG_PREP_VID_TIME</th>           <td>    0.5854</td> <td>    0.037</td> <td>   15.760</td> <td> 0.000</td> <td>    0.513</td> <td>    0.658</td>\n",
       "</tr>\n",
       "<tr>\n",
       "  <th>log_TOTAL_MEALS_ORDERED</th>         <td>    0.2590</td> <td>    0.011</td> <td>   22.530</td> <td> 0.000</td> <td>    0.236</td> <td>    0.282</td>\n",
       "</tr>\n",
       "<tr>\n",
       "  <th>log_UNIQUE_MEALS_PURCH</th>          <td>   -0.1858</td> <td>    0.013</td> <td>  -14.255</td> <td> 0.000</td> <td>   -0.211</td> <td>   -0.160</td>\n",
       "</tr>\n",
       "<tr>\n",
       "  <th>log_CONTACTS_W_CUSTOMER_SERVICE</th> <td>    0.1439</td> <td>    0.022</td> <td>    6.602</td> <td> 0.000</td> <td>    0.101</td> <td>    0.187</td>\n",
       "</tr>\n",
       "<tr>\n",
       "  <th>log_LARGEST_ORDER_SIZE</th>          <td>   -0.1898</td> <td>    0.035</td> <td>   -5.394</td> <td> 0.000</td> <td>   -0.259</td> <td>   -0.121</td>\n",
       "</tr>\n",
       "<tr>\n",
       "  <th>log_MASTER_CLASSES_ATTENDED</th>     <td>    0.1132</td> <td>    0.018</td> <td>    6.390</td> <td> 0.000</td> <td>    0.078</td> <td>    0.148</td>\n",
       "</tr>\n",
       "<tr>\n",
       "  <th>MEDIAN_MEAL_RATING</th>              <td>    0.0651</td> <td>    0.004</td> <td>   14.771</td> <td> 0.000</td> <td>    0.056</td> <td>    0.074</td>\n",
       "</tr>\n",
       "<tr>\n",
       "  <th>log_TOTAL_PHOTOS_VIEWED</th>         <td>    0.0158</td> <td>    0.002</td> <td>    6.315</td> <td> 0.000</td> <td>    0.011</td> <td>    0.021</td>\n",
       "</tr>\n",
       "<tr>\n",
       "  <th>junk</th>                            <td>    0.3851</td> <td>    0.016</td> <td>   24.240</td> <td> 0.000</td> <td>    0.354</td> <td>    0.416</td>\n",
       "</tr>\n",
       "<tr>\n",
       "  <th>personal</th>                        <td>    0.3922</td> <td>    0.015</td> <td>   25.379</td> <td> 0.000</td> <td>    0.362</td> <td>    0.423</td>\n",
       "</tr>\n",
       "<tr>\n",
       "  <th>professional</th>                    <td>    0.3893</td> <td>    0.016</td> <td>   24.795</td> <td> 0.000</td> <td>    0.359</td> <td>    0.420</td>\n",
       "</tr>\n",
       "</table>\n",
       "<table class=\"simpletable\">\n",
       "<tr>\n",
       "  <th>Omnibus:</th>       <td>181.763</td> <th>  Durbin-Watson:     </th> <td>   2.075</td> \n",
       "</tr>\n",
       "<tr>\n",
       "  <th>Prob(Omnibus):</th> <td> 0.000</td>  <th>  Jarque-Bera (JB):  </th> <td> 670.765</td> \n",
       "</tr>\n",
       "<tr>\n",
       "  <th>Skew:</th>          <td>-0.410</td>  <th>  Prob(JB):          </th> <td>2.21e-146</td>\n",
       "</tr>\n",
       "<tr>\n",
       "  <th>Kurtosis:</th>      <td> 5.757</td>  <th>  Cond. No.          </th> <td>2.44e+16</td> \n",
       "</tr>\n",
       "</table><br/><br/>Warnings:<br/>[1] Standard Errors assume that the covariance matrix of the errors is correctly specified.<br/>[2] The smallest eigenvalue is 7.98e-29. This might indicate that there are<br/>strong multicollinearity problems or that the design matrix is singular."
      ],
      "text/plain": [
       "<class 'statsmodels.iolib.summary.Summary'>\n",
       "\"\"\"\n",
       "                            OLS Regression Results                            \n",
       "==============================================================================\n",
       "Dep. Variable:            log_REVENUE   R-squared:                       0.719\n",
       "Model:                            OLS   Adj. R-squared:                  0.718\n",
       "Method:                 Least Squares   F-statistic:                     412.7\n",
       "Date:                Sun, 13 Jun 2021   Prob (F-statistic):               0.00\n",
       "Time:                        02:10:55   Log-Likelihood:                 1495.8\n",
       "No. Observations:                1946   AIC:                            -2966.\n",
       "Df Residuals:                    1933   BIC:                            -2893.\n",
       "Df Model:                          12                                         \n",
       "Covariance Type:            nonrobust                                         \n",
       "===================================================================================================\n",
       "                                      coef    std err          t      P>|t|      [0.025      0.975]\n",
       "---------------------------------------------------------------------------------------------------\n",
       "Intercept                           1.1666      0.046     25.616      0.000       1.077       1.256\n",
       "CROSS_SELL_SUCCESS                 -0.0130      0.006     -2.260      0.024      -0.024      -0.002\n",
       "log_AVG_TIME_PER_SITE_VISIT        -0.0365      0.013     -2.824      0.005      -0.062      -0.011\n",
       "log_AVG_PREP_VID_TIME               0.5854      0.037     15.760      0.000       0.513       0.658\n",
       "log_TOTAL_MEALS_ORDERED             0.2590      0.011     22.530      0.000       0.236       0.282\n",
       "log_UNIQUE_MEALS_PURCH             -0.1858      0.013    -14.255      0.000      -0.211      -0.160\n",
       "log_CONTACTS_W_CUSTOMER_SERVICE     0.1439      0.022      6.602      0.000       0.101       0.187\n",
       "log_LARGEST_ORDER_SIZE             -0.1898      0.035     -5.394      0.000      -0.259      -0.121\n",
       "log_MASTER_CLASSES_ATTENDED         0.1132      0.018      6.390      0.000       0.078       0.148\n",
       "MEDIAN_MEAL_RATING                  0.0651      0.004     14.771      0.000       0.056       0.074\n",
       "log_TOTAL_PHOTOS_VIEWED             0.0158      0.002      6.315      0.000       0.011       0.021\n",
       "junk                                0.3851      0.016     24.240      0.000       0.354       0.416\n",
       "personal                            0.3922      0.015     25.379      0.000       0.362       0.423\n",
       "professional                        0.3893      0.016     24.795      0.000       0.359       0.420\n",
       "==============================================================================\n",
       "Omnibus:                      181.763   Durbin-Watson:                   2.075\n",
       "Prob(Omnibus):                  0.000   Jarque-Bera (JB):              670.765\n",
       "Skew:                          -0.410   Prob(JB):                    2.21e-146\n",
       "Kurtosis:                       5.757   Cond. No.                     2.44e+16\n",
       "==============================================================================\n",
       "\n",
       "Warnings:\n",
       "[1] Standard Errors assume that the covariance matrix of the errors is correctly specified.\n",
       "[2] The smallest eigenvalue is 7.98e-29. This might indicate that there are\n",
       "strong multicollinearity problems or that the design matrix is singular.\n",
       "\"\"\""
      ]
     },
     "execution_count": 39,
     "metadata": {},
     "output_type": "execute_result"
    }
   ],
   "source": [
    "# blueprinting a model type \n",
    "lm_best = smf.ols(formula = \"\"\"log_REVENUE ~ \n",
    "                                CROSS_SELL_SUCCESS +\n",
    "                                log_AVG_TIME_PER_SITE_VISIT +\n",
    "                                log_AVG_PREP_VID_TIME +\n",
    "                                log_TOTAL_MEALS_ORDERED +\n",
    "                                log_UNIQUE_MEALS_PURCH +\n",
    "                                log_CONTACTS_W_CUSTOMER_SERVICE +\n",
    "                                log_LARGEST_ORDER_SIZE +\n",
    "                                log_MASTER_CLASSES_ATTENDED +\n",
    "                                MEDIAN_MEAL_RATING +\n",
    "                                log_TOTAL_PHOTOS_VIEWED +\n",
    "                                junk +\n",
    "                                personal +\n",
    "                                professional \"\"\",\n",
    "                            data = chef)\n",
    "\n",
    "# telling Python to run the data through the blueprint\n",
    "results_best = lm_best.fit()\n",
    "\n",
    "\n",
    "# printing the results\n",
    "results_best.summary()"
   ]
  },
  {
   "cell_type": "markdown",
   "metadata": {},
   "source": [
    "<hr style=\"height:.9px;border:none;color:#333;background-color:#333;\" /><br>\n",
    "\n",
    "\n",
    "<h2>Part VIII: Prepare for Model Development on New Dataset</h2>\n",
    "<h3>Training and Testing Sets</h3>\n",
    "<h4>a) Prepare training and testing sets by using train_test_split with a test_size of 0.25 and a random_state of 219."
   ]
  },
  {
   "cell_type": "code",
   "execution_count": 40,
   "metadata": {},
   "outputs": [
    {
     "name": "stdout",
     "output_type": "stream",
     "text": [
      "\n",
      "Training Data\n",
      "-------------\n",
      "X-side: (1459, 51)\n",
      "y-side: (1459,)\n",
      "\n",
      "\n",
      "Testing Data\n",
      "------------\n",
      "X-side: (487, 51)\n",
      "y-side: (487,)\n",
      "\n"
     ]
    }
   ],
   "source": [
    "# preparing explanatory variable data\n",
    "chef_data = chef_explanatory\n",
    "\n",
    "# preparing response variables\n",
    "chef_target = chef.loc[ : , 'REVENUE']\n",
    "log_chef_target = chef.loc[ : , 'log_REVENUE']\n",
    "\n",
    "\n",
    "# preparing training and testing sets (all letters are lowercase)\n",
    "x_train, x_test, y_train, y_test = train_test_split(\n",
    "                                    chef_data,\n",
    "                                    log_chef_target,  \n",
    "                                    test_size = 0.25,\n",
    "                                    random_state = 219)\n",
    "\n",
    "\n",
    "# checking the shapes of the datasets\n",
    "print(f\"\"\"\n",
    "Training Data\n",
    "-------------\n",
    "X-side: {x_train.shape}\n",
    "y-side: {y_train.shape}\n",
    "\n",
    "\n",
    "Testing Data\n",
    "------------\n",
    "X-side: {x_test.shape}\n",
    "y-side: {y_test.shape}\n",
    "\"\"\")"
   ]
  },
  {
   "cell_type": "markdown",
   "metadata": {},
   "source": [
    "<hr style=\"height:.9px;border:none;color:#333;background-color:#333;\" /><br>\n",
    "\n",
    "<h2>Part IX: Model Tournament</h2>\n",
    "<h3>Ordinary Least Squares Regression</h3>\n",
    "<h4>a) Apply lm_best model after splitting the dataset to ensure that the p-values are still significant.\n"
   ]
  },
  {
   "cell_type": "code",
   "execution_count": 41,
   "metadata": {},
   "outputs": [
    {
     "name": "stdout",
     "output_type": "stream",
     "text": [
      "                            OLS Regression Results                            \n",
      "==============================================================================\n",
      "Dep. Variable:            log_REVENUE   R-squared:                       0.718\n",
      "Model:                            OLS   Adj. R-squared:                  0.716\n",
      "Method:                 Least Squares   F-statistic:                     368.1\n",
      "Date:                Sun, 13 Jun 2021   Prob (F-statistic):               0.00\n",
      "Time:                        02:10:55   Log-Likelihood:                 1134.3\n",
      "No. Observations:                1459   AIC:                            -2247.\n",
      "Df Residuals:                    1448   BIC:                            -2188.\n",
      "Df Model:                          10                                         \n",
      "Covariance Type:            nonrobust                                         \n",
      "===================================================================================================\n",
      "                                      coef    std err          t      P>|t|      [0.025      0.975]\n",
      "---------------------------------------------------------------------------------------------------\n",
      "Intercept                           1.6200      0.071     22.966      0.000       1.482       1.758\n",
      "CROSS_SELL_SUCCESS                 -0.0158      0.006     -2.524      0.012      -0.028      -0.004\n",
      "log_AVG_TIME_PER_SITE_VISIT        -0.0392      0.015     -2.632      0.009      -0.068      -0.010\n",
      "log_AVG_PREP_VID_TIME               0.5662      0.043     13.153      0.000       0.482       0.651\n",
      "log_TOTAL_MEALS_ORDERED             0.2575      0.013     19.394      0.000       0.231       0.284\n",
      "log_UNIQUE_MEALS_PURCH             -0.1961      0.015    -13.063      0.000      -0.226      -0.167\n",
      "log_CONTACTS_W_CUSTOMER_SERVICE     0.1224      0.025      4.860      0.000       0.073       0.172\n",
      "log_LARGEST_ORDER_SIZE             -0.1738      0.041     -4.258      0.000      -0.254      -0.094\n",
      "log_MASTER_CLASSES_ATTENDED         0.1162      0.020      5.751      0.000       0.077       0.156\n",
      "MEDIAN_MEAL_RATING                  0.0656      0.005     13.008      0.000       0.056       0.076\n",
      "log_TOTAL_PHOTOS_VIEWED             0.0147      0.003      5.145      0.000       0.009       0.020\n",
      "==============================================================================\n",
      "Omnibus:                      117.075   Durbin-Watson:                   2.030\n",
      "Prob(Omnibus):                  0.000   Jarque-Bera (JB):              394.160\n",
      "Skew:                          -0.354   Prob(JB):                     2.57e-86\n",
      "Kurtosis:                       5.446   Cond. No.                         142.\n",
      "==============================================================================\n",
      "\n",
      "Warnings:\n",
      "[1] Standard Errors assume that the covariance matrix of the errors is correctly specified.\n"
     ]
    }
   ],
   "source": [
    "# merging X_train and y_train so that they can be used in statsmodels\n",
    "chef_train = pd.concat([x_train, y_train], axis = 1)\n",
    "\n",
    "\n",
    "# Step 1: build a model\n",
    "lm_best = smf.ols(formula = \"\"\"log_REVENUE ~ \n",
    "                                CROSS_SELL_SUCCESS +\n",
    "                                log_AVG_TIME_PER_SITE_VISIT +\n",
    "                                log_AVG_PREP_VID_TIME +\n",
    "                                log_TOTAL_MEALS_ORDERED +\n",
    "                                log_UNIQUE_MEALS_PURCH +\n",
    "                                log_CONTACTS_W_CUSTOMER_SERVICE +\n",
    "                                log_LARGEST_ORDER_SIZE +\n",
    "                                log_MASTER_CLASSES_ATTENDED +\n",
    "                                MEDIAN_MEAL_RATING +\n",
    "                                log_TOTAL_PHOTOS_VIEWED \n",
    "                                \"\"\",\n",
    "                            data = chef_train)\n",
    "\n",
    "\n",
    "# Step 2: fit the model based on the data\n",
    "results = lm_best.fit()\n",
    "\n",
    "\n",
    "# Step 3: analyze the summary output\n",
    "print(results.summary())"
   ]
  },
  {
   "cell_type": "markdown",
   "metadata": {},
   "source": [
    "After splitting the dataset, all x-variables are still significant."
   ]
  },
  {
   "cell_type": "markdown",
   "metadata": {},
   "source": [
    "<hr style=\"height:.9px;border:none;color:#333;background-color:#333;\" /><br>\n",
    "<h4>b) Declare set of x-variables from the best model"
   ]
  },
  {
   "cell_type": "code",
   "execution_count": 42,
   "metadata": {},
   "outputs": [
    {
     "name": "stdout",
     "output_type": "stream",
     "text": [
      "CROSS_SELL_SUCCESS +\n",
      "log_AVG_TIME_PER_SITE_VISIT +\n",
      "log_AVG_PREP_VID_TIME +\n",
      "log_TOTAL_MEALS_ORDERED +\n",
      "log_UNIQUE_MEALS_PURCH +\n",
      "log_CONTACTS_W_CUSTOMER_SERVICE +\n",
      "log_LARGEST_ORDER_SIZE +\n",
      "log_MASTER_CLASSES_ATTENDED +\n",
      "MEDIAN_MEAL_RATING +\n",
      "log_TOTAL_PHOTOS_VIEWED +\n"
     ]
    }
   ],
   "source": [
    "# declaring set of x-variables\n",
    "x_variables = [                 'CROSS_SELL_SUCCESS' ,\n",
    "                                'log_AVG_TIME_PER_SITE_VISIT' ,\n",
    "                                'log_AVG_PREP_VID_TIME' ,\n",
    "                                'log_TOTAL_MEALS_ORDERED' ,\n",
    "                                'log_UNIQUE_MEALS_PURCH' ,\n",
    "                                'log_CONTACTS_W_CUSTOMER_SERVICE',\n",
    "                                'log_LARGEST_ORDER_SIZE',\n",
    "                                'log_MASTER_CLASSES_ATTENDED' ,\n",
    "                                'MEDIAN_MEAL_RATING' ,\n",
    "                                'log_TOTAL_PHOTOS_VIEWED']\n",
    "\n",
    "\n",
    "\n",
    "# looping to make x-variables suitable for statsmodels\n",
    "for val in x_variables:\n",
    "    print(f\"{val} +\")"
   ]
  },
  {
   "cell_type": "markdown",
   "metadata": {},
   "source": [
    "<hr style=\"height:.9px;border:none;color:#333;background-color:#333;\" /><br>\n",
    "\n",
    "<h4>c) Model Development in scikit-learn</h4>\n"
   ]
  },
  {
   "cell_type": "code",
   "execution_count": 43,
   "metadata": {},
   "outputs": [],
   "source": [
    "# applying modelin scikit-learn\n",
    "\n",
    "# preparing x-variables from the OLS model\n",
    "ols_data = chef[x_variables]\n",
    "\n",
    "\n",
    "# preparing response variable\n",
    "chef_target = chef['log_REVENUE']\n",
    "\n",
    "\n",
    "###############################################\n",
    "## setting up more than one train-test split ##\n",
    "###############################################\n",
    "# FULL X-dataset (normal Y)\n",
    "x_train_FULL, x_test_FULL, y_train_FULL, y_test_FULL = train_test_split(\n",
    "            chef_data,     # x-variables\n",
    "            chef_target,   # y-variable\n",
    "            test_size = 0.25,\n",
    "            random_state = 219)\n",
    "\n",
    "\n",
    "# OLS p-value x-dataset (normal Y)\n",
    "x_train_OLS, x_test_OLS, y_train_OLS, y_test_OLS = train_test_split(\n",
    "            ols_data,         # x-variables\n",
    "            chef_target,   # y-variable\n",
    "            test_size = 0.25,\n",
    "            random_state = 219)\n"
   ]
  },
  {
   "cell_type": "markdown",
   "metadata": {},
   "source": [
    "<hr style=\"height:.9px;border:none;color:#333;background-color:#333;\" /><br>\n",
    "\n",
    "<h4>d) Develop an OLS regression model in scikit-learn.</h4>"
   ]
  },
  {
   "cell_type": "code",
   "execution_count": 44,
   "metadata": {},
   "outputs": [
    {
     "name": "stdout",
     "output_type": "stream",
     "text": [
      "OLS Training Score : 0.7177\n",
      "OLS Testing Score  : 0.7209\n",
      "OLS Train-Test Gap : 0.0032\n"
     ]
    }
   ],
   "source": [
    "# INSTANTIATING a model object\n",
    "lr = LinearRegression()\n",
    "\n",
    "\n",
    "# FITTING to the training data\n",
    "lr_fit = lr.fit(x_train_OLS, y_train_OLS)\n",
    "\n",
    "\n",
    "# PREDICTING on new data\n",
    "lr_pred = lr_fit.predict(x_test_OLS)\n",
    "\n",
    "\n",
    "# SCORING the results\n",
    "print('OLS Training Score :', lr.score(x_train_OLS, y_train_OLS).round(4))  # using R-square\n",
    "print('OLS Testing Score  :',  lr.score(x_test_OLS, y_test_OLS).round(4)) # using R-square\n",
    "\n",
    "\n",
    "lr_train_score = lr.score(x_train_OLS, y_train_OLS).round(4)\n",
    "lr_test_score  = lr.score(x_test_OLS, y_test_OLS).round(4)\n",
    "\n",
    "# displaying and saving the gap between training and testing\n",
    "print('OLS Train-Test Gap :', abs(lr_train_score - lr_test_score).round(4))\n",
    "lr_test_gap = abs(lr_train_score - lr_test_score).round(4)"
   ]
  },
  {
   "cell_type": "markdown",
   "metadata": {},
   "source": [
    "<hr style=\"height:.9px;border:none;color:#333;background-color:#333;\" /><br>\n",
    "<h4>e) Zipping each feature name to its coefficient.</h4>"
   ]
  },
  {
   "cell_type": "code",
   "execution_count": 45,
   "metadata": {},
   "outputs": [
    {
     "name": "stdout",
     "output_type": "stream",
     "text": [
      "('intercept', 1.62)\n",
      "('CROSS_SELL_SUCCESS', -0.02)\n",
      "('log_AVG_TIME_PER_SITE_VISIT', -0.04)\n",
      "('log_AVG_PREP_VID_TIME', 0.57)\n",
      "('log_TOTAL_MEALS_ORDERED', 0.26)\n",
      "('log_UNIQUE_MEALS_PURCH', -0.2)\n",
      "('log_CONTACTS_W_CUSTOMER_SERVICE', 0.12)\n",
      "('log_LARGEST_ORDER_SIZE', -0.17)\n",
      "('log_MASTER_CLASSES_ATTENDED', 0.12)\n",
      "('MEDIAN_MEAL_RATING', 0.07)\n",
      "('log_TOTAL_PHOTOS_VIEWED', 0.01)\n"
     ]
    }
   ],
   "source": [
    "lr_model_values = zip(chef_data[x_variables].columns,\n",
    "                      lr_fit.coef_.round(decimals = 2))\n",
    "\n",
    "\n",
    "# setting up a placeholder list to store model features\n",
    "lr_model_lst = [('intercept', lr_fit.intercept_.round(decimals = 2))]\n",
    "\n",
    "\n",
    "# printing out each feature-coefficient pair one by one\n",
    "for val in lr_model_values:\n",
    "    lr_model_lst.append(val)\n",
    "    \n",
    "\n",
    "# checking the results\n",
    "for pair in lr_model_lst:\n",
    "    print(pair)"
   ]
  },
  {
   "cell_type": "markdown",
   "metadata": {},
   "source": [
    "<hr style=\"height:.9px;border:none;color:#333;background-color:#333;\" /><br>\n",
    "<h3>Lasso regression model</h3>\n",
    "<h4>a) Develop a lasso regression model.</h4>"
   ]
  },
  {
   "cell_type": "code",
   "execution_count": 46,
   "metadata": {},
   "outputs": [
    {
     "name": "stdout",
     "output_type": "stream",
     "text": [
      "Lasso Training Score : 0.5231\n",
      "Lasso Testing Score  : 0.5565\n",
      "Lasso Train-Test Gap : 0.0334\n"
     ]
    }
   ],
   "source": [
    "# INSTANTIATING a model object\n",
    "lasso_model = sklearn.linear_model.Lasso(alpha     = 1.0,  # default shrinkage\n",
    "                                         normalize = False) # default magitude\n",
    "\n",
    "\n",
    "# FITTING to the training data\n",
    "lasso_fit = lasso_model.fit(x_train_FULL, y_train_FULL)\n",
    "\n",
    "\n",
    "# PREDICTING on new data\n",
    "lasso_pred = lasso_fit.predict(x_test_FULL)\n",
    "\n",
    "\n",
    "# SCORING the results\n",
    "print('Lasso Training Score :', lasso_model.score(x_train_FULL, y_train_FULL).round(4))\n",
    "print('Lasso Testing Score  :', lasso_model.score(x_test_FULL, y_test_FULL).round(4))\n",
    "\n",
    "\n",
    "## the following code has been provided for you ##\n",
    "\n",
    "# saving scoring data for future use\n",
    "lasso_train_score = lasso_model.score(x_train_FULL, y_train_FULL).round(4) # using R-square\n",
    "lasso_test_score  = lasso_model.score(x_test_FULL, y_test_FULL).round(4)   # using R-square\n",
    "\n",
    "\n",
    "# displaying and saving the gap between training and testing\n",
    "print('Lasso Train-Test Gap :', abs(lasso_train_score - lasso_test_score).round(4))\n",
    "lasso_test_gap = abs(lasso_train_score - lasso_test_score).round(4)"
   ]
  },
  {
   "cell_type": "markdown",
   "metadata": {},
   "source": [
    "<hr style=\"height:.9px;border:none;color:#333;background-color:#333;\" /><br>\n",
    "<h4>b) Zipping each feature name to its coefficient.</h4>"
   ]
  },
  {
   "cell_type": "code",
   "execution_count": 47,
   "metadata": {},
   "outputs": [
    {
     "name": "stdout",
     "output_type": "stream",
     "text": [
      "('intercept', 2.95)\n",
      "('CROSS_SELL_SUCCESS', -0.0)\n",
      "('TOTAL_MEALS_ORDERED', 0.0)\n",
      "('UNIQUE_MEALS_PURCH', -0.0)\n",
      "('CONTACTS_W_CUSTOMER_SERVICE', -0.0)\n",
      "('PRODUCT_CATEGORIES_VIEWED', 0.0)\n",
      "('AVG_TIME_PER_SITE_VISIT', -0.0)\n",
      "('MOBILE_NUMBER', 0.0)\n",
      "('CANCELLATIONS_BEFORE_NOON', 0.0)\n",
      "('CANCELLATIONS_AFTER_NOON', -0.0)\n",
      "('TASTES_AND_PREFERENCES', 0.0)\n",
      "('PC_LOGINS', -0.0)\n",
      "('MOBILE_LOGINS', -0.0)\n",
      "('WEEKLY_PLAN', 0.0)\n",
      "('EARLY_DELIVERIES', -0.0)\n",
      "('LATE_DELIVERIES', -0.0)\n",
      "('PACKAGE_LOCKER', -0.0)\n",
      "('REFRIGERATED_LOCKER', -0.0)\n",
      "('AVG_PREP_VID_TIME', 0.0)\n",
      "('LARGEST_ORDER_SIZE', 0.0)\n",
      "('MASTER_CLASSES_ATTENDED', 0.0)\n",
      "('MEDIAN_MEAL_RATING', 0.0)\n",
      "('AVG_CLICKS_PER_VISIT', -0.0)\n",
      "('TOTAL_PHOTOS_VIEWED', 0.0)\n",
      "('log_AVG_TIME_PER_SITE_VISIT', -0.0)\n",
      "('log_AVG_PREP_VID_TIME', 0.0)\n",
      "('log_TOTAL_MEALS_ORDERED', 0.0)\n",
      "('log_UNIQUE_MEALS_PURCH', -0.0)\n",
      "('log_CONTACTS_W_CUSTOMER_SERVICE', -0.0)\n",
      "('log_PRODUCT_CATEGORIES_VIEWED', 0.0)\n",
      "('log_CANCELLATIONS_BEFORE_NOON', 0.0)\n",
      "('log_CANCELLATIONS_AFTER_NOON', -0.0)\n",
      "('log_PC_LOGINS', -0.0)\n",
      "('log_MOBILE_LOGINS', -0.0)\n",
      "('log_WEEKLY_PLAN', -0.0)\n",
      "('log_EARLY_DELIVERIES', -0.0)\n",
      "('log_LATE_DELIVERIES', -0.0)\n",
      "('log_LARGEST_ORDER_SIZE', 0.0)\n",
      "('log_MASTER_CLASSES_ATTENDED', 0.0)\n",
      "('log_MEDIAN_MEAL_RATING', 0.0)\n",
      "('log_AVG_CLICKS_PER_VISIT', -0.0)\n",
      "('log_TOTAL_PHOTOS_VIEWED', 0.0)\n",
      "('Total_Cancel', -0.0)\n",
      "('has_Cancel', 0.0)\n",
      "('REG_WEEKLY_PLAN', -0.0)\n",
      "('YES_EARLY_DELIVERIES', 0.0)\n",
      "('YES_LATE_DELIVERIES', -0.0)\n",
      "('ATTEND_MASTER_CLASSES', 0.0)\n",
      "('YES_PHOTOS_VIEWED', 0.0)\n",
      "('junk', -0.0)\n",
      "('personal', 0.0)\n",
      "('professional', -0.0)\n"
     ]
    }
   ],
   "source": [
    "lasso_model_values = zip(chef_data.columns, lasso_fit.coef_.round(decimals = 2))\n",
    "\n",
    "\n",
    "# setting up a placeholder list to store model features\n",
    "lasso_model_lst = [('intercept', lasso_fit.intercept_.round(decimals = 2))]\n",
    "\n",
    "\n",
    "# printing out each feature-coefficient pair one by one\n",
    "for val in lasso_model_values:\n",
    "    lasso_model_lst.append(val)\n",
    "    \n",
    "\n",
    "# checking the results\n",
    "for pair in lasso_model_lst:\n",
    "    print(pair)"
   ]
  },
  {
   "cell_type": "markdown",
   "metadata": {},
   "source": [
    "<hr style=\"height:.9px;border:none;color:#333;background-color:#333;\" /><br>\n",
    "<h4>c) Dropping coefficients that are equal to zero.</h4>\n"
   ]
  },
  {
   "cell_type": "code",
   "execution_count": 48,
   "metadata": {},
   "outputs": [
    {
     "name": "stdout",
     "output_type": "stream",
     "text": [
      "('intercept', 2.95)\n",
      "('TOTAL_MEALS_ORDERED', 0.0)\n",
      "('CONTACTS_W_CUSTOMER_SERVICE', -0.0)\n",
      "('AVG_TIME_PER_SITE_VISIT', -0.0)\n",
      "('CANCELLATIONS_BEFORE_NOON', 0.0)\n",
      "('TASTES_AND_PREFERENCES', 0.0)\n",
      "('MOBILE_LOGINS', -0.0)\n",
      "('EARLY_DELIVERIES', -0.0)\n",
      "('PACKAGE_LOCKER', -0.0)\n",
      "('AVG_PREP_VID_TIME', 0.0)\n",
      "('MASTER_CLASSES_ATTENDED', 0.0)\n",
      "('AVG_CLICKS_PER_VISIT', -0.0)\n",
      "('log_AVG_TIME_PER_SITE_VISIT', -0.0)\n",
      "('log_TOTAL_MEALS_ORDERED', 0.0)\n",
      "('log_CONTACTS_W_CUSTOMER_SERVICE', -0.0)\n",
      "('log_CANCELLATIONS_BEFORE_NOON', 0.0)\n",
      "('log_PC_LOGINS', -0.0)\n",
      "('log_WEEKLY_PLAN', -0.0)\n",
      "('log_LATE_DELIVERIES', -0.0)\n",
      "('log_MASTER_CLASSES_ATTENDED', 0.0)\n",
      "('log_AVG_CLICKS_PER_VISIT', -0.0)\n",
      "('Total_Cancel', -0.0)\n",
      "('REG_WEEKLY_PLAN', -0.0)\n",
      "('YES_LATE_DELIVERIES', -0.0)\n",
      "('YES_PHOTOS_VIEWED', 0.0)\n",
      "('personal', 0.0)\n"
     ]
    }
   ],
   "source": [
    "# printing out each feature-coefficient pair one by one\n",
    "for feature, coefficient in lasso_model_lst:\n",
    "        \n",
    "        if coefficient == 0:\n",
    "            lasso_model_lst.remove((feature, coefficient))\n",
    "\n",
    "            \n",
    "# checking the results\n",
    "for pair in lasso_model_lst:\n",
    "    print(pair)"
   ]
  },
  {
   "cell_type": "markdown",
   "metadata": {},
   "source": [
    "<hr style=\"height:.9px;border:none;color:#333;background-color:#333;\" /><br>\n",
    "\n",
    "<h3>ARD model</h3>\n",
    "<h4>a) Develop a ARD model.</h4>"
   ]
  },
  {
   "cell_type": "code",
   "execution_count": 49,
   "metadata": {},
   "outputs": [
    {
     "name": "stdout",
     "output_type": "stream",
     "text": [
      "Training Score: 0.7596\n",
      "Testing Score : 0.7582\n",
      "ARD Train-Test Gap : 0.0014\n"
     ]
    }
   ],
   "source": [
    "# INSTANTIATING a model object\n",
    "ard_model = sklearn.linear_model.ARDRegression(normalize  = False)\n",
    "\n",
    "\n",
    "# FITTING the training data\n",
    "ard_fit = ard_model.fit(x_train_FULL, y_train_FULL)\n",
    "\n",
    "\n",
    "# PREDICTING on new data\n",
    "ard_pred = ard_fit.predict(x_test_FULL)\n",
    "\n",
    "\n",
    "print('Training Score:', ard_model.score(x_train_FULL, y_train_FULL).round(4))\n",
    "print('Testing Score :',  ard_model.score(x_test_FULL, y_test_FULL).round(4))\n",
    "\n",
    "\n",
    "# saving scoring data for future use\n",
    "ard_train_score = ard_model.score(x_train_FULL, y_train_FULL).round(4)\n",
    "ard_test_score  = ard_model.score(x_test_FULL, y_test_FULL).round(4)\n",
    "\n",
    "\n",
    "# displaying and saving the gap between training and testing\n",
    "print('ARD Train-Test Gap :', abs(ard_train_score - ard_test_score).round(4))\n",
    "ard_test_gap = abs(ard_train_score - ard_test_score).round(4)"
   ]
  },
  {
   "cell_type": "markdown",
   "metadata": {},
   "source": [
    "<hr style=\"height:.9px;border:none;color:#333;background-color:#333;\" /><br>\n",
    "<h4>b) Zipping each feature name to its coefficient.</h4>"
   ]
  },
  {
   "cell_type": "code",
   "execution_count": 50,
   "metadata": {},
   "outputs": [
    {
     "name": "stdout",
     "output_type": "stream",
     "text": [
      "('intercept', 1.94)\n",
      "('CROSS_SELL_SUCCESS', -0.01183)\n",
      "('TOTAL_MEALS_ORDERED', 0.0)\n",
      "('UNIQUE_MEALS_PURCH', 0.06263)\n",
      "('CONTACTS_W_CUSTOMER_SERVICE', 0.0)\n",
      "('PRODUCT_CATEGORIES_VIEWED', 0.00992)\n",
      "('AVG_TIME_PER_SITE_VISIT', 0.0)\n",
      "('MOBILE_NUMBER', 0.0)\n",
      "('CANCELLATIONS_BEFORE_NOON', 0.0)\n",
      "('CANCELLATIONS_AFTER_NOON', 0.0)\n",
      "('TASTES_AND_PREFERENCES', 0.0)\n",
      "('PC_LOGINS', 0.0)\n",
      "('MOBILE_LOGINS', 0.0)\n",
      "('WEEKLY_PLAN', 0.0)\n",
      "('EARLY_DELIVERIES', 0.0)\n",
      "('LATE_DELIVERIES', 0.0)\n",
      "('PACKAGE_LOCKER', -0.00996)\n",
      "('REFRIGERATED_LOCKER', 0.0)\n",
      "('AVG_PREP_VID_TIME', 0.0)\n",
      "('LARGEST_ORDER_SIZE', -0.01652)\n",
      "('MASTER_CLASSES_ATTENDED', 0.0)\n",
      "('MEDIAN_MEAL_RATING', 0.14246)\n",
      "('AVG_CLICKS_PER_VISIT', 0.0)\n",
      "('TOTAL_PHOTOS_VIEWED', 0.0)\n",
      "('log_AVG_TIME_PER_SITE_VISIT', 0.0)\n",
      "('log_AVG_PREP_VID_TIME', 0.57148)\n",
      "('log_TOTAL_MEALS_ORDERED', 0.25797)\n",
      "('log_UNIQUE_MEALS_PURCH', -0.95312)\n",
      "('log_CONTACTS_W_CUSTOMER_SERVICE', 0.0967)\n",
      "('log_PRODUCT_CATEGORIES_VIEWED', -0.11286)\n",
      "('log_CANCELLATIONS_BEFORE_NOON', 0.0)\n",
      "('log_CANCELLATIONS_AFTER_NOON', 0.0)\n",
      "('log_PC_LOGINS', -0.00146)\n",
      "('log_MOBILE_LOGINS', 0.0)\n",
      "('log_WEEKLY_PLAN', 0.0)\n",
      "('log_EARLY_DELIVERIES', 0.0)\n",
      "('log_LATE_DELIVERIES', 0.0)\n",
      "('log_LARGEST_ORDER_SIZE', 0.0)\n",
      "('log_MASTER_CLASSES_ATTENDED', 0.1137)\n",
      "('log_MEDIAN_MEAL_RATING', -0.64129)\n",
      "('log_AVG_CLICKS_PER_VISIT', -0.00079)\n",
      "('log_TOTAL_PHOTOS_VIEWED', 0.0224)\n",
      "('Total_Cancel', 0.0)\n",
      "('has_Cancel', 0.0)\n",
      "('REG_WEEKLY_PLAN', -0.00964)\n",
      "('YES_EARLY_DELIVERIES', 0.0)\n",
      "('YES_LATE_DELIVERIES', 0.0)\n",
      "('ATTEND_MASTER_CLASSES', 0.0)\n",
      "('YES_PHOTOS_VIEWED', -0.01764)\n",
      "('junk', 0.0)\n",
      "('personal', 0.0)\n",
      "('professional', 0.0)\n"
     ]
    }
   ],
   "source": [
    "ard_model_values = zip(chef_data.columns, ard_fit.coef_.round(decimals = 5))\n",
    "\n",
    "\n",
    "# setting up a placeholder list to store model features\n",
    "ard_model_lst = [('intercept', ard_fit.intercept_.round(decimals = 2))]\n",
    "\n",
    "\n",
    "# printing out each feature-coefficient pair one by one\n",
    "for val in ard_model_values:\n",
    "    ard_model_lst.append(val)\n",
    "    \n",
    "\n",
    "# checking the results\n",
    "for pair in ard_model_lst:\n",
    "    print(pair)"
   ]
  },
  {
   "cell_type": "markdown",
   "metadata": {},
   "source": [
    "<hr style=\"height:.9px;border:none;color:#333;background-color:#333;\" /><br>\n",
    "<h4>c) Dropping coefficients that are equal to zero.</h4>"
   ]
  },
  {
   "cell_type": "code",
   "execution_count": 51,
   "metadata": {},
   "outputs": [
    {
     "name": "stdout",
     "output_type": "stream",
     "text": [
      "('intercept', 1.94)\n",
      "('CROSS_SELL_SUCCESS', -0.01183)\n",
      "('UNIQUE_MEALS_PURCH', 0.06263)\n",
      "('PRODUCT_CATEGORIES_VIEWED', 0.00992)\n",
      "('MOBILE_NUMBER', 0.0)\n",
      "('CANCELLATIONS_AFTER_NOON', 0.0)\n",
      "('PC_LOGINS', 0.0)\n",
      "('WEEKLY_PLAN', 0.0)\n",
      "('LATE_DELIVERIES', 0.0)\n",
      "('PACKAGE_LOCKER', -0.00996)\n",
      "('AVG_PREP_VID_TIME', 0.0)\n",
      "('LARGEST_ORDER_SIZE', -0.01652)\n",
      "('MEDIAN_MEAL_RATING', 0.14246)\n",
      "('TOTAL_PHOTOS_VIEWED', 0.0)\n",
      "('log_AVG_PREP_VID_TIME', 0.57148)\n",
      "('log_TOTAL_MEALS_ORDERED', 0.25797)\n",
      "('log_UNIQUE_MEALS_PURCH', -0.95312)\n",
      "('log_CONTACTS_W_CUSTOMER_SERVICE', 0.0967)\n",
      "('log_PRODUCT_CATEGORIES_VIEWED', -0.11286)\n",
      "('log_CANCELLATIONS_AFTER_NOON', 0.0)\n",
      "('log_PC_LOGINS', -0.00146)\n",
      "('log_WEEKLY_PLAN', 0.0)\n",
      "('log_LATE_DELIVERIES', 0.0)\n",
      "('log_MASTER_CLASSES_ATTENDED', 0.1137)\n",
      "('log_MEDIAN_MEAL_RATING', -0.64129)\n",
      "('log_AVG_CLICKS_PER_VISIT', -0.00079)\n",
      "('log_TOTAL_PHOTOS_VIEWED', 0.0224)\n",
      "('has_Cancel', 0.0)\n",
      "('REG_WEEKLY_PLAN', -0.00964)\n",
      "('YES_LATE_DELIVERIES', 0.0)\n",
      "('YES_PHOTOS_VIEWED', -0.01764)\n",
      "('personal', 0.0)\n"
     ]
    }
   ],
   "source": [
    "# printing out each feature-coefficient pair one by one\n",
    "for feature, coefficient in ard_model_lst:\n",
    "        \n",
    "        if coefficient == 0:\n",
    "            ard_model_lst.remove((feature, coefficient))\n",
    "\n",
    "            \n",
    "# checking the results\n",
    "for pair in ard_model_lst:\n",
    "    print(pair)"
   ]
  },
  {
   "cell_type": "markdown",
   "metadata": {},
   "source": [
    "<hr style=\"height:.9px;border:none;color:#333;background-color:#333;\" /><br>\n",
    "<h3>K-Nearest Neighbors and Distance Standardization¶</h3>\n",
    "<h4>Distance Standardization</h4>\n",
    "<h4>a) Standardize chef_data</h4>"
   ]
  },
  {
   "cell_type": "code",
   "execution_count": 52,
   "metadata": {},
   "outputs": [
    {
     "data": {
      "text/html": [
       "<div>\n",
       "<style scoped>\n",
       "    .dataframe tbody tr th:only-of-type {\n",
       "        vertical-align: middle;\n",
       "    }\n",
       "\n",
       "    .dataframe tbody tr th {\n",
       "        vertical-align: top;\n",
       "    }\n",
       "\n",
       "    .dataframe thead th {\n",
       "        text-align: right;\n",
       "    }\n",
       "</style>\n",
       "<table border=\"1\" class=\"dataframe\">\n",
       "  <thead>\n",
       "    <tr style=\"text-align: right;\">\n",
       "      <th></th>\n",
       "      <th>0</th>\n",
       "      <th>1</th>\n",
       "      <th>2</th>\n",
       "      <th>3</th>\n",
       "      <th>4</th>\n",
       "      <th>5</th>\n",
       "      <th>6</th>\n",
       "      <th>7</th>\n",
       "      <th>8</th>\n",
       "      <th>9</th>\n",
       "      <th>10</th>\n",
       "      <th>11</th>\n",
       "      <th>12</th>\n",
       "      <th>13</th>\n",
       "      <th>14</th>\n",
       "      <th>15</th>\n",
       "      <th>16</th>\n",
       "      <th>17</th>\n",
       "      <th>18</th>\n",
       "      <th>19</th>\n",
       "      <th>20</th>\n",
       "      <th>21</th>\n",
       "      <th>22</th>\n",
       "      <th>23</th>\n",
       "      <th>24</th>\n",
       "      <th>25</th>\n",
       "      <th>26</th>\n",
       "      <th>27</th>\n",
       "      <th>28</th>\n",
       "      <th>29</th>\n",
       "      <th>30</th>\n",
       "      <th>31</th>\n",
       "      <th>32</th>\n",
       "    </tr>\n",
       "  </thead>\n",
       "  <tbody>\n",
       "    <tr>\n",
       "      <th>count</th>\n",
       "      <td>1946.00</td>\n",
       "      <td>1946.00</td>\n",
       "      <td>1946.00</td>\n",
       "      <td>1946.00</td>\n",
       "      <td>1946.00</td>\n",
       "      <td>1946.00</td>\n",
       "      <td>1946.00</td>\n",
       "      <td>1946.00</td>\n",
       "      <td>1946.00</td>\n",
       "      <td>1946.00</td>\n",
       "      <td>1946.00</td>\n",
       "      <td>1946.00</td>\n",
       "      <td>1946.00</td>\n",
       "      <td>1946.00</td>\n",
       "      <td>1946.00</td>\n",
       "      <td>1946.00</td>\n",
       "      <td>1946.00</td>\n",
       "      <td>1946.00</td>\n",
       "      <td>1946.00</td>\n",
       "      <td>1946.00</td>\n",
       "      <td>1946.00</td>\n",
       "      <td>1946.00</td>\n",
       "      <td>1946.00</td>\n",
       "      <td>1946.00</td>\n",
       "      <td>1946.00</td>\n",
       "      <td>1946.00</td>\n",
       "      <td>1946.00</td>\n",
       "      <td>1946.00</td>\n",
       "      <td>1946.00</td>\n",
       "      <td>1946.00</td>\n",
       "      <td>1946.0</td>\n",
       "      <td>1946.00</td>\n",
       "      <td>1946.00</td>\n",
       "    </tr>\n",
       "    <tr>\n",
       "      <th>mean</th>\n",
       "      <td>-0.00</td>\n",
       "      <td>0.00</td>\n",
       "      <td>-0.00</td>\n",
       "      <td>0.00</td>\n",
       "      <td>-0.00</td>\n",
       "      <td>-0.00</td>\n",
       "      <td>-0.00</td>\n",
       "      <td>0.00</td>\n",
       "      <td>-0.00</td>\n",
       "      <td>-0.00</td>\n",
       "      <td>-0.00</td>\n",
       "      <td>0.00</td>\n",
       "      <td>-0.00</td>\n",
       "      <td>-0.00</td>\n",
       "      <td>0.00</td>\n",
       "      <td>-0.00</td>\n",
       "      <td>0.00</td>\n",
       "      <td>0.00</td>\n",
       "      <td>0.00</td>\n",
       "      <td>0.00</td>\n",
       "      <td>0.00</td>\n",
       "      <td>-0.00</td>\n",
       "      <td>0.00</td>\n",
       "      <td>0.00</td>\n",
       "      <td>-0.00</td>\n",
       "      <td>0.00</td>\n",
       "      <td>0.00</td>\n",
       "      <td>-0.00</td>\n",
       "      <td>0.00</td>\n",
       "      <td>0.00</td>\n",
       "      <td>0.0</td>\n",
       "      <td>-0.00</td>\n",
       "      <td>-0.00</td>\n",
       "    </tr>\n",
       "    <tr>\n",
       "      <th>std</th>\n",
       "      <td>1.00</td>\n",
       "      <td>1.00</td>\n",
       "      <td>1.00</td>\n",
       "      <td>1.00</td>\n",
       "      <td>1.00</td>\n",
       "      <td>1.00</td>\n",
       "      <td>1.00</td>\n",
       "      <td>1.00</td>\n",
       "      <td>1.00</td>\n",
       "      <td>1.00</td>\n",
       "      <td>1.00</td>\n",
       "      <td>1.00</td>\n",
       "      <td>1.00</td>\n",
       "      <td>1.00</td>\n",
       "      <td>1.00</td>\n",
       "      <td>1.00</td>\n",
       "      <td>1.00</td>\n",
       "      <td>1.00</td>\n",
       "      <td>1.00</td>\n",
       "      <td>1.00</td>\n",
       "      <td>1.00</td>\n",
       "      <td>1.00</td>\n",
       "      <td>1.00</td>\n",
       "      <td>1.00</td>\n",
       "      <td>1.00</td>\n",
       "      <td>1.00</td>\n",
       "      <td>1.00</td>\n",
       "      <td>1.00</td>\n",
       "      <td>1.00</td>\n",
       "      <td>1.00</td>\n",
       "      <td>1.0</td>\n",
       "      <td>1.00</td>\n",
       "      <td>1.00</td>\n",
       "    </tr>\n",
       "    <tr>\n",
       "      <th>min</th>\n",
       "      <td>-1.45</td>\n",
       "      <td>-1.15</td>\n",
       "      <td>-1.56</td>\n",
       "      <td>-2.62</td>\n",
       "      <td>-1.44</td>\n",
       "      <td>-1.43</td>\n",
       "      <td>-2.68</td>\n",
       "      <td>-0.91</td>\n",
       "      <td>-0.38</td>\n",
       "      <td>-1.58</td>\n",
       "      <td>-2.61</td>\n",
       "      <td>-2.80</td>\n",
       "      <td>-0.83</td>\n",
       "      <td>-0.64</td>\n",
       "      <td>-1.08</td>\n",
       "      <td>-0.74</td>\n",
       "      <td>-0.36</td>\n",
       "      <td>-2.37</td>\n",
       "      <td>-2.22</td>\n",
       "      <td>-0.94</td>\n",
       "      <td>-2.37</td>\n",
       "      <td>-3.65</td>\n",
       "      <td>-0.59</td>\n",
       "      <td>-0.98</td>\n",
       "      <td>-1.55</td>\n",
       "      <td>-1.78</td>\n",
       "      <td>-0.82</td>\n",
       "      <td>-2.26</td>\n",
       "      <td>-1.04</td>\n",
       "      <td>-0.84</td>\n",
       "      <td>-0.5</td>\n",
       "      <td>-0.89</td>\n",
       "      <td>-0.75</td>\n",
       "    </tr>\n",
       "    <tr>\n",
       "      <th>25%</th>\n",
       "      <td>-1.45</td>\n",
       "      <td>-0.64</td>\n",
       "      <td>-0.76</td>\n",
       "      <td>-0.87</td>\n",
       "      <td>-0.78</td>\n",
       "      <td>-0.44</td>\n",
       "      <td>0.37</td>\n",
       "      <td>-0.91</td>\n",
       "      <td>-0.38</td>\n",
       "      <td>-1.58</td>\n",
       "      <td>-0.89</td>\n",
       "      <td>-0.90</td>\n",
       "      <td>-0.76</td>\n",
       "      <td>-0.64</td>\n",
       "      <td>-0.72</td>\n",
       "      <td>-0.74</td>\n",
       "      <td>-0.36</td>\n",
       "      <td>-0.73</td>\n",
       "      <td>-0.93</td>\n",
       "      <td>-0.94</td>\n",
       "      <td>-1.05</td>\n",
       "      <td>-0.65</td>\n",
       "      <td>-0.59</td>\n",
       "      <td>-0.98</td>\n",
       "      <td>-1.55</td>\n",
       "      <td>0.56</td>\n",
       "      <td>-0.82</td>\n",
       "      <td>0.44</td>\n",
       "      <td>-1.04</td>\n",
       "      <td>-0.84</td>\n",
       "      <td>-0.5</td>\n",
       "      <td>-0.89</td>\n",
       "      <td>-0.75</td>\n",
       "    </tr>\n",
       "    <tr>\n",
       "      <th>50%</th>\n",
       "      <td>0.69</td>\n",
       "      <td>-0.26</td>\n",
       "      <td>0.04</td>\n",
       "      <td>0.01</td>\n",
       "      <td>-0.13</td>\n",
       "      <td>-0.09</td>\n",
       "      <td>0.37</td>\n",
       "      <td>-0.26</td>\n",
       "      <td>-0.38</td>\n",
       "      <td>0.63</td>\n",
       "      <td>0.83</td>\n",
       "      <td>-0.90</td>\n",
       "      <td>-0.32</td>\n",
       "      <td>-0.64</td>\n",
       "      <td>-0.35</td>\n",
       "      <td>-0.74</td>\n",
       "      <td>-0.36</td>\n",
       "      <td>-0.10</td>\n",
       "      <td>-0.28</td>\n",
       "      <td>0.62</td>\n",
       "      <td>0.27</td>\n",
       "      <td>-0.22</td>\n",
       "      <td>-0.59</td>\n",
       "      <td>-0.35</td>\n",
       "      <td>0.65</td>\n",
       "      <td>0.56</td>\n",
       "      <td>-0.82</td>\n",
       "      <td>0.44</td>\n",
       "      <td>0.96</td>\n",
       "      <td>-0.84</td>\n",
       "      <td>-0.5</td>\n",
       "      <td>-0.89</td>\n",
       "      <td>-0.75</td>\n",
       "    </tr>\n",
       "    <tr>\n",
       "      <th>75%</th>\n",
       "      <td>0.69</td>\n",
       "      <td>0.37</td>\n",
       "      <td>0.84</td>\n",
       "      <td>0.45</td>\n",
       "      <td>0.86</td>\n",
       "      <td>0.28</td>\n",
       "      <td>0.37</td>\n",
       "      <td>0.38</td>\n",
       "      <td>-0.38</td>\n",
       "      <td>0.63</td>\n",
       "      <td>0.83</td>\n",
       "      <td>0.99</td>\n",
       "      <td>0.12</td>\n",
       "      <td>0.65</td>\n",
       "      <td>0.38</td>\n",
       "      <td>1.35</td>\n",
       "      <td>-0.36</td>\n",
       "      <td>0.47</td>\n",
       "      <td>0.36</td>\n",
       "      <td>0.62</td>\n",
       "      <td>0.27</td>\n",
       "      <td>0.64</td>\n",
       "      <td>0.37</td>\n",
       "      <td>0.27</td>\n",
       "      <td>0.65</td>\n",
       "      <td>0.56</td>\n",
       "      <td>1.22</td>\n",
       "      <td>0.44</td>\n",
       "      <td>0.96</td>\n",
       "      <td>1.19</td>\n",
       "      <td>-0.5</td>\n",
       "      <td>1.12</td>\n",
       "      <td>1.34</td>\n",
       "    </tr>\n",
       "    <tr>\n",
       "      <th>max</th>\n",
       "      <td>0.69</td>\n",
       "      <td>7.57</td>\n",
       "      <td>5.63</td>\n",
       "      <td>4.83</td>\n",
       "      <td>1.52</td>\n",
       "      <td>24.81</td>\n",
       "      <td>0.37</td>\n",
       "      <td>7.48</td>\n",
       "      <td>6.56</td>\n",
       "      <td>0.63</td>\n",
       "      <td>2.56</td>\n",
       "      <td>2.89</td>\n",
       "      <td>3.00</td>\n",
       "      <td>3.24</td>\n",
       "      <td>5.84</td>\n",
       "      <td>1.35</td>\n",
       "      <td>2.80</td>\n",
       "      <td>8.37</td>\n",
       "      <td>4.24</td>\n",
       "      <td>3.73</td>\n",
       "      <td>2.92</td>\n",
       "      <td>2.35</td>\n",
       "      <td>8.25</td>\n",
       "      <td>7.10</td>\n",
       "      <td>0.65</td>\n",
       "      <td>0.56</td>\n",
       "      <td>1.22</td>\n",
       "      <td>0.44</td>\n",
       "      <td>0.96</td>\n",
       "      <td>1.19</td>\n",
       "      <td>2.0</td>\n",
       "      <td>1.12</td>\n",
       "      <td>1.34</td>\n",
       "    </tr>\n",
       "  </tbody>\n",
       "</table>\n",
       "</div>"
      ],
      "text/plain": [
       "            0        1        2        3        4        5        6        7        8        9        10       11       12       13       14       15       16       17       18       19       20       21       22       23       24       25       26       27       28       29      30       31       32\n",
       "count  1946.00  1946.00  1946.00  1946.00  1946.00  1946.00  1946.00  1946.00  1946.00  1946.00  1946.00  1946.00  1946.00  1946.00  1946.00  1946.00  1946.00  1946.00  1946.00  1946.00  1946.00  1946.00  1946.00  1946.00  1946.00  1946.00  1946.00  1946.00  1946.00  1946.00  1946.0  1946.00  1946.00\n",
       "mean     -0.00     0.00    -0.00     0.00    -0.00    -0.00    -0.00     0.00    -0.00    -0.00    -0.00     0.00    -0.00    -0.00     0.00    -0.00     0.00     0.00     0.00     0.00     0.00    -0.00     0.00     0.00    -0.00     0.00     0.00    -0.00     0.00     0.00     0.0    -0.00    -0.00\n",
       "std       1.00     1.00     1.00     1.00     1.00     1.00     1.00     1.00     1.00     1.00     1.00     1.00     1.00     1.00     1.00     1.00     1.00     1.00     1.00     1.00     1.00     1.00     1.00     1.00     1.00     1.00     1.00     1.00     1.00     1.00     1.0     1.00     1.00\n",
       "min      -1.45    -1.15    -1.56    -2.62    -1.44    -1.43    -2.68    -0.91    -0.38    -1.58    -2.61    -2.80    -0.83    -0.64    -1.08    -0.74    -0.36    -2.37    -2.22    -0.94    -2.37    -3.65    -0.59    -0.98    -1.55    -1.78    -0.82    -2.26    -1.04    -0.84    -0.5    -0.89    -0.75\n",
       "25%      -1.45    -0.64    -0.76    -0.87    -0.78    -0.44     0.37    -0.91    -0.38    -1.58    -0.89    -0.90    -0.76    -0.64    -0.72    -0.74    -0.36    -0.73    -0.93    -0.94    -1.05    -0.65    -0.59    -0.98    -1.55     0.56    -0.82     0.44    -1.04    -0.84    -0.5    -0.89    -0.75\n",
       "50%       0.69    -0.26     0.04     0.01    -0.13    -0.09     0.37    -0.26    -0.38     0.63     0.83    -0.90    -0.32    -0.64    -0.35    -0.74    -0.36    -0.10    -0.28     0.62     0.27    -0.22    -0.59    -0.35     0.65     0.56    -0.82     0.44     0.96    -0.84    -0.5    -0.89    -0.75\n",
       "75%       0.69     0.37     0.84     0.45     0.86     0.28     0.37     0.38    -0.38     0.63     0.83     0.99     0.12     0.65     0.38     1.35    -0.36     0.47     0.36     0.62     0.27     0.64     0.37     0.27     0.65     0.56     1.22     0.44     0.96     1.19    -0.5     1.12     1.34\n",
       "max       0.69     7.57     5.63     4.83     1.52    24.81     0.37     7.48     6.56     0.63     2.56     2.89     3.00     3.24     5.84     1.35     2.80     8.37     4.24     3.73     2.92     2.35     8.25     7.10     0.65     0.56     1.22     0.44     0.96     1.19     2.0     1.12     1.34"
      ]
     },
     "execution_count": 52,
     "metadata": {},
     "output_type": "execute_result"
    }
   ],
   "source": [
    "# declaring set of x-variables for KNN (before log transformation)\n",
    "x_variables_knn = [                 \n",
    "                'CROSS_SELL_SUCCESS',\n",
    "                'TOTAL_MEALS_ORDERED',\n",
    "                'UNIQUE_MEALS_PURCH',\n",
    "                'CONTACTS_W_CUSTOMER_SERVICE',\n",
    "                'PRODUCT_CATEGORIES_VIEWED',\n",
    "                'AVG_TIME_PER_SITE_VISIT',\n",
    "                'MOBILE_NUMBER',\n",
    "                'CANCELLATIONS_BEFORE_NOON',\n",
    "                'CANCELLATIONS_AFTER_NOON',\n",
    "                'TASTES_AND_PREFERENCES',\n",
    "                'PC_LOGINS',\n",
    "                'MOBILE_LOGINS',\n",
    "                'WEEKLY_PLAN',\n",
    "                'EARLY_DELIVERIES',\n",
    "                'LATE_DELIVERIES',\n",
    "                'PACKAGE_LOCKER',\n",
    "                'REFRIGERATED_LOCKER',\n",
    "                'AVG_PREP_VID_TIME',\n",
    "                'LARGEST_ORDER_SIZE',\n",
    "                'MASTER_CLASSES_ATTENDED',\n",
    "                'MEDIAN_MEAL_RATING',\n",
    "                'AVG_CLICKS_PER_VISIT',\n",
    "                'TOTAL_PHOTOS_VIEWED',\n",
    "                'Total_Cancel',\n",
    "                'has_Cancel',\n",
    "                'REG_WEEKLY_PLAN',\n",
    "                'YES_EARLY_DELIVERIES',\n",
    "                'YES_LATE_DELIVERIES',\n",
    "                'ATTEND_MASTER_CLASSES',\n",
    "                'YES_PHOTOS_VIEWED',\n",
    "                'junk',\n",
    "                'personal',\n",
    "                'professional']\n",
    "\n",
    "\n",
    "chef_data_knn = chef_data[x_variables_knn]\n",
    "\n",
    "# INSTANTIATING a StandardScaler() object\n",
    "scaler = StandardScaler()\n",
    "\n",
    "\n",
    "# FITTING the scaler with the data\n",
    "scaler.fit(chef_data_knn)\n",
    "\n",
    "\n",
    "# TRANSFORMING our data after fit\n",
    "X_scaled = scaler.transform(chef_data_knn)\n",
    "\n",
    "\n",
    "# converting scaled data into a DataFrame\n",
    "X_scaled_df = pd.DataFrame(X_scaled)\n",
    "\n",
    "\n",
    "# checking the results\n",
    "X_scaled_df.describe().round(2)\n"
   ]
  },
  {
   "cell_type": "markdown",
   "metadata": {},
   "source": [
    "<h4>b) Adding labels to the scaled DataFrame</h4>"
   ]
  },
  {
   "cell_type": "code",
   "execution_count": 53,
   "metadata": {
    "scrolled": false
   },
   "outputs": [
    {
     "name": "stdout",
     "output_type": "stream",
     "text": [
      "\n",
      "Dataset BEFORE Scaling\n",
      "----------------------\n",
      "CROSS_SELL_SUCCESS                 0.218020\n",
      "TOTAL_MEALS_ORDERED             3057.599946\n",
      "UNIQUE_MEALS_PURCH                 6.257663\n",
      "CONTACTS_W_CUSTOMER_SERVICE        5.201168\n",
      "PRODUCT_CATEGORIES_VIEWED          9.261178\n",
      "AVG_TIME_PER_SITE_VISIT         3884.497383\n",
      "MOBILE_NUMBER                      0.107344\n",
      "CANCELLATIONS_BEFORE_NOON          2.400263\n",
      "CANCELLATIONS_AFTER_NOON           0.186736\n",
      "TASTES_AND_PREFERENCES             0.204082\n",
      "PC_LOGINS                          0.337105\n",
      "MOBILE_LOGINS                      0.278218\n",
      "WEEKLY_PLAN                      184.139876\n",
      "EARLY_DELIVERIES                   5.373137\n",
      "LATE_DELIVERIES                    7.528947\n",
      "PACKAGE_LOCKER                     0.229000\n",
      "REFRIGERATED_LOCKER                0.100272\n",
      "AVG_PREP_VID_TIME               2443.767133\n",
      "LARGEST_ORDER_SIZE                 2.400232\n",
      "MASTER_CLASSES_ATTENDED            0.411780\n",
      "MEDIAN_MEAL_RATING                 0.572040\n",
      "AVG_CLICKS_PER_VISIT               5.444177\n",
      "TOTAL_PHOTOS_VIEWED            32749.275410\n",
      "Total_Cancel                       2.594406\n",
      "has_Cancel                         0.207538\n",
      "REG_WEEKLY_PLAN                    0.182656\n",
      "YES_EARLY_DELIVERIES               0.240062\n",
      "YES_LATE_DELIVERIES                0.137054\n",
      "ATTEND_MASTER_CLASSES              0.249556\n",
      "YES_PHOTOS_VIEWED                  0.242635\n",
      "junk                               0.159938\n",
      "personal                           0.246688\n",
      "professional                       0.229738\n",
      "dtype: float64\n",
      "\n",
      "\n",
      "Dataset AFTER Scaling\n",
      "----------------------\n",
      "CROSS_SELL_SUCCESS             1.0\n",
      "TOTAL_MEALS_ORDERED            1.0\n",
      "UNIQUE_MEALS_PURCH             1.0\n",
      "CONTACTS_W_CUSTOMER_SERVICE    1.0\n",
      "PRODUCT_CATEGORIES_VIEWED      1.0\n",
      "AVG_TIME_PER_SITE_VISIT        1.0\n",
      "MOBILE_NUMBER                  1.0\n",
      "CANCELLATIONS_BEFORE_NOON      1.0\n",
      "CANCELLATIONS_AFTER_NOON       1.0\n",
      "TASTES_AND_PREFERENCES         1.0\n",
      "PC_LOGINS                      1.0\n",
      "MOBILE_LOGINS                  1.0\n",
      "WEEKLY_PLAN                    1.0\n",
      "EARLY_DELIVERIES               1.0\n",
      "LATE_DELIVERIES                1.0\n",
      "PACKAGE_LOCKER                 1.0\n",
      "REFRIGERATED_LOCKER            1.0\n",
      "AVG_PREP_VID_TIME              1.0\n",
      "LARGEST_ORDER_SIZE             1.0\n",
      "MASTER_CLASSES_ATTENDED        1.0\n",
      "MEDIAN_MEAL_RATING             1.0\n",
      "AVG_CLICKS_PER_VISIT           1.0\n",
      "TOTAL_PHOTOS_VIEWED            1.0\n",
      "Total_Cancel                   1.0\n",
      "has_Cancel                     1.0\n",
      "REG_WEEKLY_PLAN                1.0\n",
      "YES_EARLY_DELIVERIES           1.0\n",
      "YES_LATE_DELIVERIES            1.0\n",
      "ATTEND_MASTER_CLASSES          1.0\n",
      "YES_PHOTOS_VIEWED              1.0\n",
      "junk                           1.0\n",
      "personal                       1.0\n",
      "professional                   1.0\n",
      "dtype: float64\n",
      "\n"
     ]
    }
   ],
   "source": [
    "X_scaled_df.columns = chef_data_knn.columns\n",
    "\n",
    "#  Checking pre- and post-scaling of the data\n",
    "print(f\"\"\"\n",
    "Dataset BEFORE Scaling\n",
    "----------------------\n",
    "{np.var(chef_data_knn)}\n",
    "\n",
    "\n",
    "Dataset AFTER Scaling\n",
    "----------------------\n",
    "{np.var(X_scaled_df)}\n",
    "\"\"\")"
   ]
  },
  {
   "cell_type": "markdown",
   "metadata": {},
   "source": [
    "<hr style=\"height:.9px;border:none;color:#333;background-color:#333;\" /><br>\n",
    "\n",
    "<h4>k-Nearest Neighbors with Non-Standardized Data</h4>\n",
    "<h4>a) Develop training and testing sets using the non-standardized dataset.</h4>"
   ]
  },
  {
   "cell_type": "code",
   "execution_count": 54,
   "metadata": {},
   "outputs": [],
   "source": [
    "# this is the exact code we were using before\n",
    "X_train, X_test, y_train, y_test = train_test_split(\n",
    "            chef_data_knn,\n",
    "            chef_target,\n",
    "            test_size = 0.25,\n",
    "            random_state = 219)"
   ]
  },
  {
   "cell_type": "markdown",
   "metadata": {},
   "source": [
    "<hr style=\"height:.9px;border:none;color:#333;background-color:#333;\" /><br>\n",
    "\n",
    "<h4>b) Find the optimal number of neighbors based on test accuracy.</h4><br>"
   ]
  },
  {
   "cell_type": "code",
   "execution_count": 55,
   "metadata": {},
   "outputs": [
    {
     "name": "stdout",
     "output_type": "stream",
     "text": [
      "The optimal number of neighbors is 12\n"
     ]
    }
   ],
   "source": [
    "# change neighbors = 51\n",
    "# creating lists for training set accuracy and test set accuracy\n",
    "training_accuracy = []\n",
    "test_accuracy     = []\n",
    "\n",
    "\n",
    "# building a visualization of 1 to 51 neighbors\n",
    "neighbors_settings = range(1, 51)  # diff\n",
    "\n",
    "\n",
    "for n_neighbors in neighbors_settings:\n",
    "    # Building the model\n",
    "    clf = KNeighborsRegressor(n_neighbors = n_neighbors)\n",
    "    clf.fit(X_train, y_train)\n",
    "    \n",
    "    # Recording the training set accuracy\n",
    "    training_accuracy.append(clf.score(X_train, y_train))\n",
    "    \n",
    "    # Recording the generalization accuracy\n",
    "    test_accuracy.append(clf.score(X_test, y_test))\n",
    "\n",
    "\n",
    "# finding the optimal number of neighbors\n",
    "opt_neighbors1 = test_accuracy.index(max(test_accuracy)) + 1 # +1 because human start counting from 1 which is diff than Python (0)\n",
    "print(f\"\"\"The optimal number of neighbors is {opt_neighbors1}\"\"\")"
   ]
  },
  {
   "cell_type": "markdown",
   "metadata": {},
   "source": [
    "<hr style=\"height:.9px;border:none;color:#333;background-color:#333;\" /><br>\n",
    "\n",
    "<h4>c) Develop a k-Nearest Neighbors model.</h4><br>"
   ]
  },
  {
   "cell_type": "code",
   "execution_count": 56,
   "metadata": {},
   "outputs": [
    {
     "name": "stdout",
     "output_type": "stream",
     "text": [
      "KNN Training Score: 0.6755\n",
      "KNN Testing Score : 0.664\n",
      "KNN Train-Test Gap: 0.0115\n"
     ]
    }
   ],
   "source": [
    "# INSTANTIATING a KNN model object\n",
    "knn_reg = KNeighborsRegressor(algorithm = 'auto',\n",
    "                              n_neighbors = opt_neighbors1 )\n",
    "\n",
    "\n",
    "# FITTING to the training data\n",
    "knn_fit = knn_reg.fit(X_train, y_train)\n",
    "\n",
    "\n",
    "# PREDICTING on new data\n",
    "knn_reg_pred = knn_fit.predict(X_test)\n",
    "\n",
    "\n",
    "# SCORING the results\n",
    "print('KNN Training Score:', knn_reg.score(X_train, y_train).round(4))\n",
    "print('KNN Testing Score :',  knn_reg.score(X_test, y_test).round(4))\n",
    "\n",
    "\n",
    "# saving scoring data for future use\n",
    "knn_reg_score_train = knn_reg.score(X_train, y_train).round(4)\n",
    "knn_reg_score_test  = knn_reg.score(X_test, y_test).round(4)\n",
    "\n",
    "\n",
    "# displaying and saving the gap between training and testing\n",
    "print('KNN Train-Test Gap:', abs(knn_reg_score_train - knn_reg_score_test).round(4))\n",
    "knn_reg_test_gap = abs(knn_reg_score_train - knn_reg_score_test).round(4)\n"
   ]
  },
  {
   "cell_type": "markdown",
   "metadata": {},
   "source": [
    "<hr style=\"height:.9px;border:none;color:#333;background-color:#333;\" /><br>\n",
    "\n",
    "<h4>k-Nearest Neighbors with Standardized Data</h4>\n",
    "<h4>a) Develop training and testing sets using the standardized dataset.</h4>"
   ]
  },
  {
   "cell_type": "code",
   "execution_count": 57,
   "metadata": {},
   "outputs": [],
   "source": [
    "X_train_STAND, X_test_STAND, y_train_STAND, y_test_STAND = train_test_split(\n",
    "            X_scaled_df,\n",
    "            chef_target,\n",
    "            test_size = 0.25,\n",
    "            random_state = 219)\n"
   ]
  },
  {
   "cell_type": "markdown",
   "metadata": {},
   "source": [
    "<hr style=\"height:.9px;border:none;color:#333;background-color:#333;\" /><br>\n",
    "\n",
    "<h4>b) Find the optimal number of neighbors based on test accuracy.</h4>"
   ]
  },
  {
   "cell_type": "code",
   "execution_count": 58,
   "metadata": {},
   "outputs": [
    {
     "name": "stdout",
     "output_type": "stream",
     "text": [
      "The optimal number of neighbors is 21\n"
     ]
    }
   ],
   "source": [
    "# creating lists for training set accuracy and test set accuracy\n",
    "training_accuracy = []\n",
    "test_accuracy = []\n",
    "\n",
    "\n",
    "# building a visualization of 1 to 51 neighbors\n",
    "neighbors_settings = range(1, 51)\n",
    "\n",
    "\n",
    "for n_neighbors in neighbors_settings:\n",
    "    # Building the model\n",
    "    clf = KNeighborsRegressor(n_neighbors = n_neighbors)\n",
    "    clf.fit(X_train_STAND, y_train_STAND)\n",
    "    \n",
    "    # Recording the training set accuracy\n",
    "    training_accuracy.append(clf.score(X_train_STAND, y_train_STAND))\n",
    "    \n",
    "    # Recording the generalization accuracy\n",
    "    test_accuracy.append(clf.score(X_test_STAND, y_test_STAND))\n",
    "\n",
    "\n",
    "\n",
    "# finding the optimal number of neighbors\n",
    "opt_neighbors2 = test_accuracy.index(max(test_accuracy)) + 1\n",
    "print(f\"\"\"The optimal number of neighbors is {opt_neighbors2}\"\"\")"
   ]
  },
  {
   "cell_type": "markdown",
   "metadata": {},
   "source": [
    "<hr style=\"height:.9px;border:none;color:#333;background-color:#333;\" /><br>\n",
    "\n",
    "<h4>c) Develop a KNN algorithm based on the standardized data.</h4>"
   ]
  },
  {
   "cell_type": "code",
   "execution_count": 59,
   "metadata": {},
   "outputs": [
    {
     "name": "stdout",
     "output_type": "stream",
     "text": [
      "KNN Training Score: 0.6291\n",
      "KNN Testing Score : 0.586\n",
      "KNN Train-Test Gap: 0.0431\n"
     ]
    }
   ],
   "source": [
    "# INSTANTIATING a model with the optimal number of neighbors\n",
    "knn_stand = KNeighborsRegressor(algorithm = 'auto',\n",
    "                                n_neighbors = opt_neighbors2)\n",
    "\n",
    "\n",
    "\n",
    "# FITTING the model based on the training data\n",
    "knn_stand_fit = knn_stand.fit(X_train_STAND, y_train_STAND)\n",
    "\n",
    "\n",
    "\n",
    "# PREDITCING on new data\n",
    "knn_stand_pred = knn_stand_fit.predict(X_test_STAND)\n",
    "\n",
    "\n",
    "\n",
    "# SCORING the results\n",
    "print('KNN Training Score:', knn_stand.score(X_train_STAND, y_train_STAND).round(4))\n",
    "print('KNN Testing Score :',  knn_stand.score(X_test_STAND, y_test_STAND).round(4))\n",
    "\n",
    "\n",
    "# saving scoring data for future use\n",
    "knn_stand_score_train = knn_stand.score(X_train_STAND, y_train_STAND).round(4)\n",
    "knn_stand_score_test  = knn_stand.score(X_test_STAND, y_test_STAND).round(4)\n",
    "\n",
    "\n",
    "# displaying and saving the gap between training and testing\n",
    "print('KNN Train-Test Gap:', abs(knn_stand_score_train - knn_stand_score_test).round(4))\n",
    "knn_stand_test_gap = abs(knn_stand_score_train - knn_stand_score_test).round(4)"
   ]
  },
  {
   "cell_type": "markdown",
   "metadata": {},
   "source": [
    "<hr style=\"height:.9px;border:none;color:#333;background-color:#333;\" /><br>\n",
    "\n",
    "<h4>Comparing Results for KNN</h4>\n"
   ]
  },
  {
   "cell_type": "code",
   "execution_count": 60,
   "metadata": {},
   "outputs": [
    {
     "name": "stdout",
     "output_type": "stream",
     "text": [
      "\n",
      "KNN Model             Neighbors     Train Score      Test Score    Train-Test Gap\n",
      "----------------      ---------     ----------       ----------    --------------\n",
      "Non-Standardized      12             0.6755           0.664        0.0115\n",
      "Standardized          21             0.6291           0.586        0.0431\n",
      "\n"
     ]
    }
   ],
   "source": [
    "print(f\"\"\"\n",
    "KNN Model             Neighbors     Train Score      Test Score    Train-Test Gap\n",
    "----------------      ---------     ----------       ----------    --------------\n",
    "Non-Standardized      {opt_neighbors1}             {knn_reg_score_train}           {knn_reg_score_test}        {knn_reg_test_gap}\n",
    "Standardized          {opt_neighbors2}             {knn_stand_score_train}           {knn_stand_score_test}        {knn_stand_test_gap}\n",
    "\"\"\")\n",
    "\n",
    "\n",
    "# creating a dictionary for model results\n",
    "model_performance = {\n",
    "    \n",
    "    'Model Type'    : ['KNN_Not_Standardized', 'KNN_Standardized'],\n",
    "           \n",
    "    \n",
    "    'Training' : [knn_reg_score_train,\n",
    "                  \n",
    "                  knn_stand_score_train],\n",
    "           \n",
    "    \n",
    "    'Testing'  : [knn_reg_score_test,\n",
    "               \n",
    "                  knn_stand_score_test],\n",
    "                    \n",
    "    \n",
    "    'Train-Test Gap' : [knn_reg_test_gap,\n",
    "                      \n",
    "                        knn_stand_test_gap],\n",
    "                   \n",
    "    \n",
    "    'Model Size' : [\"NA\", \" NA\", \" NA\"],\n",
    "                    \n",
    "    'Model'      : [\"NA\", \"NA\", \"NA\"] }"
   ]
  },
  {
   "cell_type": "markdown",
   "metadata": {},
   "source": [
    "<hr style=\"height:.9px;border:none;color:#333;background-color:#333;\" /><br>\n",
    "\n",
    "<h3>Comparing Results</h3>"
   ]
  },
  {
   "cell_type": "code",
   "execution_count": 61,
   "metadata": {},
   "outputs": [
    {
     "name": "stdout",
     "output_type": "stream",
     "text": [
      "\n",
      "Model      Train Score      Test Score      Train-Test Gap      Model Size      \n",
      "-----      -----------      ----------      --------------      ----------      \n",
      "OLS        0.7177           0.7209            0.0032               11        \n",
      "Lasso      0.5231           0.5565            0.0334               26     \n",
      "ARD        0.7596           0.7582            0.0014               32       \n",
      "KNN        0.6291           0.586             0.0431               NA\n",
      "\n"
     ]
    }
   ],
   "source": [
    "print(f\"\"\"\n",
    "Model      Train Score      Test Score      Train-Test Gap      Model Size      \n",
    "-----      -----------      ----------      --------------      ----------      \n",
    "OLS        {lr_train_score}           {lr_test_score}            {lr_test_gap}               {len(lr_model_lst)}        \n",
    "Lasso      {lasso_train_score}           {lasso_test_score}            {lasso_test_gap}               {len(lasso_model_lst)}     \n",
    "ARD        {ard_train_score}           {ard_test_score}            {ard_test_gap}               {len(ard_model_lst)}       \n",
    "KNN        {knn_stand_score_train}           {knn_stand_score_test}             {knn_stand_test_gap}               NA\n",
    "\"\"\")\n",
    "\n",
    "\n",
    "# creating a dictionary for model results\n",
    "model_performance = {\n",
    "    \n",
    "    'Model Type'    : ['OLS', 'Lasso', 'ARD','KNN'],\n",
    "           \n",
    "    'Training' : [lr_train_score, lasso_train_score,\n",
    "                 ard_train_score, knn_stand_score_train],\n",
    "           \n",
    "    'Testing'  : [lr_test_score, lasso_test_score,\n",
    "                  ard_test_score, knn_stand_score_test],\n",
    "                    \n",
    "    'Train-Test Gap' : [lr_test_gap, lasso_test_gap,\n",
    "                       ard_test_gap, knn_stand_test_gap ],\n",
    "                    \n",
    "    'Model Size' : [len(lr_model_lst), len(lasso_model_lst),\n",
    "                    len(ard_model_lst), 'NA'],\n",
    "                    \n",
    "    'Model' : [lr_model_lst, lasso_model_lst, ard_model_lst, 'NA']}\n",
    "\n",
    "\n",
    "# converting model_performance into a DataFrame\n",
    "model_performance = pd.DataFrame(model_performance)\n",
    "\n",
    "\n",
    "# sending model results to Excel\n",
    "model_performance.to_excel('./model_results/linear_model_performance.xlsx', index = False)"
   ]
  },
  {
   "cell_type": "markdown",
   "metadata": {},
   "source": [
    "<hr style=\"height:.9px;border:none;color:#333;background-color:#333;\" /><br>\n",
    "\n",
    "<h3>Final Model</h3>"
   ]
  },
  {
   "cell_type": "code",
   "execution_count": 62,
   "metadata": {
    "scrolled": false
   },
   "outputs": [
    {
     "name": "stdout",
     "output_type": "stream",
     "text": [
      "\n",
      "Model      Train Score      Test Score      Train-Test Gap      Model Size      \n",
      "-----      -----------      ----------      --------------      ----------          \n",
      "OLS        0.7177           0.7209            0.0032               11       \n",
      "\n",
      "\n",
      "\n",
      "Model variables and coefficients\n",
      "---------------------------------\n",
      "\n"
     ]
    },
    {
     "data": {
      "text/html": [
       "<div>\n",
       "<style scoped>\n",
       "    .dataframe tbody tr th:only-of-type {\n",
       "        vertical-align: middle;\n",
       "    }\n",
       "\n",
       "    .dataframe tbody tr th {\n",
       "        vertical-align: top;\n",
       "    }\n",
       "\n",
       "    .dataframe thead th {\n",
       "        text-align: right;\n",
       "    }\n",
       "</style>\n",
       "<table border=\"1\" class=\"dataframe\">\n",
       "  <thead>\n",
       "    <tr style=\"text-align: right;\">\n",
       "      <th></th>\n",
       "      <th>Variables</th>\n",
       "      <th>Coefficients</th>\n",
       "    </tr>\n",
       "  </thead>\n",
       "  <tbody>\n",
       "    <tr>\n",
       "      <th>0</th>\n",
       "      <td>intercept</td>\n",
       "      <td>1.62</td>\n",
       "    </tr>\n",
       "    <tr>\n",
       "      <th>1</th>\n",
       "      <td>CROSS_SELL_SUCCESS</td>\n",
       "      <td>-0.02</td>\n",
       "    </tr>\n",
       "    <tr>\n",
       "      <th>2</th>\n",
       "      <td>log_AVG_TIME_PER_SITE_VISIT</td>\n",
       "      <td>-0.04</td>\n",
       "    </tr>\n",
       "    <tr>\n",
       "      <th>3</th>\n",
       "      <td>log_AVG_PREP_VID_TIME</td>\n",
       "      <td>0.57</td>\n",
       "    </tr>\n",
       "    <tr>\n",
       "      <th>4</th>\n",
       "      <td>log_TOTAL_MEALS_ORDERED</td>\n",
       "      <td>0.26</td>\n",
       "    </tr>\n",
       "    <tr>\n",
       "      <th>5</th>\n",
       "      <td>log_UNIQUE_MEALS_PURCH</td>\n",
       "      <td>-0.20</td>\n",
       "    </tr>\n",
       "    <tr>\n",
       "      <th>6</th>\n",
       "      <td>log_CONTACTS_W_CUSTOMER_SERVICE</td>\n",
       "      <td>0.12</td>\n",
       "    </tr>\n",
       "    <tr>\n",
       "      <th>7</th>\n",
       "      <td>log_LARGEST_ORDER_SIZE</td>\n",
       "      <td>-0.17</td>\n",
       "    </tr>\n",
       "    <tr>\n",
       "      <th>8</th>\n",
       "      <td>log_MASTER_CLASSES_ATTENDED</td>\n",
       "      <td>0.12</td>\n",
       "    </tr>\n",
       "    <tr>\n",
       "      <th>9</th>\n",
       "      <td>MEDIAN_MEAL_RATING</td>\n",
       "      <td>0.07</td>\n",
       "    </tr>\n",
       "    <tr>\n",
       "      <th>10</th>\n",
       "      <td>log_TOTAL_PHOTOS_VIEWED</td>\n",
       "      <td>0.01</td>\n",
       "    </tr>\n",
       "  </tbody>\n",
       "</table>\n",
       "</div>"
      ],
      "text/plain": [
       "                          Variables  Coefficients\n",
       "0                         intercept          1.62\n",
       "1                CROSS_SELL_SUCCESS         -0.02\n",
       "2       log_AVG_TIME_PER_SITE_VISIT         -0.04\n",
       "3             log_AVG_PREP_VID_TIME          0.57\n",
       "4           log_TOTAL_MEALS_ORDERED          0.26\n",
       "5            log_UNIQUE_MEALS_PURCH         -0.20\n",
       "6   log_CONTACTS_W_CUSTOMER_SERVICE          0.12\n",
       "7            log_LARGEST_ORDER_SIZE         -0.17\n",
       "8       log_MASTER_CLASSES_ATTENDED          0.12\n",
       "9                MEDIAN_MEAL_RATING          0.07\n",
       "10          log_TOTAL_PHOTOS_VIEWED          0.01"
      ]
     },
     "execution_count": 62,
     "metadata": {},
     "output_type": "execute_result"
    }
   ],
   "source": [
    "print(f\"\"\"\n",
    "Model      Train Score      Test Score      Train-Test Gap      Model Size      \n",
    "-----      -----------      ----------      --------------      ----------          \n",
    "OLS        {lr_train_score}           {lr_test_score}            {lr_test_gap}               {len(lr_model_lst)}       \n",
    "\n",
    "\n",
    "\n",
    "Model variables and coefficients\n",
    "---------------------------------\n",
    "\"\"\")\n",
    "\n",
    "lr_model_lst_df = pd.DataFrame(lr_model_lst)\n",
    "lr_model_lst_df.columns = ['Variables', 'Coefficients']\n",
    "lr_model_lst_df\n",
    "\n"
   ]
  },
  {
   "cell_type": "markdown",
   "metadata": {},
   "source": [
    "<hr style=\"height:.9px;border:none;color:#333;background-color:#333;\" />\n",
    "<hr style=\"height:.9px;border:none;color:#333;background-color:#333;\" /><br>"
   ]
  }
 ],
 "metadata": {
  "kernelspec": {
   "display_name": "Python 3",
   "language": "python",
   "name": "python3"
  },
  "language_info": {
   "codemirror_mode": {
    "name": "ipython",
    "version": 3
   },
   "file_extension": ".py",
   "mimetype": "text/x-python",
   "name": "python",
   "nbconvert_exporter": "python",
   "pygments_lexer": "ipython3",
   "version": "3.8.3"
  },
  "toc": {
   "base_numbering": 1,
   "nav_menu": {},
   "number_sections": false,
   "sideBar": true,
   "skip_h1_title": false,
   "title_cell": "Table of Contents",
   "title_sidebar": "Contents",
   "toc_cell": false,
   "toc_position": {
    "height": "757px",
    "left": "65px",
    "top": "183px",
    "width": "341.297px"
   },
   "toc_section_display": true,
   "toc_window_display": true
  },
  "varInspector": {
   "cols": {
    "lenName": 16,
    "lenType": 16,
    "lenVar": 40
   },
   "kernels_config": {
    "python": {
     "delete_cmd_postfix": "",
     "delete_cmd_prefix": "del ",
     "library": "var_list.py",
     "varRefreshCmd": "print(var_dic_list())"
    },
    "r": {
     "delete_cmd_postfix": ") ",
     "delete_cmd_prefix": "rm(",
     "library": "var_list.r",
     "varRefreshCmd": "cat(var_dic_list()) "
    }
   },
   "position": {
    "height": "531.4px",
    "left": "1202px",
    "right": "20px",
    "top": "142px",
    "width": "338px"
   },
   "types_to_exclude": [
    "module",
    "function",
    "builtin_function_or_method",
    "instance",
    "_Feature"
   ],
   "window_display": false
  }
 },
 "nbformat": 4,
 "nbformat_minor": 2
}
