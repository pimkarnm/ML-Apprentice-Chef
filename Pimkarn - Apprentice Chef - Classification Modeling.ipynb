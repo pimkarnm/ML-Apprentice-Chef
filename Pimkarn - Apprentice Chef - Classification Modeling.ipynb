{
 "cells": [
  {
   "cell_type": "markdown",
   "metadata": {},
   "source": [
    "<hr style=\"height:.9px;border:none;color:#333;background-color:#333;\" />\n",
    "<hr style=\"height:.9px;border:none;color:#333;background-color:#333;\" />\n",
    "\n",
    "<br><h2>Apprentice Chef | Classification Modeling</h2>\n",
    "<br>Pimkarn Mekpruksawong<br>\n",
    "Hult International Business School\n",
    "<br><br><br>\n",
    "\n",
    "<hr style=\"height:.9px;border:none;color:#333;background-color:#333;\" />\n",
    "<hr style=\"height:.9px;border:none;color:#333;background-color:#333;\" />\n"
   ]
  },
  {
   "cell_type": "markdown",
   "metadata": {},
   "source": [
    "<h2>Part I: Dataset Exploration</h2><br>\n",
    "Import the neccessary packages and load the Apprentice Chef dataset"
   ]
  },
  {
   "cell_type": "code",
   "execution_count": 1,
   "metadata": {
    "code_folding": []
   },
   "outputs": [],
   "source": [
    "# importing libraries\n",
    "import numpy             as np                    \n",
    "import random            as rand                     # random number gen\n",
    "import pandas            as pd                       # data science essentials\n",
    "import matplotlib.pyplot as plt                      # data visualization\n",
    "import seaborn           as sns                      # enhanced data viz\n",
    "from sklearn.model_selection import train_test_split # train-test split\n",
    "from sklearn.linear_model import LogisticRegression  # logistic regression\n",
    "import statsmodels.formula.api as smf                # logistic regression\n",
    "from sklearn.metrics import confusion_matrix         # confusion matrix\n",
    "from sklearn.metrics import roc_auc_score            # auc score\n",
    "from sklearn.neighbors import KNeighborsClassifier   # KNN for classification\n",
    "from sklearn.neighbors import KNeighborsRegressor    # KNN for regression\n",
    "from sklearn.preprocessing import StandardScaler     # standard scaler\n",
    "from sklearn.tree import DecisionTreeClassifier      # classification trees\n",
    "from sklearn.tree import export_graphviz             # exports graphics\n",
    "from six import StringIO                             # saves objects in memory\n",
    "from IPython.display import Image                    # displays on frontend\n",
    "import pydotplus\n",
    "from sklearn.model_selection import RandomizedSearchCV     # hyperparameter tuning\n",
    "from sklearn.metrics import make_scorer                 # customizable scorer to use AUC instead of Accuracy metric\n",
    "from sklearn.ensemble import RandomForestClassifier     # random forest\n",
    "from sklearn.ensemble import GradientBoostingClassifier # gbm\n",
    "\n",
    "# setting pandas print options\n",
    "pd.set_option('display.max_rows', 500)\n",
    "pd.set_option('display.max_columns', 500)\n",
    "pd.set_option('display.width', 1000)\n",
    "\n",
    "\n",
    "# specifying file name\n",
    "file = './Apprentice_Chef_Dataset.xlsx'\n",
    "\n",
    "\n",
    "# reading the file into Python\n",
    "chef = pd.read_excel(file)"
   ]
  },
  {
   "cell_type": "markdown",
   "metadata": {},
   "source": [
    "<hr style=\"height:.9px;border:none;color:#333;background-color:#333;\" /><br>\n",
    "<h4>a) Inspect all columns in the dataset.</h4>"
   ]
  },
  {
   "cell_type": "code",
   "execution_count": 2,
   "metadata": {
    "scrolled": false
   },
   "outputs": [
    {
     "name": "stdout",
     "output_type": "stream",
     "text": [
      "<class 'pandas.core.frame.DataFrame'>\n",
      "RangeIndex: 1946 entries, 0 to 1945\n",
      "Data columns (total 28 columns):\n",
      " #   Column                       Non-Null Count  Dtype  \n",
      "---  ------                       --------------  -----  \n",
      " 0   REVENUE                      1946 non-null   float64\n",
      " 1   CROSS_SELL_SUCCESS           1946 non-null   int64  \n",
      " 2   NAME                         1946 non-null   object \n",
      " 3   EMAIL                        1946 non-null   object \n",
      " 4   FIRST_NAME                   1946 non-null   object \n",
      " 5   FAMILY_NAME                  1899 non-null   object \n",
      " 6   TOTAL_MEALS_ORDERED          1946 non-null   int64  \n",
      " 7   UNIQUE_MEALS_PURCH           1946 non-null   int64  \n",
      " 8   CONTACTS_W_CUSTOMER_SERVICE  1946 non-null   int64  \n",
      " 9   PRODUCT_CATEGORIES_VIEWED    1946 non-null   int64  \n",
      " 10  AVG_TIME_PER_SITE_VISIT      1946 non-null   float64\n",
      " 11  MOBILE_NUMBER                1946 non-null   int64  \n",
      " 12  CANCELLATIONS_BEFORE_NOON    1946 non-null   int64  \n",
      " 13  CANCELLATIONS_AFTER_NOON     1946 non-null   int64  \n",
      " 14  TASTES_AND_PREFERENCES       1946 non-null   int64  \n",
      " 15  PC_LOGINS                    1946 non-null   int64  \n",
      " 16  MOBILE_LOGINS                1946 non-null   int64  \n",
      " 17  WEEKLY_PLAN                  1946 non-null   int64  \n",
      " 18  EARLY_DELIVERIES             1946 non-null   int64  \n",
      " 19  LATE_DELIVERIES              1946 non-null   int64  \n",
      " 20  PACKAGE_LOCKER               1946 non-null   int64  \n",
      " 21  REFRIGERATED_LOCKER          1946 non-null   int64  \n",
      " 22  AVG_PREP_VID_TIME            1946 non-null   float64\n",
      " 23  LARGEST_ORDER_SIZE           1946 non-null   int64  \n",
      " 24  MASTER_CLASSES_ATTENDED      1946 non-null   int64  \n",
      " 25  MEDIAN_MEAL_RATING           1946 non-null   int64  \n",
      " 26  AVG_CLICKS_PER_VISIT         1946 non-null   int64  \n",
      " 27  TOTAL_PHOTOS_VIEWED          1946 non-null   int64  \n",
      "dtypes: float64(3), int64(21), object(4)\n",
      "memory usage: 425.8+ KB\n"
     ]
    }
   ],
   "source": [
    "chef.info()"
   ]
  },
  {
   "cell_type": "markdown",
   "metadata": {},
   "source": [
    "<hr style=\"height:.9px;border:none;color:#333;background-color:#333;\" /><br>\n",
    "<h4>b) Identify data type of each original variable in the dataset.</h4>"
   ]
  },
  {
   "cell_type": "raw",
   "metadata": {},
   "source": [
    "CONTINUOUS\n",
    "----------\n",
    "REVENUE \n",
    "AVG_TIME_PER_SITE_VISIT\n",
    "AVG_PREP_VID_TIME\n",
    "\n",
    "\n",
    "INTERVAL/COUNT\n",
    "--------------\n",
    "TOTAL_MEALS_ORDERED\n",
    "UNIQUE_MEALS_PURCH\n",
    "CONTACTS_W_CUSTOMER_SERVICE\n",
    "PRODUCT_CATEGORIES_VIEWED\n",
    "CANCELLATIONS_BEFORE_NOON\n",
    "CANCELLATIONS_AFTER_NOON\n",
    "PC_LOGINS\n",
    "MOBILE_LOGINS\n",
    "WEEKLY_PLAN\n",
    "EARLY_DELIVERIES\n",
    "LATE_DELIVERIES\n",
    "LARGEST_ORDER_SIZE\n",
    "MASTER_CLASSES_ATTENDED\n",
    "MEDIAN_MEAL_RATING (Range between 1-5)\n",
    "AVG_CLICKS_PER_VISIT\n",
    "TOTAL_PHOTOS_VIEWED\n",
    "\n",
    "\n",
    "BINOMIAL (0 and 1)\n",
    "--------------\n",
    "CROSS_SELL_SUCCESS (Y-variable)\n",
    "MOBILE_NUMBER\n",
    "TASTES_AND_PREFERENCES\n",
    "PACKAGE_LOCKER\n",
    "REFRIGERATED_LOCKER\n",
    "\n",
    "\n",
    "CATEGORICAL\n",
    "-----------\n",
    "NAME\n",
    "EMAIL\n",
    "FIRST_NAME\n",
    "FAMILY_NAME\n",
    "\n"
   ]
  },
  {
   "cell_type": "markdown",
   "metadata": {},
   "source": [
    "<h2>Part II: Missing Value Analysis and Imputation</h2><br>\n",
    "<h4>a) Print number of missing values in the dataset.</h4>"
   ]
  },
  {
   "cell_type": "code",
   "execution_count": 3,
   "metadata": {
    "scrolled": false
   },
   "outputs": [
    {
     "data": {
      "text/plain": [
       "REVENUE                         0\n",
       "CROSS_SELL_SUCCESS              0\n",
       "NAME                            0\n",
       "EMAIL                           0\n",
       "FIRST_NAME                      0\n",
       "FAMILY_NAME                    47\n",
       "TOTAL_MEALS_ORDERED             0\n",
       "UNIQUE_MEALS_PURCH              0\n",
       "CONTACTS_W_CUSTOMER_SERVICE     0\n",
       "PRODUCT_CATEGORIES_VIEWED       0\n",
       "AVG_TIME_PER_SITE_VISIT         0\n",
       "MOBILE_NUMBER                   0\n",
       "CANCELLATIONS_BEFORE_NOON       0\n",
       "CANCELLATIONS_AFTER_NOON        0\n",
       "TASTES_AND_PREFERENCES          0\n",
       "PC_LOGINS                       0\n",
       "MOBILE_LOGINS                   0\n",
       "WEEKLY_PLAN                     0\n",
       "EARLY_DELIVERIES                0\n",
       "LATE_DELIVERIES                 0\n",
       "PACKAGE_LOCKER                  0\n",
       "REFRIGERATED_LOCKER             0\n",
       "AVG_PREP_VID_TIME               0\n",
       "LARGEST_ORDER_SIZE              0\n",
       "MASTER_CLASSES_ATTENDED         0\n",
       "MEDIAN_MEAL_RATING              0\n",
       "AVG_CLICKS_PER_VISIT            0\n",
       "TOTAL_PHOTOS_VIEWED             0\n",
       "dtype: int64"
      ]
     },
     "execution_count": 3,
     "metadata": {},
     "output_type": "execute_result"
    }
   ],
   "source": [
    "# use method chaining to print sum missing values of each variable\n",
    "chef.isnull().sum(axis = 0)\n"
   ]
  },
  {
   "cell_type": "markdown",
   "metadata": {},
   "source": [
    "As shown in the output, only FAMILY_NAME variable has missing values."
   ]
  },
  {
   "cell_type": "markdown",
   "metadata": {},
   "source": [
    "<hr style=\"height:.9px;border:none;color:#333;background-color:#333;\" /><br>\n",
    "<h4>b) Flag missing values</h4>"
   ]
  },
  {
   "cell_type": "code",
   "execution_count": 4,
   "metadata": {},
   "outputs": [
    {
     "data": {
      "text/plain": [
       "m_FAMILY_NAME    47\n",
       "dtype: int64"
      ]
     },
     "execution_count": 4,
     "metadata": {},
     "output_type": "execute_result"
    }
   ],
   "source": [
    "# looping to detect features with missing values\n",
    "for col in chef:\n",
    "\n",
    "    # creating columns with 1s if missing and 0 if not\n",
    "    if chef[col].isnull().astype(int).sum() > 0:\n",
    "        chef['m_' + col] =chef[col].isnull().astype(int)\n",
    "\n",
    "# summing the missing value flags to check the results of the loop above\n",
    "chef[['m_FAMILY_NAME']].sum(axis = 0)\n"
   ]
  },
  {
   "cell_type": "markdown",
   "metadata": {},
   "source": [
    "<hr style=\"height:.9px;border:none;color:#333;background-color:#333;\" /><br>\n",
    "\n",
    "<h4>c) Impute the missing values for FAMILY_NAME with 'Unknown'.</h4><br>\n",
    "This is simply because family name is unique and my goal is to prevent any error caused by missing values."
   ]
  },
  {
   "cell_type": "code",
   "execution_count": 5,
   "metadata": {},
   "outputs": [
    {
     "data": {
      "text/plain": [
       "False"
      ]
     },
     "execution_count": 5,
     "metadata": {},
     "output_type": "execute_result"
    }
   ],
   "source": [
    "# instantiating an imputation value\n",
    "fill = 'Unknown'\n",
    "\n",
    "\n",
    "# imputing 'FAMILY_NAME'o\n",
    "chef['FAMILY_NAME'] = chef['FAMILY_NAME'].fillna(fill)\n",
    "\n",
    "# making sure missing values have been taken care of\n",
    "chef.isnull().any(axis = 0).any(axis = 0)"
   ]
  },
  {
   "cell_type": "markdown",
   "metadata": {},
   "source": [
    "<hr style=\"height:.9px;border:none;color:#333;background-color:#333;\" /><br>\n",
    "<h2>Part III: Working with continuous variables</h2>\n",
    "\n",
    "<h4>a) Develop a histogram to analyze the distribution of all continuous variables.</h4>\n",
    "\n",
    "<strong>Remark: the histograms was commented-out in order to save processing time.</strong>\n"
   ]
  },
  {
   "cell_type": "code",
   "execution_count": 6,
   "metadata": {
    "cell_style": "split",
    "code_folding": []
   },
   "outputs": [],
   "source": [
    "# developing a histogram using DISPLOT\n",
    "#sns.displot(data   = chef,\n",
    "#            x      = 'REVENUE',\n",
    "#            height = 5,\n",
    "#            aspect = 2)\n",
    "\n",
    "\n",
    "\n",
    "\n",
    "\n",
    "# displaying the histogram\n",
    "#plt.show()"
   ]
  },
  {
   "cell_type": "code",
   "execution_count": 7,
   "metadata": {
    "cell_style": "split",
    "code_folding": []
   },
   "outputs": [],
   "source": [
    "# log transforming REVENUE and saving it to the dataset\n",
    "chef['log_REVENUE'] = np.log10(chef['REVENUE'])\n",
    "\n",
    "# developing a histogram using DISPLOT for REVENUE after log transformation\n",
    "#sns.displot(data   = chef,\n",
    "#            x      = 'log_REVENUE',\n",
    "#            height = 5,\n",
    "#            aspect = 2)\n",
    "\n",
    "\n",
    "# displaying the histogram\n",
    "#plt.show()"
   ]
  },
  {
   "cell_type": "markdown",
   "metadata": {},
   "source": [
    "<br>"
   ]
  },
  {
   "cell_type": "markdown",
   "metadata": {
    "cell_style": "split"
   },
   "source": [
    "As can be observed from the distribution above, revenue is skewed positive.\n",
    "<br><br>"
   ]
  },
  {
   "cell_type": "markdown",
   "metadata": {
    "cell_style": "split"
   },
   "source": [
    "After applying log transformation, revenue variable tends to become more normally distributed compared with the original data.\n"
   ]
  },
  {
   "cell_type": "markdown",
   "metadata": {},
   "source": [
    "<hr style=\"height:.9px;border:none;color:#333;background-color:#333;\" />"
   ]
  },
  {
   "cell_type": "code",
   "execution_count": 8,
   "metadata": {
    "cell_style": "split"
   },
   "outputs": [],
   "source": [
    "# developing a histogram using DISPLOT\n",
    "# AVG_TIME_PER_SITE_VISIT\n",
    "#sns.displot(data   = chef,\n",
    "#            x      = 'AVG_TIME_PER_SITE_VISIT',\n",
    "#            height = 5,\n",
    "#            aspect = 2)\n",
    "\n",
    "\n",
    "\n",
    "\n",
    "# displaying the histogram\n",
    "#plt.show()"
   ]
  },
  {
   "cell_type": "code",
   "execution_count": 9,
   "metadata": {
    "cell_style": "split"
   },
   "outputs": [],
   "source": [
    "# log transforming and saving it to the dataset\n",
    "chef['log_AVG_TIME_PER_SITE_VISIT'] = np.log10(chef['AVG_TIME_PER_SITE_VISIT'])\n",
    "\n",
    "# developing a histogram using DISPLOT\n",
    "#sns.displot(data   = chef,\n",
    "#            x      = 'log_AVG_TIME_PER_SITE_VISIT',\n",
    "#            height = 5,\n",
    "#            aspect = 2)\n",
    "\n",
    "\n",
    "# displaying the histogram\n",
    "#plt.show()"
   ]
  },
  {
   "cell_type": "markdown",
   "metadata": {},
   "source": [
    "<br>"
   ]
  },
  {
   "cell_type": "markdown",
   "metadata": {
    "cell_style": "split"
   },
   "source": [
    "As can be observed from the distribution above, AVG_TIME_PER_SITE_VISIT is skewed positive with outliers on the right side."
   ]
  },
  {
   "cell_type": "markdown",
   "metadata": {
    "cell_style": "split"
   },
   "source": [
    "After applying log transformation, AVG_TIME_PER_SITE_VISIT variable tend to become more normally distributed compared with the original data."
   ]
  },
  {
   "cell_type": "markdown",
   "metadata": {},
   "source": [
    "<hr style=\"height:.9px;border:none;color:#333;background-color:#333;\" />"
   ]
  },
  {
   "cell_type": "code",
   "execution_count": 10,
   "metadata": {
    "cell_style": "split",
    "scrolled": true
   },
   "outputs": [],
   "source": [
    "# developing a histogram using DISPLOT\n",
    "# AVG_PREP_VID_TIME\n",
    "#sns.displot(data   = chef,\n",
    "#            x      = 'AVG_PREP_VID_TIME',\n",
    "#            height = 5,\n",
    "#            aspect = 2)\n",
    "\n",
    "\n",
    "\n",
    "\n",
    "# displaying the histogram\n",
    "#plt.show()"
   ]
  },
  {
   "cell_type": "code",
   "execution_count": 11,
   "metadata": {
    "cell_style": "split"
   },
   "outputs": [],
   "source": [
    "# log transforming and saving it to the dataset\n",
    "chef['log_AVG_PREP_VID_TIME'] = np.log10(chef['AVG_PREP_VID_TIME'])\n",
    "\n",
    "# developing a histogram using DISPLOT\n",
    "#sns.displot(data   = chef,\n",
    "#            x      = 'log_AVG_PREP_VID_TIME',\n",
    "#            height = 5,\n",
    "#            aspect = 2)\n",
    "\n",
    "\n",
    "# displaying the histogram\n",
    "#plt.show()"
   ]
  },
  {
   "cell_type": "markdown",
   "metadata": {},
   "source": [
    "<br>"
   ]
  },
  {
   "cell_type": "markdown",
   "metadata": {
    "cell_style": "split"
   },
   "source": [
    "As can be observed from the distribution above, AVG_PREP_VID_TIME is skewed positive.<br><br>"
   ]
  },
  {
   "cell_type": "markdown",
   "metadata": {
    "cell_style": "split"
   },
   "source": [
    "After applying log transformation, AVG_PREP_VID_TIME variable tend to become more normally distributed compared with the original data."
   ]
  },
  {
   "cell_type": "markdown",
   "metadata": {},
   "source": [
    "<hr style=\"height:.9px;border:none;color:#333;background-color:#333;\" />\n",
    "\n",
    "<h4>b) Correlation analysis between continuous variables and CROSS_SELL_SUCCESS.</h4>\n"
   ]
  },
  {
   "cell_type": "code",
   "execution_count": 12,
   "metadata": {},
   "outputs": [
    {
     "data": {
      "text/plain": [
       "CROSS_SELL_SUCCESS             1.00\n",
       "log_AVG_PREP_VID_TIME          0.03\n",
       "AVG_PREP_VID_TIME              0.03\n",
       "log_AVG_TIME_PER_SITE_VISIT    0.02\n",
       "log_REVENUE                    0.01\n",
       "AVG_TIME_PER_SITE_VISIT        0.01\n",
       "REVENUE                        0.00\n",
       "Name: CROSS_SELL_SUCCESS, dtype: float64"
      ]
     },
     "execution_count": 12,
     "metadata": {},
     "output_type": "execute_result"
    }
   ],
   "source": [
    "# developing a correlation matrix\n",
    "cont_corr = chef.loc[ : , ['REVENUE',\n",
    "                             'AVG_TIME_PER_SITE_VISIT',\n",
    "                             'AVG_PREP_VID_TIME',\n",
    "                             'log_REVENUE',\n",
    "                             'log_AVG_TIME_PER_SITE_VISIT',\n",
    "                             'log_AVG_PREP_VID_TIME',\n",
    "                             'CROSS_SELL_SUCCESS']  ].corr(method = 'pearson')\\\n",
    "                                                     .round(decimals = 2)\n",
    "\n",
    "\n",
    "\n",
    "# checking the correlations of the newly-created variables\n",
    "cont_corr.loc['CROSS_SELL_SUCCESS', : ].sort_values(ascending = False)"
   ]
  },
  {
   "cell_type": "markdown",
   "metadata": {},
   "source": [
    "As seen in the output, all continuous variables have weak correlation with CROSS_SELL_SUCCESS."
   ]
  },
  {
   "cell_type": "markdown",
   "metadata": {},
   "source": [
    "<hr style=\"height:.9px;border:none;color:#333;background-color:#333;\" /><br>\n",
    "<h2>Part IV: Working with Interval/Count and Binary Variables</h2>\n",
    "<h4>a) Correlation analysis between the response variable (CROSS_SELL_SUCCESS) and the explanatory variables.</h4>"
   ]
  },
  {
   "cell_type": "code",
   "execution_count": 13,
   "metadata": {
    "cell_style": "split",
    "code_folding": [],
    "scrolled": false
   },
   "outputs": [
    {
     "data": {
      "text/plain": [
       "CROSS_SELL_SUCCESS             1.00\n",
       "CANCELLATIONS_BEFORE_NOON      0.16\n",
       "MOBILE_NUMBER                  0.10\n",
       "TASTES_AND_PREFERENCES         0.08\n",
       "REFRIGERATED_LOCKER            0.07\n",
       "MASTER_CLASSES_ATTENDED        0.04\n",
       "PACKAGE_LOCKER                 0.04\n",
       "CONTACTS_W_CUSTOMER_SERVICE    0.04\n",
       "PC_LOGINS                      0.04\n",
       "MEDIAN_MEAL_RATING             0.03\n",
       "LARGEST_ORDER_SIZE             0.02\n",
       "EARLY_DELIVERIES               0.02\n",
       "TOTAL_MEALS_ORDERED            0.01\n",
       "TOTAL_PHOTOS_VIEWED            0.01\n",
       "LATE_DELIVERIES                0.01\n",
       "PRODUCT_CATEGORIES_VIEWED      0.00\n",
       "UNIQUE_MEALS_PURCH             0.00\n",
       "WEEKLY_PLAN                   -0.01\n",
       "AVG_CLICKS_PER_VISIT          -0.04\n",
       "CANCELLATIONS_AFTER_NOON      -0.05\n",
       "MOBILE_LOGINS                 -0.05\n",
       "Name: CROSS_SELL_SUCCESS, dtype: float64"
      ]
     },
     "execution_count": 13,
     "metadata": {},
     "output_type": "execute_result"
    }
   ],
   "source": [
    "# developing a correlation matrix\n",
    "interval_corr = chef.drop(['REVENUE',\n",
    "'AVG_TIME_PER_SITE_VISIT',\n",
    "'AVG_PREP_VID_TIME',\n",
    "'log_REVENUE',\n",
    "'log_AVG_TIME_PER_SITE_VISIT',\n",
    "'log_AVG_PREP_VID_TIME',\n",
    "'m_FAMILY_NAME'], axis = 1)\\\n",
    "                    .corr(method = 'pearson')\\\n",
    "                    .round(decimals = 2)\n",
    "\n",
    "\n",
    "# checking the correlations\n",
    "interval_corr.loc['CROSS_SELL_SUCCESS', : ]\\\n",
    "                    .sort_values(ascending = False)"
   ]
  },
  {
   "cell_type": "markdown",
   "metadata": {
    "cell_style": "split"
   },
   "source": [
    "<br><br><br><br><br><br><br><br><br><br><br><br><br><br>\n",
    "As seen in the output, the following variables have a strong correlation with the success of cross-selling promotion which some of them will be use in feature engineering later.\n",
    "\n",
    "Positive correlation:\n",
    "* CANCELLATIONS_BEFORE_NOON\t\n",
    "* MOBILE_NUMBER\n",
    "* TASTES_AND_PREFERENCES\n",
    "* REFRIGERATED_LOCKER\n",
    "* PACKAGE_LOCKER\n",
    "\n",
    "Negative correlation:\n",
    "* CANCELLATIONS_AFTER_NOON\n",
    "* MOBILE_LOGINS"
   ]
  },
  {
   "cell_type": "markdown",
   "metadata": {},
   "source": [
    "<hr style=\"height:.9px;border:none;color:#333;background-color:#333;\" /><br>\n",
    "<h3>Feature Engineering</h3>\n",
    "<h3>I. Cancellations variables</h3>\n",
    "<h4>a) Engineer a feature that represents total number of cancellations using the following calculation:</h4>\n",
    "\n",
    "    Total_Cancel = CANCELLATIONS_BEFORE_NOON + CANCELLATIONS_AFTER_NOON"
   ]
  },
  {
   "cell_type": "code",
   "execution_count": 14,
   "metadata": {},
   "outputs": [
    {
     "name": "stdout",
     "output_type": "stream",
     "text": [
      "\n",
      "--------------------------------\n",
      "Total number of cancellations\n",
      "--------------------------------\n",
      "0     572\n",
      "1     583\n",
      "2     336\n",
      "3     224\n",
      "4     121\n",
      "5      58\n",
      "6      28\n",
      "7      12\n",
      "8       9\n",
      "9       1\n",
      "10      1\n",
      "13      1\n",
      "Name: Total_Cancel, dtype: int64\n",
      "\n",
      "\n"
     ]
    }
   ],
   "source": [
    "# total number of cancellations\n",
    "chef['Total_Cancel'] = chef['CANCELLATIONS_BEFORE_NOON'] + chef['CANCELLATIONS_AFTER_NOON']\n",
    "\n",
    "# printing value counts\n",
    "print(f\"\"\"\n",
    "--------------------------------\n",
    "Total number of cancellations\n",
    "--------------------------------\n",
    "{chef['Total_Cancel'].value_counts(normalize = False).sort_index()}\n",
    "\n",
    "\"\"\")"
   ]
  },
  {
   "cell_type": "markdown",
   "metadata": {},
   "source": [
    "<hr style=\"height:.9px;border:none;color:#333;background-color:#333;\" />\n",
    "\n",
    "<h4>b) Engineer a feature that represents customers who had cancel the orders at least once and who never cancel the orders.</h4>"
   ]
  },
  {
   "cell_type": "code",
   "execution_count": 15,
   "metadata": {},
   "outputs": [
    {
     "name": "stdout",
     "output_type": "stream",
     "text": [
      "\n",
      "Count of Cancellation\n",
      "==================\n",
      "\n",
      "----------\n",
      "Before Noon\n",
      "----------\n",
      "0     667\n",
      "1     567\n",
      "2     331\n",
      "3     189\n",
      "4     105\n",
      "5      43\n",
      "6      23\n",
      "7      11\n",
      "8       7\n",
      "9       1\n",
      "10      1\n",
      "13      1\n",
      "Name: CANCELLATIONS_BEFORE_NOON, dtype: int64\n",
      "\n",
      "\n",
      "----------\n",
      "After Noon\n",
      "----------\n",
      "0    1667\n",
      "1     238\n",
      "2      38\n",
      "3       3\n",
      "Name: CANCELLATIONS_AFTER_NOON, dtype: int64\n",
      "\n",
      "\n",
      "\n"
     ]
    }
   ],
   "source": [
    "# printing value counts for Cancellation variables to make sure there are at least 100 observations on each side\n",
    "\n",
    "print(f\"\"\"\n",
    "Count of Cancellation\n",
    "==================\n",
    "\n",
    "----------\n",
    "Before Noon\n",
    "----------\n",
    "{chef['CANCELLATIONS_BEFORE_NOON'].value_counts(normalize = False).sort_index()}\n",
    "\n",
    "\n",
    "----------\n",
    "After Noon\n",
    "----------\n",
    "{chef['CANCELLATIONS_AFTER_NOON'].value_counts(normalize = False).sort_index()}\n",
    "\n",
    "\n",
    "\"\"\")"
   ]
  },
  {
   "cell_type": "code",
   "execution_count": 16,
   "metadata": {},
   "outputs": [
    {
     "data": {
      "text/html": [
       "<div>\n",
       "<style scoped>\n",
       "    .dataframe tbody tr th:only-of-type {\n",
       "        vertical-align: middle;\n",
       "    }\n",
       "\n",
       "    .dataframe tbody tr th {\n",
       "        vertical-align: top;\n",
       "    }\n",
       "\n",
       "    .dataframe thead th {\n",
       "        text-align: right;\n",
       "    }\n",
       "</style>\n",
       "<table border=\"1\" class=\"dataframe\">\n",
       "  <thead>\n",
       "    <tr style=\"text-align: right;\">\n",
       "      <th></th>\n",
       "      <th>has_Cancel</th>\n",
       "    </tr>\n",
       "  </thead>\n",
       "  <tbody>\n",
       "    <tr>\n",
       "      <th>0</th>\n",
       "      <td>1</td>\n",
       "    </tr>\n",
       "    <tr>\n",
       "      <th>1</th>\n",
       "      <td>0</td>\n",
       "    </tr>\n",
       "    <tr>\n",
       "      <th>2</th>\n",
       "      <td>1</td>\n",
       "    </tr>\n",
       "    <tr>\n",
       "      <th>3</th>\n",
       "      <td>1</td>\n",
       "    </tr>\n",
       "    <tr>\n",
       "      <th>4</th>\n",
       "      <td>0</td>\n",
       "    </tr>\n",
       "  </tbody>\n",
       "</table>\n",
       "</div>"
      ],
      "text/plain": [
       "   has_Cancel\n",
       "0           1\n",
       "1           0\n",
       "2           1\n",
       "3           1\n",
       "4           0"
      ]
     },
     "execution_count": 16,
     "metadata": {},
     "output_type": "execute_result"
    }
   ],
   "source": [
    "# create new feature\n",
    "\n",
    "# create dummy variable \n",
    "chef['has_Cancel']   = 0\n",
    "\n",
    "\n",
    "# iterating over each value \n",
    "for index, value in chef.iterrows():\n",
    "    \n",
    "    if chef.loc[index, 'Total_Cancel'] > 0:\n",
    "        chef.loc[index, 'has_Cancel'] = 1\n",
    "        \n",
    "# checking results\n",
    "chef[['has_Cancel']].head(5)\n"
   ]
  },
  {
   "cell_type": "markdown",
   "metadata": {},
   "source": [
    "<hr style=\"height:.9px;border:none;color:#333;background-color:#333;\" />\n",
    "<h4>c) Check the correlations of these new features with CROSS_SELL_SUCCESS.</h4>\n"
   ]
  },
  {
   "cell_type": "code",
   "execution_count": 17,
   "metadata": {},
   "outputs": [
    {
     "data": {
      "text/plain": [
       "CROSS_SELL_SUCCESS           1.00\n",
       "CANCELLATIONS_BEFORE_NOON    0.16\n",
       "Total_Cancel                 0.14\n",
       "has_Cancel                   0.10\n",
       "CANCELLATIONS_AFTER_NOON    -0.05\n",
       "Name: CROSS_SELL_SUCCESS, dtype: float64"
      ]
     },
     "execution_count": 17,
     "metadata": {},
     "output_type": "execute_result"
    }
   ],
   "source": [
    "# developing a correlation matrix\n",
    "cancel_corr = chef.loc[ : , ['CANCELLATIONS_BEFORE_NOON',\n",
    "                             'CANCELLATIONS_AFTER_NOON',\n",
    "                             'Total_Cancel',\n",
    "                             'has_Cancel',\n",
    "                             'CROSS_SELL_SUCCESS']  ].corr(method = 'pearson')\\\n",
    "                                                     .round(decimals = 2)\n",
    "\n",
    "\n",
    "\n",
    "# checking the correlations of the newly-created variables\n",
    "cancel_corr.loc['CROSS_SELL_SUCCESS', : ].sort_values(ascending = False)"
   ]
  },
  {
   "cell_type": "markdown",
   "metadata": {},
   "source": [
    "<hr style=\"height:.9px;border:none;color:#333;background-color:#333;\" />\n",
    "<h3>II. PC_LOGINS and MOBILE_LOGINS variables</h3>\n",
    "<h4>a) Engineer a feature that represents total logins using the following calculation:</h4>\n",
    "\n",
    "    Total_Logins = PC_LOGINS + MOBILE_LOGINS"
   ]
  },
  {
   "cell_type": "code",
   "execution_count": 18,
   "metadata": {},
   "outputs": [
    {
     "name": "stdout",
     "output_type": "stream",
     "text": [
      "\n",
      "Total Logins\n",
      "=================\n",
      "\n",
      "-------------------------------\n",
      "Total number of Total_Logins\n",
      "-------------------------------\n",
      "5     31\n",
      "6    493\n",
      "7    906\n",
      "8    492\n",
      "9     24\n",
      "Name: Total_Logins, dtype: int64\n",
      "\n",
      "\n",
      "-------------------------------\n",
      "Total_Logins Correlations\n",
      "-------------------------------\n",
      "PC_LOGINS             0.04\n",
      "MOBILE_LOGINS        -0.05\n",
      "Total_Logins         -0.00\n",
      "CROSS_SELL_SUCCESS    1.00\n",
      "Name: CROSS_SELL_SUCCESS, dtype: float64\n",
      "\n",
      "\n"
     ]
    }
   ],
   "source": [
    "# total number of cancellations\n",
    "chef['Total_Logins'] = chef['PC_LOGINS'] + chef['MOBILE_LOGINS']\n",
    "\n",
    "\n",
    "# developing a correlation matrix\n",
    "logins_corr = chef.loc[ : , ['PC_LOGINS',\n",
    "                             'MOBILE_LOGINS',\n",
    "                             'Total_Logins',\n",
    "                             'CROSS_SELL_SUCCESS']  ].corr(method = 'pearson')\\\n",
    "                                              .round(decimals = 2)\n",
    "\n",
    "\n",
    "# printing value counts and correlations\n",
    "print(f\"\"\"\n",
    "Total Logins\n",
    "=================\n",
    "\n",
    "-------------------------------\n",
    "Total number of Total_Logins\n",
    "-------------------------------\n",
    "{chef['Total_Logins'].value_counts(normalize = False).sort_index()}\n",
    "\n",
    "\n",
    "-------------------------------\n",
    "Total_Logins Correlations\n",
    "-------------------------------\n",
    "{logins_corr['CROSS_SELL_SUCCESS']}\n",
    "\n",
    "\"\"\")"
   ]
  },
  {
   "cell_type": "markdown",
   "metadata": {},
   "source": [
    "No correlation between Total_Logins and CROSS_SELL_SUCCESS."
   ]
  },
  {
   "cell_type": "markdown",
   "metadata": {},
   "source": [
    "<hr style=\"height:.9px;border:none;color:#333;background-color:#333;\" />\n",
    "\n",
    "<h3>III. Count variables with Zeros value</h3>\n",
    "<h4>a) Use subsetting to check the value counts for all variables that appear to have zero values.  </h4>"
   ]
  },
  {
   "cell_type": "code",
   "execution_count": 19,
   "metadata": {},
   "outputs": [
    {
     "name": "stdout",
     "output_type": "stream",
     "text": [
      "\n",
      "                            No\t\tYes\n",
      "                       ---------------------\n",
      "Moblie logins         | 16\t\t1930\n",
      "Weekly plan           | 468\t\t1478\n",
      "Early deliveries      | 1167\t\t779\n",
      "Late deliveries       | 319\t\t1627\n",
      "Master class attened  | 932\t\t1014\n",
      "Total photos viewed   | 1140\t\t806\n",
      "\n",
      "\n"
     ]
    }
   ],
   "source": [
    "# counting the number \n",
    "MOBILE_LOGINS_zeros             = len(chef['MOBILE_LOGINS'][chef['MOBILE_LOGINS'] == 0])\n",
    "WEEKLY_PLAN_zeros               = len(chef['WEEKLY_PLAN'][chef['WEEKLY_PLAN'] == 0])\n",
    "EARLY_DELIVERIES_zeros          = len(chef['EARLY_DELIVERIES'][chef['EARLY_DELIVERIES'] == 0])\n",
    "LATE_DELIVERIES_zeros           = len(chef['LATE_DELIVERIES'][chef['LATE_DELIVERIES'] == 0])\n",
    "MASTER_CLASSES_ATTENDED_zeros   = len(chef['MASTER_CLASSES_ATTENDED'][chef['MASTER_CLASSES_ATTENDED'] == 0])\n",
    "TOTAL_PHOTOS_VIEWED_zeros       = len(chef['TOTAL_PHOTOS_VIEWED'][chef['TOTAL_PHOTOS_VIEWED'] == 0])\n",
    "\n",
    "\n",
    "# printing a table of the results\n",
    "print(f\"\"\"\n",
    "                            No\\t\\tYes\n",
    "                       ---------------------\n",
    "Moblie logins         | {MOBILE_LOGINS_zeros }\\t\\t{len(chef) - MOBILE_LOGINS_zeros }\n",
    "Weekly plan           | {WEEKLY_PLAN_zeros }\\t\\t{len(chef) - WEEKLY_PLAN_zeros }\n",
    "Early deliveries      | {EARLY_DELIVERIES_zeros}\\t\\t{len(chef) - EARLY_DELIVERIES_zeros }\n",
    "Late deliveries       | {LATE_DELIVERIES_zeros }\\t\\t{len(chef) - LATE_DELIVERIES_zeros }\n",
    "Master class attened  | {MASTER_CLASSES_ATTENDED_zeros }\\t\\t{len(chef) - MASTER_CLASSES_ATTENDED_zeros }\n",
    "Total photos viewed   | {TOTAL_PHOTOS_VIEWED_zeros }\\t\\t{len(chef) - TOTAL_PHOTOS_VIEWED_zeros }\n",
    "\n",
    "\"\"\")"
   ]
  },
  {
   "cell_type": "markdown",
   "metadata": {},
   "source": [
    "<hr style=\"height:.9px;border:none;color:#333;background-color:#333;\" />\n",
    "\n",
    "<h4>b) Engineer flag features for all variables that have at least 100 observations in both the 'yes' and 'no' columns.  </h4>"
   ]
  },
  {
   "cell_type": "code",
   "execution_count": 20,
   "metadata": {},
   "outputs": [],
   "source": [
    "# create dummy variable \n",
    "chef['REG_WEEKLY_PLAN']        = 0\n",
    "chef['YES_EARLY_DELIVERIES']   = 0\n",
    "chef['YES_LATE_DELIVERIES']    = 0\n",
    "chef['ATTEND_MASTER_CLASSES']  = 0\n",
    "chef['YES_PHOTOS_VIEWED']      = 0\n",
    "\n",
    "# iterating over each original column to change values in the new feature columns\n",
    "for index, value in chef.iterrows():\n",
    "    \n",
    "    if chef.loc[index, 'WEEKLY_PLAN'] > 0:\n",
    "        chef.loc[index, 'REG_WEEKLY_PLAN'] = 1\n",
    "        \n",
    "    if chef.loc[index, 'EARLY_DELIVERIES'] > 0:\n",
    "        chef.loc[index, 'YES_EARLY_DELIVERIES'] = 1\n",
    "        \n",
    "    if chef.loc[index, 'LATE_DELIVERIES'] > 0:\n",
    "        chef.loc[index, 'YES_LATE_DELIVERIES'] = 1        \n",
    "\n",
    "    if chef.loc[index, 'MASTER_CLASSES_ATTENDED'] > 0:\n",
    "        chef.loc[index, 'ATTEND_MASTER_CLASSES'] = 1\n",
    "        \n",
    "    if chef.loc[index, 'TOTAL_PHOTOS_VIEWED'] > 0:\n",
    "        chef.loc[index, 'YES_PHOTOS_VIEWED'] = 1\n",
    "        "
   ]
  },
  {
   "cell_type": "code",
   "execution_count": 21,
   "metadata": {},
   "outputs": [
    {
     "data": {
      "text/plain": [
       "ATTEND_MASTER_CLASSES    0.050\n",
       "YES_PHOTOS_VIEWED        0.011\n",
       "YES_LATE_DELIVERIES      0.002\n",
       "YES_EARLY_DELIVERIES    -0.006\n",
       "REG_WEEKLY_PLAN         -0.019\n",
       "Name: CROSS_SELL_SUCCESS, dtype: float64"
      ]
     },
     "execution_count": 21,
     "metadata": {},
     "output_type": "execute_result"
    }
   ],
   "source": [
    "# developing a small correlation matrix\n",
    "zeroes_corr = chef.corr().round(decimals = 3)\n",
    "\n",
    "\n",
    "# checking the correlations of the newly-created variables with revenue\n",
    "zeroes_corr.loc['CROSS_SELL_SUCCESS',                                   # Y-variable\n",
    "               ['REG_WEEKLY_PLAN', \n",
    "                'YES_EARLY_DELIVERIES',\n",
    "                'YES_LATE_DELIVERIES',\n",
    "                'ATTEND_MASTER_CLASSES',\n",
    "                'YES_PHOTOS_VIEWED']] \\\n",
    "                .sort_values(ascending = False)"
   ]
  },
  {
   "cell_type": "markdown",
   "metadata": {},
   "source": [
    "<hr style=\"height:.9px;border:none;color:#333;background-color:#333;\" />\n",
    "\n",
    "<h2>Part V: Working with Categorical variables</h2>\n",
    "<h3>I. EMAIL variable</h3>\n",
    "<h4>a) Splitting email domain from email addresses</h4>"
   ]
  },
  {
   "cell_type": "code",
   "execution_count": 22,
   "metadata": {
    "scrolled": false
   },
   "outputs": [
    {
     "data": {
      "text/html": [
       "<div>\n",
       "<style scoped>\n",
       "    .dataframe tbody tr th:only-of-type {\n",
       "        vertical-align: middle;\n",
       "    }\n",
       "\n",
       "    .dataframe tbody tr th {\n",
       "        vertical-align: top;\n",
       "    }\n",
       "\n",
       "    .dataframe thead th {\n",
       "        text-align: right;\n",
       "    }\n",
       "</style>\n",
       "<table border=\"1\" class=\"dataframe\">\n",
       "  <thead>\n",
       "    <tr style=\"text-align: right;\">\n",
       "      <th></th>\n",
       "      <th>0</th>\n",
       "      <th>1</th>\n",
       "    </tr>\n",
       "  </thead>\n",
       "  <tbody>\n",
       "    <tr>\n",
       "      <th>0</th>\n",
       "      <td>saathos</td>\n",
       "      <td>unitedhealth.com</td>\n",
       "    </tr>\n",
       "    <tr>\n",
       "      <th>1</th>\n",
       "      <td>alysanne.osgrey</td>\n",
       "      <td>ge.org</td>\n",
       "    </tr>\n",
       "    <tr>\n",
       "      <th>2</th>\n",
       "      <td>edwyd.fossoway</td>\n",
       "      <td>jnj.com</td>\n",
       "    </tr>\n",
       "    <tr>\n",
       "      <th>3</th>\n",
       "      <td>eleyna.westerling</td>\n",
       "      <td>ge.org</td>\n",
       "    </tr>\n",
       "    <tr>\n",
       "      <th>4</th>\n",
       "      <td>elyn.norridge</td>\n",
       "      <td>jnj.com</td>\n",
       "    </tr>\n",
       "    <tr>\n",
       "      <th>...</th>\n",
       "      <td>...</td>\n",
       "      <td>...</td>\n",
       "    </tr>\n",
       "    <tr>\n",
       "      <th>1941</th>\n",
       "      <td>obara.sand</td>\n",
       "      <td>yahoo.com</td>\n",
       "    </tr>\n",
       "    <tr>\n",
       "      <th>1942</th>\n",
       "      <td>quentyn.blackwood</td>\n",
       "      <td>yahoo.com</td>\n",
       "    </tr>\n",
       "    <tr>\n",
       "      <th>1943</th>\n",
       "      <td>rhonda.rowan</td>\n",
       "      <td>gmail.com</td>\n",
       "    </tr>\n",
       "    <tr>\n",
       "      <th>1944</th>\n",
       "      <td>turnip</td>\n",
       "      <td>yahoo.com</td>\n",
       "    </tr>\n",
       "    <tr>\n",
       "      <th>1945</th>\n",
       "      <td>tommard.heddle</td>\n",
       "      <td>merck.com</td>\n",
       "    </tr>\n",
       "  </tbody>\n",
       "</table>\n",
       "<p>1946 rows × 2 columns</p>\n",
       "</div>"
      ],
      "text/plain": [
       "                      0                 1\n",
       "0               saathos  unitedhealth.com\n",
       "1       alysanne.osgrey            ge.org\n",
       "2        edwyd.fossoway           jnj.com\n",
       "3     eleyna.westerling            ge.org\n",
       "4         elyn.norridge           jnj.com\n",
       "...                 ...               ...\n",
       "1941         obara.sand         yahoo.com\n",
       "1942  quentyn.blackwood         yahoo.com\n",
       "1943       rhonda.rowan         gmail.com\n",
       "1944             turnip         yahoo.com\n",
       "1945     tommard.heddle         merck.com\n",
       "\n",
       "[1946 rows x 2 columns]"
      ]
     },
     "execution_count": 22,
     "metadata": {},
     "output_type": "execute_result"
    }
   ],
   "source": [
    "# placeholder list\n",
    "placeholder_lst = []\n",
    "\n",
    "# looping over each email address\n",
    "for index, col in chef.iterrows():\n",
    "    \n",
    "    # splitting email domain at '@'\n",
    "    split_email = chef.loc[index, 'EMAIL'].split(sep = '@')\n",
    "    \n",
    "    # appending placeholder_lst with the results\n",
    "    placeholder_lst.append(split_email)\n",
    "    \n",
    "\n",
    "# converting placeholder_lst into a DataFrame \n",
    "email_df = pd.DataFrame(placeholder_lst)\n",
    "\n",
    "\n",
    "# displaying the results\n",
    "email_df"
   ]
  },
  {
   "cell_type": "markdown",
   "metadata": {},
   "source": [
    "<hr style=\"height:.9px;border:none;color:#333;background-color:#333;\" />\n",
    "\n",
    "<h4>b) Concatenate the email domains as a new column in the dataset.</h4>"
   ]
  },
  {
   "cell_type": "code",
   "execution_count": 23,
   "metadata": {},
   "outputs": [
    {
     "data": {
      "text/plain": [
       "gmail.com           303\n",
       "protonmail.com      284\n",
       "yahoo.com           274\n",
       "msn.com              72\n",
       "aol.com              69\n",
       "passport.com         64\n",
       "hotmail.com          63\n",
       "live.com             62\n",
       "me.com               59\n",
       "amex.com             30\n",
       "cocacola.com         28\n",
       "jnj.com              28\n",
       "mcdonalds.com        28\n",
       "merck.com            28\n",
       "nike.com             27\n",
       "apple.com            27\n",
       "ge.org               26\n",
       "dupont.com           26\n",
       "ibm.com              26\n",
       "microsoft.com        25\n",
       "chevron.com          25\n",
       "exxon.com            24\n",
       "travelers.com        24\n",
       "unitedhealth.com     24\n",
       "boeing.com           23\n",
       "pg.com               22\n",
       "verizon.com          22\n",
       "mmm.com              22\n",
       "caterpillar.com      22\n",
       "disney.com           21\n",
       "walmart.com          21\n",
       "pfizer.com           20\n",
       "visa.com             20\n",
       "jpmorgan.com         19\n",
       "cisco.com            18\n",
       "goldmansacs.com      18\n",
       "unitedtech.com       18\n",
       "intel.com            17\n",
       "homedepot.com        17\n",
       "Name: email_domain, dtype: int64"
      ]
     },
     "execution_count": 23,
     "metadata": {},
     "output_type": "execute_result"
    }
   ],
   "source": [
    "# renaming column to concatenate\n",
    "email_df.columns = ['0' , 'email_domain']\n",
    "\n",
    "\n",
    "# concatenating email_domain with chef dataset\n",
    "chef = pd.concat([chef, email_df['email_domain']],\n",
    "                     axis = 1)\n",
    "\n",
    "\n",
    "# printing value counts of email_domain\n",
    "chef.loc[: ,'email_domain'].value_counts()\n"
   ]
  },
  {
   "cell_type": "markdown",
   "metadata": {},
   "source": [
    "<hr style=\"height:.9px;border:none;color:#333;background-color:#333;\" />\n",
    "\n",
    "<h4>c) Aggregate the email domains into professional, personal, and junk groups.</h4>"
   ]
  },
  {
   "cell_type": "code",
   "execution_count": 24,
   "metadata": {
    "code_folding": [],
    "scrolled": true
   },
   "outputs": [
    {
     "data": {
      "text/plain": [
       "personal        861\n",
       "professional    696\n",
       "junk            389\n",
       "Name: domain_group, dtype: int64"
      ]
     },
     "execution_count": 24,
     "metadata": {},
     "output_type": "execute_result"
    }
   ],
   "source": [
    "# email domain types\n",
    "professional_email_domains = ['@mmm.com',\n",
    "                                '@amex.com',\n",
    "                                '@apple.com',\n",
    "                                '@boeing.com',\n",
    "                                '@caterpillar.com',\n",
    "                                '@chevron.com',\n",
    "                                '@cisco.com',\n",
    "                                '@cocacola.com',\n",
    "                                '@disney.com',\n",
    "                                '@dupont.com',\n",
    "                                '@exxon.com',\n",
    "                                '@ge.org',\n",
    "                                '@goldmansacs.com',\n",
    "                                '@homedepot.com',\n",
    "                                '@ibm.com',\n",
    "                                '@intel.com',\n",
    "                                '@jnj.com',\n",
    "                                '@jpmorgan.com',\n",
    "                                '@mcdonalds.com',\n",
    "                                '@merck.com',\n",
    "                                '@microsoft.com',\n",
    "                                '@nike.com',\n",
    "                                '@pfizer.com',\n",
    "                                '@pg.com',\n",
    "                                '@travelers.com',\n",
    "                                '@unitedtech.com',\n",
    "                                '@unitedhealth.com',\n",
    "                                '@verizon.com',\n",
    "                                '@visa.com',\n",
    "                                '@walmart.com']\n",
    "personal_email_domains = ['@gmail.com',\n",
    "                            '@yahoo.com',\n",
    "                            '@protonmail.com']\n",
    "junk_email_domains  = ['@me.com',\n",
    "                        '@aol.com',\n",
    "                        '@hotmail.com',\n",
    "                        '@live.com',\n",
    "                        '@msn.com',\n",
    "                        '@passport.com']\n",
    "\n",
    "\n",
    "# placeholder list\n",
    "placeholder_lst = []\n",
    "\n",
    "\n",
    "# looping to group observations by domain type\n",
    "for domain in chef['email_domain']:\n",
    "        if '@' + domain in professional_email_domains:\n",
    "            placeholder_lst.append('professional')\n",
    "            \n",
    "        elif '@' + domain in personal_email_domains:\n",
    "            placeholder_lst.append('personal')\n",
    "            \n",
    "        elif '@' + domain in junk_email_domains:\n",
    "            placeholder_lst.append('junk')\n",
    "            \n",
    "        else:\n",
    "            print('Unknown')\n",
    "\n",
    "\n",
    "# concatenating with original DataFrame\n",
    "chef['domain_group'] = pd.Series(placeholder_lst)\n",
    "\n",
    "\n",
    "# checking results\n",
    "chef['domain_group'].value_counts()"
   ]
  },
  {
   "cell_type": "markdown",
   "metadata": {},
   "source": [
    "<hr style=\"height:.9px;border:none;color:#333;background-color:#333;\" />\n",
    "<h4>d) One hot encode domain_group variable using get_dummies.</h4>"
   ]
  },
  {
   "cell_type": "code",
   "execution_count": 25,
   "metadata": {},
   "outputs": [
    {
     "data": {
      "text/plain": [
       "Index(['REVENUE', 'CROSS_SELL_SUCCESS', 'NAME', 'EMAIL', 'FIRST_NAME', 'FAMILY_NAME', 'TOTAL_MEALS_ORDERED', 'UNIQUE_MEALS_PURCH', 'CONTACTS_W_CUSTOMER_SERVICE', 'PRODUCT_CATEGORIES_VIEWED', 'AVG_TIME_PER_SITE_VISIT', 'MOBILE_NUMBER', 'CANCELLATIONS_BEFORE_NOON', 'CANCELLATIONS_AFTER_NOON', 'TASTES_AND_PREFERENCES', 'PC_LOGINS', 'MOBILE_LOGINS', 'WEEKLY_PLAN', 'EARLY_DELIVERIES', 'LATE_DELIVERIES', 'PACKAGE_LOCKER', 'REFRIGERATED_LOCKER', 'AVG_PREP_VID_TIME', 'LARGEST_ORDER_SIZE', 'MASTER_CLASSES_ATTENDED', 'MEDIAN_MEAL_RATING', 'AVG_CLICKS_PER_VISIT', 'TOTAL_PHOTOS_VIEWED', 'm_FAMILY_NAME', 'log_REVENUE', 'log_AVG_TIME_PER_SITE_VISIT', 'log_AVG_PREP_VID_TIME', 'Total_Cancel', 'has_Cancel', 'Total_Logins', 'REG_WEEKLY_PLAN', 'YES_EARLY_DELIVERIES', 'YES_LATE_DELIVERIES', 'ATTEND_MASTER_CLASSES', 'YES_PHOTOS_VIEWED', 'junk', 'personal', 'professional'], dtype='object')"
      ]
     },
     "execution_count": 25,
     "metadata": {},
     "output_type": "execute_result"
    }
   ],
   "source": [
    "# one hot encoding domain_group variables\n",
    "one_hot_domain_group       = pd.get_dummies(chef['domain_group'])\n",
    "\n",
    "# dropping categorical variables after they've been encoded\n",
    "chef = chef.drop(['email_domain','domain_group'], axis = 1)\n",
    "\n",
    "\n",
    "# joining codings together\n",
    "chef = chef.join([one_hot_domain_group])\n",
    "\n",
    "\n",
    "# saving new columns\n",
    "new_columns = chef.columns\n",
    "\n",
    "# check data\n",
    "chef.columns"
   ]
  },
  {
   "cell_type": "markdown",
   "metadata": {},
   "source": [
    "<hr style=\"height:.9px;border:none;color:#333;background-color:#333;\" />\n",
    "<h3>II. NAME variable</h3>\n",
    "<h4>a) Develop a number of names feature.</h4>"
   ]
  },
  {
   "cell_type": "code",
   "execution_count": 26,
   "metadata": {},
   "outputs": [],
   "source": [
    "#########################\n",
    "# text_split_feature\n",
    "#########################\n",
    "def text_split_feature(col, df, sep=' ', new_col_name='number_of_names'):\n",
    "    \"\"\"\n",
    "Splits values in a string Series (as part of a DataFrame) and sums the number\n",
    "of resulting items. Automatically appends summed column to original DataFrame.\n",
    "\n",
    "PARAMETERS\n",
    "----------\n",
    "col          : column to split\n",
    "df           : DataFrame where column is located\n",
    "sep          : string sequence to split by, default ' '\n",
    "new_col_name : name of new column after summing split, default\n",
    "               'number_of_names'\n",
    "\"\"\"\n",
    "    \n",
    "    df[new_col_name] = 0\n",
    "    \n",
    "    \n",
    "    for index, val in df.iterrows():\n",
    "        df.loc[index, new_col_name] = len(df.loc[index, col].split(sep = ' '))"
   ]
  },
  {
   "cell_type": "code",
   "execution_count": 27,
   "metadata": {},
   "outputs": [
    {
     "data": {
      "text/plain": [
       "1     591\n",
       "2    1201\n",
       "3      98\n",
       "4       9\n",
       "5      35\n",
       "6      12\n",
       "Name: number_of_names, dtype: int64"
      ]
     },
     "execution_count": 27,
     "metadata": {},
     "output_type": "execute_result"
    }
   ],
   "source": [
    "# calling text_split_feature\n",
    "text_split_feature(col = 'NAME',\n",
    "                   df  = chef)\n",
    "\n",
    "\n",
    "# checking results\n",
    "chef['number_of_names'].value_counts().sort_index()"
   ]
  },
  {
   "cell_type": "markdown",
   "metadata": {},
   "source": [
    "<hr style=\"height:.9px;border:none;color:#333;background-color:#333;\" />\n",
    "\n",
    "<h2> Part VI: Additional feature engineering</h2>"
   ]
  },
  {
   "cell_type": "code",
   "execution_count": 28,
   "metadata": {},
   "outputs": [
    {
     "data": {
      "text/html": [
       "<div>\n",
       "<style scoped>\n",
       "    .dataframe tbody tr th:only-of-type {\n",
       "        vertical-align: middle;\n",
       "    }\n",
       "\n",
       "    .dataframe tbody tr th {\n",
       "        vertical-align: top;\n",
       "    }\n",
       "\n",
       "    .dataframe thead th {\n",
       "        text-align: right;\n",
       "    }\n",
       "</style>\n",
       "<table border=\"1\" class=\"dataframe\">\n",
       "  <thead>\n",
       "    <tr style=\"text-align: right;\">\n",
       "      <th></th>\n",
       "      <th>mobile_taste</th>\n",
       "    </tr>\n",
       "  </thead>\n",
       "  <tbody>\n",
       "    <tr>\n",
       "      <th>0</th>\n",
       "      <td>1</td>\n",
       "    </tr>\n",
       "    <tr>\n",
       "      <th>1</th>\n",
       "      <td>1</td>\n",
       "    </tr>\n",
       "    <tr>\n",
       "      <th>2</th>\n",
       "      <td>1</td>\n",
       "    </tr>\n",
       "    <tr>\n",
       "      <th>3</th>\n",
       "      <td>1</td>\n",
       "    </tr>\n",
       "    <tr>\n",
       "      <th>4</th>\n",
       "      <td>0</td>\n",
       "    </tr>\n",
       "  </tbody>\n",
       "</table>\n",
       "</div>"
      ],
      "text/plain": [
       "   mobile_taste\n",
       "0             1\n",
       "1             1\n",
       "2             1\n",
       "3             1\n",
       "4             0"
      ]
     },
     "execution_count": 28,
     "metadata": {},
     "output_type": "execute_result"
    }
   ],
   "source": [
    "#######################################################################\n",
    "# customer using mobile number (1) and select taste and preferences (1)\n",
    "#######################################################################\n",
    "\n",
    "# create dummy variable \n",
    "chef['mobile_taste']   = 0\n",
    "\n",
    "\n",
    "# iterating over each value \n",
    "for index, value in chef.iterrows():\n",
    "    \n",
    "    if chef.loc[index, 'MOBILE_NUMBER'] > 0 and chef.loc[index, 'TASTES_AND_PREFERENCES'] > 0:\n",
    "        chef.loc[index, 'mobile_taste'] = 1\n",
    "        \n",
    "# checking results\n",
    "chef[['mobile_taste']].head(5)\n"
   ]
  },
  {
   "cell_type": "code",
   "execution_count": 29,
   "metadata": {},
   "outputs": [
    {
     "data": {
      "text/html": [
       "<div>\n",
       "<style scoped>\n",
       "    .dataframe tbody tr th:only-of-type {\n",
       "        vertical-align: middle;\n",
       "    }\n",
       "\n",
       "    .dataframe tbody tr th {\n",
       "        vertical-align: top;\n",
       "    }\n",
       "\n",
       "    .dataframe thead th {\n",
       "        text-align: right;\n",
       "    }\n",
       "</style>\n",
       "<table border=\"1\" class=\"dataframe\">\n",
       "  <thead>\n",
       "    <tr style=\"text-align: right;\">\n",
       "      <th></th>\n",
       "      <th>mobile_taste_plan</th>\n",
       "    </tr>\n",
       "  </thead>\n",
       "  <tbody>\n",
       "    <tr>\n",
       "      <th>0</th>\n",
       "      <td>0</td>\n",
       "    </tr>\n",
       "    <tr>\n",
       "      <th>1</th>\n",
       "      <td>1</td>\n",
       "    </tr>\n",
       "    <tr>\n",
       "      <th>2</th>\n",
       "      <td>1</td>\n",
       "    </tr>\n",
       "    <tr>\n",
       "      <th>3</th>\n",
       "      <td>1</td>\n",
       "    </tr>\n",
       "    <tr>\n",
       "      <th>4</th>\n",
       "      <td>0</td>\n",
       "    </tr>\n",
       "  </tbody>\n",
       "</table>\n",
       "</div>"
      ],
      "text/plain": [
       "   mobile_taste_plan\n",
       "0                  0\n",
       "1                  1\n",
       "2                  1\n",
       "3                  1\n",
       "4                  0"
      ]
     },
     "execution_count": 29,
     "metadata": {},
     "output_type": "execute_result"
    }
   ],
   "source": [
    "##########################################################################################################\n",
    "# customer using mobile number (1) and select taste and preferences (1) and register weekly meal plan (1)\n",
    "##########################################################################################################\n",
    "# worst than mobile_taste variable\n",
    "# create dummy variable \n",
    "chef['mobile_taste_plan']   = 0\n",
    "\n",
    "\n",
    "# iterating over each value \n",
    "for index, value in chef.iterrows():\n",
    "    \n",
    "    if chef.loc[index, 'MOBILE_NUMBER'] > 0 and chef.loc[index, 'TASTES_AND_PREFERENCES'] > 0 and chef.loc[index, 'REG_WEEKLY_PLAN'] > 0:\n",
    "        chef.loc[index, 'mobile_taste_plan'] = 1\n",
    "        \n",
    "# checking results\n",
    "chef[['mobile_taste_plan']].head(5)\n",
    "\n"
   ]
  },
  {
   "cell_type": "code",
   "execution_count": 30,
   "metadata": {},
   "outputs": [
    {
     "data": {
      "text/html": [
       "<div>\n",
       "<style scoped>\n",
       "    .dataframe tbody tr th:only-of-type {\n",
       "        vertical-align: middle;\n",
       "    }\n",
       "\n",
       "    .dataframe tbody tr th {\n",
       "        vertical-align: top;\n",
       "    }\n",
       "\n",
       "    .dataframe thead th {\n",
       "        text-align: right;\n",
       "    }\n",
       "</style>\n",
       "<table border=\"1\" class=\"dataframe\">\n",
       "  <thead>\n",
       "    <tr style=\"text-align: right;\">\n",
       "      <th></th>\n",
       "      <th>locker_fridge</th>\n",
       "    </tr>\n",
       "  </thead>\n",
       "  <tbody>\n",
       "    <tr>\n",
       "      <th>0</th>\n",
       "      <td>0</td>\n",
       "    </tr>\n",
       "    <tr>\n",
       "      <th>1</th>\n",
       "      <td>0</td>\n",
       "    </tr>\n",
       "    <tr>\n",
       "      <th>2</th>\n",
       "      <td>0</td>\n",
       "    </tr>\n",
       "    <tr>\n",
       "      <th>3</th>\n",
       "      <td>0</td>\n",
       "    </tr>\n",
       "    <tr>\n",
       "      <th>4</th>\n",
       "      <td>0</td>\n",
       "    </tr>\n",
       "  </tbody>\n",
       "</table>\n",
       "</div>"
      ],
      "text/plain": [
       "   locker_fridge\n",
       "0              0\n",
       "1              0\n",
       "2              0\n",
       "3              0\n",
       "4              0"
      ]
     },
     "execution_count": 30,
     "metadata": {},
     "output_type": "execute_result"
    }
   ],
   "source": [
    "##########################################################################################################\n",
    "# has a package locker (1) and has refrigerated compartments (1)\n",
    "##########################################################################################################\n",
    "\n",
    "# create dummy variable \n",
    "chef['locker_fridge']   = 0\n",
    "\n",
    "\n",
    "# iterating over each value \n",
    "for index, value in chef.iterrows():\n",
    "    \n",
    "    if chef.loc[index, 'PACKAGE_LOCKER'] > 0 and chef.loc[index, 'REFRIGERATED_LOCKER'] > 0 :\n",
    "        chef.loc[index, 'locker_fridge'] = 1\n",
    "        \n",
    "# checking results\n",
    "chef[['locker_fridge']].head(5)\n",
    "\n"
   ]
  },
  {
   "cell_type": "code",
   "execution_count": 31,
   "metadata": {},
   "outputs": [
    {
     "data": {
      "text/html": [
       "<div>\n",
       "<style scoped>\n",
       "    .dataframe tbody tr th:only-of-type {\n",
       "        vertical-align: middle;\n",
       "    }\n",
       "\n",
       "    .dataframe tbody tr th {\n",
       "        vertical-align: top;\n",
       "    }\n",
       "\n",
       "    .dataframe thead th {\n",
       "        text-align: right;\n",
       "    }\n",
       "</style>\n",
       "<table border=\"1\" class=\"dataframe\">\n",
       "  <thead>\n",
       "    <tr style=\"text-align: right;\">\n",
       "      <th></th>\n",
       "      <th>valid_email</th>\n",
       "    </tr>\n",
       "  </thead>\n",
       "  <tbody>\n",
       "    <tr>\n",
       "      <th>0</th>\n",
       "      <td>1</td>\n",
       "    </tr>\n",
       "    <tr>\n",
       "      <th>1</th>\n",
       "      <td>1</td>\n",
       "    </tr>\n",
       "    <tr>\n",
       "      <th>2</th>\n",
       "      <td>1</td>\n",
       "    </tr>\n",
       "    <tr>\n",
       "      <th>3</th>\n",
       "      <td>1</td>\n",
       "    </tr>\n",
       "    <tr>\n",
       "      <th>4</th>\n",
       "      <td>1</td>\n",
       "    </tr>\n",
       "  </tbody>\n",
       "</table>\n",
       "</div>"
      ],
      "text/plain": [
       "   valid_email\n",
       "0            1\n",
       "1            1\n",
       "2            1\n",
       "3            1\n",
       "4            1"
      ]
     },
     "execution_count": 31,
     "metadata": {},
     "output_type": "execute_result"
    }
   ],
   "source": [
    "##########################################################################################################\n",
    "# valid email (professional and personal) and junk\n",
    "##########################################################################################################\n",
    "\n",
    "# create dummy variable \n",
    "chef['valid_email']   = 0\n",
    "\n",
    "\n",
    "# iterating over each value \n",
    "for index, value in chef.iterrows():\n",
    "    \n",
    "    if chef.loc[index, 'professional'] > 0 or chef.loc[index, 'personal'] > 0 :\n",
    "        chef.loc[index, 'valid_email'] = 1\n",
    "        \n",
    "# checking results\n",
    "chef[['valid_email']].head(5)\n",
    "\n"
   ]
  },
  {
   "cell_type": "code",
   "execution_count": 32,
   "metadata": {},
   "outputs": [
    {
     "data": {
      "text/html": [
       "<div>\n",
       "<style scoped>\n",
       "    .dataframe tbody tr th:only-of-type {\n",
       "        vertical-align: middle;\n",
       "    }\n",
       "\n",
       "    .dataframe tbody tr th {\n",
       "        vertical-align: top;\n",
       "    }\n",
       "\n",
       "    .dataframe thead th {\n",
       "        text-align: right;\n",
       "    }\n",
       "</style>\n",
       "<table border=\"1\" class=\"dataframe\">\n",
       "  <thead>\n",
       "    <tr style=\"text-align: right;\">\n",
       "      <th></th>\n",
       "      <th>EARLY_LATE_CUSTSERVICE</th>\n",
       "    </tr>\n",
       "  </thead>\n",
       "  <tbody>\n",
       "    <tr>\n",
       "      <th>0</th>\n",
       "      <td>1</td>\n",
       "    </tr>\n",
       "    <tr>\n",
       "      <th>1</th>\n",
       "      <td>1</td>\n",
       "    </tr>\n",
       "    <tr>\n",
       "      <th>2</th>\n",
       "      <td>1</td>\n",
       "    </tr>\n",
       "    <tr>\n",
       "      <th>3</th>\n",
       "      <td>1</td>\n",
       "    </tr>\n",
       "    <tr>\n",
       "      <th>4</th>\n",
       "      <td>1</td>\n",
       "    </tr>\n",
       "  </tbody>\n",
       "</table>\n",
       "</div>"
      ],
      "text/plain": [
       "   EARLY_LATE_CUSTSERVICE\n",
       "0                       1\n",
       "1                       1\n",
       "2                       1\n",
       "3                       1\n",
       "4                       1"
      ]
     },
     "execution_count": 32,
     "metadata": {},
     "output_type": "execute_result"
    }
   ],
   "source": [
    "##########################################################################################################\n",
    "# customer received early or late deliveries and did contact with customer service \n",
    "##########################################################################################################\n",
    "\n",
    "# create dummy variable \n",
    "chef['EARLY_LATE_CUSTSERVICE']   = 0\n",
    "\n",
    "\n",
    "# iterating over each value \n",
    "for index, value in chef.iterrows():\n",
    "    \n",
    "    if chef.loc[index, 'EARLY_DELIVERIES'] > 0 or chef.loc[index, 'LATE_DELIVERIES'] > 0 and chef.loc[index, 'CONTACTS_W_CUSTOMER_SERVICE'] > 0 :\n",
    "        chef.loc[index, 'EARLY_LATE_CUSTSERVICE'] = 1\n",
    "        \n",
    "# checking results\n",
    "chef[['EARLY_LATE_CUSTSERVICE']].head(5)\n",
    "\n"
   ]
  },
  {
   "cell_type": "markdown",
   "metadata": {},
   "source": [
    "<hr style=\"height:.9px;border:none;color:#333;background-color:#333;\" />\n",
    "<h2>Part VII. Classification Modeling</h2>\n",
    "<h4>a) Create user-defined functions</h4>\n"
   ]
  },
  {
   "cell_type": "code",
   "execution_count": 33,
   "metadata": {},
   "outputs": [],
   "source": [
    "########################################\n",
    "# optimal_neighbors\n",
    "########################################\n",
    "def optimal_neighbors(X_data,\n",
    "                      y_data,\n",
    "                      standardize = True,\n",
    "                      pct_test=0.25,\n",
    "                      seed=219,\n",
    "                      response_type='reg',\n",
    "                      max_neighbors=20,\n",
    "                      show_viz=True):\n",
    "    \"\"\"\n",
    "Exhaustively compute training and testing results for KNN across\n",
    "[1, max_neighbors]. Outputs the maximum test score and (by default) a\n",
    "visualization of the results.\n",
    "PARAMETERS\n",
    "----------\n",
    "X_data        : explanatory variable data\n",
    "y_data        : response variable\n",
    "standardize   : whether or not to standardize the X data, default True\n",
    "pct_test      : test size for training and validation from (0,1), default 0.25\n",
    "seed          : random seed to be used in algorithm, default 219\n",
    "response_type : type of neighbors algorithm to use, default 'reg'\n",
    "    Use 'reg' for regression (KNeighborsRegressor)\n",
    "    Use 'class' for classification (KNeighborsClassifier)\n",
    "max_neighbors : maximum number of neighbors in exhaustive search, default 20\n",
    "show_viz      : display or surpress k-neigbors visualization, default True\n",
    "\"\"\"    \n",
    "    \n",
    "    \n",
    "    if standardize == True:\n",
    "        # optionally standardizing X_data\n",
    "        scaler             = StandardScaler()\n",
    "        scaler.fit(X_data)\n",
    "        X_scaled           = scaler.transform(X_data)\n",
    "        X_scaled_df        = pd.DataFrame(X_scaled)\n",
    "        X_data             = X_scaled_df\n",
    "\n",
    "\n",
    "\n",
    "    # train-test split\n",
    "    X_train, X_test, y_train, y_test = train_test_split(X_data,\n",
    "                                                        y_data,\n",
    "                                                        test_size = pct_test,\n",
    "                                                        random_state = seed)\n",
    "\n",
    "\n",
    "    # creating lists for training set accuracy and test set accuracy\n",
    "    training_accuracy = []\n",
    "    test_accuracy = []\n",
    "    \n",
    "    \n",
    "    # setting neighbor range\n",
    "    neighbors_settings = range(1, max_neighbors + 1)\n",
    "\n",
    "\n",
    "    for n_neighbors in neighbors_settings:\n",
    "        # building the model based on response variable type\n",
    "        if response_type == 'reg':\n",
    "            clf = KNeighborsRegressor(n_neighbors = n_neighbors)\n",
    "            clf.fit(X_train, y_train)\n",
    "            \n",
    "        elif response_type == 'class':\n",
    "            clf = KNeighborsClassifier(n_neighbors = n_neighbors)\n",
    "            clf.fit(X_train, y_train)            \n",
    "            \n",
    "        else:\n",
    "            print(\"Error: response_type must be 'reg' or 'class'\")\n",
    "        \n",
    "        \n",
    "        # recording the training set accuracy\n",
    "        training_accuracy.append(clf.score(X_train, y_train))\n",
    "    \n",
    "        # recording the generalization accuracy\n",
    "        test_accuracy.append(clf.score(X_test, y_test))\n",
    "\n",
    "\n",
    "    # optionally displaying visualization\n",
    "    if show_viz == True:\n",
    "        # plotting the visualization\n",
    "        fig, ax = plt.subplots(figsize=(12,8))\n",
    "        plt.plot(neighbors_settings, training_accuracy, label = \"training accuracy\")\n",
    "        plt.plot(neighbors_settings, test_accuracy, label = \"test accuracy\")\n",
    "        plt.ylabel(\"Accuracy\")\n",
    "        plt.xlabel(\"n_neighbors\")\n",
    "        plt.legend()\n",
    "        plt.show()\n",
    "    \n",
    "    \n",
    "    # returning optimal number of neighbors\n",
    "    print(f\"The optimal number of neighbors is: {test_accuracy.index(max(test_accuracy))+1}\")\n",
    "    return test_accuracy.index(max(test_accuracy))+1"
   ]
  },
  {
   "cell_type": "markdown",
   "metadata": {},
   "source": [
    "<hr style=\"height:.9px;border:none;color:#333;background-color:#333;\" />\n",
    "<h4>b) Dropping irrelevant features</h4>"
   ]
  },
  {
   "cell_type": "code",
   "execution_count": 34,
   "metadata": {},
   "outputs": [],
   "source": [
    "# checking columns\n",
    "#chef.columns"
   ]
  },
  {
   "cell_type": "code",
   "execution_count": 35,
   "metadata": {
    "code_folding": []
   },
   "outputs": [
    {
     "data": {
      "text/plain": [
       "Index(['REVENUE', 'CROSS_SELL_SUCCESS', 'TOTAL_MEALS_ORDERED', 'UNIQUE_MEALS_PURCH', 'CONTACTS_W_CUSTOMER_SERVICE', 'PRODUCT_CATEGORIES_VIEWED', 'AVG_TIME_PER_SITE_VISIT', 'MOBILE_NUMBER', 'CANCELLATIONS_BEFORE_NOON', 'CANCELLATIONS_AFTER_NOON', 'TASTES_AND_PREFERENCES', 'PC_LOGINS', 'MOBILE_LOGINS', 'WEEKLY_PLAN', 'EARLY_DELIVERIES', 'LATE_DELIVERIES', 'PACKAGE_LOCKER', 'REFRIGERATED_LOCKER', 'AVG_PREP_VID_TIME', 'LARGEST_ORDER_SIZE', 'MASTER_CLASSES_ATTENDED', 'MEDIAN_MEAL_RATING', 'AVG_CLICKS_PER_VISIT', 'TOTAL_PHOTOS_VIEWED', 'm_FAMILY_NAME', 'log_REVENUE', 'log_AVG_TIME_PER_SITE_VISIT', 'log_AVG_PREP_VID_TIME', 'Total_Cancel', 'has_Cancel', 'Total_Logins', 'REG_WEEKLY_PLAN', 'YES_EARLY_DELIVERIES', 'YES_LATE_DELIVERIES', 'ATTEND_MASTER_CLASSES', 'YES_PHOTOS_VIEWED', 'junk', 'personal', 'professional', 'number_of_names', 'mobile_taste', 'mobile_taste_plan', 'locker_fridge', 'valid_email', 'EARLY_LATE_CUSTSERVICE'], dtype='object')"
      ]
     },
     "execution_count": 35,
     "metadata": {},
     "output_type": "execute_result"
    }
   ],
   "source": [
    "# dropping categorical variables after they've been encoded and irrelevant\n",
    "chef = chef.drop(['NAME', 'EMAIL', 'FIRST_NAME', 'FAMILY_NAME'], axis = 1)\n",
    "\n",
    "# checking the results\n",
    "chef.columns"
   ]
  },
  {
   "cell_type": "markdown",
   "metadata": {},
   "source": [
    "<hr style=\"height:.9px;border:none;color:#333;background-color:#333;\" />\n",
    "<h4>c) Applying value_counts for Response Variable to understand the proportion of success versus not success campaign.</h4>\n"
   ]
  },
  {
   "cell_type": "code",
   "execution_count": 36,
   "metadata": {},
   "outputs": [
    {
     "name": "stdout",
     "output_type": "stream",
     "text": [
      "\n",
      "Proportion of CROSS_SELL_SUCCESS\n",
      "============================\n",
      "0     625\n",
      "1    1321\n",
      "Name: CROSS_SELL_SUCCESS, dtype: int64\n",
      "\n",
      "\n"
     ]
    }
   ],
   "source": [
    "print(f\"\"\"\n",
    "Proportion of CROSS_SELL_SUCCESS\n",
    "============================\n",
    "{chef['CROSS_SELL_SUCCESS'].value_counts(normalize = False).sort_index()}\n",
    "\n",
    "\"\"\")"
   ]
  },
  {
   "cell_type": "markdown",
   "metadata": {},
   "source": [
    "The proportion of the success of a cross-selling promotion is far more ones (success) than zeros."
   ]
  },
  {
   "cell_type": "markdown",
   "metadata": {},
   "source": [
    "<hr style=\"height:.9px;border:none;color:#333;background-color:#333;\" />\n",
    "<h4>d) Correlation analysis between the explanatory variables and the response variable. </h4>"
   ]
  },
  {
   "cell_type": "code",
   "execution_count": 37,
   "metadata": {
    "scrolled": false
   },
   "outputs": [
    {
     "data": {
      "text/plain": [
       "CROSS_SELL_SUCCESS             1.00\n",
       "valid_email                    0.28\n",
       "professional                   0.19\n",
       "number_of_names                0.16\n",
       "CANCELLATIONS_BEFORE_NOON      0.16\n",
       "Total_Cancel                   0.14\n",
       "mobile_taste                   0.12\n",
       "MOBILE_NUMBER                  0.10\n",
       "has_Cancel                     0.10\n",
       "TASTES_AND_PREFERENCES         0.08\n",
       "REFRIGERATED_LOCKER            0.07\n",
       "locker_fridge                  0.07\n",
       "mobile_taste_plan              0.07\n",
       "ATTEND_MASTER_CLASSES          0.05\n",
       "CONTACTS_W_CUSTOMER_SERVICE    0.04\n",
       "PACKAGE_LOCKER                 0.04\n",
       "PC_LOGINS                      0.04\n",
       "personal                       0.04\n",
       "MASTER_CLASSES_ATTENDED        0.04\n",
       "AVG_PREP_VID_TIME              0.03\n",
       "MEDIAN_MEAL_RATING             0.03\n",
       "log_AVG_PREP_VID_TIME          0.03\n",
       "m_FAMILY_NAME                  0.02\n",
       "LARGEST_ORDER_SIZE             0.02\n",
       "log_AVG_TIME_PER_SITE_VISIT    0.02\n",
       "EARLY_DELIVERIES               0.02\n",
       "TOTAL_PHOTOS_VIEWED            0.01\n",
       "log_REVENUE                    0.01\n",
       "LATE_DELIVERIES                0.01\n",
       "AVG_TIME_PER_SITE_VISIT        0.01\n",
       "TOTAL_MEALS_ORDERED            0.01\n",
       "YES_PHOTOS_VIEWED              0.01\n",
       "EARLY_LATE_CUSTSERVICE         0.01\n",
       "PRODUCT_CATEGORIES_VIEWED      0.00\n",
       "UNIQUE_MEALS_PURCH             0.00\n",
       "REVENUE                        0.00\n",
       "Total_Logins                  -0.00\n",
       "YES_LATE_DELIVERIES            0.00\n",
       "WEEKLY_PLAN                   -0.01\n",
       "YES_EARLY_DELIVERIES          -0.01\n",
       "REG_WEEKLY_PLAN               -0.02\n",
       "AVG_CLICKS_PER_VISIT          -0.04\n",
       "CANCELLATIONS_AFTER_NOON      -0.05\n",
       "MOBILE_LOGINS                 -0.05\n",
       "junk                          -0.28\n",
       "Name: CROSS_SELL_SUCCESS, dtype: float64"
      ]
     },
     "execution_count": 37,
     "metadata": {},
     "output_type": "execute_result"
    }
   ],
   "source": [
    "df_corr = chef.corr(method = 'pearson').round(decimals = 2)\n",
    "\n",
    "df_corr['CROSS_SELL_SUCCESS'].sort_values(ascending = False)"
   ]
  },
  {
   "cell_type": "markdown",
   "metadata": {},
   "source": [
    "<hr style=\"height:.9px;border:none;color:#333;background-color:#333;\" />\n",
    "\n",
    "<h4>e) Creating a dictionary to store candidate models</h4>"
   ]
  },
  {
   "cell_type": "code",
   "execution_count": 38,
   "metadata": {
    "code_folding": []
   },
   "outputs": [],
   "source": [
    "# create explanatory variable sets\n",
    "candidate_dict = {\n",
    "\n",
    " # original x-variables\n",
    " 'original'   : ['REVENUE', 'TOTAL_MEALS_ORDERED', 'UNIQUE_MEALS_PURCH', \n",
    "           'CONTACTS_W_CUSTOMER_SERVICE', 'PRODUCT_CATEGORIES_VIEWED', \n",
    "           'AVG_TIME_PER_SITE_VISIT', 'MOBILE_NUMBER', 'CANCELLATIONS_BEFORE_NOON', \n",
    "           'CANCELLATIONS_AFTER_NOON', 'TASTES_AND_PREFERENCES', 'PC_LOGINS', \n",
    "           'MOBILE_LOGINS', 'WEEKLY_PLAN', 'EARLY_DELIVERIES', 'LATE_DELIVERIES', \n",
    "           'PACKAGE_LOCKER', 'REFRIGERATED_LOCKER', 'AVG_PREP_VID_TIME', 'LARGEST_ORDER_SIZE', \n",
    "           'MASTER_CLASSES_ATTENDED', 'MEDIAN_MEAL_RATING', 'AVG_CLICKS_PER_VISIT', \n",
    "           'TOTAL_PHOTOS_VIEWED'],\n",
    "    \n",
    " # significant variables only (set 1) AUC 0.5336\n",
    " 'logit_sig1'    : ['CANCELLATIONS_BEFORE_NOON','MOBILE_NUMBER',\n",
    "                    'TASTES_AND_PREFERENCES' , 'REFRIGERATED_LOCKER' ,\n",
    "                    'PC_LOGINS' , 'MEDIAN_MEAL_RATING'],\n",
    "    \n",
    " # significant variables only (set 2) AUC 0.6286\n",
    " 'logit_sig2'    : ['CANCELLATIONS_BEFORE_NOON','MOBILE_NUMBER',\n",
    "                    'personal', 'professional'],\n",
    "     \n",
    " # significant variables only (set 3) AUC 0.6331\n",
    " 'logit_sig3'    : ['CANCELLATIONS_BEFORE_NOON','MOBILE_NUMBER',\n",
    "                    'personal', 'professional','TASTES_AND_PREFERENCES'],\n",
    "    \n",
    " # significant variables only (set 4) AUC 0.6379\n",
    " 'logit_sig4'    : ['CANCELLATIONS_BEFORE_NOON','MOBILE_NUMBER',\n",
    "                    'personal', 'professional','TASTES_AND_PREFERENCES','number_of_names'], \n",
    "    \n",
    " # significant variables only (set 5) AUC 0.6446\n",
    " 'logit_sig5'    : ['CANCELLATIONS_BEFORE_NOON','mobile_taste',\n",
    "                    'personal', 'professional','number_of_names'], \n",
    "    \n",
    " # significant variables only (set 6) AUC 0.6459\n",
    " 'logit_sig6'    : ['CANCELLATIONS_BEFORE_NOON','mobile_taste',\n",
    "                    'personal', 'professional','number_of_names',\n",
    "                    'locker_fridge' ]\n",
    "    \n",
    "    \n",
    "}\n",
    "\n",
    "# defining explanatory variable set to run in the models\n",
    "key_to_run = 'logit_sig6'\n",
    "\n"
   ]
  },
  {
   "cell_type": "markdown",
   "metadata": {},
   "source": [
    "<hr style=\"height:.9px;border:none;color:#333;background-color:#333;\" />\n",
    "<h4>f) Preparing Explanatory and Response Data.</h4>"
   ]
  },
  {
   "cell_type": "code",
   "execution_count": 39,
   "metadata": {},
   "outputs": [],
   "source": [
    "# declaring explanatory variables\n",
    "chef_data   = chef.loc[ : , candidate_dict[key_to_run] ]\n",
    "\n",
    "# declaring response variable\n",
    "chef_target = chef.loc[ : , 'CROSS_SELL_SUCCESS']\n"
   ]
  },
  {
   "cell_type": "markdown",
   "metadata": {},
   "source": [
    "<hr style=\"height:.9px;border:none;color:#333;background-color:#333;\" />\n",
    "<h4>g) Prepare train-test split for statsmodels.</h4><br>\n",
    "Declare the explanatory variables as <strong>chef_data</strong> and the response variable (CROSS_SELL_SUCCESS) as <strong>chef_target</strong>."
   ]
  },
  {
   "cell_type": "code",
   "execution_count": 40,
   "metadata": {},
   "outputs": [],
   "source": [
    "# train-test split with stratification\n",
    "x_train, x_test, y_train, y_test = train_test_split(\n",
    "            chef_data,\n",
    "            chef_target,\n",
    "            test_size    = 0.25,\n",
    "            random_state = 219,\n",
    "            stratify     = chef_target)\n",
    "\n",
    "\n",
    "# merging training data for statsmodels\n",
    "chef_train = pd.concat([x_train, y_train], axis = 1)\n"
   ]
  },
  {
   "cell_type": "markdown",
   "metadata": {},
   "source": [
    "<hr style=\"height:.9px;border:none;color:#333;background-color:#333;\" />\n",
    "\n",
    "<h3>I. Logistic Regressionn</h3>\n",
    "\n",
    "<h4>a) Print explanatory variables to copy to the models</h4>"
   ]
  },
  {
   "cell_type": "code",
   "execution_count": 41,
   "metadata": {},
   "outputs": [
    {
     "name": "stdout",
     "output_type": "stream",
     "text": [
      " CANCELLATIONS_BEFORE_NOON + \n",
      " mobile_taste + \n",
      " personal + \n",
      " professional + \n",
      " number_of_names + \n",
      " locker_fridge + \n"
     ]
    }
   ],
   "source": [
    "for val in chef_data:\n",
    "    print(f\" {val} + \")"
   ]
  },
  {
   "cell_type": "markdown",
   "metadata": {},
   "source": [
    "<hr style=\"height:.9px;border:none;color:#333;background-color:#333;\" />\n",
    "<h4>b) Build a logistic regression model in statsmodels using candidate models in dictionary.</h4><br>\n",
    "\n",
    "* original x-variables\n",
    "* logit_sig (all features are significant based on their p-values)\n"
   ]
  },
  {
   "cell_type": "code",
   "execution_count": 42,
   "metadata": {},
   "outputs": [
    {
     "name": "stdout",
     "output_type": "stream",
     "text": [
      "Optimization terminated successfully.\n",
      "         Current function value: 0.549879\n",
      "         Iterations 6\n"
     ]
    },
    {
     "data": {
      "text/html": [
       "<table class=\"simpletable\">\n",
       "<caption>Logit Regression Results</caption>\n",
       "<tr>\n",
       "  <th>Dep. Variable:</th>   <td>CROSS_SELL_SUCCESS</td> <th>  No. Observations:  </th>  <td>  1459</td>  \n",
       "</tr>\n",
       "<tr>\n",
       "  <th>Model:</th>                  <td>Logit</td>       <th>  Df Residuals:      </th>  <td>  1452</td>  \n",
       "</tr>\n",
       "<tr>\n",
       "  <th>Method:</th>                  <td>MLE</td>        <th>  Df Model:          </th>  <td>     6</td>  \n",
       "</tr>\n",
       "<tr>\n",
       "  <th>Date:</th>             <td>Mon, 25 Jan 2021</td>  <th>  Pseudo R-squ.:     </th>  <td>0.1243</td>  \n",
       "</tr>\n",
       "<tr>\n",
       "  <th>Time:</th>                 <td>21:59:40</td>      <th>  Log-Likelihood:    </th> <td> -802.27</td> \n",
       "</tr>\n",
       "<tr>\n",
       "  <th>converged:</th>              <td>True</td>        <th>  LL-Null:           </th> <td> -916.19</td> \n",
       "</tr>\n",
       "<tr>\n",
       "  <th>Covariance Type:</th>      <td>nonrobust</td>     <th>  LLR p-value:       </th> <td>2.213e-46</td>\n",
       "</tr>\n",
       "</table>\n",
       "<table class=\"simpletable\">\n",
       "<tr>\n",
       "              <td></td>                 <th>coef</th>     <th>std err</th>      <th>z</th>      <th>P>|z|</th>  <th>[0.025</th>    <th>0.975]</th>  \n",
       "</tr>\n",
       "<tr>\n",
       "  <th>Intercept</th>                 <td>   -2.1788</td> <td>    0.246</td> <td>   -8.866</td> <td> 0.000</td> <td>   -2.660</td> <td>   -1.697</td>\n",
       "</tr>\n",
       "<tr>\n",
       "  <th>CANCELLATIONS_BEFORE_NOON</th> <td>    0.2743</td> <td>    0.046</td> <td>    5.936</td> <td> 0.000</td> <td>    0.184</td> <td>    0.365</td>\n",
       "</tr>\n",
       "<tr>\n",
       "  <th>mobile_taste</th>              <td>    0.5821</td> <td>    0.125</td> <td>    4.656</td> <td> 0.000</td> <td>    0.337</td> <td>    0.827</td>\n",
       "</tr>\n",
       "<tr>\n",
       "  <th>personal</th>                  <td>    1.2785</td> <td>    0.156</td> <td>    8.217</td> <td> 0.000</td> <td>    0.973</td> <td>    1.583</td>\n",
       "</tr>\n",
       "<tr>\n",
       "  <th>professional</th>              <td>    1.8580</td> <td>    0.169</td> <td>   10.982</td> <td> 0.000</td> <td>    1.526</td> <td>    2.190</td>\n",
       "</tr>\n",
       "<tr>\n",
       "  <th>number_of_names</th>           <td>    0.5508</td> <td>    0.093</td> <td>    5.896</td> <td> 0.000</td> <td>    0.368</td> <td>    0.734</td>\n",
       "</tr>\n",
       "<tr>\n",
       "  <th>locker_fridge</th>             <td>    0.5241</td> <td>    0.206</td> <td>    2.544</td> <td> 0.011</td> <td>    0.120</td> <td>    0.928</td>\n",
       "</tr>\n",
       "</table>"
      ],
      "text/plain": [
       "<class 'statsmodels.iolib.summary.Summary'>\n",
       "\"\"\"\n",
       "                           Logit Regression Results                           \n",
       "==============================================================================\n",
       "Dep. Variable:     CROSS_SELL_SUCCESS   No. Observations:                 1459\n",
       "Model:                          Logit   Df Residuals:                     1452\n",
       "Method:                           MLE   Df Model:                            6\n",
       "Date:                Mon, 25 Jan 2021   Pseudo R-squ.:                  0.1243\n",
       "Time:                        21:59:40   Log-Likelihood:                -802.27\n",
       "converged:                       True   LL-Null:                       -916.19\n",
       "Covariance Type:            nonrobust   LLR p-value:                 2.213e-46\n",
       "=============================================================================================\n",
       "                                coef    std err          z      P>|z|      [0.025      0.975]\n",
       "---------------------------------------------------------------------------------------------\n",
       "Intercept                    -2.1788      0.246     -8.866      0.000      -2.660      -1.697\n",
       "CANCELLATIONS_BEFORE_NOON     0.2743      0.046      5.936      0.000       0.184       0.365\n",
       "mobile_taste                  0.5821      0.125      4.656      0.000       0.337       0.827\n",
       "personal                      1.2785      0.156      8.217      0.000       0.973       1.583\n",
       "professional                  1.8580      0.169     10.982      0.000       1.526       2.190\n",
       "number_of_names               0.5508      0.093      5.896      0.000       0.368       0.734\n",
       "locker_fridge                 0.5241      0.206      2.544      0.011       0.120       0.928\n",
       "=============================================================================================\n",
       "\"\"\""
      ]
     },
     "execution_count": 42,
     "metadata": {},
     "output_type": "execute_result"
    }
   ],
   "source": [
    " # instantiating a logistic regression model object\n",
    "logistic_sig6 = smf.logit(formula = \"\"\"CROSS_SELL_SUCCESS ~\n",
    "                                         CANCELLATIONS_BEFORE_NOON + \n",
    "                                         mobile_taste + \n",
    "                                         personal + \n",
    "                                         professional + \n",
    "                                         number_of_names + \n",
    "                                         locker_fridge \n",
    "\n",
    "                                          \"\"\", \n",
    "                           data    = chef_train)\n",
    "\n",
    "\n",
    "# fitting the model object\n",
    "results_sig6 = logistic_sig6.fit()\n",
    "\n",
    "\n",
    "# checking the results SUMMARY\n",
    "results_sig6.summary()\n",
    "\n",
    "\n"
   ]
  },
  {
   "cell_type": "markdown",
   "metadata": {},
   "source": [
    "<hr style=\"height:.9px;border:none;color:#333;background-color:#333;\" />\n",
    "\n",
    "<h4>c) Logistic Regression with Hyperparameter Tuning.</h4>\n"
   ]
  },
  {
   "cell_type": "code",
   "execution_count": 43,
   "metadata": {},
   "outputs": [
    {
     "name": "stderr",
     "output_type": "stream",
     "text": [
      "C:\\Users\\Pimkarn\\anaconda3\\lib\\site-packages\\sklearn\\model_selection\\_search.py:278: UserWarning: The total space of parameters 294 is smaller than n_iter=500. Running 294 iterations. For exhaustive searches, use GridSearchCV.\n",
      "  warnings.warn(\n"
     ]
    },
    {
     "name": "stdout",
     "output_type": "stream",
     "text": [
      "Tuned Parameters  : {'warm_start': True, 'solver': 'newton-cg', 'C': 1.1}\n",
      "Tuned CV AUC      : 0.6459\n"
     ]
    }
   ],
   "source": [
    "########################################\n",
    "# RandomizedSearchCV\n",
    "########################################\n",
    "\n",
    "# declaring a hyperparameter space\n",
    "C_space          = np.arange(0.1, 5.0, 0.1)   # similar to alpha in lasso regression but inverse => lower C will try to help us select sig variables\n",
    "warm_start_space = [True, False]\n",
    "solver_space     = ['newton-cg', 'sag', 'lbfgs']\n",
    "\n",
    "\n",
    "# creating a hyperparameter grid\n",
    "param_grid = {'C'          : C_space,\n",
    "              'warm_start' : warm_start_space,\n",
    "              'solver'     : solver_space}\n",
    "\n",
    "\n",
    "# INSTANTIATING the model object without hyperparameters\n",
    "lr_tuned = LogisticRegression(random_state = 219,\n",
    "                              max_iter     = 1200)\n",
    "\n",
    "\n",
    "# GridSearchCV object\n",
    "lr_tuned_cv = RandomizedSearchCV(estimator           = lr_tuned,   # the model object\n",
    "                                 param_distributions = param_grid, # parameters to tune\n",
    "                                 cv                  = 3,          # how many folds in cross-validation\n",
    "                                 n_iter              = 500,        # number of combinations of hyperparameters to try\n",
    "                                 random_state        = 219,        # starting point for random sequence\n",
    "                                 scoring = make_scorer(\n",
    "                                           roc_auc_score,\n",
    "                                           needs_threshold = False)) # scoring criteria (AUC)\n",
    "\n",
    "\n",
    "# FITTING to the FULL DATASET (due to cross-validation)\n",
    "lr_tuned_cv.fit(chef_data, chef_target)\n",
    "\n",
    "\n",
    "# PREDICT step is not needed\n",
    "\n",
    "\n",
    "# printing the optimal parameters and best score\n",
    "print(\"Tuned Parameters  :\", lr_tuned_cv.best_params_)\n",
    "print(\"Tuned CV AUC      :\", lr_tuned_cv.best_score_.round(4))"
   ]
  },
  {
   "cell_type": "markdown",
   "metadata": {},
   "source": [
    "<hr style=\"height:.9px;border:none;color:#333;background-color:#333;\" />\n",
    "\n",
    "<h4>d) Checking the best estimator for the model.</h4>\n"
   ]
  },
  {
   "cell_type": "code",
   "execution_count": 44,
   "metadata": {},
   "outputs": [
    {
     "data": {
      "text/plain": [
       "LogisticRegression(C=1.1, max_iter=1200, random_state=219, solver='newton-cg',\n",
       "                   warm_start=True)"
      ]
     },
     "execution_count": 44,
     "metadata": {},
     "output_type": "execute_result"
    }
   ],
   "source": [
    "lr_tuned_cv.best_estimator_"
   ]
  },
  {
   "cell_type": "markdown",
   "metadata": {},
   "source": [
    "<hr style=\"height:.9px;border:none;color:#333;background-color:#333;\" />\n",
    "\n",
    "<h4>e) Predict and score a logistic regression model using lr_tuned_cv.best_estimator_.</h4>\n"
   ]
  },
  {
   "cell_type": "code",
   "execution_count": 45,
   "metadata": {},
   "outputs": [
    {
     "name": "stdout",
     "output_type": "stream",
     "text": [
      "LR Tuned Training ACCURACY: 0.7402\n",
      "LR Tuned Testing  ACCURACY: 0.7536\n",
      "LR Tuned AUC Score        : 0.6594\n"
     ]
    }
   ],
   "source": [
    "# building a model based on hyperparameter tuning results\n",
    "\n",
    "# INSTANTIATING a logistic regression model with tuned values\n",
    "lr_tuned = lr_tuned_cv.best_estimator_\n",
    "\n",
    "\n",
    "# FIT step is not needed\n",
    "\n",
    "\n",
    "# PREDICTING based on the testing set\n",
    "lr_tuned_pred = lr_tuned.predict(x_test)\n",
    "\n",
    "\n",
    "# SCORING the results\n",
    "print('LR Tuned Training ACCURACY:', lr_tuned.score(x_train, y_train).round(4))\n",
    "print('LR Tuned Testing  ACCURACY:', lr_tuned.score(x_test, y_test).round(4))\n",
    "print('LR Tuned AUC Score        :', roc_auc_score(y_true  = y_test,\n",
    "                                          y_score = lr_tuned_pred).round(4))\n",
    "\n",
    "\n",
    "# saving scoring data for future use\n",
    "lr_tuned_train_score = lr_tuned.score(x_train, y_train).round(4) # accuracy\n",
    "lr_tuned_test_score  = lr_tuned.score(x_test, y_test).round(4)   # accuracy\n",
    "\n",
    "\n",
    "# saving the AUC score\n",
    "lr_tuned_auc         = roc_auc_score(y_true  = y_test,\n",
    "                                     y_score = lr_tuned_pred).round(4) # auc\n"
   ]
  },
  {
   "cell_type": "markdown",
   "metadata": {},
   "source": [
    "<hr style=\"height:.9px;border:none;color:#333;background-color:#333;\" />\n",
    "<h4>f) Unpack the confusion matrix.</h4>\n",
    "\n"
   ]
  },
  {
   "cell_type": "code",
   "execution_count": 46,
   "metadata": {},
   "outputs": [
    {
     "name": "stdout",
     "output_type": "stream",
     "text": [
      "\n",
      "True Negatives : 62\n",
      "False Positives: 94\n",
      "False Negatives: 26\n",
      "True Positives : 305\n",
      "\n"
     ]
    }
   ],
   "source": [
    "# unpacking the confusion matrix\n",
    "lr_tuned_tn, \\\n",
    "lr_tuned_fp, \\\n",
    "lr_tuned_fn, \\\n",
    "lr_tuned_tp = confusion_matrix(y_true = y_test, y_pred = lr_tuned_pred).ravel()\n",
    "\n",
    "\n",
    "# printing each result one-by-one\n",
    "print(f\"\"\"\n",
    "True Negatives : {lr_tuned_tn}\n",
    "False Positives: {lr_tuned_fp}\n",
    "False Negatives: {lr_tuned_fn}\n",
    "True Positives : {lr_tuned_tp}\n",
    "\"\"\")"
   ]
  },
  {
   "cell_type": "markdown",
   "metadata": {},
   "source": [
    "<hr style=\"height:.9px;border:none;color:#333;background-color:#333;\" />\n",
    "\n",
    "<h4>g) Store the model results.</h4>"
   ]
  },
  {
   "cell_type": "code",
   "execution_count": 47,
   "metadata": {},
   "outputs": [],
   "source": [
    "# declaring model performance objects\n",
    "lr_train_acc = lr_tuned_train_score\n",
    "lr_test_acc  = lr_tuned_test_score\n",
    "lr_auc       = lr_tuned_auc"
   ]
  },
  {
   "cell_type": "markdown",
   "metadata": {},
   "source": [
    "<hr style=\"height:.9px;border:none;color:#333;background-color:#333;\" />\n",
    "\n",
    "<h3>II. Classification Trees (CART Models)</h3>\n",
    "<h4>a) User-defined function for CART model output</h4>"
   ]
  },
  {
   "cell_type": "code",
   "execution_count": 48,
   "metadata": {},
   "outputs": [],
   "source": [
    "########################################\n",
    "# display_tree\n",
    "########################################\n",
    "def display_tree(tree, feature_df, height = 500, width = 800):\n",
    "    \"\"\"\n",
    "    PARAMETERS\n",
    "    ----------\n",
    "    tree       : fitted tree model object\n",
    "        fitted CART model to visualized\n",
    "    feature_df : DataFrame\n",
    "        DataFrame of explanatory features (used to generate labels)\n",
    "    height     : int, default 500\n",
    "        height in pixels to which to constrain image in html\n",
    "    width      : int, default 800\n",
    "        width in pixels to which to constrain image in html\n",
    "    \"\"\"\n",
    "\n",
    "    # visualizing the tree\n",
    "    dot_data = StringIO()\n",
    "\n",
    "    \n",
    "    # exporting tree to graphviz\n",
    "    export_graphviz(decision_tree      = tree,\n",
    "                    out_file           = dot_data,\n",
    "                    filled             = True,\n",
    "                    rounded            = True,\n",
    "                    special_characters = True,\n",
    "                    feature_names      = feature_df.columns)\n",
    "\n",
    "\n",
    "    # declaring a graph object\n",
    "    graph = pydotplus.graph_from_dot_data(dot_data.getvalue())\n",
    "\n",
    "\n",
    "    # creating image\n",
    "    img = Image(graph.create_png(),\n",
    "                height = height,\n",
    "                width  = width)\n",
    "    \n",
    "    return img\n",
    "\n",
    "########################################\n",
    "# plot_feature_importances for CART model\n",
    "########################################\n",
    "def plot_feature_importances(model, train, export = False):\n",
    "    \"\"\"\n",
    "    Plots the importance of features from a CART model.\n",
    "    \n",
    "    PARAMETERS\n",
    "    ----------\n",
    "    model  : CART model\n",
    "    train  : explanatory variable training data\n",
    "    export : whether or not to export as a .png image, default False\n",
    "    \"\"\"\n",
    "    \n",
    "    # declaring the number\n",
    "    n_features = x_train.shape[1]\n",
    "    \n",
    "    # setting plot window\n",
    "    fig, ax = plt.subplots(figsize=(12,9))\n",
    "    \n",
    "    plt.barh(range(n_features), model.feature_importances_, align='center')\n",
    "    plt.yticks(pd.np.arange(n_features), train.columns)\n",
    "    plt.xlabel(\"Feature importance\")\n",
    "    plt.ylabel(\"Feature\")\n",
    "    \n",
    "    if export == True:\n",
    "        plt.savefig('Tree_Leaf_50_Feature_Importance.png')"
   ]
  },
  {
   "cell_type": "markdown",
   "metadata": {},
   "source": [
    "<hr style=\"height:.9px;border:none;color:#333;background-color:#333;\" />\n",
    "<h3>Test feature importances</h3><br>\n",
    "The purpose is to check the explanatory variables that have the strongest impact on the success of cross-selling promotion in order to create new variable sets and select x-variables in logistic regression model.\n",
    "\n",
    "<strong>Remark: this session was commented-out in order to save processing time.</strong>\n",
    "\n",
    "<h4>a) Create dictionary of explanatory variable sets for CART models. </h4>\n"
   ]
  },
  {
   "cell_type": "code",
   "execution_count": 49,
   "metadata": {},
   "outputs": [],
   "source": [
    "# create explanatory variable sets\n",
    "#candidate_dict_CART = {\n",
    "\n",
    " # original x-variables\n",
    " #'original_CART'   : [\n",
    " #          'CONTACTS_W_CUSTOMER_SERVICE', 'PRODUCT_CATEGORIES_VIEWED', \n",
    " #          'log_AVG_TIME_PER_SITE_VISIT', 'MOBILE_NUMBER', 'CANCELLATIONS_BEFORE_NOON', \n",
    " #          'CANCELLATIONS_AFTER_NOON', 'TASTES_AND_PREFERENCES', 'PC_LOGINS', \n",
    " #          'MOBILE_LOGINS', 'WEEKLY_PLAN', 'EARLY_DELIVERIES', 'LATE_DELIVERIES', \n",
    " #          'PACKAGE_LOCKER', 'REFRIGERATED_LOCKER', 'log_AVG_PREP_VID_TIME', 'LARGEST_ORDER_SIZE', \n",
    " #          'MASTER_CLASSES_ATTENDED', 'MEDIAN_MEAL_RATING', 'AVG_CLICKS_PER_VISIT', \n",
    " #          'TOTAL_PHOTOS_VIEWED']\n",
    "    \n",
    " # significant variables only (set 1) AUC 0.5336\n",
    " #'logit_sig1'    : ['CANCELLATIONS_BEFORE_NOON','MOBILE_NUMBER',\n",
    " #                   'TASTES_AND_PREFERENCES' , 'REFRIGERATED_LOCKER' ,\n",
    " #                   'PC_LOGINS' , 'MEDIAN_MEAL_RATING'],\n",
    "\n",
    "#} # closing candidate_dict_CART\n",
    "\n",
    "# defining explanatory variable set to run in the models\n",
    "#key_to_run_CART = 'original_CART'\n"
   ]
  },
  {
   "cell_type": "markdown",
   "metadata": {},
   "source": [
    "<hr style=\"height:.9px;border:none;color:#333;background-color:#333;\" />\n",
    "<h4>b) Prepare Explanatory Data for testing feature importance.</h4>"
   ]
  },
  {
   "cell_type": "code",
   "execution_count": 50,
   "metadata": {},
   "outputs": [],
   "source": [
    "# declaring explanatory variables\n",
    "# chef_data_CART   = chef.loc[ : , candidate_dict_CART[key_to_run_CART] ]\n"
   ]
  },
  {
   "cell_type": "markdown",
   "metadata": {},
   "source": [
    "<hr style=\"height:.9px;border:none;color:#333;background-color:#333;\" />\n",
    "<h4>c) Prepare train-test split.</h4>"
   ]
  },
  {
   "cell_type": "code",
   "execution_count": 51,
   "metadata": {
    "scrolled": true
   },
   "outputs": [],
   "source": [
    "# train-test split with stratification\n",
    "#x_train_CART, x_test_CART, y_train_CART, y_test_CART = train_test_split(\n",
    "#            chef_data_CART,\n",
    "#            chef_target,\n",
    "#            test_size    = 0.25,\n",
    "#            random_state = 219,\n",
    "#            stratify     = chef_target)\n",
    "\n",
    "\n",
    "# merging training data for statsmodels\n",
    "#chef_train_CART = pd.concat([x_train_CART, y_train_CART], axis = 1)\n"
   ]
  },
  {
   "cell_type": "markdown",
   "metadata": {},
   "source": [
    "<hr style=\"height:.9px;border:none;color:#333;background-color:#333;\" />\n",
    "\n",
    "<h4>d) Hyperparameter Tuning on Classification Trees.</h4>\n"
   ]
  },
  {
   "cell_type": "code",
   "execution_count": 52,
   "metadata": {},
   "outputs": [],
   "source": [
    "# declaring a hyperparameter space\n",
    "#criterion_space = ['gini', 'entropy']\n",
    "#splitter_space  = ['best', 'random']\n",
    "#depth_space     = pd.np.arange(1, 8, 1)\n",
    "#leaf_space      = pd.np.arange(1, 100, 1)\n",
    "\n",
    "\n",
    "# creating a hyperparameter grid\n",
    "#param_grid = {'criterion'        : criterion_space,\n",
    "#              'splitter'         : splitter_space,\n",
    "#              'max_depth'        : depth_space,\n",
    "#              'min_samples_leaf' : leaf_space}\n",
    "\n",
    "\n",
    "# INSTANTIATING the model object without hyperparameters\n",
    "#tuned_tree_CART = DecisionTreeClassifier(random_state = 219)\n",
    "\n",
    "\n",
    "# RandomizedSearchCV object\n",
    "#tuned_tree_CART_cv = RandomizedSearchCV(estimator             = tuned_tree_CART,\n",
    "#                                   param_distributions   = param_grid,\n",
    "#                                   cv                    = 3,   \n",
    "#                                   n_iter                = 1000,\n",
    "#                                   random_state          = 219,\n",
    "#                                   scoring = make_scorer(roc_auc_score,\n",
    "#                                             needs_threshold = False))\n",
    "\n",
    "\n",
    "# FITTING to the FULL DATASET (due to cross-validation)\n",
    "#tuned_tree_CART_cv.fit(chef_data_CART, chef_target)\n",
    "\n",
    "\n",
    "# PREDICT step is not needed\n",
    "\n",
    "\n",
    "# printing the optimal parameters and best score\n",
    "#print(\"Tuned Parameters  :\", tuned_tree_CART_cv.best_params_)\n",
    "#print(\"Tuned Training AUC:\", tuned_tree_CART_cv.best_score_.round(4))"
   ]
  },
  {
   "cell_type": "markdown",
   "metadata": {},
   "source": [
    "<hr style=\"height:.9px;border:none;color:#333;background-color:#333;\" />\n",
    "\n",
    "<h4>e) Build a classification tree model based on the hyperparameter tuning results.</h4>"
   ]
  },
  {
   "cell_type": "code",
   "execution_count": 53,
   "metadata": {},
   "outputs": [],
   "source": [
    "# building a model based on hyperparameter tuning results\n",
    "\n",
    "# INSTANTIATING a logistic regression model with tuned values\n",
    "#tree_tuned_CART = tuned_tree_CART_cv.best_estimator_\n",
    "\n",
    "\n",
    "# FIT step is not needed\n",
    "\n",
    "\n",
    "# PREDICTING based on the testing set\n",
    "#tree_tuned_CART_pred = tree_tuned_CART.predict(x_test_CART)\n",
    "\n",
    "\n",
    "# SCORING the results\n",
    "#print('Training ACCURACY:', tree_tuned_CART.score(x_train_CART, y_train_CART).round(4))\n",
    "#print('Testing  ACCURACY:', tree_tuned_CART.score(x_test_CART, y_test_CART).round(4))\n",
    "#print('AUC Score        :', roc_auc_score(y_true  = y_test_CART,\n",
    "#                                          y_score = tree_tuned_CART_pred).round(4))\n",
    "\n",
    "\n",
    "# saving scoring data for future use\n",
    "#tree_tuned_CART_train_score = tree_tuned_CART.score(x_train_CART, y_train_CART).round(4) # accuracy\n",
    "#tree_tuned_CART_test_score  = tree_tuned_CART.score(x_test_CART, y_test_CART).round(4)   # accuracy\n",
    "\n",
    "\n",
    "# saving the AUC score\n",
    "#tree_tuned_CART_auc         = roc_auc_score(y_true  = y_test_CART,\n",
    "#                                     y_score = tree_tuned_CART_pred).round(4) # auc"
   ]
  },
  {
   "cell_type": "markdown",
   "metadata": {},
   "source": [
    "<hr style=\"height:.9px;border:none;color:#333;background-color:#333;\" />\n",
    "\n",
    "<h4>f) Unpack the confusion matrix.</h4>\n"
   ]
  },
  {
   "cell_type": "code",
   "execution_count": 54,
   "metadata": {},
   "outputs": [],
   "source": [
    "# unpacking the confusion matrix\n",
    "#tuned_tree_CART_tn, \\\n",
    "#tuned_tree_CART_fp, \\\n",
    "#tuned_tree_CART_fn, \\\n",
    "#tuned_tree_CART_tp = confusion_matrix(y_true = y_test, y_pred = tree_tuned_CART_pred).ravel()\n",
    "\n",
    "\n",
    "# printing each result one-by-one\n",
    "#print(f\"\"\"\n",
    "#True Negatives : {tuned_tree_CART_tn}\n",
    "#False Positives: {tuned_tree_CART_fp}\n",
    "#False Negatives: {tuned_tree_CART_fn}\n",
    "#True Positives : {tuned_tree_CART_tp}\n",
    "#\"\"\")"
   ]
  },
  {
   "cell_type": "markdown",
   "metadata": {},
   "source": [
    "<hr style=\"height:.9px;border:none;color:#333;background-color:#333;\" />\n",
    "\n",
    "<h4>g) Display the tree graphically.</h4>\n"
   ]
  },
  {
   "cell_type": "code",
   "execution_count": 55,
   "metadata": {},
   "outputs": [],
   "source": [
    "# displaying the tree\n",
    "#display_tree(tree = tree_tuned_CART,\n",
    "#             feature_df = chef_data_CART,\n",
    "#             height = 1500,\n",
    "#             width  = 1500)"
   ]
  },
  {
   "cell_type": "markdown",
   "metadata": {},
   "source": [
    "<hr style=\"height:.9px;border:none;color:#333;background-color:#333;\" />\n",
    "<h3>Develop a classification tree model. </h3>\n",
    "<h4>a) Create a classification tree model using candidate models in dictionary. </h4>"
   ]
  },
  {
   "cell_type": "code",
   "execution_count": 56,
   "metadata": {},
   "outputs": [
    {
     "name": "stdout",
     "output_type": "stream",
     "text": [
      "Full Tree Training ACCURACY: 0.7766\n",
      "Full Tree Testing ACCURACY : 0.7659\n",
      "Full Tree AUC Score: 0.6838\n"
     ]
    }
   ],
   "source": [
    "# INSTANTIATING a classification tree object\n",
    "full_tree = DecisionTreeClassifier(max_depth = 8,\n",
    "                                   random_state = 219)\n",
    "\n",
    "\n",
    "# FITTING the training data\n",
    "full_tree_fit = full_tree.fit(x_train, y_train)\n",
    "\n",
    "\n",
    "# PREDICTING on new data\n",
    "full_tree_pred = full_tree_fit.predict(x_test)\n",
    "\n",
    "\n",
    "# SCORING the model\n",
    "print('Full Tree Training ACCURACY:', full_tree_fit.score(x_train,\n",
    "                                                     y_train).round(4))\n",
    "\n",
    "print('Full Tree Testing ACCURACY :', full_tree_fit.score(x_test,\n",
    "                                                     y_test).round(4))\n",
    "\n",
    "print('Full Tree AUC Score:', roc_auc_score(y_true  = y_test,\n",
    "                                            y_score = full_tree_pred).round(4))\n",
    "\n",
    "\n",
    "# saving scoring data for future use\n",
    "full_tree_train_score = full_tree_fit.score(x_train, y_train).round(4) # accuracy\n",
    "full_tree_test_score  = full_tree_fit.score(x_test, y_test).round(4)   # accuracy\n",
    "\n",
    "\n",
    "# saving AUC\n",
    "full_tree_auc_score   = roc_auc_score(y_true  = y_test,\n",
    "                                      y_score = full_tree_pred).round(4) # auc"
   ]
  },
  {
   "cell_type": "markdown",
   "metadata": {},
   "source": [
    "<hr style=\"height:.9px;border:none;color:#333;background-color:#333;\" />\n",
    "<h4>b) Unpack the confusion matrix.</h4>\n"
   ]
  },
  {
   "cell_type": "code",
   "execution_count": 57,
   "metadata": {},
   "outputs": [
    {
     "name": "stdout",
     "output_type": "stream",
     "text": [
      "\n",
      "True Negatives : 71\n",
      "False Positives: 85\n",
      "False Negatives: 29\n",
      "True Positives : 302\n",
      "\n"
     ]
    }
   ],
   "source": [
    "# unpacking the confusion matrix\n",
    "full_tree_tn, \\\n",
    "full_tree_fp, \\\n",
    "full_tree_fn, \\\n",
    "full_tree_tp = confusion_matrix(y_true = y_test, y_pred = full_tree_pred ).ravel()\n",
    "\n",
    "\n",
    "# printing each result one-by-one\n",
    "print(f\"\"\"\n",
    "True Negatives : {full_tree_tn}\n",
    "False Positives: {full_tree_fp}\n",
    "False Negatives: {full_tree_fn}\n",
    "True Positives : {full_tree_tp}\n",
    "\"\"\")"
   ]
  },
  {
   "cell_type": "markdown",
   "metadata": {},
   "source": [
    "<hr style=\"height:.9px;border:none;color:#333;background-color:#333;\" />\n",
    "\n",
    "<h4>c) Call plot_feature_importances() function to see which variables the model found most important. </h4>"
   ]
  },
  {
   "cell_type": "code",
   "execution_count": 58,
   "metadata": {},
   "outputs": [
    {
     "name": "stderr",
     "output_type": "stream",
     "text": [
      "<ipython-input-48-4105c5057480>:63: FutureWarning: The pandas.np module is deprecated and will be removed from pandas in a future version. Import numpy directly instead\n",
      "  plt.yticks(pd.np.arange(n_features), train.columns)\n"
     ]
    },
    {
     "data": {
      "image/png": "[encoded data removed]",
      "text/plain": [
       "<Figure size 864x648 with 1 Axes>"
      ]
     },
     "metadata": {
      "needs_background": "light"
     },
     "output_type": "display_data"
    }
   ],
   "source": [
    "# plotting feature importance\n",
    "plot_feature_importances(full_tree_fit,\n",
    "                         train  = x_train,\n",
    "                         export = False)"
   ]
  },
  {
   "cell_type": "markdown",
   "metadata": {},
   "source": [
    "<hr style=\"height:.9px;border:none;color:#333;background-color:#333;\" />\n",
    "\n",
    "<h4>d) Prune the tree by developing a new classification tree model.</h4>"
   ]
  },
  {
   "cell_type": "code",
   "execution_count": 59,
   "metadata": {
    "scrolled": true
   },
   "outputs": [
    {
     "name": "stdout",
     "output_type": "stream",
     "text": [
      "Training ACCURACY: 0.7485\n",
      "Testing  ACCURACY: 0.7659\n",
      "AUC Score        : 0.7024\n"
     ]
    }
   ],
   "source": [
    "# INSTANTIATING a classification tree object\n",
    "pruned_tree = DecisionTreeClassifier(max_depth = 8,\n",
    "                                     min_samples_leaf = 50,\n",
    "                                     random_state = 219)\n",
    "\n",
    "\n",
    "# FITTING the training data\n",
    "pruned_tree_fit  = pruned_tree.fit(x_train, y_train)\n",
    "\n",
    "\n",
    "# PREDICTING on new data\n",
    "pruned_tree_pred = pruned_tree_fit.predict(x_test)\n",
    "\n",
    "\n",
    "# SCORING the model\n",
    "print('Training ACCURACY:', pruned_tree_fit.score(x_train, y_train).round(4))\n",
    "print('Testing  ACCURACY:', pruned_tree_fit.score(x_test, y_test).round(4))\n",
    "print('AUC Score        :', roc_auc_score(y_true  = y_test,\n",
    "                                          y_score = pruned_tree_pred).round(4))\n",
    "\n",
    "\n",
    "# saving scoring data for future use\n",
    "pruned_tree_train_score = pruned_tree_fit.score(x_train, y_train).round(4) # accuracy\n",
    "pruned_tree_test_score  = pruned_tree_fit.score(x_test, y_test).round(4)   # accuracy\n",
    "\n",
    "\n",
    "# saving auc score\n",
    "pruned_tree_auc_score   = roc_auc_score(y_true  = y_test,\n",
    "                                        y_score = pruned_tree_pred).round(4) # auc"
   ]
  },
  {
   "cell_type": "markdown",
   "metadata": {},
   "source": [
    "<hr style=\"height:.9px;border:none;color:#333;background-color:#333;\" />\n",
    "<h4>e) Unpack the confusion matrix.</h4>\n"
   ]
  },
  {
   "cell_type": "code",
   "execution_count": 60,
   "metadata": {},
   "outputs": [
    {
     "name": "stdout",
     "output_type": "stream",
     "text": [
      "\n",
      "True Negatives : 82\n",
      "False Positives: 74\n",
      "False Negatives: 40\n",
      "True Positives : 291\n",
      "\n"
     ]
    }
   ],
   "source": [
    "# unpacking the confusion matrix\n",
    "pruned_tree_tn, \\\n",
    "pruned_tree_fp, \\\n",
    "pruned_tree_fn, \\\n",
    "pruned_tree_tp = confusion_matrix(y_true = y_test, y_pred = pruned_tree_pred).ravel()\n",
    "\n",
    "\n",
    "# printing each result one-by-one\n",
    "print(f\"\"\"\n",
    "True Negatives : {pruned_tree_tn}\n",
    "False Positives: {pruned_tree_fp}\n",
    "False Negatives: {pruned_tree_fn}\n",
    "True Positives : {pruned_tree_tp}\n",
    "\"\"\")"
   ]
  },
  {
   "cell_type": "markdown",
   "metadata": {},
   "source": [
    "<hr style=\"height:.9px;border:none;color:#333;background-color:#333;\" />\n",
    "\n",
    "<h4>f) Call the display_tree( ) function and generate a visual tree output.</h4>"
   ]
  },
  {
   "cell_type": "code",
   "execution_count": 61,
   "metadata": {},
   "outputs": [
    {
     "data": {
      "image/png": "[encoded data removed]",
      "text/plain": [
       "<IPython.core.display.Image object>"
      ]
     },
     "execution_count": 61,
     "metadata": {
      "image/png": {
       "height": 500,
       "width": 800
      }
     },
     "output_type": "execute_result"
    }
   ],
   "source": [
    "# calling display_tree\n",
    "display_tree(tree       = pruned_tree_fit,\n",
    "             feature_df = x_train)"
   ]
  },
  {
   "cell_type": "markdown",
   "metadata": {},
   "source": [
    "<hr style=\"height:.9px;border:none;color:#333;background-color:#333;\" />\n",
    "\n",
    "<h4>g) Call plot_feature_importances() function to see which variables the model found most important. </h4>"
   ]
  },
  {
   "cell_type": "code",
   "execution_count": 62,
   "metadata": {},
   "outputs": [
    {
     "name": "stderr",
     "output_type": "stream",
     "text": [
      "<ipython-input-48-4105c5057480>:63: FutureWarning: The pandas.np module is deprecated and will be removed from pandas in a future version. Import numpy directly instead\n",
      "  plt.yticks(pd.np.arange(n_features), train.columns)\n"
     ]
    },
    {
     "data": {
      "image/png": "[encoded data removed]",
      "text/plain": [
       "<Figure size 864x648 with 1 Axes>"
      ]
     },
     "metadata": {
      "needs_background": "light"
     },
     "output_type": "display_data"
    }
   ],
   "source": [
    "# plotting feature importance\n",
    "plot_feature_importances(pruned_tree_fit,\n",
    "                         train  = x_train,\n",
    "                         export = False)"
   ]
  },
  {
   "cell_type": "markdown",
   "metadata": {},
   "source": [
    "<hr style=\"height:.9px;border:none;color:#333;background-color:#333;\" />\n",
    "\n",
    "<h4>h) Hyperparameter Tuning on Classification Trees.</h4>\n"
   ]
  },
  {
   "cell_type": "code",
   "execution_count": 63,
   "metadata": {
    "scrolled": true
   },
   "outputs": [
    {
     "name": "stderr",
     "output_type": "stream",
     "text": [
      "<ipython-input-63-2f27598c606e>:4: FutureWarning: The pandas.np module is deprecated and will be removed from pandas in a future version. Import numpy directly instead\n",
      "  depth_space     = pd.np.arange(1, 25, 1)\n",
      "<ipython-input-63-2f27598c606e>:5: FutureWarning: The pandas.np module is deprecated and will be removed from pandas in a future version. Import numpy directly instead\n",
      "  leaf_space      = pd.np.arange(1, 100, 1)\n"
     ]
    },
    {
     "name": "stdout",
     "output_type": "stream",
     "text": [
      "Tuned Parameters  : {'splitter': 'best', 'min_samples_leaf': 6, 'max_depth': 7, 'criterion': 'entropy'}\n",
      "Tuned Training AUC: 0.6851\n"
     ]
    }
   ],
   "source": [
    "# declaring a hyperparameter space\n",
    "criterion_space = ['gini', 'entropy']\n",
    "splitter_space  = ['best', 'random']\n",
    "depth_space     = pd.np.arange(1, 25, 1)\n",
    "leaf_space      = pd.np.arange(1, 100, 1)\n",
    "\n",
    "\n",
    "# creating a hyperparameter grid\n",
    "param_grid = {'criterion'        : criterion_space,\n",
    "              'splitter'         : splitter_space,\n",
    "              'max_depth'        : depth_space,\n",
    "              'min_samples_leaf' : leaf_space}\n",
    "\n",
    "\n",
    "# INSTANTIATING the model object without hyperparameters\n",
    "tuned_tree = DecisionTreeClassifier(random_state = 219)\n",
    "\n",
    "\n",
    "# RandomizedSearchCV object\n",
    "tuned_tree_cv = RandomizedSearchCV(estimator             = tuned_tree,\n",
    "                                   param_distributions   = param_grid,\n",
    "                                   cv                    = 3,    \n",
    "                                   n_iter                = 1500,\n",
    "                                   random_state          = 219,\n",
    "                                   scoring = make_scorer(roc_auc_score,\n",
    "                                             needs_threshold = False))\n",
    "\n",
    "\n",
    "# FITTING to the FULL DATASET (due to cross-validation)\n",
    "tuned_tree_cv.fit(chef_data, chef_target)\n",
    "\n",
    "\n",
    "# PREDICT step is not needed\n",
    "\n",
    "\n",
    "# printing the optimal parameters and best score\n",
    "print(\"Tuned Parameters  :\", tuned_tree_cv.best_params_)\n",
    "print(\"Tuned Training AUC:\", tuned_tree_cv.best_score_.round(4))"
   ]
  },
  {
   "cell_type": "markdown",
   "metadata": {},
   "source": [
    "<hr style=\"height:.9px;border:none;color:#333;background-color:#333;\" />\n",
    "\n",
    "<h4>i) Check the best estimator for the model</h4>\n"
   ]
  },
  {
   "cell_type": "code",
   "execution_count": 64,
   "metadata": {},
   "outputs": [
    {
     "data": {
      "text/plain": [
       "{'splitter': 'best',\n",
       " 'min_samples_leaf': 6,\n",
       " 'max_depth': 7,\n",
       " 'criterion': 'entropy'}"
      ]
     },
     "execution_count": 64,
     "metadata": {},
     "output_type": "execute_result"
    }
   ],
   "source": [
    "tuned_tree_cv.best_params_"
   ]
  },
  {
   "cell_type": "markdown",
   "metadata": {},
   "source": [
    "<hr style=\"height:.9px;border:none;color:#333;background-color:#333;\" />\n",
    "\n",
    "<h4>j) Build a classification tree model based on the hyperparameter tuning results.</h4>"
   ]
  },
  {
   "cell_type": "code",
   "execution_count": 65,
   "metadata": {},
   "outputs": [
    {
     "name": "stdout",
     "output_type": "stream",
     "text": [
      "Training ACCURACY: 0.7587\n",
      "Testing  ACCURACY: 0.7906\n",
      "AUC Score        : 0.7375\n"
     ]
    }
   ],
   "source": [
    "# building a model based on hyperparameter tuning results\n",
    "\n",
    "# INSTANTIATING a classification tree object with tuned values\n",
    "tree_tuned = tuned_tree_cv.best_estimator_\n",
    "\n",
    "\n",
    "# FIT step is not needed\n",
    "\n",
    "\n",
    "# PREDICTING based on the testing set\n",
    "tree_tuned_pred = tree_tuned.predict(x_test)\n",
    "\n",
    "\n",
    "# SCORING the results\n",
    "print('Training ACCURACY:', tree_tuned.score(x_train, y_train).round(4))\n",
    "print('Testing  ACCURACY:', tree_tuned.score(x_test, y_test).round(4))\n",
    "print('AUC Score        :', roc_auc_score(y_true  = y_test,\n",
    "                                          y_score = tree_tuned_pred).round(4))\n",
    "\n",
    "\n",
    "# saving scoring data for future use\n",
    "tree_tuned_train_score = tree_tuned.score(x_train, y_train).round(4) # accuracy\n",
    "tree_tuned_test_score  = tree_tuned.score(x_test, y_test).round(4)   # accuracy\n",
    "\n",
    "\n",
    "# saving the AUC score\n",
    "tree_tuned_auc         = roc_auc_score(y_true  = y_test,\n",
    "                                     y_score = tree_tuned_pred).round(4) # auc"
   ]
  },
  {
   "cell_type": "markdown",
   "metadata": {},
   "source": [
    "<hr style=\"height:.9px;border:none;color:#333;background-color:#333;\" />\n",
    "\n",
    "<h4>k) Unpack the confusion matrix.</h4>\n",
    "\n"
   ]
  },
  {
   "cell_type": "code",
   "execution_count": 66,
   "metadata": {},
   "outputs": [
    {
     "name": "stdout",
     "output_type": "stream",
     "text": [
      "\n",
      "True Negatives : 92\n",
      "False Positives: 64\n",
      "False Negatives: 38\n",
      "True Positives : 293\n",
      "\n"
     ]
    }
   ],
   "source": [
    "# unpacking the confusion matrix\n",
    "tuned_tree_tn, \\\n",
    "tuned_tree_fp, \\\n",
    "tuned_tree_fn, \\\n",
    "tuned_tree_tp = confusion_matrix(y_true = y_test, y_pred = tree_tuned_pred).ravel()\n",
    "\n",
    "\n",
    "# printing each result one-by-one\n",
    "print(f\"\"\"\n",
    "True Negatives : {tuned_tree_tn}\n",
    "False Positives: {tuned_tree_fp}\n",
    "False Negatives: {tuned_tree_fn}\n",
    "True Positives : {tuned_tree_tp}\n",
    "\"\"\")"
   ]
  },
  {
   "cell_type": "markdown",
   "metadata": {},
   "source": [
    "<hr style=\"height:.9px;border:none;color:#333;background-color:#333;\" />\n",
    "\n",
    "<h4>l) Store the results of the tuned classification model to call in model_performance.</h4>\n"
   ]
  },
  {
   "cell_type": "code",
   "execution_count": 67,
   "metadata": {},
   "outputs": [],
   "source": [
    "# declaring model performance objects\n",
    "tree_train_acc = tree_tuned.score(x_train, y_train).round(4)\n",
    "tree_test_acc  = tree_tuned.score(x_test, y_test).round(4)\n",
    "tree_auc       = roc_auc_score(y_true  = y_test,\n",
    "                              y_score = tree_tuned_pred).round(4)\n"
   ]
  },
  {
   "cell_type": "markdown",
   "metadata": {},
   "source": [
    "<hr style=\"height:.9px;border:none;color:#333;background-color:#333;\" />\n",
    "\n",
    "<h2>III. KNN</h2><br>\n",
    "Requirement: the features take on continuous values, such as the price of a house, as opposed to categories, such as 'male' or 'female'. (source: DataCamp)\n",
    "<h4>a) Call the optimal_neighbors function.</h4>\n"
   ]
  },
  {
   "cell_type": "code",
   "execution_count": 68,
   "metadata": {},
   "outputs": [],
   "source": [
    "# determining the optimal number of neighbors\n",
    "#opt_neighbors = optimal_neighbors(chef_data,\n",
    "#                                  chef_target,\n",
    "#                                  response_type = 'class')"
   ]
  },
  {
   "cell_type": "markdown",
   "metadata": {},
   "source": [
    "The optimal number of neighbors is: 19<br>\n",
    "\n",
    "<strong>Remark: this session was commented-out in order to save processing time.</strong>"
   ]
  },
  {
   "cell_type": "markdown",
   "metadata": {},
   "source": [
    "<hr style=\"height:.9px;border:none;color:#333;background-color:#333;\" />\n",
    "\n",
    "<h4>b) Scale the explanatory data and create a KNN classification model with optimal neighbors.</h4>"
   ]
  },
  {
   "cell_type": "code",
   "execution_count": 69,
   "metadata": {
    "scrolled": true
   },
   "outputs": [
    {
     "name": "stdout",
     "output_type": "stream",
     "text": [
      "Training ACCURACY: 0.7594\n",
      "Testing  ACCURACY: 0.77\n",
      "AUC Score        : 0.6766\n"
     ]
    }
   ],
   "source": [
    "# copy/paste opt_neighbors to save processing time\n",
    "\n",
    "# INSTANTIATING StandardScaler()\n",
    "scaler = StandardScaler()\n",
    "\n",
    "\n",
    "# FITTING the data\n",
    "scaler.fit(chef_data)\n",
    "\n",
    "\n",
    "# TRANSFORMING the data\n",
    "x_scaled     = scaler.transform(chef_data)\n",
    "\n",
    "\n",
    "# converting to a DataFrame\n",
    "x_scaled_df  = pd.DataFrame(x_scaled) \n",
    "\n",
    "\n",
    "# train-test split with the scaled data\n",
    "x_train_scaled, x_test_scaled, y_train_scaled, y_test_scaled = train_test_split(\n",
    "            x_scaled_df,\n",
    "            chef_target,\n",
    "            random_state = 219,\n",
    "            test_size = 0.25,\n",
    "            stratify = chef_target)\n",
    "\n",
    "\n",
    "# INSTANTIATING a KNN classification model with optimal neighbors\n",
    "knn_opt = KNeighborsClassifier(n_neighbors = 19)\n",
    "\n",
    "\n",
    "# FITTING the training data\n",
    "knn_fit = knn_opt.fit(x_train_scaled, y_train_scaled)\n",
    "\n",
    "\n",
    "# PREDICTING based on the testing set\n",
    "knn_pred = knn_fit.predict(x_test_scaled)\n",
    "\n",
    "\n",
    "# SCORING the results\n",
    "print('Training ACCURACY:', knn_fit.score(x_train_scaled, y_train_scaled).round(4))\n",
    "print('Testing  ACCURACY:', knn_fit.score(x_test_scaled, y_test_scaled).round(4))\n",
    "print('AUC Score        :', roc_auc_score(y_true  = y_test,\n",
    "                                          y_score = knn_pred).round(4))\n",
    "\n",
    "\n",
    "# saving scoring data\n",
    "knn_train_score = knn_fit.score(x_train_scaled, y_train_scaled).round(4)\n",
    "knn_test_score  = knn_fit.score(x_test_scaled, y_test_scaled).round(4)\n",
    "\n",
    "\n",
    "# saving AUC score\n",
    "knn_auc_score   = roc_auc_score(y_true  = y_test,\n",
    "                                          y_score = knn_pred).round(4)"
   ]
  },
  {
   "cell_type": "markdown",
   "metadata": {},
   "source": [
    "<hr style=\"height:.9px;border:none;color:#333;background-color:#333;\" />\n",
    "<h4>c) Unpack the confusion matrix.</h4>\n"
   ]
  },
  {
   "cell_type": "code",
   "execution_count": 70,
   "metadata": {},
   "outputs": [
    {
     "name": "stdout",
     "output_type": "stream",
     "text": [
      "\n",
      "True Negatives : 65\n",
      "False Positives: 91\n",
      "False Negatives: 21\n",
      "True Positives : 310\n",
      "\n"
     ]
    }
   ],
   "source": [
    "# unpacking the confusion matrix\n",
    "knn_tree_tn, \\\n",
    "knn_tree_fp, \\\n",
    "knn_tree_fn, \\\n",
    "knn_tree_tp = confusion_matrix(y_true = y_test, y_pred = knn_pred).ravel()\n",
    "\n",
    "\n",
    "# printing each result one-by-one\n",
    "print(f\"\"\"\n",
    "True Negatives : {knn_tree_tn}\n",
    "False Positives: {knn_tree_fp}\n",
    "False Negatives: {knn_tree_fn}\n",
    "True Positives : {knn_tree_tp}\n",
    "\"\"\")"
   ]
  },
  {
   "cell_type": "markdown",
   "metadata": {},
   "source": [
    "<hr style=\"height:.9px;border:none;color:#333;background-color:#333;\" />\n",
    "\n",
    "<h2>IV. Random Forest</h2>   \n",
    "<h4>a) Hyperparameter Tuning on Random Forest using RandomizedSearchCV.</h4>\n",
    "\n",
    "<strong>Remark: this session was commented-out in order to save processing time.</strong>\n"
   ]
  },
  {
   "cell_type": "code",
   "execution_count": 71,
   "metadata": {
    "scrolled": true
   },
   "outputs": [],
   "source": [
    "# declaring a hyperparameter space\n",
    "#estimator_space  = pd.np.arange(100, 1100, 250)\n",
    "#leaf_space       = pd.np.arange(1, 31, 10)\n",
    "#criterion_space  = ['gini', 'entropy']\n",
    "#bootstrap_space  = [True, False]\n",
    "#warm_start_space = [True, False]\n",
    "\n",
    "\n",
    "# creating a hyperparameter grid\n",
    "#param_grid = {'n_estimators'     : estimator_space,\n",
    "#              'min_samples_leaf' : leaf_space,\n",
    "#              'criterion'        : criterion_space,\n",
    "#              'bootstrap'        : bootstrap_space,\n",
    "#              'warm_start'       : warm_start_space}\n",
    "\n",
    "\n",
    "# INSTANTIATING the model object without hyperparameters\n",
    "#forest_grid = RandomForestClassifier(max_depth    = 8,\n",
    "#                                     random_state = 219)\n",
    "\n",
    "\n",
    "# GridSearchCV object\n",
    "#forest_cv = RandomizedSearchCV(estimator           = forest_grid,\n",
    "#                               param_distributions = param_grid,\n",
    "#                               cv         = 3,\n",
    "#                               n_iter     = 1000,\n",
    "#                               scoring    = make_scorer(roc_auc_score,\n",
    "#                                            needs_threshold = False))\n",
    "\n",
    "\n",
    "# FITTING to the FULL DATASET (due to cross-validation)\n",
    "#forest_cv.fit(chef_data, chef_target)\n",
    "\n",
    "\n",
    "# PREDICT step is not needed\n",
    "\n",
    "\n",
    "# printing the optimal parameters and best score\n",
    "#print(\"Tuned Parameters  :\", forest_cv.best_params_)\n",
    "#print(\"Tuned Training AUC:\", forest_cv.best_score_.round(4))"
   ]
  },
  {
   "cell_type": "markdown",
   "metadata": {},
   "source": [
    "<hr style=\"height:.9px;border:none;color:#333;background-color:#333;\" />\n",
    "\n",
    "<h4>b) Check the best estimator for the model</h4>\n"
   ]
  },
  {
   "cell_type": "code",
   "execution_count": 72,
   "metadata": {},
   "outputs": [],
   "source": [
    "# best estimators based on RandomizedSearchCV\n",
    "#forest_cv.best_estimator_"
   ]
  },
  {
   "cell_type": "markdown",
   "metadata": {},
   "source": [
    "<hr style=\"height:.9px;border:none;color:#333;background-color:#333;\" />\n",
    "\n",
    "<h4>c) Create a tuned random forest model based on hyperparameter tuning results.</h4>"
   ]
  },
  {
   "cell_type": "code",
   "execution_count": 73,
   "metadata": {},
   "outputs": [
    {
     "name": "stdout",
     "output_type": "stream",
     "text": [
      "Forest Tuned Training ACCURACY: 0.7663\n",
      "Forest Tuned Testing  ACCURACY: 0.7721\n",
      "Forest Tuned AUC Score        : 0.6832\n"
     ]
    }
   ],
   "source": [
    "# copy/pasting in the best_estimator_ results\n",
    "# to avoid running another RandomizedSearch\n",
    "forest_tuned = RandomForestClassifier(bootstrap      =False , \n",
    "                                      ccp_alpha      =0.0 , \n",
    "                                      class_weight   =None ,\n",
    "                                      criterion      ='entropy',\n",
    "                                      max_depth      =8 , \n",
    "                                      max_features   ='auto',\n",
    "                                      max_leaf_nodes =None , \n",
    "                                      max_samples    =None ,\n",
    "                                      min_impurity_decrease  =0.0 , \n",
    "                                      min_impurity_split     =None ,\n",
    "                                      min_samples_leaf=11 , \n",
    "                                      min_samples_split=2 ,\n",
    "                                      min_weight_fraction_leaf=0.0, \n",
    "                                      n_estimators=350,\n",
    "                                      n_jobs=None, \n",
    "                                      oob_score=False, \n",
    "                                      random_state=219,\n",
    "                                      verbose=0, \n",
    "                                      warm_start=True)\n",
    "\n",
    "\n",
    "# FITTING the model object\n",
    "forest_tuned_fit = forest_tuned.fit(x_train, y_train)\n",
    "\n",
    "\n",
    "# PREDICTING based on the testing set\n",
    "forest_tuned_pred = forest_tuned_fit.predict(x_test)\n",
    "\n",
    "\n",
    "# SCORING the results\n",
    "print('Forest Tuned Training ACCURACY:', forest_tuned.score(x_train, y_train).round(4))\n",
    "print('Forest Tuned Testing  ACCURACY:', forest_tuned.score(x_test, y_test).round(4))\n",
    "print('Forest Tuned AUC Score        :', roc_auc_score(y_true  = y_test,\n",
    "                                                   y_score = forest_tuned_pred).round(4))\n",
    "\n",
    "\n",
    "# saving scoring data for future use\n",
    "forest_tuned_train_score = forest_tuned.score(x_train, y_train).round(4) # accuracy\n",
    "forest_tuned_test_score  = forest_tuned.score(x_test, y_test).round(4)   # accuracy\n",
    "\n",
    "\n",
    "# saving the AUC score\n",
    "forest_tuned_auc = roc_auc_score(y_true  = y_test,\n",
    "                                 y_score = forest_tuned_pred).round(4) # auc"
   ]
  },
  {
   "cell_type": "markdown",
   "metadata": {},
   "source": [
    "<hr style=\"height:.9px;border:none;color:#333;background-color:#333;\" />\n",
    "\n",
    "<h4>d) Run the feature importance function</h4>"
   ]
  },
  {
   "cell_type": "code",
   "execution_count": 74,
   "metadata": {},
   "outputs": [
    {
     "name": "stderr",
     "output_type": "stream",
     "text": [
      "<ipython-input-48-4105c5057480>:63: FutureWarning: The pandas.np module is deprecated and will be removed from pandas in a future version. Import numpy directly instead\n",
      "  plt.yticks(pd.np.arange(n_features), train.columns)\n"
     ]
    },
    {
     "data": {
      "image/png": "[encoded data removed]",
      "text/plain": [
       "<Figure size 864x648 with 1 Axes>"
      ]
     },
     "metadata": {
      "needs_background": "light"
     },
     "output_type": "display_data"
    }
   ],
   "source": [
    "# plotting feature importances\n",
    "plot_feature_importances(forest_tuned_fit,\n",
    "                         train = x_train,\n",
    "                         export = False)"
   ]
  },
  {
   "cell_type": "markdown",
   "metadata": {},
   "source": [
    "<hr style=\"height:.9px;border:none;color:#333;background-color:#333;\" />\n",
    "\n",
    "<h4>e) Unpack the confusion matrix</h4>"
   ]
  },
  {
   "cell_type": "code",
   "execution_count": 75,
   "metadata": {},
   "outputs": [
    {
     "name": "stdout",
     "output_type": "stream",
     "text": [
      "\n",
      "True Negatives : 68\n",
      "False Positives: 88\n",
      "False Negatives: 23\n",
      "True Positives : 308\n",
      "\n"
     ]
    }
   ],
   "source": [
    "# unpacking the confusion matrix\n",
    "tuned_rf_tn, \\\n",
    "tuned_rf_fp, \\\n",
    "tuned_rf_fn, \\\n",
    "tuned_rf_tp = confusion_matrix(y_true = y_test, y_pred = forest_tuned_pred).ravel()\n",
    "\n",
    "\n",
    "# printing each result one-by-one\n",
    "print(f\"\"\"\n",
    "True Negatives : {tuned_rf_tn}\n",
    "False Positives: {tuned_rf_fp}\n",
    "False Negatives: {tuned_rf_fn}\n",
    "True Positives : {tuned_rf_tp}\n",
    "\"\"\")"
   ]
  },
  {
   "cell_type": "markdown",
   "metadata": {},
   "source": [
    "<hr style=\"height:.9px;border:none;color:#333;background-color:#333;\" />\n",
    "\n",
    "<h4>f) Store the results of the tuned random forest model to call in model_performance.</h4>"
   ]
  },
  {
   "cell_type": "code",
   "execution_count": 76,
   "metadata": {},
   "outputs": [],
   "source": [
    "# declaring model performance objects\n",
    "tuned_rf_train_acc = forest_tuned_fit.score(x_train, y_train).round(4)\n",
    "tuned_rf_test_acc  = forest_tuned_fit.score(x_test, y_test).round(4)\n",
    "tuned_rf_auc       = roc_auc_score(y_true  = y_test,\n",
    "                                   y_score = forest_tuned_pred).round(4)"
   ]
  },
  {
   "cell_type": "markdown",
   "metadata": {},
   "source": [
    "<hr style=\"height:.9px;border:none;color:#333;background-color:#333;\" />\n",
    "\n",
    "<h2>V. Gradient Boosted Machines (GBM) </h2>\n",
    "    \n",
    "<h4>a) Build a gradient boosting classifier model with the hyperparameters tuning.</h4>\n",
    "\n",
    "<strong>Remark: this session was commented-out in order to save processing time.</strong>"
   ]
  },
  {
   "cell_type": "code",
   "execution_count": 77,
   "metadata": {},
   "outputs": [],
   "source": [
    "# declaring a hyperparameter space\n",
    "#learn_space        = pd.np.arange(0.1, 4.0, 0.2)\n",
    "#estimator_space    = pd.np.arange(100, 200, 5)\n",
    "#depth_space        = pd.np.arange(1, 8, 1)\n",
    "#warm_start_space   = [True, False]\n",
    "\n",
    "# creating a hyperparameter grid\n",
    "#param_grid = {'learning_rate' : learn_space,\n",
    "#              'max_depth'     : depth_space,\n",
    "#              'n_estimators'  : estimator_space,\n",
    "#              'warm_start'     : warm_start_space}\n",
    "\n",
    "\n",
    "# INSTANTIATING the model object without hyperparameters\n",
    "#full_gbm_grid = GradientBoostingClassifier(random_state = 219)\n",
    "\n",
    "\n",
    "# GridSearchCV object\n",
    "#full_gbm_cv = RandomizedSearchCV(estimator     = full_gbm_grid,\n",
    "#                           param_distributions = param_grid,\n",
    "#                           cv                  = 3,\n",
    "#                           n_iter              = 900,\n",
    "#                           random_state        = 219,\n",
    "#                           scoring             = make_scorer(roc_auc_score,\n",
    "#                                                 needs_threshold = False))\n",
    "\n",
    "\n",
    "# FITTING to the FULL DATASET (due to cross-validation)\n",
    "#full_gbm_cv.fit(chef_data, chef_target)\n",
    "\n",
    "\n",
    "# PREDICT step is not needed\n",
    "\n",
    "\n",
    "# printing the optimal parameters and best score\n",
    "#print(\"Tuned Parameters  :\", full_gbm_cv.best_params_)\n",
    "#print(\"Tuned Training AUC:\", full_gbm_cv.best_score_.round(4))"
   ]
  },
  {
   "cell_type": "markdown",
   "metadata": {},
   "source": [
    "<hr style=\"height:.9px;border:none;color:#333;background-color:#333;\" />\n",
    "\n",
    "<h4>b) Check the best estimator for the model</h4>\n"
   ]
  },
  {
   "cell_type": "code",
   "execution_count": 78,
   "metadata": {},
   "outputs": [],
   "source": [
    "# checking the best estimator for the model\n",
    "#full_gbm_cv.best_estimator_"
   ]
  },
  {
   "cell_type": "markdown",
   "metadata": {},
   "source": [
    "<hr style=\"height:.9px;border:none;color:#333;background-color:#333;\" />\n",
    "\n",
    "<h4>c) Manually input the optimal set of hyperparameters when instantiating the model object.</h4>"
   ]
  },
  {
   "cell_type": "code",
   "execution_count": 79,
   "metadata": {},
   "outputs": [
    {
     "name": "stdout",
     "output_type": "stream",
     "text": [
      "Training ACCURACY: 0.7642\n",
      "Testing  ACCURACY: 0.768\n",
      "AUC Score        : 0.687\n"
     ]
    }
   ],
   "source": [
    "# INSTANTIATING the model object without hyperparameters\n",
    "\n",
    "# copy/pasting in the best_estimator_ results\n",
    "# hyperparameter tuning\n",
    "gbm_tuned = GradientBoostingClassifier(ccp_alpha=0.0, \n",
    "                                       criterion='friedman_mse', \n",
    "                                       init=None,\n",
    "                                       learning_rate=0.5000000000000001, \n",
    "                                       loss='deviance',\n",
    "                                       max_depth=1, \n",
    "                                       max_features=None, \n",
    "                                       max_leaf_nodes=None,\n",
    "                                       min_impurity_decrease=0.0, \n",
    "                                       min_impurity_split=None,\n",
    "                                       min_samples_leaf=1, \n",
    "                                       min_samples_split=2,\n",
    "                                       min_weight_fraction_leaf=0.0, \n",
    "                                       n_estimators=180,\n",
    "                                       n_iter_no_change=None, \n",
    "                                       presort='deprecated',\n",
    "                                       random_state=219, \n",
    "                                       subsample=1.0, tol=0.0001,\n",
    "                                       validation_fraction=0.1, \n",
    "                                       verbose=0,\n",
    "                                       warm_start=True)\n",
    "\n",
    "# FIT step is needed as we are not using .best_estimator\n",
    "gbm_tuned_fit = gbm_tuned.fit(x_train, y_train)\n",
    "\n",
    "\n",
    "# PREDICTING based on the testing set\n",
    "gbm_tuned_pred = gbm_tuned_fit.predict(x_test)\n",
    "\n",
    "\n",
    "# SCORING the results\n",
    "print('Training ACCURACY:', gbm_tuned_fit.score(x_train, y_train).round(4))\n",
    "print('Testing  ACCURACY:', gbm_tuned_fit.score(x_test, y_test).round(4))\n",
    "print('AUC Score        :', roc_auc_score(y_true  = y_test,\n",
    "                                          y_score = gbm_tuned_pred).round(4))"
   ]
  },
  {
   "cell_type": "markdown",
   "metadata": {},
   "source": [
    "<hr style=\"height:.9px;border:none;color:#333;background-color:#333;\" />\n",
    "\n",
    "<h4>d) Unpack the confusion matrix</h4>"
   ]
  },
  {
   "cell_type": "code",
   "execution_count": 80,
   "metadata": {},
   "outputs": [
    {
     "name": "stdout",
     "output_type": "stream",
     "text": [
      "\n",
      "True Negatives : 72\n",
      "False Positives: 84\n",
      "False Negatives: 29\n",
      "True Positives : 302\n",
      "\n"
     ]
    }
   ],
   "source": [
    "# unpacking the confusion matrix\n",
    "gbm_tuned_tn, \\\n",
    "gbm_tuned_fp, \\\n",
    "gbm_tuned_fn, \\\n",
    "gbm_tuned_tp = confusion_matrix(y_true = y_test, y_pred = gbm_tuned_pred).ravel()\n",
    "\n",
    "\n",
    "# printing each result one-by-one\n",
    "print(f\"\"\"\n",
    "True Negatives : {gbm_tuned_tn}\n",
    "False Positives: {gbm_tuned_fp}\n",
    "False Negatives: {gbm_tuned_fn}\n",
    "True Positives : {gbm_tuned_tp}\n",
    "\"\"\")"
   ]
  },
  {
   "cell_type": "markdown",
   "metadata": {},
   "source": [
    "<hr style=\"height:.9px;border:none;color:#333;background-color:#333;\" />\n",
    "\n",
    "<h4>e) Store the results of the tuned GBM model to call in model_performance.</h4>"
   ]
  },
  {
   "cell_type": "code",
   "execution_count": 81,
   "metadata": {},
   "outputs": [],
   "source": [
    "# declaring model performance objects\n",
    "gbm_train_acc = gbm_tuned_fit.score(x_train, y_train).round(4)\n",
    "gbm_test_acc  = gbm_tuned_fit.score(x_test, y_test).round(4)\n",
    "gbm_auc       = roc_auc_score(y_true  = y_test,\n",
    "                              y_score = gbm_tuned_pred).round(4)"
   ]
  },
  {
   "cell_type": "markdown",
   "metadata": {},
   "source": [
    "<hr style=\"height:.9px;border:none;color:#333;background-color:#333;\" />\n",
    "\n",
    "<h2>Part VI : Comparing Results</h2>"
   ]
  },
  {
   "cell_type": "code",
   "execution_count": 82,
   "metadata": {},
   "outputs": [
    {
     "data": {
      "text/html": [
       "<div>\n",
       "<style scoped>\n",
       "    .dataframe tbody tr th:only-of-type {\n",
       "        vertical-align: middle;\n",
       "    }\n",
       "\n",
       "    .dataframe tbody tr th {\n",
       "        vertical-align: top;\n",
       "    }\n",
       "\n",
       "    .dataframe thead th {\n",
       "        text-align: right;\n",
       "    }\n",
       "</style>\n",
       "<table border=\"1\" class=\"dataframe\">\n",
       "  <thead>\n",
       "    <tr style=\"text-align: right;\">\n",
       "      <th></th>\n",
       "      <th>Model Name</th>\n",
       "      <th>Training Accuracy</th>\n",
       "      <th>Testing Accuracy</th>\n",
       "      <th>AUC Score</th>\n",
       "      <th>Confusion Matrix</th>\n",
       "    </tr>\n",
       "  </thead>\n",
       "  <tbody>\n",
       "    <tr>\n",
       "      <th>3</th>\n",
       "      <td>Tuned Tree</td>\n",
       "      <td>0.7587</td>\n",
       "      <td>0.7906</td>\n",
       "      <td>0.7375</td>\n",
       "      <td>(92, 64, 38, 293)</td>\n",
       "    </tr>\n",
       "    <tr>\n",
       "      <th>2</th>\n",
       "      <td>Pruned Tree</td>\n",
       "      <td>0.7485</td>\n",
       "      <td>0.7659</td>\n",
       "      <td>0.7024</td>\n",
       "      <td>(82, 74, 40, 291)</td>\n",
       "    </tr>\n",
       "    <tr>\n",
       "      <th>6</th>\n",
       "      <td>Tuned GBM</td>\n",
       "      <td>0.7642</td>\n",
       "      <td>0.7680</td>\n",
       "      <td>0.6870</td>\n",
       "      <td>(72, 84, 29, 302)</td>\n",
       "    </tr>\n",
       "    <tr>\n",
       "      <th>1</th>\n",
       "      <td>Full Tree</td>\n",
       "      <td>0.7766</td>\n",
       "      <td>0.7659</td>\n",
       "      <td>0.6838</td>\n",
       "      <td>(71, 85, 29, 302)</td>\n",
       "    </tr>\n",
       "    <tr>\n",
       "      <th>5</th>\n",
       "      <td>Tuned Random Forest</td>\n",
       "      <td>0.7663</td>\n",
       "      <td>0.7721</td>\n",
       "      <td>0.6832</td>\n",
       "      <td>(68, 88, 23, 308)</td>\n",
       "    </tr>\n",
       "    <tr>\n",
       "      <th>4</th>\n",
       "      <td>KNN</td>\n",
       "      <td>0.7594</td>\n",
       "      <td>0.7700</td>\n",
       "      <td>0.6766</td>\n",
       "      <td>(65, 91, 21, 310)</td>\n",
       "    </tr>\n",
       "    <tr>\n",
       "      <th>0</th>\n",
       "      <td>Logistic</td>\n",
       "      <td>0.7402</td>\n",
       "      <td>0.7536</td>\n",
       "      <td>0.6594</td>\n",
       "      <td>(62, 94, 26, 305)</td>\n",
       "    </tr>\n",
       "  </tbody>\n",
       "</table>\n",
       "</div>"
      ],
      "text/plain": [
       "            Model Name  Training Accuracy  Testing Accuracy  AUC Score   Confusion Matrix\n",
       "3           Tuned Tree             0.7587            0.7906     0.7375  (92, 64, 38, 293)\n",
       "2          Pruned Tree             0.7485            0.7659     0.7024  (82, 74, 40, 291)\n",
       "6            Tuned GBM             0.7642            0.7680     0.6870  (72, 84, 29, 302)\n",
       "1            Full Tree             0.7766            0.7659     0.6838  (71, 85, 29, 302)\n",
       "5  Tuned Random Forest             0.7663            0.7721     0.6832  (68, 88, 23, 308)\n",
       "4                  KNN             0.7594            0.7700     0.6766  (65, 91, 21, 310)\n",
       "0             Logistic             0.7402            0.7536     0.6594  (62, 94, 26, 305)"
      ]
     },
     "execution_count": 82,
     "metadata": {},
     "output_type": "execute_result"
    }
   ],
   "source": [
    "# creating a dictionary for model results\n",
    "model_performance = {\n",
    "    \n",
    "    'Model Name'        : ['Logistic', 'Full Tree', 'Pruned Tree', 'Tuned Tree', 'KNN', 'Tuned Random Forest', 'Tuned GBM' ],\n",
    "           \n",
    "    'Training Accuracy' : [lr_train_acc, full_tree_train_score,\n",
    "                           pruned_tree_train_score, tree_train_acc,\n",
    "                           knn_train_score, tuned_rf_train_acc,\n",
    "                           gbm_train_acc],\n",
    "           \n",
    "    'Testing Accuracy'  : [lr_test_acc, full_tree_test_score,\n",
    "                           pruned_tree_test_score, tree_test_acc,\n",
    "                           knn_test_score, tuned_rf_test_acc,\n",
    "                           gbm_test_acc],\n",
    "    \n",
    "    'AUC Score'         : [lr_auc, full_tree_auc_score, pruned_tree_auc_score, tree_auc,\n",
    "                          knn_auc_score, tuned_rf_auc, gbm_auc],\n",
    "\n",
    "    'Confusion Matrix'  : [(lr_tuned_tn, lr_tuned_fp, lr_tuned_fn, lr_tuned_tp),\n",
    "                           (full_tree_tn, full_tree_fp, full_tree_fn, full_tree_tp),\n",
    "                           (pruned_tree_tn, pruned_tree_fp, pruned_tree_fn, pruned_tree_tp),\n",
    "                           (tuned_tree_tn, tuned_tree_fp, tuned_tree_fn, tuned_tree_tp),\n",
    "                           (knn_tree_tn, knn_tree_fp, knn_tree_fn, knn_tree_tp),                         \n",
    "                           (tuned_rf_tn, tuned_rf_fp, tuned_rf_fn, tuned_rf_tp),\n",
    "                           (gbm_tuned_tn, gbm_tuned_fp, gbm_tuned_fn, gbm_tuned_tp)]}\n",
    "\n",
    "# converting model_performance into a DataFrame\n",
    "model_performance = pd.DataFrame(model_performance)\n",
    "\n",
    "\n",
    "# sending model results to Excel\n",
    "model_performance.to_excel('./model_results/classification_model_performance.xlsx',\n",
    "                           index = False)\n",
    "\n",
    "# checking the results\n",
    "model_performance.sort_values(by = 'AUC Score', ascending = False)"
   ]
  },
  {
   "cell_type": "markdown",
   "metadata": {},
   "source": [
    "<hr style=\"height:.9px;border:none;color:#333;background-color:#333;\" /><br>\n",
    "\n",
    "<h2>Part VII: Final Model</h2>"
   ]
  },
  {
   "cell_type": "code",
   "execution_count": 83,
   "metadata": {},
   "outputs": [
    {
     "data": {
      "text/plain": [
       "Model Name                  Tuned Tree\n",
       "Training Accuracy               0.7587\n",
       "Testing Accuracy                0.7906\n",
       "AUC Score                       0.7375\n",
       "Confusion Matrix     (92, 64, 38, 293)\n",
       "Name: 3, dtype: object"
      ]
     },
     "execution_count": 83,
     "metadata": {},
     "output_type": "execute_result"
    }
   ],
   "source": [
    "model_performance.iloc[ 3 , :  ]"
   ]
  },
  {
   "cell_type": "markdown",
   "metadata": {},
   "source": [
    "<hr style=\"height:.9px;border:none;color:#333;background-color:#333;\" />\n",
    "<hr style=\"height:.9px;border:none;color:#333;background-color:#333;\" /><br>"
   ]
  }
 ],
 "metadata": {
  "kernelspec": {
   "display_name": "Python 3",
   "language": "python",
   "name": "python3"
  },
  "language_info": {
   "codemirror_mode": {
    "name": "ipython",
    "version": 3
   },
   "file_extension": ".py",
   "mimetype": "text/x-python",
   "name": "python",
   "nbconvert_exporter": "python",
   "pygments_lexer": "ipython3",
   "version": "3.8.3"
  },
  "toc": {
   "base_numbering": 1,
   "nav_menu": {},
   "number_sections": false,
   "sideBar": true,
   "skip_h1_title": false,
   "title_cell": "Table of Contents",
   "title_sidebar": "Contents",
   "toc_cell": false,
   "toc_position": {
    "height": "600.4px",
    "left": "42.7001px",
    "top": "122px",
    "width": "297.3px"
   },
   "toc_section_display": true,
   "toc_window_display": true
  },
  "varInspector": {
   "cols": {
    "lenName": 16,
    "lenType": 16,
    "lenVar": 40
   },
   "kernels_config": {
    "python": {
     "delete_cmd_postfix": "",
     "delete_cmd_prefix": "del ",
     "library": "var_list.py",
     "varRefreshCmd": "print(var_dic_list())"
    },
    "r": {
     "delete_cmd_postfix": ") ",
     "delete_cmd_prefix": "rm(",
     "library": "var_list.r",
     "varRefreshCmd": "cat(var_dic_list()) "
    }
   },
   "position": {
    "height": "531.4px",
    "left": "1202px",
    "right": "20px",
    "top": "142px",
    "width": "338px"
   },
   "types_to_exclude": [
    "module",
    "function",
    "builtin_function_or_method",
    "instance",
    "_Feature"
   ],
   "window_display": false
  }
 },
 "nbformat": 4,
 "nbformat_minor": 2
}
